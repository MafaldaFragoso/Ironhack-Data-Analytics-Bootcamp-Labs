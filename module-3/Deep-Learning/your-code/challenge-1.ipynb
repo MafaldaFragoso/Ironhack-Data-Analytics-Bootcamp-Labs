{
 "cells": [
  {
   "cell_type": "markdown",
   "metadata": {},
   "source": [
    "# Challenge 1 - Tic Tac Toe\n",
    "\n",
    "In this lab you will perform deep learning analysis on a dataset of playing [Tic Tac Toe](https://en.wikipedia.org/wiki/Tic-tac-toe).\n",
    "\n",
    "There are 9 grids in Tic Tac Toe that are coded as the following picture shows:\n",
    "\n",
    "![Tic Tac Toe Grids](tttboard.jpg)\n",
    "\n",
    "In the first 9 columns of the dataset you can find which marks (`x` or `o`) exist in the grids. If there is no mark in a certain grid, it is labeled as `b`. The last column is `class` which tells you whether Player X (who always moves first in Tic Tac Toe) wins in this configuration. Note that when `class` has the value `False`, it means either Player O wins the game or it ends up as a draw."
   ]
  },
  {
   "cell_type": "markdown",
   "metadata": {},
   "source": [
    "Follow the steps suggested below to conduct a neural network analysis using Tensorflow and Keras. You will build a deep learning model to predict whether Player X wins the game or not.\n",
    "\n",
    "## Step 1: Data Engineering\n",
    "\n",
    "This dataset is almost in the ready-to-use state so you do not need to worry about missing values and so on. Still, some simple data engineering is needed.\n",
    "\n",
    "1. Read `tic-tac-toe.csv` into a dataframe.\n",
    "1. Inspect the dataset. Determine if the dataset is reliable by eyeballing the data.\n",
    "1. Convert the categorical values to numeric in all columns.\n",
    "1. Separate the inputs and output.\n",
    "1. Normalize the input data."
   ]
  },
  {
   "cell_type": "code",
   "execution_count": 1,
   "metadata": {},
   "outputs": [],
   "source": [
    "import pandas as pd"
   ]
  },
  {
   "cell_type": "code",
   "execution_count": 2,
   "metadata": {},
   "outputs": [
    {
     "data": {
      "text/html": [
       "<div>\n",
       "<style scoped>\n",
       "    .dataframe tbody tr th:only-of-type {\n",
       "        vertical-align: middle;\n",
       "    }\n",
       "\n",
       "    .dataframe tbody tr th {\n",
       "        vertical-align: top;\n",
       "    }\n",
       "\n",
       "    .dataframe thead th {\n",
       "        text-align: right;\n",
       "    }\n",
       "</style>\n",
       "<table border=\"1\" class=\"dataframe\">\n",
       "  <thead>\n",
       "    <tr style=\"text-align: right;\">\n",
       "      <th></th>\n",
       "      <th>TL</th>\n",
       "      <th>TM</th>\n",
       "      <th>TR</th>\n",
       "      <th>ML</th>\n",
       "      <th>MM</th>\n",
       "      <th>MR</th>\n",
       "      <th>BL</th>\n",
       "      <th>BM</th>\n",
       "      <th>BR</th>\n",
       "      <th>class</th>\n",
       "    </tr>\n",
       "  </thead>\n",
       "  <tbody>\n",
       "    <tr>\n",
       "      <td>0</td>\n",
       "      <td>x</td>\n",
       "      <td>x</td>\n",
       "      <td>x</td>\n",
       "      <td>x</td>\n",
       "      <td>o</td>\n",
       "      <td>o</td>\n",
       "      <td>x</td>\n",
       "      <td>o</td>\n",
       "      <td>o</td>\n",
       "      <td>True</td>\n",
       "    </tr>\n",
       "    <tr>\n",
       "      <td>1</td>\n",
       "      <td>x</td>\n",
       "      <td>x</td>\n",
       "      <td>x</td>\n",
       "      <td>x</td>\n",
       "      <td>o</td>\n",
       "      <td>o</td>\n",
       "      <td>o</td>\n",
       "      <td>x</td>\n",
       "      <td>o</td>\n",
       "      <td>True</td>\n",
       "    </tr>\n",
       "    <tr>\n",
       "      <td>2</td>\n",
       "      <td>x</td>\n",
       "      <td>x</td>\n",
       "      <td>x</td>\n",
       "      <td>x</td>\n",
       "      <td>o</td>\n",
       "      <td>o</td>\n",
       "      <td>o</td>\n",
       "      <td>o</td>\n",
       "      <td>x</td>\n",
       "      <td>True</td>\n",
       "    </tr>\n",
       "    <tr>\n",
       "      <td>3</td>\n",
       "      <td>x</td>\n",
       "      <td>x</td>\n",
       "      <td>x</td>\n",
       "      <td>x</td>\n",
       "      <td>o</td>\n",
       "      <td>o</td>\n",
       "      <td>o</td>\n",
       "      <td>b</td>\n",
       "      <td>b</td>\n",
       "      <td>True</td>\n",
       "    </tr>\n",
       "    <tr>\n",
       "      <td>4</td>\n",
       "      <td>x</td>\n",
       "      <td>x</td>\n",
       "      <td>x</td>\n",
       "      <td>x</td>\n",
       "      <td>o</td>\n",
       "      <td>o</td>\n",
       "      <td>b</td>\n",
       "      <td>o</td>\n",
       "      <td>b</td>\n",
       "      <td>True</td>\n",
       "    </tr>\n",
       "  </tbody>\n",
       "</table>\n",
       "</div>"
      ],
      "text/plain": [
       "  TL TM TR ML MM MR BL BM BR  class\n",
       "0  x  x  x  x  o  o  x  o  o   True\n",
       "1  x  x  x  x  o  o  o  x  o   True\n",
       "2  x  x  x  x  o  o  o  o  x   True\n",
       "3  x  x  x  x  o  o  o  b  b   True\n",
       "4  x  x  x  x  o  o  b  o  b   True"
      ]
     },
     "execution_count": 2,
     "metadata": {},
     "output_type": "execute_result"
    }
   ],
   "source": [
    "# reading the tic-tac-toe.csv into a dataframe.\n",
    "data = pd.read_csv('tic-tac-toe.csv')\n",
    "data.head()"
   ]
  },
  {
   "cell_type": "code",
   "execution_count": 3,
   "metadata": {},
   "outputs": [
    {
     "data": {
      "text/plain": [
       "(958, 10)"
      ]
     },
     "execution_count": 3,
     "metadata": {},
     "output_type": "execute_result"
    }
   ],
   "source": [
    "data.shape"
   ]
  },
  {
   "cell_type": "code",
   "execution_count": 4,
   "metadata": {},
   "outputs": [
    {
     "data": {
      "text/plain": [
       "TL       object\n",
       "TM       object\n",
       "TR       object\n",
       "ML       object\n",
       "MM       object\n",
       "MR       object\n",
       "BL       object\n",
       "BM       object\n",
       "BR       object\n",
       "class      bool\n",
       "dtype: object"
      ]
     },
     "execution_count": 4,
     "metadata": {},
     "output_type": "execute_result"
    }
   ],
   "source": [
    "# inspecting the dataset\n",
    "data.dtypes"
   ]
  },
  {
   "cell_type": "code",
   "execution_count": 5,
   "metadata": {},
   "outputs": [],
   "source": [
    "data = data.astype('category')"
   ]
  },
  {
   "cell_type": "code",
   "execution_count": 6,
   "metadata": {},
   "outputs": [
    {
     "data": {
      "text/plain": [
       "TL       category\n",
       "TM       category\n",
       "TR       category\n",
       "ML       category\n",
       "MM       category\n",
       "MR       category\n",
       "BL       category\n",
       "BM       category\n",
       "BR       category\n",
       "class    category\n",
       "dtype: object"
      ]
     },
     "execution_count": 6,
     "metadata": {},
     "output_type": "execute_result"
    }
   ],
   "source": [
    "# inspecting the dataset\n",
    "data.dtypes"
   ]
  },
  {
   "cell_type": "code",
   "execution_count": 7,
   "metadata": {},
   "outputs": [
    {
     "data": {
      "text/html": [
       "<div>\n",
       "<style scoped>\n",
       "    .dataframe tbody tr th:only-of-type {\n",
       "        vertical-align: middle;\n",
       "    }\n",
       "\n",
       "    .dataframe tbody tr th {\n",
       "        vertical-align: top;\n",
       "    }\n",
       "\n",
       "    .dataframe thead th {\n",
       "        text-align: right;\n",
       "    }\n",
       "</style>\n",
       "<table border=\"1\" class=\"dataframe\">\n",
       "  <thead>\n",
       "    <tr style=\"text-align: right;\">\n",
       "      <th></th>\n",
       "      <th>TL</th>\n",
       "      <th>TM</th>\n",
       "      <th>TR</th>\n",
       "      <th>ML</th>\n",
       "      <th>MM</th>\n",
       "      <th>MR</th>\n",
       "      <th>BL</th>\n",
       "      <th>BM</th>\n",
       "      <th>BR</th>\n",
       "      <th>class</th>\n",
       "    </tr>\n",
       "  </thead>\n",
       "  <tbody>\n",
       "    <tr>\n",
       "      <td>0</td>\n",
       "      <td>2</td>\n",
       "      <td>2</td>\n",
       "      <td>2</td>\n",
       "      <td>2</td>\n",
       "      <td>1</td>\n",
       "      <td>1</td>\n",
       "      <td>2</td>\n",
       "      <td>1</td>\n",
       "      <td>1</td>\n",
       "      <td>1</td>\n",
       "    </tr>\n",
       "    <tr>\n",
       "      <td>1</td>\n",
       "      <td>2</td>\n",
       "      <td>2</td>\n",
       "      <td>2</td>\n",
       "      <td>2</td>\n",
       "      <td>1</td>\n",
       "      <td>1</td>\n",
       "      <td>1</td>\n",
       "      <td>2</td>\n",
       "      <td>1</td>\n",
       "      <td>1</td>\n",
       "    </tr>\n",
       "    <tr>\n",
       "      <td>2</td>\n",
       "      <td>2</td>\n",
       "      <td>2</td>\n",
       "      <td>2</td>\n",
       "      <td>2</td>\n",
       "      <td>1</td>\n",
       "      <td>1</td>\n",
       "      <td>1</td>\n",
       "      <td>1</td>\n",
       "      <td>2</td>\n",
       "      <td>1</td>\n",
       "    </tr>\n",
       "    <tr>\n",
       "      <td>3</td>\n",
       "      <td>2</td>\n",
       "      <td>2</td>\n",
       "      <td>2</td>\n",
       "      <td>2</td>\n",
       "      <td>1</td>\n",
       "      <td>1</td>\n",
       "      <td>1</td>\n",
       "      <td>0</td>\n",
       "      <td>0</td>\n",
       "      <td>1</td>\n",
       "    </tr>\n",
       "    <tr>\n",
       "      <td>4</td>\n",
       "      <td>2</td>\n",
       "      <td>2</td>\n",
       "      <td>2</td>\n",
       "      <td>2</td>\n",
       "      <td>1</td>\n",
       "      <td>1</td>\n",
       "      <td>0</td>\n",
       "      <td>1</td>\n",
       "      <td>0</td>\n",
       "      <td>1</td>\n",
       "    </tr>\n",
       "  </tbody>\n",
       "</table>\n",
       "</div>"
      ],
      "text/plain": [
       "   TL  TM  TR  ML  MM  MR  BL  BM  BR  class\n",
       "0   2   2   2   2   1   1   2   1   1      1\n",
       "1   2   2   2   2   1   1   1   2   1      1\n",
       "2   2   2   2   2   1   1   1   1   2      1\n",
       "3   2   2   2   2   1   1   1   0   0      1\n",
       "4   2   2   2   2   1   1   0   1   0      1"
      ]
     },
     "execution_count": 7,
     "metadata": {},
     "output_type": "execute_result"
    }
   ],
   "source": [
    "# convert {x, o, b} to {2, 1, 0}\n",
    "\n",
    "data = data.apply(lambda x: x.cat.codes)\n",
    "data.head()"
   ]
  },
  {
   "cell_type": "code",
   "execution_count": 8,
   "metadata": {},
   "outputs": [],
   "source": [
    "# Separate the inputs and output\n",
    "\n",
    "y = data['class']\n",
    "X = data[data.columns.difference(['class'])]"
   ]
  },
  {
   "cell_type": "code",
   "execution_count": 9,
   "metadata": {},
   "outputs": [
    {
     "name": "stdout",
     "output_type": "stream",
     "text": [
      "y shape: (958,)\n",
      "X shape: (958, 9)\n"
     ]
    }
   ],
   "source": [
    "print(\"y shape:\", y.shape)\n",
    "print(\"X shape:\", X.shape)"
   ]
  },
  {
   "cell_type": "code",
   "execution_count": 10,
   "metadata": {},
   "outputs": [],
   "source": [
    "# normalize the input data\n",
    "\n",
    "def normalize(x):\n",
    "    result = x.copy()\n",
    "    for feature_name in x.columns:\n",
    "        max_value = data[feature_name].max()\n",
    "        min_value = data[feature_name].min()\n",
    "        result[feature_name] = (data[feature_name] - min_value) / (max_value - min_value)\n",
    "    return result\n",
    "X = normalize(X)"
   ]
  },
  {
   "cell_type": "code",
   "execution_count": 11,
   "metadata": {},
   "outputs": [
    {
     "data": {
      "text/html": [
       "<div>\n",
       "<style scoped>\n",
       "    .dataframe tbody tr th:only-of-type {\n",
       "        vertical-align: middle;\n",
       "    }\n",
       "\n",
       "    .dataframe tbody tr th {\n",
       "        vertical-align: top;\n",
       "    }\n",
       "\n",
       "    .dataframe thead th {\n",
       "        text-align: right;\n",
       "    }\n",
       "</style>\n",
       "<table border=\"1\" class=\"dataframe\">\n",
       "  <thead>\n",
       "    <tr style=\"text-align: right;\">\n",
       "      <th></th>\n",
       "      <th>BL</th>\n",
       "      <th>BM</th>\n",
       "      <th>BR</th>\n",
       "      <th>ML</th>\n",
       "      <th>MM</th>\n",
       "      <th>MR</th>\n",
       "      <th>TL</th>\n",
       "      <th>TM</th>\n",
       "      <th>TR</th>\n",
       "    </tr>\n",
       "  </thead>\n",
       "  <tbody>\n",
       "    <tr>\n",
       "      <td>0</td>\n",
       "      <td>1.0</td>\n",
       "      <td>0.5</td>\n",
       "      <td>0.5</td>\n",
       "      <td>1.0</td>\n",
       "      <td>0.5</td>\n",
       "      <td>0.5</td>\n",
       "      <td>1.0</td>\n",
       "      <td>1.0</td>\n",
       "      <td>1.0</td>\n",
       "    </tr>\n",
       "    <tr>\n",
       "      <td>1</td>\n",
       "      <td>0.5</td>\n",
       "      <td>1.0</td>\n",
       "      <td>0.5</td>\n",
       "      <td>1.0</td>\n",
       "      <td>0.5</td>\n",
       "      <td>0.5</td>\n",
       "      <td>1.0</td>\n",
       "      <td>1.0</td>\n",
       "      <td>1.0</td>\n",
       "    </tr>\n",
       "    <tr>\n",
       "      <td>2</td>\n",
       "      <td>0.5</td>\n",
       "      <td>0.5</td>\n",
       "      <td>1.0</td>\n",
       "      <td>1.0</td>\n",
       "      <td>0.5</td>\n",
       "      <td>0.5</td>\n",
       "      <td>1.0</td>\n",
       "      <td>1.0</td>\n",
       "      <td>1.0</td>\n",
       "    </tr>\n",
       "    <tr>\n",
       "      <td>3</td>\n",
       "      <td>0.5</td>\n",
       "      <td>0.0</td>\n",
       "      <td>0.0</td>\n",
       "      <td>1.0</td>\n",
       "      <td>0.5</td>\n",
       "      <td>0.5</td>\n",
       "      <td>1.0</td>\n",
       "      <td>1.0</td>\n",
       "      <td>1.0</td>\n",
       "    </tr>\n",
       "    <tr>\n",
       "      <td>4</td>\n",
       "      <td>0.0</td>\n",
       "      <td>0.5</td>\n",
       "      <td>0.0</td>\n",
       "      <td>1.0</td>\n",
       "      <td>0.5</td>\n",
       "      <td>0.5</td>\n",
       "      <td>1.0</td>\n",
       "      <td>1.0</td>\n",
       "      <td>1.0</td>\n",
       "    </tr>\n",
       "    <tr>\n",
       "      <td>...</td>\n",
       "      <td>...</td>\n",
       "      <td>...</td>\n",
       "      <td>...</td>\n",
       "      <td>...</td>\n",
       "      <td>...</td>\n",
       "      <td>...</td>\n",
       "      <td>...</td>\n",
       "      <td>...</td>\n",
       "      <td>...</td>\n",
       "    </tr>\n",
       "    <tr>\n",
       "      <td>953</td>\n",
       "      <td>0.5</td>\n",
       "      <td>1.0</td>\n",
       "      <td>1.0</td>\n",
       "      <td>1.0</td>\n",
       "      <td>0.5</td>\n",
       "      <td>0.5</td>\n",
       "      <td>0.5</td>\n",
       "      <td>1.0</td>\n",
       "      <td>1.0</td>\n",
       "    </tr>\n",
       "    <tr>\n",
       "      <td>954</td>\n",
       "      <td>1.0</td>\n",
       "      <td>0.5</td>\n",
       "      <td>1.0</td>\n",
       "      <td>1.0</td>\n",
       "      <td>1.0</td>\n",
       "      <td>0.5</td>\n",
       "      <td>0.5</td>\n",
       "      <td>1.0</td>\n",
       "      <td>0.5</td>\n",
       "    </tr>\n",
       "    <tr>\n",
       "      <td>955</td>\n",
       "      <td>1.0</td>\n",
       "      <td>0.5</td>\n",
       "      <td>1.0</td>\n",
       "      <td>1.0</td>\n",
       "      <td>0.5</td>\n",
       "      <td>1.0</td>\n",
       "      <td>0.5</td>\n",
       "      <td>1.0</td>\n",
       "      <td>0.5</td>\n",
       "    </tr>\n",
       "    <tr>\n",
       "      <td>956</td>\n",
       "      <td>1.0</td>\n",
       "      <td>0.5</td>\n",
       "      <td>1.0</td>\n",
       "      <td>0.5</td>\n",
       "      <td>1.0</td>\n",
       "      <td>1.0</td>\n",
       "      <td>0.5</td>\n",
       "      <td>1.0</td>\n",
       "      <td>0.5</td>\n",
       "    </tr>\n",
       "    <tr>\n",
       "      <td>957</td>\n",
       "      <td>0.5</td>\n",
       "      <td>1.0</td>\n",
       "      <td>1.0</td>\n",
       "      <td>1.0</td>\n",
       "      <td>1.0</td>\n",
       "      <td>0.5</td>\n",
       "      <td>0.5</td>\n",
       "      <td>0.5</td>\n",
       "      <td>1.0</td>\n",
       "    </tr>\n",
       "  </tbody>\n",
       "</table>\n",
       "<p>958 rows × 9 columns</p>\n",
       "</div>"
      ],
      "text/plain": [
       "      BL   BM   BR   ML   MM   MR   TL   TM   TR\n",
       "0    1.0  0.5  0.5  1.0  0.5  0.5  1.0  1.0  1.0\n",
       "1    0.5  1.0  0.5  1.0  0.5  0.5  1.0  1.0  1.0\n",
       "2    0.5  0.5  1.0  1.0  0.5  0.5  1.0  1.0  1.0\n",
       "3    0.5  0.0  0.0  1.0  0.5  0.5  1.0  1.0  1.0\n",
       "4    0.0  0.5  0.0  1.0  0.5  0.5  1.0  1.0  1.0\n",
       "..   ...  ...  ...  ...  ...  ...  ...  ...  ...\n",
       "953  0.5  1.0  1.0  1.0  0.5  0.5  0.5  1.0  1.0\n",
       "954  1.0  0.5  1.0  1.0  1.0  0.5  0.5  1.0  0.5\n",
       "955  1.0  0.5  1.0  1.0  0.5  1.0  0.5  1.0  0.5\n",
       "956  1.0  0.5  1.0  0.5  1.0  1.0  0.5  1.0  0.5\n",
       "957  0.5  1.0  1.0  1.0  1.0  0.5  0.5  0.5  1.0\n",
       "\n",
       "[958 rows x 9 columns]"
      ]
     },
     "execution_count": 11,
     "metadata": {},
     "output_type": "execute_result"
    }
   ],
   "source": [
    "X"
   ]
  },
  {
   "cell_type": "code",
   "execution_count": 12,
   "metadata": {},
   "outputs": [],
   "source": [
    "import numpy as np\n",
    "\n",
    "# transforming X and y to an array\n",
    "\n",
    "y = np.array(y)\n",
    "X = np.array(X)\n",
    "\n"
   ]
  },
  {
   "cell_type": "markdown",
   "metadata": {},
   "source": [
    "## Step 2: Build Neural Network\n",
    "\n",
    "To build the neural network, you can refer to your own codes you wrote while following the [Deep Learning with Python, TensorFlow, and Keras tutorial](https://www.youtube.com/watch?v=wQ8BIBpya2k) in the lesson. It's pretty similar to what you will be doing in this lab.\n",
    "\n",
    "1. Split the training and test data.\n",
    "1. Create a `Sequential` model.\n",
    "1. Add several layers to your model. Make sure you use ReLU as the activation function for the middle layers. Use Softmax for the output layer because each output has a single lable and all the label probabilities add up to 1.\n",
    "1. Compile the model using `adam` as the optimizer and `sparse_categorical_crossentropy` as the loss function. For metrics, use `accuracy` for now.\n",
    "1. Fit the training data.\n",
    "1. Evaluate your neural network model with the test data.\n",
    "1. Save your model as `tic-tac-toe.model`."
   ]
  },
  {
   "cell_type": "code",
   "execution_count": 13,
   "metadata": {},
   "outputs": [],
   "source": [
    "from sklearn.model_selection import train_test_split"
   ]
  },
  {
   "cell_type": "code",
   "execution_count": 14,
   "metadata": {},
   "outputs": [
    {
     "name": "stdout",
     "output_type": "stream",
     "text": [
      "(766, 9) (192, 9) (766,) (192,)\n"
     ]
    }
   ],
   "source": [
    "# Split the training and test data\n",
    "\n",
    "X_train, X_test, y_train, y_test = train_test_split(X, y, train_size=0.8,test_size=0.2)\n",
    "\n",
    "print(X_train.shape, X_test.shape, y_train.shape, y_test.shape)"
   ]
  },
  {
   "cell_type": "code",
   "execution_count": 15,
   "metadata": {},
   "outputs": [],
   "source": [
    "import tensorflow as tf"
   ]
  },
  {
   "cell_type": "code",
   "execution_count": 16,
   "metadata": {},
   "outputs": [
    {
     "data": {
      "text/plain": [
       "<tensorflow.python.keras.engine.sequential.Sequential at 0x26ff296ed88>"
      ]
     },
     "execution_count": 16,
     "metadata": {},
     "output_type": "execute_result"
    }
   ],
   "source": [
    "# Initialize neural network\n",
    "model = tf.keras.models.Sequential()\n",
    "model"
   ]
  },
  {
   "cell_type": "code",
   "execution_count": 17,
   "metadata": {},
   "outputs": [],
   "source": [
    "# Add input layer\n",
    "model.add(tf.keras.layers.Flatten())\n",
    "\n",
    "# Add first hidden layer\n",
    "model.add(tf.keras.layers.Dense(128, activation=tf.nn.relu))\n",
    "\n",
    "# Add second hidden layer\n",
    "model.add(tf.keras.layers.Dense(128, activation=tf.nn.relu))\n",
    "\n",
    "# Add output layer\n",
    "model.add(tf.keras.layers.Dense(3, activation=tf.nn.softmax))\n",
    "\n",
    "# Define parameters for the model\n",
    "model.compile(optimizer='adam',\n",
    "             loss='sparse_categorical_crossentropy',\n",
    "             metrics=['accuracy'])"
   ]
  },
  {
   "cell_type": "code",
   "execution_count": 18,
   "metadata": {},
   "outputs": [
    {
     "name": "stdout",
     "output_type": "stream",
     "text": [
      "Train on 766 samples\n",
      "Epoch 1/3\n",
      "766/766 [==============================] - 0s 548us/sample - loss: 0.7406 - accuracy: 0.6410\n",
      "Epoch 2/3\n",
      "766/766 [==============================] - 0s 61us/sample - loss: 0.6104 - accuracy: 0.6802\n",
      "Epoch 3/3\n",
      "766/766 [==============================] - 0s 69us/sample - loss: 0.5869 - accuracy: 0.6984\n"
     ]
    },
    {
     "data": {
      "text/plain": [
       "<tensorflow.python.keras.callbacks.History at 0x26ff2ab63c8>"
      ]
     },
     "execution_count": 18,
     "metadata": {},
     "output_type": "execute_result"
    }
   ],
   "source": [
    "# Fit the model\n",
    "\n",
    "model.fit(X_train, y_train, epochs=3)"
   ]
  },
  {
   "cell_type": "code",
   "execution_count": 25,
   "metadata": {},
   "outputs": [
    {
     "name": "stdout",
     "output_type": "stream",
     "text": [
      "192/192 [==============================] - 0s 427us/sample - loss: 0.6221 - accuracy: 0.6719\n",
      "0.6220915118853251\n",
      "0.671875\n"
     ]
    }
   ],
   "source": [
    "val_loss, val_acc = model.evaluate(X_test, y_test)\n",
    "print(val_loss)\n",
    "print(val_acc)"
   ]
  },
  {
   "cell_type": "code",
   "execution_count": 22,
   "metadata": {},
   "outputs": [
    {
     "name": "stdout",
     "output_type": "stream",
     "text": [
      "INFO:tensorflow:Assets written to: neural.model\\assets\n"
     ]
    }
   ],
   "source": [
    "# saving the model\n",
    "\n",
    "model.save('neural.model')"
   ]
  },
  {
   "cell_type": "markdown",
   "metadata": {},
   "source": [
    "## Step 3: Make Predictions\n",
    "\n",
    "Now load your saved model and use it to make predictions on a few random rows in the test dataset. Check if the predictions are correct."
   ]
  },
  {
   "cell_type": "code",
   "execution_count": 23,
   "metadata": {},
   "outputs": [],
   "source": [
    "new_model = tf.keras.models.load_model('neural.model')"
   ]
  },
  {
   "cell_type": "code",
   "execution_count": 32,
   "metadata": {},
   "outputs": [],
   "source": [
    "predictions = new_model.predict(X_test)"
   ]
  },
  {
   "cell_type": "code",
   "execution_count": 38,
   "metadata": {},
   "outputs": [
    {
     "name": "stdout",
     "output_type": "stream",
     "text": [
      "1\n"
     ]
    }
   ],
   "source": [
    "print(np.argmax(predictions[3]))"
   ]
  },
  {
   "cell_type": "code",
   "execution_count": 39,
   "metadata": {},
   "outputs": [
    {
     "data": {
      "text/plain": [
       "1"
      ]
     },
     "execution_count": 39,
     "metadata": {},
     "output_type": "execute_result"
    }
   ],
   "source": [
    "y_test[3]"
   ]
  },
  {
   "cell_type": "code",
   "execution_count": 35,
   "metadata": {},
   "outputs": [
    {
     "name": "stdout",
     "output_type": "stream",
     "text": [
      "Success Rate: 67.1875 Fail Rate: 32.8125\n"
     ]
    }
   ],
   "source": [
    "s = f = 0\n",
    "for i, p in enumerate(predicitons):\n",
    "    pred = np.argmax(p)\n",
    "    if pred == y_test[i]:\n",
    "        s += 1\n",
    "    else:\n",
    "        f += 1\n",
    "\n",
    "success_rate = s/len(y_test)*100\n",
    "fail_rate = f/len(y_test)*100\n",
    "print(\"Success Rate:\", success_rate, \"Fail Rate:\", fail_rate)"
   ]
  },
  {
   "cell_type": "markdown",
   "metadata": {},
   "source": [
    "## Step 4: Improve Your Model\n",
    "\n",
    "Did your model achieve low loss (<0.1) and high accuracy (>0.95)? If not, try to improve your model.\n",
    "\n",
    "But how? There are so many things you can play with in Tensorflow and in the next challenge you'll learn about these things. But in this challenge, let's just do a few things to see if they will help.\n",
    "\n",
    "* Add more layers to your model. If the data are complex you need more layers. But don't use more layers than you need. If adding more layers does not improve the model performance you don't need additional layers.\n",
    "* Adjust the learning rate when you compile the model. This means you will create a custom `tf.keras.optimizers.Adam` instance where you specify the learning rate you want. Then pass the instance to `model.compile` as the optimizer.\n",
    "    * `tf.keras.optimizers.Adam` [reference](https://www.tensorflow.org/api_docs/python/tf/keras/optimizers/Adam).\n",
    "    * Don't worry if you don't understand what the learning rate does. You'll learn about it in the next challenge.\n",
    "* Adjust the number of epochs when you fit the training data to the model. Your model performance continues to improve as you train more epochs. But eventually it will reach the ceiling and the performance will stay the same."
   ]
  },
  {
   "cell_type": "code",
   "execution_count": 40,
   "metadata": {},
   "outputs": [
    {
     "name": "stdout",
     "output_type": "stream",
     "text": [
      "Train on 766 samples\n",
      "Epoch 1/100\n",
      "766/766 [==============================] - 0s 81us/sample - loss: 0.5677 - accuracy: 0.7272\n",
      "Epoch 2/100\n",
      "766/766 [==============================] - 0s 70us/sample - loss: 0.5489 - accuracy: 0.7389\n",
      "Epoch 3/100\n",
      "766/766 [==============================] - 0s 87us/sample - loss: 0.5309 - accuracy: 0.7415\n",
      "Epoch 4/100\n",
      "766/766 [==============================] - 0s 90us/sample - loss: 0.5171 - accuracy: 0.7728\n",
      "Epoch 5/100\n",
      "766/766 [==============================] - 0s 86us/sample - loss: 0.4959 - accuracy: 0.7702\n",
      "Epoch 6/100\n",
      "766/766 [==============================] - 0s 87us/sample - loss: 0.4734 - accuracy: 0.7872\n",
      "Epoch 7/100\n",
      "766/766 [==============================] - 0s 81us/sample - loss: 0.4615 - accuracy: 0.7924\n",
      "Epoch 8/100\n",
      "766/766 [==============================] - 0s 86us/sample - loss: 0.4361 - accuracy: 0.8185\n",
      "Epoch 9/100\n",
      "766/766 [==============================] - 0s 81us/sample - loss: 0.4252 - accuracy: 0.8277\n",
      "Epoch 10/100\n",
      "766/766 [==============================] - 0s 82us/sample - loss: 0.4070 - accuracy: 0.8407\n",
      "Epoch 11/100\n",
      "766/766 [==============================] - 0s 86us/sample - loss: 0.3977 - accuracy: 0.8368\n",
      "Epoch 12/100\n",
      "766/766 [==============================] - 0s 89us/sample - loss: 0.3738 - accuracy: 0.8603\n",
      "Epoch 13/100\n",
      "766/766 [==============================] - 0s 82us/sample - loss: 0.3703 - accuracy: 0.8564\n",
      "Epoch 14/100\n",
      "766/766 [==============================] - 0s 69us/sample - loss: 0.3524 - accuracy: 0.8655\n",
      "Epoch 15/100\n",
      "766/766 [==============================] - 0s 69us/sample - loss: 0.3395 - accuracy: 0.8642\n",
      "Epoch 16/100\n",
      "766/766 [==============================] - 0s 107us/sample - loss: 0.3358 - accuracy: 0.8708\n",
      "Epoch 17/100\n",
      "766/766 [==============================] - 0s 104us/sample - loss: 0.3370 - accuracy: 0.8551\n",
      "Epoch 18/100\n",
      "766/766 [==============================] - 0s 111us/sample - loss: 0.3142 - accuracy: 0.8747\n",
      "Epoch 19/100\n",
      "766/766 [==============================] - 0s 102us/sample - loss: 0.3169 - accuracy: 0.8760\n",
      "Epoch 20/100\n",
      "766/766 [==============================] - 0s 91us/sample - loss: 0.3018 - accuracy: 0.8903\n",
      "Epoch 21/100\n",
      "766/766 [==============================] - 0s 107us/sample - loss: 0.2882 - accuracy: 0.8995\n",
      "Epoch 22/100\n",
      "766/766 [==============================] - 0s 86us/sample - loss: 0.2816 - accuracy: 0.8903\n",
      "Epoch 23/100\n",
      "766/766 [==============================] - 0s 80us/sample - loss: 0.2699 - accuracy: 0.9008\n",
      "Epoch 24/100\n",
      "766/766 [==============================] - 0s 84us/sample - loss: 0.2649 - accuracy: 0.9073\n",
      "Epoch 25/100\n",
      "766/766 [==============================] - 0s 80us/sample - loss: 0.2565 - accuracy: 0.9125\n",
      "Epoch 26/100\n",
      "766/766 [==============================] - 0s 94us/sample - loss: 0.2431 - accuracy: 0.9125\n",
      "Epoch 27/100\n",
      "766/766 [==============================] - 0s 177us/sample - loss: 0.2449 - accuracy: 0.9073\n",
      "Epoch 28/100\n",
      "766/766 [==============================] - 0s 215us/sample - loss: 0.2510 - accuracy: 0.9047\n",
      "Epoch 29/100\n",
      "766/766 [==============================] - 0s 176us/sample - loss: 0.2242 - accuracy: 0.9204\n",
      "Epoch 30/100\n",
      "766/766 [==============================] - 0s 189us/sample - loss: 0.2155 - accuracy: 0.9308\n",
      "Epoch 31/100\n",
      "766/766 [==============================] - 0s 182us/sample - loss: 0.2118 - accuracy: 0.9269\n",
      "Epoch 32/100\n",
      "766/766 [==============================] - 0s 183us/sample - loss: 0.2067 - accuracy: 0.9191\n",
      "Epoch 33/100\n",
      "766/766 [==============================] - 0s 171us/sample - loss: 0.2061 - accuracy: 0.9191\n",
      "Epoch 34/100\n",
      "766/766 [==============================] - 0s 168us/sample - loss: 0.1982 - accuracy: 0.9295\n",
      "Epoch 35/100\n",
      "766/766 [==============================] - 0s 221us/sample - loss: 0.1902 - accuracy: 0.9282\n",
      "Epoch 36/100\n",
      "766/766 [==============================] - 0s 232us/sample - loss: 0.1787 - accuracy: 0.9347\n",
      "Epoch 37/100\n",
      "766/766 [==============================] - 0s 206us/sample - loss: 0.1669 - accuracy: 0.9465\n",
      "Epoch 38/100\n",
      "766/766 [==============================] - 0s 147us/sample - loss: 0.1614 - accuracy: 0.9530\n",
      "Epoch 39/100\n",
      "766/766 [==============================] - 0s 186us/sample - loss: 0.1624 - accuracy: 0.9543\n",
      "Epoch 40/100\n",
      "766/766 [==============================] - 0s 240us/sample - loss: 0.1538 - accuracy: 0.9530\n",
      "Epoch 41/100\n",
      "766/766 [==============================] - 0s 189us/sample - loss: 0.1408 - accuracy: 0.9595\n",
      "Epoch 42/100\n",
      "766/766 [==============================] - 0s 160us/sample - loss: 0.1481 - accuracy: 0.9543\n",
      "Epoch 43/100\n",
      "766/766 [==============================] - 0s 160us/sample - loss: 0.1353 - accuracy: 0.9621\n",
      "Epoch 44/100\n",
      "766/766 [==============================] - 0s 164us/sample - loss: 0.1237 - accuracy: 0.9648\n",
      "Epoch 45/100\n",
      "766/766 [==============================] - 0s 153us/sample - loss: 0.1297 - accuracy: 0.9621\n",
      "Epoch 46/100\n",
      "766/766 [==============================] - 0s 174us/sample - loss: 0.1116 - accuracy: 0.9804\n",
      "Epoch 47/100\n",
      "766/766 [==============================] - 0s 181us/sample - loss: 0.1073 - accuracy: 0.9739\n",
      "Epoch 48/100\n",
      "766/766 [==============================] - 0s 205us/sample - loss: 0.0992 - accuracy: 0.9804\n",
      "Epoch 49/100\n",
      "766/766 [==============================] - 0s 195us/sample - loss: 0.1008 - accuracy: 0.9778\n",
      "Epoch 50/100\n",
      "766/766 [==============================] - 0s 216us/sample - loss: 0.0936 - accuracy: 0.9830\n",
      "Epoch 51/100\n",
      "766/766 [==============================] - 0s 211us/sample - loss: 0.1010 - accuracy: 0.9739\n",
      "Epoch 52/100\n",
      "766/766 [==============================] - 0s 197us/sample - loss: 0.0831 - accuracy: 0.9856\n",
      "Epoch 53/100\n",
      "766/766 [==============================] - 0s 196us/sample - loss: 0.0806 - accuracy: 0.9869\n",
      "Epoch 54/100\n",
      "766/766 [==============================] - 0s 141us/sample - loss: 0.0713 - accuracy: 0.9883\n",
      "Epoch 55/100\n",
      "766/766 [==============================] - 0s 187us/sample - loss: 0.0737 - accuracy: 0.9869\n",
      "Epoch 56/100\n",
      "766/766 [==============================] - 0s 209us/sample - loss: 0.0644 - accuracy: 0.9935\n",
      "Epoch 57/100\n",
      "766/766 [==============================] - 0s 191us/sample - loss: 0.0626 - accuracy: 0.9948\n",
      "Epoch 58/100\n",
      "766/766 [==============================] - 0s 147us/sample - loss: 0.0603 - accuracy: 0.9961\n",
      "Epoch 59/100\n",
      "766/766 [==============================] - 0s 149us/sample - loss: 0.0561 - accuracy: 0.9974\n",
      "Epoch 60/100\n",
      "766/766 [==============================] - 0s 139us/sample - loss: 0.0536 - accuracy: 0.9961\n",
      "Epoch 61/100\n",
      "766/766 [==============================] - 0s 451us/sample - loss: 0.0508 - accuracy: 0.9987\n",
      "Epoch 62/100\n",
      "766/766 [==============================] - 0s 560us/sample - loss: 0.0515 - accuracy: 0.9974\n",
      "Epoch 63/100\n",
      "766/766 [==============================] - 0s 451us/sample - loss: 0.0484 - accuracy: 0.9935\n",
      "Epoch 64/100\n",
      "766/766 [==============================] - 0s 522us/sample - loss: 0.0440 - accuracy: 1.0000 - loss: 0.0407 - accu\n",
      "Epoch 65/100\n",
      "766/766 [==============================] - 0s 453us/sample - loss: 0.0453 - accuracy: 0.9935\n",
      "Epoch 66/100\n",
      "766/766 [==============================] - 0s 427us/sample - loss: 0.0473 - accuracy: 0.9948\n",
      "Epoch 67/100\n",
      "766/766 [==============================] - 0s 536us/sample - loss: 0.0371 - accuracy: 1.0000\n",
      "Epoch 68/100\n",
      "766/766 [==============================] - 0s 406us/sample - loss: 0.0366 - accuracy: 1.0000\n",
      "Epoch 69/100\n",
      "766/766 [==============================] - 0s 555us/sample - loss: 0.0338 - accuracy: 1.0000\n",
      "Epoch 70/100\n",
      "766/766 [==============================] - 0s 412us/sample - loss: 0.0371 - accuracy: 0.9974\n",
      "Epoch 71/100\n",
      "766/766 [==============================] - 0s 433us/sample - loss: 0.0291 - accuracy: 1.0000\n",
      "Epoch 72/100\n",
      "766/766 [==============================] - 0s 417us/sample - loss: 0.0283 - accuracy: 1.0000\n",
      "Epoch 73/100\n",
      "766/766 [==============================] - 0s 440us/sample - loss: 0.0267 - accuracy: 1.0000\n",
      "Epoch 74/100\n",
      "766/766 [==============================] - 0s 442us/sample - loss: 0.0298 - accuracy: 1.0000\n",
      "Epoch 75/100\n",
      "766/766 [==============================] - 0s 449us/sample - loss: 0.0271 - accuracy: 1.0000\n",
      "Epoch 76/100\n",
      "766/766 [==============================] - 0s 434us/sample - loss: 0.0236 - accuracy: 1.0000\n",
      "Epoch 77/100\n",
      "766/766 [==============================] - 0s 443us/sample - loss: 0.0229 - accuracy: 1.0000\n",
      "Epoch 78/100\n"
     ]
    },
    {
     "name": "stdout",
     "output_type": "stream",
     "text": [
      "766/766 [==============================] - 0s 475us/sample - loss: 0.0219 - accuracy: 1.0000\n",
      "Epoch 79/100\n",
      "766/766 [==============================] - 0s 420us/sample - loss: 0.0206 - accuracy: 1.0000\n",
      "Epoch 80/100\n",
      "766/766 [==============================] - 1s 659us/sample - loss: 0.0197 - accuracy: 1.0000\n",
      "Epoch 81/100\n",
      "766/766 [==============================] - 0s 429us/sample - loss: 0.0182 - accuracy: 1.0000 - loss: 0.0185 - accuracy: 1.00\n",
      "Epoch 82/100\n",
      "766/766 [==============================] - 0s 439us/sample - loss: 0.0184 - accuracy: 1.0000\n",
      "Epoch 83/100\n",
      "766/766 [==============================] - 0s 470us/sample - loss: 0.0183 - accuracy: 1.0000 - loss: 0.0174 - accuracy - ETA: 0s - loss: 0.0192 - accuracy: 1.00\n",
      "Epoch 84/100\n",
      "766/766 [==============================] - 0s 513us/sample - loss: 0.0169 - accuracy: 1.0000\n",
      "Epoch 85/100\n",
      "766/766 [==============================] - 0s 434us/sample - loss: 0.0148 - accuracy: 1.0000\n",
      "Epoch 86/100\n",
      "766/766 [==============================] - 0s 425us/sample - loss: 0.0142 - accuracy: 1.0000\n",
      "Epoch 87/100\n",
      "766/766 [==============================] - 0s 439us/sample - loss: 0.0157 - accuracy: 1.0000\n",
      "Epoch 88/100\n",
      "766/766 [==============================] - 0s 474us/sample - loss: 0.0148 - accuracy: 1.0000\n",
      "Epoch 89/100\n",
      "766/766 [==============================] - 1s 696us/sample - loss: 0.0134 - accuracy: 1.0000\n",
      "Epoch 90/100\n",
      "766/766 [==============================] - 0s 529us/sample - loss: 0.0135 - accuracy: 1.0000\n",
      "Epoch 91/100\n",
      "766/766 [==============================] - 0s 379us/sample - loss: 0.0125 - accuracy: 1.0000\n",
      "Epoch 92/100\n",
      "766/766 [==============================] - 0s 511us/sample - loss: 0.0118 - accuracy: 1.0000\n",
      "Epoch 93/100\n",
      "766/766 [==============================] - 0s 413us/sample - loss: 0.0110 - accuracy: 1.0000\n",
      "Epoch 94/100\n",
      "766/766 [==============================] - 0s 546us/sample - loss: 0.0112 - accuracy: 1.0000 - loss: 0.0112 - accuracy: 1.00\n",
      "Epoch 95/100\n",
      "766/766 [==============================] - 0s 450us/sample - loss: 0.0107 - accuracy: 1.0000\n",
      "Epoch 96/100\n",
      "766/766 [==============================] - 0s 468us/sample - loss: 0.0099 - accuracy: 1.0000\n",
      "Epoch 97/100\n",
      "766/766 [==============================] - 0s 383us/sample - loss: 0.0098 - accuracy: 1.0000\n",
      "Epoch 98/100\n",
      "766/766 [==============================] - 0s 539us/sample - loss: 0.0090 - accuracy: 1.0000\n",
      "Epoch 99/100\n",
      "766/766 [==============================] - 0s 373us/sample - loss: 0.0087 - accuracy: 1.0000\n",
      "Epoch 100/100\n",
      "766/766 [==============================] - 0s 424us/sample - loss: 0.0084 - accuracy: 1.0000\n"
     ]
    },
    {
     "data": {
      "text/plain": [
       "<tensorflow.python.keras.callbacks.History at 0x26ff5247908>"
      ]
     },
     "execution_count": 40,
     "metadata": {},
     "output_type": "execute_result"
    }
   ],
   "source": [
    "model.fit(X_train, y_train, epochs=100)"
   ]
  },
  {
   "cell_type": "code",
   "execution_count": 41,
   "metadata": {},
   "outputs": [
    {
     "name": "stdout",
     "output_type": "stream",
     "text": [
      "192/192 [==============================] - 0s 52us/sample - loss: 0.1624 - accuracy: 0.9479\n",
      "0.1623803141216437\n",
      "0.9479167\n"
     ]
    }
   ],
   "source": [
    "val_loss, val_acc = model.evaluate(X_test, y_test)\n",
    "print(val_loss)\n",
    "print(val_acc)"
   ]
  },
  {
   "cell_type": "markdown",
   "metadata": {},
   "source": [
    "**Which approach(es) did you find helpful to improve your model performance?**"
   ]
  },
  {
   "cell_type": "code",
   "execution_count": null,
   "metadata": {},
   "outputs": [],
   "source": [
    "# Changing the epochs values improved my results"
   ]
  }
 ],
 "metadata": {
  "kernelspec": {
   "display_name": "Python 3",
   "language": "python",
   "name": "python3"
  },
  "language_info": {
   "codemirror_mode": {
    "name": "ipython",
    "version": 3
   },
   "file_extension": ".py",
   "mimetype": "text/x-python",
   "name": "python",
   "nbconvert_exporter": "python",
   "pygments_lexer": "ipython3",
   "version": "3.7.4"
  }
 },
 "nbformat": 4,
 "nbformat_minor": 2
}

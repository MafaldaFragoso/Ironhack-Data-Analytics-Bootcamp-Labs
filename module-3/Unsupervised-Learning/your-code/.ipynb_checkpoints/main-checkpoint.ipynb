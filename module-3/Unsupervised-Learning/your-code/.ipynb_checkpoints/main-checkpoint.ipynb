{
 "cells": [
  {
   "cell_type": "markdown",
   "metadata": {},
   "source": [
    "# Before your start:\n",
    "- Read the README.md file\n",
    "- Comment as much as you can and use the resources in the README.md file\n",
    "- Happy learning!"
   ]
  },
  {
   "cell_type": "code",
   "execution_count": 1,
   "metadata": {},
   "outputs": [],
   "source": [
    "# Import your libraries:\n",
    "\n",
    "%matplotlib inline\n",
    "\n",
    "import matplotlib.pyplot as plt\n",
    "import numpy as np\n",
    "import pandas as pd\n",
    "import seaborn as sns"
   ]
  },
  {
   "cell_type": "markdown",
   "metadata": {},
   "source": [
    "# Challenge 1 - Import and Describe the Dataset\n",
    "\n",
    "In this lab, we will use a dataset containing information about customer preferences. We will look at how much each customer spends in a year on each subcategory in the grocery store and try to find similarities using clustering.\n",
    "\n",
    "The origin of the dataset is [here](https://archive.ics.uci.edu/ml/datasets/wholesale+customers)."
   ]
  },
  {
   "cell_type": "code",
   "execution_count": 2,
   "metadata": {},
   "outputs": [
    {
     "data": {
      "text/html": [
       "<div>\n",
       "<style scoped>\n",
       "    .dataframe tbody tr th:only-of-type {\n",
       "        vertical-align: middle;\n",
       "    }\n",
       "\n",
       "    .dataframe tbody tr th {\n",
       "        vertical-align: top;\n",
       "    }\n",
       "\n",
       "    .dataframe thead th {\n",
       "        text-align: right;\n",
       "    }\n",
       "</style>\n",
       "<table border=\"1\" class=\"dataframe\">\n",
       "  <thead>\n",
       "    <tr style=\"text-align: right;\">\n",
       "      <th></th>\n",
       "      <th>Channel</th>\n",
       "      <th>Region</th>\n",
       "      <th>Fresh</th>\n",
       "      <th>Milk</th>\n",
       "      <th>Grocery</th>\n",
       "      <th>Frozen</th>\n",
       "      <th>Detergents_Paper</th>\n",
       "      <th>Delicassen</th>\n",
       "    </tr>\n",
       "  </thead>\n",
       "  <tbody>\n",
       "    <tr>\n",
       "      <td>0</td>\n",
       "      <td>2</td>\n",
       "      <td>3</td>\n",
       "      <td>12669</td>\n",
       "      <td>9656</td>\n",
       "      <td>7561</td>\n",
       "      <td>214</td>\n",
       "      <td>2674</td>\n",
       "      <td>1338</td>\n",
       "    </tr>\n",
       "    <tr>\n",
       "      <td>1</td>\n",
       "      <td>2</td>\n",
       "      <td>3</td>\n",
       "      <td>7057</td>\n",
       "      <td>9810</td>\n",
       "      <td>9568</td>\n",
       "      <td>1762</td>\n",
       "      <td>3293</td>\n",
       "      <td>1776</td>\n",
       "    </tr>\n",
       "    <tr>\n",
       "      <td>2</td>\n",
       "      <td>2</td>\n",
       "      <td>3</td>\n",
       "      <td>6353</td>\n",
       "      <td>8808</td>\n",
       "      <td>7684</td>\n",
       "      <td>2405</td>\n",
       "      <td>3516</td>\n",
       "      <td>7844</td>\n",
       "    </tr>\n",
       "    <tr>\n",
       "      <td>3</td>\n",
       "      <td>1</td>\n",
       "      <td>3</td>\n",
       "      <td>13265</td>\n",
       "      <td>1196</td>\n",
       "      <td>4221</td>\n",
       "      <td>6404</td>\n",
       "      <td>507</td>\n",
       "      <td>1788</td>\n",
       "    </tr>\n",
       "    <tr>\n",
       "      <td>4</td>\n",
       "      <td>2</td>\n",
       "      <td>3</td>\n",
       "      <td>22615</td>\n",
       "      <td>5410</td>\n",
       "      <td>7198</td>\n",
       "      <td>3915</td>\n",
       "      <td>1777</td>\n",
       "      <td>5185</td>\n",
       "    </tr>\n",
       "    <tr>\n",
       "      <td>...</td>\n",
       "      <td>...</td>\n",
       "      <td>...</td>\n",
       "      <td>...</td>\n",
       "      <td>...</td>\n",
       "      <td>...</td>\n",
       "      <td>...</td>\n",
       "      <td>...</td>\n",
       "      <td>...</td>\n",
       "    </tr>\n",
       "    <tr>\n",
       "      <td>435</td>\n",
       "      <td>1</td>\n",
       "      <td>3</td>\n",
       "      <td>29703</td>\n",
       "      <td>12051</td>\n",
       "      <td>16027</td>\n",
       "      <td>13135</td>\n",
       "      <td>182</td>\n",
       "      <td>2204</td>\n",
       "    </tr>\n",
       "    <tr>\n",
       "      <td>436</td>\n",
       "      <td>1</td>\n",
       "      <td>3</td>\n",
       "      <td>39228</td>\n",
       "      <td>1431</td>\n",
       "      <td>764</td>\n",
       "      <td>4510</td>\n",
       "      <td>93</td>\n",
       "      <td>2346</td>\n",
       "    </tr>\n",
       "    <tr>\n",
       "      <td>437</td>\n",
       "      <td>2</td>\n",
       "      <td>3</td>\n",
       "      <td>14531</td>\n",
       "      <td>15488</td>\n",
       "      <td>30243</td>\n",
       "      <td>437</td>\n",
       "      <td>14841</td>\n",
       "      <td>1867</td>\n",
       "    </tr>\n",
       "    <tr>\n",
       "      <td>438</td>\n",
       "      <td>1</td>\n",
       "      <td>3</td>\n",
       "      <td>10290</td>\n",
       "      <td>1981</td>\n",
       "      <td>2232</td>\n",
       "      <td>1038</td>\n",
       "      <td>168</td>\n",
       "      <td>2125</td>\n",
       "    </tr>\n",
       "    <tr>\n",
       "      <td>439</td>\n",
       "      <td>1</td>\n",
       "      <td>3</td>\n",
       "      <td>2787</td>\n",
       "      <td>1698</td>\n",
       "      <td>2510</td>\n",
       "      <td>65</td>\n",
       "      <td>477</td>\n",
       "      <td>52</td>\n",
       "    </tr>\n",
       "  </tbody>\n",
       "</table>\n",
       "<p>440 rows × 8 columns</p>\n",
       "</div>"
      ],
      "text/plain": [
       "     Channel  Region  Fresh   Milk  Grocery  Frozen  Detergents_Paper  \\\n",
       "0          2       3  12669   9656     7561     214              2674   \n",
       "1          2       3   7057   9810     9568    1762              3293   \n",
       "2          2       3   6353   8808     7684    2405              3516   \n",
       "3          1       3  13265   1196     4221    6404               507   \n",
       "4          2       3  22615   5410     7198    3915              1777   \n",
       "..       ...     ...    ...    ...      ...     ...               ...   \n",
       "435        1       3  29703  12051    16027   13135               182   \n",
       "436        1       3  39228   1431      764    4510                93   \n",
       "437        2       3  14531  15488    30243     437             14841   \n",
       "438        1       3  10290   1981     2232    1038               168   \n",
       "439        1       3   2787   1698     2510      65               477   \n",
       "\n",
       "     Delicassen  \n",
       "0          1338  \n",
       "1          1776  \n",
       "2          7844  \n",
       "3          1788  \n",
       "4          5185  \n",
       "..          ...  \n",
       "435        2204  \n",
       "436        2346  \n",
       "437        1867  \n",
       "438        2125  \n",
       "439          52  \n",
       "\n",
       "[440 rows x 8 columns]"
      ]
     },
     "execution_count": 2,
     "metadata": {},
     "output_type": "execute_result"
    }
   ],
   "source": [
    "data = pd.read_csv('../data/Wholesale customers data.csv')\n",
    "data"
   ]
  },
  {
   "cell_type": "markdown",
   "metadata": {},
   "source": [
    "#### Explore the dataset with mathematical and visualization techniques. What do you find?\n",
    "\n",
    "Checklist:\n",
    "\n",
    "* What does each column mean?\n",
    "* Any categorical data to convert?\n",
    "* Any missing data to remove?\n",
    "* Column collinearity - any high correlations?\n",
    "* Descriptive statistics - any outliers to remove?\n",
    "* Column-wise data distribution - is the distribution skewed?\n",
    "* Etc.\n",
    "\n",
    "Additional info: Over a century ago, an Italian economist named Vilfredo Pareto discovered that roughly 20% of the customers account for 80% of the typical retail sales. This is called the [Pareto principle](https://en.wikipedia.org/wiki/Pareto_principle). Check if this dataset displays this characteristic."
   ]
  },
  {
   "cell_type": "code",
   "execution_count": 3,
   "metadata": {},
   "outputs": [
    {
     "data": {
      "text/plain": [
       "Channel             int64\n",
       "Region              int64\n",
       "Fresh               int64\n",
       "Milk                int64\n",
       "Grocery             int64\n",
       "Frozen              int64\n",
       "Detergents_Paper    int64\n",
       "Delicassen          int64\n",
       "dtype: object"
      ]
     },
     "execution_count": 3,
     "metadata": {},
     "output_type": "execute_result"
    }
   ],
   "source": [
    "# checking for column types\n",
    "data.dtypes"
   ]
  },
  {
   "cell_type": "code",
   "execution_count": 4,
   "metadata": {},
   "outputs": [
    {
     "data": {
      "text/plain": [
       "Channel             0\n",
       "Region              0\n",
       "Fresh               0\n",
       "Milk                0\n",
       "Grocery             0\n",
       "Frozen              0\n",
       "Detergents_Paper    0\n",
       "Delicassen          0\n",
       "dtype: int64"
      ]
     },
     "execution_count": 4,
     "metadata": {},
     "output_type": "execute_result"
    }
   ],
   "source": [
    "# checking for missing values\n",
    "\n",
    "null_cols = data.isnull().sum()\n",
    "null_cols"
   ]
  },
  {
   "cell_type": "code",
   "execution_count": 5,
   "metadata": {},
   "outputs": [
    {
     "data": {
      "text/plain": [
       "array([2, 1], dtype=int64)"
      ]
     },
     "execution_count": 5,
     "metadata": {},
     "output_type": "execute_result"
    }
   ],
   "source": [
    "# Unique values of column channel\n",
    "\n",
    "data['Channel'].unique()"
   ]
  },
  {
   "cell_type": "code",
   "execution_count": 6,
   "metadata": {},
   "outputs": [
    {
     "data": {
      "text/plain": [
       "array([3, 1, 2], dtype=int64)"
      ]
     },
     "execution_count": 6,
     "metadata": {},
     "output_type": "execute_result"
    }
   ],
   "source": [
    "# Unique values of column Region\n",
    "\n",
    "data['Region'].unique()"
   ]
  },
  {
   "cell_type": "code",
   "execution_count": 7,
   "metadata": {},
   "outputs": [
    {
     "data": {
      "text/plain": [
       "<matplotlib.axes._subplots.AxesSubplot at 0x14871e87c48>"
      ]
     },
     "execution_count": 7,
     "metadata": {},
     "output_type": "execute_result"
    },
    {
     "data": {
      "image/png": "[encoded data removed]",
      "text/plain": [
       "<Figure size 1080x432 with 2 Axes>"
      ]
     },
     "metadata": {
      "needs_background": "light"
     },
     "output_type": "display_data"
    }
   ],
   "source": [
    "# heatmap to check for high correlations\n",
    "\n",
    "corr_matrix = data.corr()\n",
    "\n",
    "plt.figure(figsize=(15,6))\n",
    "mask = np.triu(corr_matrix)\n",
    "\n",
    "heatmap = sns.heatmap(corr_matrix, annot=True, cmap=\"coolwarm\", mask=mask)\n",
    "bottom, top = heatmap.get_ylim()\n",
    "heatmap.set_ylim(bottom + 0.5, top - 0.5)\n",
    "\n",
    "heatmap"
   ]
  },
  {
   "cell_type": "code",
   "execution_count": 8,
   "metadata": {},
   "outputs": [
    {
     "data": {
      "text/html": [
       "<div>\n",
       "<style scoped>\n",
       "    .dataframe tbody tr th:only-of-type {\n",
       "        vertical-align: middle;\n",
       "    }\n",
       "\n",
       "    .dataframe tbody tr th {\n",
       "        vertical-align: top;\n",
       "    }\n",
       "\n",
       "    .dataframe thead th {\n",
       "        text-align: right;\n",
       "    }\n",
       "</style>\n",
       "<table border=\"1\" class=\"dataframe\">\n",
       "  <thead>\n",
       "    <tr style=\"text-align: right;\">\n",
       "      <th></th>\n",
       "      <th>count</th>\n",
       "      <th>mean</th>\n",
       "      <th>std</th>\n",
       "      <th>min</th>\n",
       "      <th>25%</th>\n",
       "      <th>50%</th>\n",
       "      <th>75%</th>\n",
       "      <th>max</th>\n",
       "      <th>IQR</th>\n",
       "    </tr>\n",
       "  </thead>\n",
       "  <tbody>\n",
       "    <tr>\n",
       "      <td>Channel</td>\n",
       "      <td>440.0</td>\n",
       "      <td>1.322727</td>\n",
       "      <td>0.468052</td>\n",
       "      <td>1.0</td>\n",
       "      <td>1.00</td>\n",
       "      <td>1.0</td>\n",
       "      <td>2.00</td>\n",
       "      <td>2.0</td>\n",
       "      <td>1.00</td>\n",
       "    </tr>\n",
       "    <tr>\n",
       "      <td>Region</td>\n",
       "      <td>440.0</td>\n",
       "      <td>2.543182</td>\n",
       "      <td>0.774272</td>\n",
       "      <td>1.0</td>\n",
       "      <td>2.00</td>\n",
       "      <td>3.0</td>\n",
       "      <td>3.00</td>\n",
       "      <td>3.0</td>\n",
       "      <td>1.00</td>\n",
       "    </tr>\n",
       "    <tr>\n",
       "      <td>Fresh</td>\n",
       "      <td>440.0</td>\n",
       "      <td>12000.297727</td>\n",
       "      <td>12647.328865</td>\n",
       "      <td>3.0</td>\n",
       "      <td>3127.75</td>\n",
       "      <td>8504.0</td>\n",
       "      <td>16933.75</td>\n",
       "      <td>112151.0</td>\n",
       "      <td>13806.00</td>\n",
       "    </tr>\n",
       "    <tr>\n",
       "      <td>Milk</td>\n",
       "      <td>440.0</td>\n",
       "      <td>5796.265909</td>\n",
       "      <td>7380.377175</td>\n",
       "      <td>55.0</td>\n",
       "      <td>1533.00</td>\n",
       "      <td>3627.0</td>\n",
       "      <td>7190.25</td>\n",
       "      <td>73498.0</td>\n",
       "      <td>5657.25</td>\n",
       "    </tr>\n",
       "    <tr>\n",
       "      <td>Grocery</td>\n",
       "      <td>440.0</td>\n",
       "      <td>7951.277273</td>\n",
       "      <td>9503.162829</td>\n",
       "      <td>3.0</td>\n",
       "      <td>2153.00</td>\n",
       "      <td>4755.5</td>\n",
       "      <td>10655.75</td>\n",
       "      <td>92780.0</td>\n",
       "      <td>8502.75</td>\n",
       "    </tr>\n",
       "    <tr>\n",
       "      <td>Frozen</td>\n",
       "      <td>440.0</td>\n",
       "      <td>3071.931818</td>\n",
       "      <td>4854.673333</td>\n",
       "      <td>25.0</td>\n",
       "      <td>742.25</td>\n",
       "      <td>1526.0</td>\n",
       "      <td>3554.25</td>\n",
       "      <td>60869.0</td>\n",
       "      <td>2812.00</td>\n",
       "    </tr>\n",
       "    <tr>\n",
       "      <td>Detergents_Paper</td>\n",
       "      <td>440.0</td>\n",
       "      <td>2881.493182</td>\n",
       "      <td>4767.854448</td>\n",
       "      <td>3.0</td>\n",
       "      <td>256.75</td>\n",
       "      <td>816.5</td>\n",
       "      <td>3922.00</td>\n",
       "      <td>40827.0</td>\n",
       "      <td>3665.25</td>\n",
       "    </tr>\n",
       "    <tr>\n",
       "      <td>Delicassen</td>\n",
       "      <td>440.0</td>\n",
       "      <td>1524.870455</td>\n",
       "      <td>2820.105937</td>\n",
       "      <td>3.0</td>\n",
       "      <td>408.25</td>\n",
       "      <td>965.5</td>\n",
       "      <td>1820.25</td>\n",
       "      <td>47943.0</td>\n",
       "      <td>1412.00</td>\n",
       "    </tr>\n",
       "  </tbody>\n",
       "</table>\n",
       "</div>"
      ],
      "text/plain": [
       "                  count          mean           std   min      25%     50%  \\\n",
       "Channel           440.0      1.322727      0.468052   1.0     1.00     1.0   \n",
       "Region            440.0      2.543182      0.774272   1.0     2.00     3.0   \n",
       "Fresh             440.0  12000.297727  12647.328865   3.0  3127.75  8504.0   \n",
       "Milk              440.0   5796.265909   7380.377175  55.0  1533.00  3627.0   \n",
       "Grocery           440.0   7951.277273   9503.162829   3.0  2153.00  4755.5   \n",
       "Frozen            440.0   3071.931818   4854.673333  25.0   742.25  1526.0   \n",
       "Detergents_Paper  440.0   2881.493182   4767.854448   3.0   256.75   816.5   \n",
       "Delicassen        440.0   1524.870455   2820.105937   3.0   408.25   965.5   \n",
       "\n",
       "                       75%       max       IQR  \n",
       "Channel               2.00       2.0      1.00  \n",
       "Region                3.00       3.0      1.00  \n",
       "Fresh             16933.75  112151.0  13806.00  \n",
       "Milk               7190.25   73498.0   5657.25  \n",
       "Grocery           10655.75   92780.0   8502.75  \n",
       "Frozen             3554.25   60869.0   2812.00  \n",
       "Detergents_Paper   3922.00   40827.0   3665.25  \n",
       "Delicassen         1820.25   47943.0   1412.00  "
      ]
     },
     "execution_count": 8,
     "metadata": {},
     "output_type": "execute_result"
    }
   ],
   "source": [
    "# checking for the statistics\n",
    "\n",
    "stats = data.describe().transpose()\n",
    "stats['IQR'] = stats['75%'] - stats['25%']\n",
    "stats"
   ]
  },
  {
   "cell_type": "code",
   "execution_count": 9,
   "metadata": {},
   "outputs": [
    {
     "data": {
      "image/png": "[encoded data removed]",
      "text/plain": [
       "<Figure size 1152x288 with 5 Axes>"
      ]
     },
     "metadata": {
      "needs_background": "light"
     },
     "output_type": "display_data"
    }
   ],
   "source": [
    "# checking for outliers using boxplot\n",
    "\n",
    "fig, ax = plt.subplots(1,5, figsize=(16, 4))\n",
    "\n",
    "sns.boxplot(y=data.Fresh, ax=ax[0])\n",
    "sns.boxplot(y=data.Milk, ax=ax[1])\n",
    "sns.boxplot(y=data.Grocery, ax=ax[2])\n",
    "sns.boxplot(y=data.Frozen, ax=ax[3])\n",
    "sns.boxplot(y=data.Delicassen, ax=ax[4])\n",
    "sns.boxplot(y=data.Detergents_Paper, ax=ax[4])\n",
    "\n",
    "\n",
    "plt.subplots_adjust(wspace=0.5)\n"
   ]
  },
  {
   "cell_type": "code",
   "execution_count": 10,
   "metadata": {},
   "outputs": [
    {
     "name": "stderr",
     "output_type": "stream",
     "text": [
      "C:\\Users\\mafal.MIGUELFRAGOSO\\Anaconda3\\lib\\site-packages\\pandas\\core\\frame.py:7123: FutureWarning: Sorting because non-concatenation axis is not aligned. A future version\n",
      "of pandas will change to not sort by default.\n",
      "\n",
      "To accept the future behavior, pass 'sort=False'.\n",
      "\n",
      "To retain the current behavior and silence the warning, pass 'sort=True'.\n",
      "\n",
      "  sort=sort,\n"
     ]
    }
   ],
   "source": [
    "# checking for outliers\n",
    "\n",
    "outliers = pd.DataFrame(columns=data.columns).sort_index()\n",
    "\n",
    "for col in stats.index:\n",
    "    iqr = stats.at[col,'IQR']\n",
    "    cutoff = iqr * 3\n",
    "    lower = stats.at[col,'25%'] - cutoff\n",
    "    upper = stats.at[col,'75%'] + cutoff\n",
    "    results = data[(data[col] < lower) | \n",
    "                   (data[col] > upper)].copy()\n",
    "    results['Outlier'] = col\n",
    "    outliers = outliers.append(results).sort_index()"
   ]
  },
  {
   "cell_type": "code",
   "execution_count": 11,
   "metadata": {},
   "outputs": [
    {
     "data": {
      "text/html": [
       "<div>\n",
       "<style scoped>\n",
       "    .dataframe tbody tr th:only-of-type {\n",
       "        vertical-align: middle;\n",
       "    }\n",
       "\n",
       "    .dataframe tbody tr th {\n",
       "        vertical-align: top;\n",
       "    }\n",
       "\n",
       "    .dataframe thead th {\n",
       "        text-align: right;\n",
       "    }\n",
       "</style>\n",
       "<table border=\"1\" class=\"dataframe\">\n",
       "  <thead>\n",
       "    <tr style=\"text-align: right;\">\n",
       "      <th></th>\n",
       "      <th>Channel</th>\n",
       "      <th>Delicassen</th>\n",
       "      <th>Detergents_Paper</th>\n",
       "      <th>Fresh</th>\n",
       "      <th>Frozen</th>\n",
       "      <th>Grocery</th>\n",
       "      <th>Milk</th>\n",
       "      <th>Outlier</th>\n",
       "      <th>Region</th>\n",
       "    </tr>\n",
       "  </thead>\n",
       "  <tbody>\n",
       "    <tr>\n",
       "      <td>2</td>\n",
       "      <td>2</td>\n",
       "      <td>7844</td>\n",
       "      <td>3516</td>\n",
       "      <td>6353</td>\n",
       "      <td>2405</td>\n",
       "      <td>7684</td>\n",
       "      <td>8808</td>\n",
       "      <td>Delicassen</td>\n",
       "      <td>3</td>\n",
       "    </tr>\n",
       "    <tr>\n",
       "      <td>23</td>\n",
       "      <td>2</td>\n",
       "      <td>16523</td>\n",
       "      <td>4337</td>\n",
       "      <td>26373</td>\n",
       "      <td>5154</td>\n",
       "      <td>22019</td>\n",
       "      <td>36423</td>\n",
       "      <td>Delicassen</td>\n",
       "      <td>3</td>\n",
       "    </tr>\n",
       "    <tr>\n",
       "      <td>23</td>\n",
       "      <td>2</td>\n",
       "      <td>16523</td>\n",
       "      <td>4337</td>\n",
       "      <td>26373</td>\n",
       "      <td>5154</td>\n",
       "      <td>22019</td>\n",
       "      <td>36423</td>\n",
       "      <td>Milk</td>\n",
       "      <td>3</td>\n",
       "    </tr>\n",
       "    <tr>\n",
       "      <td>47</td>\n",
       "      <td>2</td>\n",
       "      <td>6465</td>\n",
       "      <td>24171</td>\n",
       "      <td>44466</td>\n",
       "      <td>7782</td>\n",
       "      <td>55571</td>\n",
       "      <td>54259</td>\n",
       "      <td>Milk</td>\n",
       "      <td>3</td>\n",
       "    </tr>\n",
       "    <tr>\n",
       "      <td>47</td>\n",
       "      <td>2</td>\n",
       "      <td>6465</td>\n",
       "      <td>24171</td>\n",
       "      <td>44466</td>\n",
       "      <td>7782</td>\n",
       "      <td>55571</td>\n",
       "      <td>54259</td>\n",
       "      <td>Detergents_Paper</td>\n",
       "      <td>3</td>\n",
       "    </tr>\n",
       "  </tbody>\n",
       "</table>\n",
       "</div>"
      ],
      "text/plain": [
       "   Channel Delicassen Detergents_Paper  Fresh Frozen Grocery   Milk  \\\n",
       "2        2       7844             3516   6353   2405    7684   8808   \n",
       "23       2      16523             4337  26373   5154   22019  36423   \n",
       "23       2      16523             4337  26373   5154   22019  36423   \n",
       "47       2       6465            24171  44466   7782   55571  54259   \n",
       "47       2       6465            24171  44466   7782   55571  54259   \n",
       "\n",
       "             Outlier Region  \n",
       "2         Delicassen      3  \n",
       "23        Delicassen      3  \n",
       "23              Milk      3  \n",
       "47              Milk      3  \n",
       "47  Detergents_Paper      3  "
      ]
     },
     "execution_count": 11,
     "metadata": {},
     "output_type": "execute_result"
    }
   ],
   "source": [
    "outliers.head()"
   ]
  },
  {
   "cell_type": "code",
   "execution_count": 12,
   "metadata": {},
   "outputs": [
    {
     "data": {
      "text/plain": [
       "(60, 9)"
      ]
     },
     "execution_count": 12,
     "metadata": {},
     "output_type": "execute_result"
    }
   ],
   "source": [
    "outliers.shape"
   ]
  },
  {
   "cell_type": "code",
   "execution_count": 13,
   "metadata": {},
   "outputs": [
    {
     "data": {
      "text/plain": [
       "38"
      ]
     },
     "execution_count": 13,
     "metadata": {},
     "output_type": "execute_result"
    }
   ],
   "source": [
    "# checking the number of rows to remove\n",
    "\n",
    "index_to_remove = set(outliers.index.tolist())\n",
    "len(index_to_remove)"
   ]
  },
  {
   "cell_type": "code",
   "execution_count": 14,
   "metadata": {},
   "outputs": [],
   "source": [
    "# I'm going to drop 38 rows with outliers\n",
    "\n",
    "data.drop(index_to_remove, inplace=True)"
   ]
  },
  {
   "cell_type": "code",
   "execution_count": 15,
   "metadata": {},
   "outputs": [
    {
     "data": {
      "text/plain": [
       "(402, 8)"
      ]
     },
     "execution_count": 15,
     "metadata": {},
     "output_type": "execute_result"
    }
   ],
   "source": [
    "data.shape"
   ]
  },
  {
   "cell_type": "code",
   "execution_count": 16,
   "metadata": {},
   "outputs": [
    {
     "data": {
      "image/png": "[encoded data removed]",
      "text/plain": [
       "<Figure size 1152x288 with 6 Axes>"
      ]
     },
     "metadata": {
      "needs_background": "light"
     },
     "output_type": "display_data"
    }
   ],
   "source": [
    "# plotting the distributions\n",
    "\n",
    "fields = ['Fresh', 'Frozen', 'Grocery', 'Milk', 'Delicassen', 'Detergents_Paper']\n",
    "fig, axs = plt.subplots(1,len(fields),figsize=(16, 4))\n",
    "plt.subplots_adjust(wspace=0.5)\n",
    "for i, f in enumerate(fields):\n",
    "    plt.sca(axs[i])\n",
    "    plt.title(f)\n",
    "    axs[i] = sns.distplot(data[f])"
   ]
  },
  {
   "cell_type": "code",
   "execution_count": 17,
   "metadata": {},
   "outputs": [
    {
     "name": "stdout",
     "output_type": "stream",
     "text": [
      "All the variables are right skewed\n"
     ]
    }
   ],
   "source": [
    "print(\"All the variables are right skewed\")"
   ]
  },
  {
   "cell_type": "markdown",
   "metadata": {},
   "source": [
    "# Challenge 2 - Data Cleaning and Transformation\n",
    "\n",
    "If your conclusion from the previous challenge is the data need cleaning/transformation, do it in the cells below. However, if your conclusion is the data need not be cleaned or transformed, feel free to skip this challenge. But if you do choose the latter, please provide rationale."
   ]
  },
  {
   "cell_type": "code",
   "execution_count": 18,
   "metadata": {},
   "outputs": [
    {
     "data": {
      "text/plain": [
       "\"\\n1.All columns are integers and well classified (all the categorical information is ready to be used and all the other fields are continuos data)\\n2.There are no missing values\\n3.Strong correlation between the columns Grocery and Detergents_Paper but I decided not to drop because the correlation is lower than 95%\\n4.I've removed rows with ouliers\\n\\n\""
      ]
     },
     "execution_count": 18,
     "metadata": {},
     "output_type": "execute_result"
    }
   ],
   "source": [
    "\"\"\"\n",
    "1.All columns are integers and well classified (all the categorical information is ready to be used and all the other fields are continuos data)\n",
    "2.There are no missing values\n",
    "3.Strong correlation between the columns Grocery and Detergents_Paper but I decided not to drop because the correlation is lower than 95%\n",
    "4.I've removed rows with ouliers\n",
    "\n",
    "\"\"\""
   ]
  },
  {
   "cell_type": "code",
   "execution_count": 19,
   "metadata": {},
   "outputs": [
    {
     "data": {
      "text/html": [
       "<div>\n",
       "<style scoped>\n",
       "    .dataframe tbody tr th:only-of-type {\n",
       "        vertical-align: middle;\n",
       "    }\n",
       "\n",
       "    .dataframe tbody tr th {\n",
       "        vertical-align: top;\n",
       "    }\n",
       "\n",
       "    .dataframe thead th {\n",
       "        text-align: right;\n",
       "    }\n",
       "</style>\n",
       "<table border=\"1\" class=\"dataframe\">\n",
       "  <thead>\n",
       "    <tr style=\"text-align: right;\">\n",
       "      <th></th>\n",
       "      <th>Channel</th>\n",
       "      <th>Region</th>\n",
       "      <th>Fresh</th>\n",
       "      <th>Milk</th>\n",
       "      <th>Grocery</th>\n",
       "      <th>Frozen</th>\n",
       "      <th>Detergents_Paper</th>\n",
       "      <th>Delicassen</th>\n",
       "    </tr>\n",
       "  </thead>\n",
       "  <tbody>\n",
       "    <tr>\n",
       "      <td>0</td>\n",
       "      <td>2</td>\n",
       "      <td>3</td>\n",
       "      <td>12669</td>\n",
       "      <td>9656</td>\n",
       "      <td>7561</td>\n",
       "      <td>214</td>\n",
       "      <td>2674</td>\n",
       "      <td>1338</td>\n",
       "    </tr>\n",
       "    <tr>\n",
       "      <td>1</td>\n",
       "      <td>2</td>\n",
       "      <td>3</td>\n",
       "      <td>7057</td>\n",
       "      <td>9810</td>\n",
       "      <td>9568</td>\n",
       "      <td>1762</td>\n",
       "      <td>3293</td>\n",
       "      <td>1776</td>\n",
       "    </tr>\n",
       "    <tr>\n",
       "      <td>3</td>\n",
       "      <td>1</td>\n",
       "      <td>3</td>\n",
       "      <td>13265</td>\n",
       "      <td>1196</td>\n",
       "      <td>4221</td>\n",
       "      <td>6404</td>\n",
       "      <td>507</td>\n",
       "      <td>1788</td>\n",
       "    </tr>\n",
       "    <tr>\n",
       "      <td>4</td>\n",
       "      <td>2</td>\n",
       "      <td>3</td>\n",
       "      <td>22615</td>\n",
       "      <td>5410</td>\n",
       "      <td>7198</td>\n",
       "      <td>3915</td>\n",
       "      <td>1777</td>\n",
       "      <td>5185</td>\n",
       "    </tr>\n",
       "    <tr>\n",
       "      <td>5</td>\n",
       "      <td>2</td>\n",
       "      <td>3</td>\n",
       "      <td>9413</td>\n",
       "      <td>8259</td>\n",
       "      <td>5126</td>\n",
       "      <td>666</td>\n",
       "      <td>1795</td>\n",
       "      <td>1451</td>\n",
       "    </tr>\n",
       "    <tr>\n",
       "      <td>...</td>\n",
       "      <td>...</td>\n",
       "      <td>...</td>\n",
       "      <td>...</td>\n",
       "      <td>...</td>\n",
       "      <td>...</td>\n",
       "      <td>...</td>\n",
       "      <td>...</td>\n",
       "      <td>...</td>\n",
       "    </tr>\n",
       "    <tr>\n",
       "      <td>434</td>\n",
       "      <td>1</td>\n",
       "      <td>3</td>\n",
       "      <td>16731</td>\n",
       "      <td>3922</td>\n",
       "      <td>7994</td>\n",
       "      <td>688</td>\n",
       "      <td>2371</td>\n",
       "      <td>838</td>\n",
       "    </tr>\n",
       "    <tr>\n",
       "      <td>436</td>\n",
       "      <td>1</td>\n",
       "      <td>3</td>\n",
       "      <td>39228</td>\n",
       "      <td>1431</td>\n",
       "      <td>764</td>\n",
       "      <td>4510</td>\n",
       "      <td>93</td>\n",
       "      <td>2346</td>\n",
       "    </tr>\n",
       "    <tr>\n",
       "      <td>437</td>\n",
       "      <td>2</td>\n",
       "      <td>3</td>\n",
       "      <td>14531</td>\n",
       "      <td>15488</td>\n",
       "      <td>30243</td>\n",
       "      <td>437</td>\n",
       "      <td>14841</td>\n",
       "      <td>1867</td>\n",
       "    </tr>\n",
       "    <tr>\n",
       "      <td>438</td>\n",
       "      <td>1</td>\n",
       "      <td>3</td>\n",
       "      <td>10290</td>\n",
       "      <td>1981</td>\n",
       "      <td>2232</td>\n",
       "      <td>1038</td>\n",
       "      <td>168</td>\n",
       "      <td>2125</td>\n",
       "    </tr>\n",
       "    <tr>\n",
       "      <td>439</td>\n",
       "      <td>1</td>\n",
       "      <td>3</td>\n",
       "      <td>2787</td>\n",
       "      <td>1698</td>\n",
       "      <td>2510</td>\n",
       "      <td>65</td>\n",
       "      <td>477</td>\n",
       "      <td>52</td>\n",
       "    </tr>\n",
       "  </tbody>\n",
       "</table>\n",
       "<p>402 rows × 8 columns</p>\n",
       "</div>"
      ],
      "text/plain": [
       "     Channel  Region  Fresh   Milk  Grocery  Frozen  Detergents_Paper  \\\n",
       "0          2       3  12669   9656     7561     214              2674   \n",
       "1          2       3   7057   9810     9568    1762              3293   \n",
       "3          1       3  13265   1196     4221    6404               507   \n",
       "4          2       3  22615   5410     7198    3915              1777   \n",
       "5          2       3   9413   8259     5126     666              1795   \n",
       "..       ...     ...    ...    ...      ...     ...               ...   \n",
       "434        1       3  16731   3922     7994     688              2371   \n",
       "436        1       3  39228   1431      764    4510                93   \n",
       "437        2       3  14531  15488    30243     437             14841   \n",
       "438        1       3  10290   1981     2232    1038               168   \n",
       "439        1       3   2787   1698     2510      65               477   \n",
       "\n",
       "     Delicassen  \n",
       "0          1338  \n",
       "1          1776  \n",
       "3          1788  \n",
       "4          5185  \n",
       "5          1451  \n",
       "..          ...  \n",
       "434         838  \n",
       "436        2346  \n",
       "437        1867  \n",
       "438        2125  \n",
       "439          52  \n",
       "\n",
       "[402 rows x 8 columns]"
      ]
     },
     "execution_count": 19,
     "metadata": {},
     "output_type": "execute_result"
    }
   ],
   "source": [
    "# printing the final dataset\n",
    "\n",
    "data"
   ]
  },
  {
   "cell_type": "markdown",
   "metadata": {},
   "source": [
    "# Challenge 3 - Data Preprocessing\n",
    "\n",
    "One problem with the dataset is the value ranges are remarkably different across various categories (e.g. `Fresh` and `Grocery` compared to `Detergents_Paper` and `Delicassen`). If you made this observation in the first challenge, you've done a great job! This means you not only completed the bonus questions in the previous Supervised Learning lab but also researched deep into [*feature scaling*](https://en.wikipedia.org/wiki/Feature_scaling). Keep on the good work!\n",
    "\n",
    "Diverse value ranges in different features could cause issues in our clustering. The way to reduce the problem is through feature scaling. We'll use this technique again with this dataset.\n",
    "\n",
    "#### We will use the `StandardScaler` from `sklearn.preprocessing` and scale our data. Read more about `StandardScaler` [here](https://scikit-learn.org/stable/modules/generated/sklearn.preprocessing.StandardScaler.html#sklearn.preprocessing.StandardScaler).\n",
    "\n",
    "*After scaling your data, assign the transformed data to a new variable `customers_scale`.*"
   ]
  },
  {
   "cell_type": "code",
   "execution_count": 20,
   "metadata": {},
   "outputs": [],
   "source": [
    "from sklearn.preprocessing import StandardScaler\n",
    "\n",
    "scaler = StandardScaler()\n",
    "\n",
    "customers_scale = scaler.fit_transform(data[['Fresh','Milk', 'Grocery', 'Frozen', 'Delicassen', 'Detergents_Paper']])"
   ]
  },
  {
   "cell_type": "code",
   "execution_count": 21,
   "metadata": {},
   "outputs": [
    {
     "data": {
      "text/plain": [
       "array([[ 0.15753011,  1.15083327,  0.14309699, -0.87439353,  0.13103592,\n",
       "         0.12816034],\n",
       "       [-0.37936565,  1.18670367,  0.45947497, -0.24200518,  0.52954154,\n",
       "         0.33265117],\n",
       "       [ 0.21454897, -0.81970942, -0.38341146,  1.65434281,  0.5404595 ,\n",
       "        -0.58772273],\n",
       "       ...,\n",
       "       [ 0.33566623,  2.50924993,  3.71862533, -0.78329366,  0.61233609,\n",
       "         4.14761089],\n",
       "       [-0.07006701, -0.63686355, -0.69695197, -0.53777337,  0.84707228,\n",
       "        -0.69971367],\n",
       "       [-0.78787329, -0.70278123, -0.65312881, -0.93526295, -1.03900571,\n",
       "        -0.59763344]])"
      ]
     },
     "execution_count": 21,
     "metadata": {},
     "output_type": "execute_result"
    }
   ],
   "source": [
    "customers_scale"
   ]
  },
  {
   "cell_type": "markdown",
   "metadata": {},
   "source": [
    "# Challenge 3 - Data Clustering with K-Means\n",
    "\n",
    "Now let's cluster the data with K-Means first. Initiate the K-Means model, then fit your scaled data. In the data returned from the `.fit` method, there is an attribute called `labels_` which is the cluster number assigned to each data record. What you can do is to assign these labels back to `customers` in a new column called `customers['labels']`. Then you'll see the cluster results of the original data."
   ]
  },
  {
   "cell_type": "code",
   "execution_count": 22,
   "metadata": {
    "scrolled": true
   },
   "outputs": [],
   "source": [
    "from sklearn.cluster import KMeans\n",
    "\n",
    "data_model = KMeans()\n",
    "data_model.fit(customers_scale)\n",
    "data['labels'] = data_model.labels_"
   ]
  },
  {
   "cell_type": "code",
   "execution_count": 23,
   "metadata": {},
   "outputs": [
    {
     "data": {
      "text/html": [
       "<div>\n",
       "<style scoped>\n",
       "    .dataframe tbody tr th:only-of-type {\n",
       "        vertical-align: middle;\n",
       "    }\n",
       "\n",
       "    .dataframe tbody tr th {\n",
       "        vertical-align: top;\n",
       "    }\n",
       "\n",
       "    .dataframe thead th {\n",
       "        text-align: right;\n",
       "    }\n",
       "</style>\n",
       "<table border=\"1\" class=\"dataframe\">\n",
       "  <thead>\n",
       "    <tr style=\"text-align: right;\">\n",
       "      <th></th>\n",
       "      <th>Channel</th>\n",
       "      <th>Region</th>\n",
       "      <th>Fresh</th>\n",
       "      <th>Milk</th>\n",
       "      <th>Grocery</th>\n",
       "      <th>Frozen</th>\n",
       "      <th>Detergents_Paper</th>\n",
       "      <th>Delicassen</th>\n",
       "      <th>labels</th>\n",
       "    </tr>\n",
       "  </thead>\n",
       "  <tbody>\n",
       "    <tr>\n",
       "      <td>0</td>\n",
       "      <td>2</td>\n",
       "      <td>3</td>\n",
       "      <td>12669</td>\n",
       "      <td>9656</td>\n",
       "      <td>7561</td>\n",
       "      <td>214</td>\n",
       "      <td>2674</td>\n",
       "      <td>1338</td>\n",
       "      <td>1</td>\n",
       "    </tr>\n",
       "    <tr>\n",
       "      <td>1</td>\n",
       "      <td>2</td>\n",
       "      <td>3</td>\n",
       "      <td>7057</td>\n",
       "      <td>9810</td>\n",
       "      <td>9568</td>\n",
       "      <td>1762</td>\n",
       "      <td>3293</td>\n",
       "      <td>1776</td>\n",
       "      <td>1</td>\n",
       "    </tr>\n",
       "    <tr>\n",
       "      <td>3</td>\n",
       "      <td>1</td>\n",
       "      <td>3</td>\n",
       "      <td>13265</td>\n",
       "      <td>1196</td>\n",
       "      <td>4221</td>\n",
       "      <td>6404</td>\n",
       "      <td>507</td>\n",
       "      <td>1788</td>\n",
       "      <td>2</td>\n",
       "    </tr>\n",
       "    <tr>\n",
       "      <td>4</td>\n",
       "      <td>2</td>\n",
       "      <td>3</td>\n",
       "      <td>22615</td>\n",
       "      <td>5410</td>\n",
       "      <td>7198</td>\n",
       "      <td>3915</td>\n",
       "      <td>1777</td>\n",
       "      <td>5185</td>\n",
       "      <td>6</td>\n",
       "    </tr>\n",
       "    <tr>\n",
       "      <td>5</td>\n",
       "      <td>2</td>\n",
       "      <td>3</td>\n",
       "      <td>9413</td>\n",
       "      <td>8259</td>\n",
       "      <td>5126</td>\n",
       "      <td>666</td>\n",
       "      <td>1795</td>\n",
       "      <td>1451</td>\n",
       "      <td>1</td>\n",
       "    </tr>\n",
       "  </tbody>\n",
       "</table>\n",
       "</div>"
      ],
      "text/plain": [
       "   Channel  Region  Fresh  Milk  Grocery  Frozen  Detergents_Paper  \\\n",
       "0        2       3  12669  9656     7561     214              2674   \n",
       "1        2       3   7057  9810     9568    1762              3293   \n",
       "3        1       3  13265  1196     4221    6404               507   \n",
       "4        2       3  22615  5410     7198    3915              1777   \n",
       "5        2       3   9413  8259     5126     666              1795   \n",
       "\n",
       "   Delicassen  labels  \n",
       "0        1338       1  \n",
       "1        1776       1  \n",
       "3        1788       2  \n",
       "4        5185       6  \n",
       "5        1451       1  "
      ]
     },
     "execution_count": 23,
     "metadata": {},
     "output_type": "execute_result"
    }
   ],
   "source": [
    "data.head()"
   ]
  },
  {
   "cell_type": "markdown",
   "metadata": {},
   "source": [
    "Count the values in `labels`."
   ]
  },
  {
   "cell_type": "code",
   "execution_count": 24,
   "metadata": {},
   "outputs": [
    {
     "data": {
      "text/plain": [
       "3    118\n",
       "5     74\n",
       "1     74\n",
       "2     44\n",
       "6     34\n",
       "4     30\n",
       "0     21\n",
       "7      7\n",
       "Name: labels, dtype: int64"
      ]
     },
     "execution_count": 24,
     "metadata": {},
     "output_type": "execute_result"
    }
   ],
   "source": [
    "data['labels'].value_counts()\n"
   ]
  },
  {
   "cell_type": "markdown",
   "metadata": {},
   "source": [
    "# Challenge 4 - Data Clustering with DBSCAN\n",
    "\n",
    "Now let's cluster the data using DBSCAN. Use `DBSCAN(eps=0.5)` to initiate the model, then fit your scaled data. In the data returned from the `.fit` method, assign the `labels_` back to `customers['labels_DBSCAN']`. Now your original data have two labels, one from K-Means and the other from DBSCAN."
   ]
  },
  {
   "cell_type": "code",
   "execution_count": 25,
   "metadata": {
    "scrolled": true
   },
   "outputs": [],
   "source": [
    "from sklearn.cluster import DBSCAN\n",
    "\n",
    "data_dbscan = DBSCAN(eps=0.5)\n",
    "data_dbscan.fit(customers_scale)\n",
    "data['labels_DBSCAN'] = data_dbscan.labels_"
   ]
  },
  {
   "cell_type": "code",
   "execution_count": 26,
   "metadata": {},
   "outputs": [
    {
     "data": {
      "text/html": [
       "<div>\n",
       "<style scoped>\n",
       "    .dataframe tbody tr th:only-of-type {\n",
       "        vertical-align: middle;\n",
       "    }\n",
       "\n",
       "    .dataframe tbody tr th {\n",
       "        vertical-align: top;\n",
       "    }\n",
       "\n",
       "    .dataframe thead th {\n",
       "        text-align: right;\n",
       "    }\n",
       "</style>\n",
       "<table border=\"1\" class=\"dataframe\">\n",
       "  <thead>\n",
       "    <tr style=\"text-align: right;\">\n",
       "      <th></th>\n",
       "      <th>Channel</th>\n",
       "      <th>Region</th>\n",
       "      <th>Fresh</th>\n",
       "      <th>Milk</th>\n",
       "      <th>Grocery</th>\n",
       "      <th>Frozen</th>\n",
       "      <th>Detergents_Paper</th>\n",
       "      <th>Delicassen</th>\n",
       "      <th>labels</th>\n",
       "      <th>labels_DBSCAN</th>\n",
       "    </tr>\n",
       "  </thead>\n",
       "  <tbody>\n",
       "    <tr>\n",
       "      <td>0</td>\n",
       "      <td>2</td>\n",
       "      <td>3</td>\n",
       "      <td>12669</td>\n",
       "      <td>9656</td>\n",
       "      <td>7561</td>\n",
       "      <td>214</td>\n",
       "      <td>2674</td>\n",
       "      <td>1338</td>\n",
       "      <td>1</td>\n",
       "      <td>-1</td>\n",
       "    </tr>\n",
       "    <tr>\n",
       "      <td>1</td>\n",
       "      <td>2</td>\n",
       "      <td>3</td>\n",
       "      <td>7057</td>\n",
       "      <td>9810</td>\n",
       "      <td>9568</td>\n",
       "      <td>1762</td>\n",
       "      <td>3293</td>\n",
       "      <td>1776</td>\n",
       "      <td>1</td>\n",
       "      <td>-1</td>\n",
       "    </tr>\n",
       "    <tr>\n",
       "      <td>3</td>\n",
       "      <td>1</td>\n",
       "      <td>3</td>\n",
       "      <td>13265</td>\n",
       "      <td>1196</td>\n",
       "      <td>4221</td>\n",
       "      <td>6404</td>\n",
       "      <td>507</td>\n",
       "      <td>1788</td>\n",
       "      <td>2</td>\n",
       "      <td>-1</td>\n",
       "    </tr>\n",
       "    <tr>\n",
       "      <td>4</td>\n",
       "      <td>2</td>\n",
       "      <td>3</td>\n",
       "      <td>22615</td>\n",
       "      <td>5410</td>\n",
       "      <td>7198</td>\n",
       "      <td>3915</td>\n",
       "      <td>1777</td>\n",
       "      <td>5185</td>\n",
       "      <td>6</td>\n",
       "      <td>-1</td>\n",
       "    </tr>\n",
       "    <tr>\n",
       "      <td>5</td>\n",
       "      <td>2</td>\n",
       "      <td>3</td>\n",
       "      <td>9413</td>\n",
       "      <td>8259</td>\n",
       "      <td>5126</td>\n",
       "      <td>666</td>\n",
       "      <td>1795</td>\n",
       "      <td>1451</td>\n",
       "      <td>1</td>\n",
       "      <td>-1</td>\n",
       "    </tr>\n",
       "  </tbody>\n",
       "</table>\n",
       "</div>"
      ],
      "text/plain": [
       "   Channel  Region  Fresh  Milk  Grocery  Frozen  Detergents_Paper  \\\n",
       "0        2       3  12669  9656     7561     214              2674   \n",
       "1        2       3   7057  9810     9568    1762              3293   \n",
       "3        1       3  13265  1196     4221    6404               507   \n",
       "4        2       3  22615  5410     7198    3915              1777   \n",
       "5        2       3   9413  8259     5126     666              1795   \n",
       "\n",
       "   Delicassen  labels  labels_DBSCAN  \n",
       "0        1338       1             -1  \n",
       "1        1776       1             -1  \n",
       "3        1788       2             -1  \n",
       "4        5185       6             -1  \n",
       "5        1451       1             -1  "
      ]
     },
     "execution_count": 26,
     "metadata": {},
     "output_type": "execute_result"
    }
   ],
   "source": [
    "data.head()"
   ]
  },
  {
   "cell_type": "markdown",
   "metadata": {},
   "source": [
    "Count the values in `labels_DBSCAN`."
   ]
  },
  {
   "cell_type": "code",
   "execution_count": 27,
   "metadata": {},
   "outputs": [
    {
     "data": {
      "text/plain": [
       "-1    295\n",
       " 0     86\n",
       " 2     12\n",
       " 1      6\n",
       " 3      3\n",
       "Name: labels_DBSCAN, dtype: int64"
      ]
     },
     "execution_count": 27,
     "metadata": {},
     "output_type": "execute_result"
    }
   ],
   "source": [
    "data['labels_DBSCAN'].value_counts()"
   ]
  },
  {
   "cell_type": "markdown",
   "metadata": {},
   "source": [
    "# Challenge 5 - Compare K-Means with DBSCAN\n",
    "\n",
    "Now we want to visually compare how K-Means and DBSCAN have clustered our data. We will create scatter plots for several columns. For each of the following column pairs, plot a scatter plot using `labels` and another using `labels_DBSCAN`. Put them side by side to compare. Which clustering algorithm makes better sense?\n",
    "\n",
    "Columns to visualize:\n",
    "\n",
    "* `Detergents_Paper` as X and `Milk` as y\n",
    "* `Grocery` as X and `Fresh` as y\n",
    "* `Frozen` as X and `Delicassen` as y"
   ]
  },
  {
   "cell_type": "markdown",
   "metadata": {},
   "source": [
    "Visualize `Detergents_Paper` as X and `Milk` as y by `labels` and `labels_DBSCAN` respectively"
   ]
  },
  {
   "cell_type": "code",
   "execution_count": 45,
   "metadata": {},
   "outputs": [],
   "source": [
    "import plotly.express as px"
   ]
  },
  {
   "cell_type": "code",
   "execution_count": 44,
   "metadata": {},
   "outputs": [
    {
     "data": {
      "application/vnd.plotly.v1+json": {
       "config": {
        "plotlyServerURL": "https://plot.ly"
       },
       "data": [
        {
         "hoverlabel": {
          "namelength": 0
         },
         "hovertemplate": "Detergents_Paper=%{x}<br>Milk=%{y}<br>labels=%{marker.color}",
         "legendgroup": "",
         "marker": {
          "color": [
           1,
           1,
           2,
           6,
           1,
           3,
           6,
           3,
           4,
           1,
           5,
           6,
           1,
           1,
           3,
           1,
           6,
           6,
           3,
           6,
           3,
           6,
           6,
           5,
           5,
           5,
           7,
           0,
           6,
           3,
           5,
           0,
           3,
           1,
           6,
           1,
           4,
           0,
           6,
           6,
           1,
           4,
           1,
           7,
           4,
           1,
           4,
           5,
           3,
           0,
           1,
           5,
           3,
           1,
           5,
           1,
           3,
           1,
           4,
           3,
           3,
           1,
           6,
           3,
           2,
           2,
           2,
           1,
           5,
           2,
           4,
           5,
           3,
           3,
           1,
           1,
           5,
           3,
           2,
           6,
           5,
           2,
           1,
           3,
           3,
           3,
           3,
           2,
           1,
           1,
           1,
           5,
           5,
           1,
           4,
           1,
           4,
           5,
           4,
           2,
           5,
           5,
           5,
           3,
           3,
           2,
           5,
           5,
           3,
           5,
           1,
           0,
           2,
           6,
           3,
           0,
           2,
           3,
           5,
           3,
           3,
           3,
           1,
           3,
           6,
           3,
           6,
           0,
           0,
           2,
           5,
           4,
           3,
           3,
           3,
           0,
           5,
           3,
           5,
           3,
           3,
           4,
           1,
           5,
           1,
           1,
           1,
           5,
           5,
           4,
           1,
           4,
           6,
           3,
           3,
           3,
           1,
           3,
           4,
           3,
           1,
           0,
           6,
           3,
           2,
           6,
           1,
           3,
           3,
           3,
           2,
           1,
           1,
           2,
           5,
           3,
           1,
           3,
           2,
           1,
           5,
           3,
           4,
           4,
           3,
           3,
           4,
           3,
           1,
           3,
           4,
           5,
           3,
           1,
           1,
           1,
           5,
           3,
           5,
           1,
           2,
           2,
           3,
           5,
           5,
           3,
           3,
           2,
           2,
           3,
           5,
           3,
           6,
           3,
           3,
           5,
           3,
           0,
           2,
           5,
           5,
           6,
           1,
           1,
           3,
           5,
           5,
           2,
           3,
           2,
           1,
           7,
           0,
           3,
           2,
           0,
           0,
           3,
           2,
           5,
           3,
           1,
           7,
           4,
           6,
           1,
           5,
           2,
           3,
           3,
           0,
           3,
           3,
           6,
           2,
           1,
           3,
           6,
           0,
           2,
           0,
           3,
           2,
           5,
           0,
           3,
           3,
           3,
           1,
           5,
           3,
           5,
           3,
           1,
           3,
           6,
           4,
           1,
           1,
           4,
           1,
           4,
           5,
           3,
           4,
           5,
           5,
           5,
           7,
           3,
           3,
           5,
           3,
           5,
           5,
           5,
           5,
           3,
           3,
           2,
           2,
           5,
           4,
           6,
           2,
           6,
           5,
           2,
           2,
           1,
           1,
           1,
           3,
           3,
           1,
           1,
           3,
           4,
           3,
           4,
           3,
           4,
           2,
           3,
           5,
           1,
           7,
           3,
           5,
           3,
           3,
           3,
           3,
           6,
           3,
           3,
           5,
           3,
           0,
           2,
           6,
           6,
           3,
           3,
           1,
           0,
           3,
           3,
           5,
           2,
           6,
           3,
           7,
           5,
           3,
           5,
           3,
           5,
           2,
           3,
           3,
           2,
           5,
           5,
           1,
           2,
           2,
           3,
           3,
           5,
           5,
           5,
           3,
           2,
           4,
           3,
           6,
           3,
           6,
           1,
           2,
           1,
           1,
           1,
           1,
           3,
           1,
           1,
           5,
           5,
           1,
           1,
           3,
           3,
           1,
           5,
           3,
           5,
           0,
           4,
           5,
           3
          ],
          "coloraxis": "coloraxis",
          "symbol": "circle"
         },
         "mode": "markers",
         "name": "",
         "showlegend": false,
         "type": "scatter",
         "x": [
          2674,
          3293,
          507,
          1777,
          1795,
          3140,
          3321,
          1716,
          7425,
          5977,
          549,
          3881,
          6707,
          5058,
          964,
          4508,
          370,
          2767,
          2518,
          2259,
          375,
          2381,
          4482,
          4003,
          242,
          100,
          8604,
          1107,
          2134,
          820,
          918,
          361,
          483,
          4239,
          862,
          6506,
          6956,
          212,
          1145,
          2575,
          6899,
          9529,
          4618,
          7353,
          6792,
          5121,
          13583,
          609,
          1538,
          2587,
          5611,
          204,
          2024,
          7572,
          227,
          3084,
          4095,
          4074,
          7677,
          1247,
          3468,
          5141,
          788,
          656,
          116,
          1321,
          764,
          1901,
          3,
          529,
          12034,
          301,
          1202,
          610,
          7818,
          3537,
          550,
          3837,
          165,
          454,
          69,
          627,
          5038,
          223,
          3874,
          54,
          56,
          215,
          8035,
          6766,
          4573,
          1491,
          139,
          6830,
          8969,
          2505,
          836,
          169,
          6457,
          483,
          585,
          118,
          276,
          310,
          319,
          411,
          266,
          174,
          264,
          25,
          1976,
          500,
          349,
          2386,
          1062,
          410,
          395,
          70,
          955,
          256,
          47,
          199,
          2447,
          721,
          249,
          637,
          960,
          51,
          20,
          399,
          516,
          12591,
          73,
          1082,
          283,
          113,
          170,
          255,
          352,
          302,
          7,
          11577,
          6694,
          811,
          4004,
          8077,
          4424,
          3,
          232,
          13726,
          3674,
          7108,
          4973,
          1680,
          79,
          69,
          7015,
          2840,
          9836,
          153,
          4196,
          1532,
          20,
          120,
          273,
          1382,
          6907,
          334,
          58,
          949,
          3459,
          6839,
          4027,
          118,
          43,
          187,
          5618,
          355,
          330,
          4314,
          592,
          402,
          9959,
          14235,
          954,
          5,
          9265,
          288,
          5316,
          3381,
          12420,
          244,
          240,
          3961,
          5957,
          5828,
          130,
          86,
          56,
          4167,
          256,
          788,
          70,
          761,
          2568,
          263,
          4762,
          694,
          955,
          1566,
          284,
          409,
          325,
          1216,
          415,
          28,
          72,
          828,
          343,
          412,
          586,
          1682,
          3143,
          8933,
          430,
          44,
          562,
          918,
          234,
          205,
          363,
          1547,
          111,
          392,
          3593,
          730,
          967,
          780,
          49,
          429,
          2894,
          5980,
          830,
          4882,
          737,
          6374,
          333,
          197,
          147,
          93,
          210,
          759,
          96,
          603,
          274,
          3620,
          167,
          2328,
          1041,
          314,
          436,
          1226,
          386,
          445,
          32,
          965,
          212,
          825,
          5952,
          811,
          2208,
          710,
          3712,
          4538,
          290,
          2662,
          8752,
          6236,
          10069,
          11783,
          3909,
          7558,
          351,
          257,
          6846,
          371,
          183,
          857,
          3891,
          83,
          821,
          706,
          275,
          228,
          1470,
          1679,
          140,
          387,
          88,
          210,
          492,
          182,
          9606,
          178,
          332,
          4111,
          146,
          442,
          573,
          7271,
          5162,
          4595,
          217,
          3843,
          6600,
          4621,
          1184,
          12218,
          173,
          12638,
          90,
          8682,
          1333,
          184,
          9,
          6747,
          536,
          232,
          468,
          159,
          179,
          1335,
          514,
          4515,
          222,
          252,
          101,
          41,
          523,
          716,
          397,
          1916,
          311,
          476,
          4666,
          96,
          68,
          813,
          600,
          246,
          1711,
          397,
          282,
          192,
          353,
          231,
          200,
          227,
          311,
          95,
          122,
          385,
          149,
          841,
          3378,
          64,
          74,
          469,
          153,
          10,
          632,
          914,
          593,
          1092,
          7883,
          2730,
          2123,
          1860,
          235,
          2970,
          1135,
          3540,
          6728,
          3485,
          6740,
          1580,
          6818,
          3415,
          948,
          1803,
          3213,
          5079,
          850,
          84,
          241,
          1328,
          356,
          2371,
          93,
          14841,
          168,
          477
         ],
         "xaxis": "x",
         "y": [
          9656,
          9810,
          1196,
          5410,
          8259,
          3199,
          4956,
          3648,
          11093,
          5403,
          1124,
          12319,
          6208,
          9465,
          1114,
          8816,
          6157,
          6327,
          2495,
          4519,
          871,
          1917,
          9776,
          4230,
          961,
          803,
          20484,
          2100,
          3610,
          4339,
          1318,
          4786,
          1979,
          5491,
          4362,
          10556,
          15729,
          555,
          4332,
          3065,
          7555,
          11095,
          7027,
          22044,
          14069,
          6152,
          21412,
          1095,
          4051,
          3916,
          10473,
          1449,
          3683,
          9933,
          1970,
          5360,
          3045,
          6245,
          11601,
          1227,
          1534,
          6759,
          7260,
          2820,
          2037,
          5139,
          5332,
          6343,
          1137,
          3587,
          12697,
          1175,
          3259,
          829,
          9540,
          9232,
          1563,
          3327,
          542,
          3836,
          596,
          2762,
          12220,
          2920,
          2616,
          254,
          112,
          2182,
          7779,
          10810,
          6459,
          2132,
          1014,
          6337,
          10646,
          8397,
          16729,
          1648,
          11114,
          2770,
          2295,
          1080,
          793,
          2521,
          3880,
          1891,
          2344,
          1200,
          3234,
          201,
          10769,
          1642,
          1840,
          7243,
          8847,
          926,
          2428,
          589,
          2032,
          1042,
          1882,
          1289,
          8579,
          8080,
          4257,
          4979,
          4280,
          13252,
          7152,
          1596,
          3677,
          8384,
          1936,
          3373,
          584,
          1433,
          1825,
          3328,
          1371,
          9250,
          55,
          10690,
          5291,
          1366,
          6570,
          7704,
          3651,
          540,
          2024,
          15726,
          7603,
          12653,
          6721,
          3195,
          735,
          717,
          8675,
          5479,
          7677,
          1208,
          7845,
          6958,
          7330,
          7075,
          4888,
          6036,
          8533,
          918,
          6448,
          521,
          8002,
          7639,
          11577,
          6250,
          295,
          1461,
          3485,
          1012,
          5139,
          7097,
          2154,
          2280,
          13240,
          14399,
          685,
          891,
          11711,
          780,
          4737,
          3748,
          12729,
          1895,
          1012,
          6602,
          6551,
          10765,
          1475,
          367,
          899,
          7503,
          1115,
          2527,
          659,
          3243,
          5921,
          2204,
          577,
          2746,
          5989,
          10678,
          1780,
          4984,
          2703,
          6380,
          820,
          3838,
          475,
          2567,
          3575,
          1801,
          659,
          3576,
          7775,
          6154,
          2428,
          346,
          5279,
          3795,
          1993,
          1860,
          7961,
          17972,
          489,
          5008,
          1931,
          4563,
          4959,
          4885,
          1110,
          1372,
          1115,
          9679,
          23527,
          9763,
          1222,
          8053,
          258,
          1032,
          5007,
          8323,
          3045,
          1703,
          1610,
          3749,
          2317,
          6200,
          2884,
          7108,
          3965,
          3613,
          640,
          2247,
          2102,
          594,
          286,
          2160,
          3354,
          3086,
          11103,
          2013,
          1897,
          1304,
          3199,
          4560,
          879,
          6243,
          13316,
          5302,
          3688,
          7460,
          12939,
          12867,
          2374,
          1020,
          20655,
          2335,
          925,
          1795,
          14982,
          1375,
          3088,
          2713,
          3696,
          1897,
          713,
          944,
          3587,
          1610,
          899,
          2209,
          1486,
          1786,
          14881,
          3216,
          928,
          6817,
          1511,
          1347,
          1188,
          4025,
          5763,
          5758,
          1172,
          2602,
          6939,
          7184,
          2380,
          14641,
          1099,
          10044,
          1106,
          6264,
          7393,
          727,
          134,
          1275,
          18664,
          5878,
          2872,
          607,
          1601,
          997,
          873,
          6128,
          2217,
          894,
          1196,
          337,
          3944,
          1887,
          3801,
          6257,
          2256,
          1450,
          8630,
          3154,
          3294,
          5164,
          944,
          4591,
          7435,
          1364,
          21858,
          922,
          3620,
          1916,
          848,
          1530,
          1181,
          2761,
          4180,
          6730,
          865,
          1316,
          11991,
          1666,
          1032,
          577,
          906,
          4753,
          11006,
          4613,
          1046,
          5010,
          12844,
          3880,
          3634,
          2096,
          3289,
          3605,
          1990,
          6046,
          10940,
          5499,
          8494,
          3783,
          5266,
          4847,
          1377,
          3686,
          2884,
          9347,
          5970,
          1750,
          4230,
          1162,
          3218,
          3922,
          1431,
          15488,
          1981,
          1698
         ],
         "yaxis": "y"
        }
       ],
       "layout": {
        "coloraxis": {
         "colorbar": {
          "title": {
           "text": "labels"
          }
         },
         "colorscale": [
          [
           0,
           "#0d0887"
          ],
          [
           0.1111111111111111,
           "#46039f"
          ],
          [
           0.2222222222222222,
           "#7201a8"
          ],
          [
           0.3333333333333333,
           "#9c179e"
          ],
          [
           0.4444444444444444,
           "#bd3786"
          ],
          [
           0.5555555555555556,
           "#d8576b"
          ],
          [
           0.6666666666666666,
           "#ed7953"
          ],
          [
           0.7777777777777778,
           "#fb9f3a"
          ],
          [
           0.8888888888888888,
           "#fdca26"
          ],
          [
           1,
           "#f0f921"
          ]
         ]
        },
        "legend": {
         "tracegroupgap": 0
        },
        "margin": {
         "t": 60
        },
        "template": {
         "data": {
          "bar": [
           {
            "error_x": {
             "color": "#2a3f5f"
            },
            "error_y": {
             "color": "#2a3f5f"
            },
            "marker": {
             "line": {
              "color": "#E5ECF6",
              "width": 0.5
             }
            },
            "type": "bar"
           }
          ],
          "barpolar": [
           {
            "marker": {
             "line": {
              "color": "#E5ECF6",
              "width": 0.5
             }
            },
            "type": "barpolar"
           }
          ],
          "carpet": [
           {
            "aaxis": {
             "endlinecolor": "#2a3f5f",
             "gridcolor": "white",
             "linecolor": "white",
             "minorgridcolor": "white",
             "startlinecolor": "#2a3f5f"
            },
            "baxis": {
             "endlinecolor": "#2a3f5f",
             "gridcolor": "white",
             "linecolor": "white",
             "minorgridcolor": "white",
             "startlinecolor": "#2a3f5f"
            },
            "type": "carpet"
           }
          ],
          "choropleth": [
           {
            "colorbar": {
             "outlinewidth": 0,
             "ticks": ""
            },
            "type": "choropleth"
           }
          ],
          "contour": [
           {
            "colorbar": {
             "outlinewidth": 0,
             "ticks": ""
            },
            "colorscale": [
             [
              0,
              "#0d0887"
             ],
             [
              0.1111111111111111,
              "#46039f"
             ],
             [
              0.2222222222222222,
              "#7201a8"
             ],
             [
              0.3333333333333333,
              "#9c179e"
             ],
             [
              0.4444444444444444,
              "#bd3786"
             ],
             [
              0.5555555555555556,
              "#d8576b"
             ],
             [
              0.6666666666666666,
              "#ed7953"
             ],
             [
              0.7777777777777778,
              "#fb9f3a"
             ],
             [
              0.8888888888888888,
              "#fdca26"
             ],
             [
              1,
              "#f0f921"
             ]
            ],
            "type": "contour"
           }
          ],
          "contourcarpet": [
           {
            "colorbar": {
             "outlinewidth": 0,
             "ticks": ""
            },
            "type": "contourcarpet"
           }
          ],
          "heatmap": [
           {
            "colorbar": {
             "outlinewidth": 0,
             "ticks": ""
            },
            "colorscale": [
             [
              0,
              "#0d0887"
             ],
             [
              0.1111111111111111,
              "#46039f"
             ],
             [
              0.2222222222222222,
              "#7201a8"
             ],
             [
              0.3333333333333333,
              "#9c179e"
             ],
             [
              0.4444444444444444,
              "#bd3786"
             ],
             [
              0.5555555555555556,
              "#d8576b"
             ],
             [
              0.6666666666666666,
              "#ed7953"
             ],
             [
              0.7777777777777778,
              "#fb9f3a"
             ],
             [
              0.8888888888888888,
              "#fdca26"
             ],
             [
              1,
              "#f0f921"
             ]
            ],
            "type": "heatmap"
           }
          ],
          "heatmapgl": [
           {
            "colorbar": {
             "outlinewidth": 0,
             "ticks": ""
            },
            "colorscale": [
             [
              0,
              "#0d0887"
             ],
             [
              0.1111111111111111,
              "#46039f"
             ],
             [
              0.2222222222222222,
              "#7201a8"
             ],
             [
              0.3333333333333333,
              "#9c179e"
             ],
             [
              0.4444444444444444,
              "#bd3786"
             ],
             [
              0.5555555555555556,
              "#d8576b"
             ],
             [
              0.6666666666666666,
              "#ed7953"
             ],
             [
              0.7777777777777778,
              "#fb9f3a"
             ],
             [
              0.8888888888888888,
              "#fdca26"
             ],
             [
              1,
              "#f0f921"
             ]
            ],
            "type": "heatmapgl"
           }
          ],
          "histogram": [
           {
            "marker": {
             "colorbar": {
              "outlinewidth": 0,
              "ticks": ""
             }
            },
            "type": "histogram"
           }
          ],
          "histogram2d": [
           {
            "colorbar": {
             "outlinewidth": 0,
             "ticks": ""
            },
            "colorscale": [
             [
              0,
              "#0d0887"
             ],
             [
              0.1111111111111111,
              "#46039f"
             ],
             [
              0.2222222222222222,
              "#7201a8"
             ],
             [
              0.3333333333333333,
              "#9c179e"
             ],
             [
              0.4444444444444444,
              "#bd3786"
             ],
             [
              0.5555555555555556,
              "#d8576b"
             ],
             [
              0.6666666666666666,
              "#ed7953"
             ],
             [
              0.7777777777777778,
              "#fb9f3a"
             ],
             [
              0.8888888888888888,
              "#fdca26"
             ],
             [
              1,
              "#f0f921"
             ]
            ],
            "type": "histogram2d"
           }
          ],
          "histogram2dcontour": [
           {
            "colorbar": {
             "outlinewidth": 0,
             "ticks": ""
            },
            "colorscale": [
             [
              0,
              "#0d0887"
             ],
             [
              0.1111111111111111,
              "#46039f"
             ],
             [
              0.2222222222222222,
              "#7201a8"
             ],
             [
              0.3333333333333333,
              "#9c179e"
             ],
             [
              0.4444444444444444,
              "#bd3786"
             ],
             [
              0.5555555555555556,
              "#d8576b"
             ],
             [
              0.6666666666666666,
              "#ed7953"
             ],
             [
              0.7777777777777778,
              "#fb9f3a"
             ],
             [
              0.8888888888888888,
              "#fdca26"
             ],
             [
              1,
              "#f0f921"
             ]
            ],
            "type": "histogram2dcontour"
           }
          ],
          "mesh3d": [
           {
            "colorbar": {
             "outlinewidth": 0,
             "ticks": ""
            },
            "type": "mesh3d"
           }
          ],
          "parcoords": [
           {
            "line": {
             "colorbar": {
              "outlinewidth": 0,
              "ticks": ""
             }
            },
            "type": "parcoords"
           }
          ],
          "pie": [
           {
            "automargin": true,
            "type": "pie"
           }
          ],
          "scatter": [
           {
            "marker": {
             "colorbar": {
              "outlinewidth": 0,
              "ticks": ""
             }
            },
            "type": "scatter"
           }
          ],
          "scatter3d": [
           {
            "line": {
             "colorbar": {
              "outlinewidth": 0,
              "ticks": ""
             }
            },
            "marker": {
             "colorbar": {
              "outlinewidth": 0,
              "ticks": ""
             }
            },
            "type": "scatter3d"
           }
          ],
          "scattercarpet": [
           {
            "marker": {
             "colorbar": {
              "outlinewidth": 0,
              "ticks": ""
             }
            },
            "type": "scattercarpet"
           }
          ],
          "scattergeo": [
           {
            "marker": {
             "colorbar": {
              "outlinewidth": 0,
              "ticks": ""
             }
            },
            "type": "scattergeo"
           }
          ],
          "scattergl": [
           {
            "marker": {
             "colorbar": {
              "outlinewidth": 0,
              "ticks": ""
             }
            },
            "type": "scattergl"
           }
          ],
          "scattermapbox": [
           {
            "marker": {
             "colorbar": {
              "outlinewidth": 0,
              "ticks": ""
             }
            },
            "type": "scattermapbox"
           }
          ],
          "scatterpolar": [
           {
            "marker": {
             "colorbar": {
              "outlinewidth": 0,
              "ticks": ""
             }
            },
            "type": "scatterpolar"
           }
          ],
          "scatterpolargl": [
           {
            "marker": {
             "colorbar": {
              "outlinewidth": 0,
              "ticks": ""
             }
            },
            "type": "scatterpolargl"
           }
          ],
          "scatterternary": [
           {
            "marker": {
             "colorbar": {
              "outlinewidth": 0,
              "ticks": ""
             }
            },
            "type": "scatterternary"
           }
          ],
          "surface": [
           {
            "colorbar": {
             "outlinewidth": 0,
             "ticks": ""
            },
            "colorscale": [
             [
              0,
              "#0d0887"
             ],
             [
              0.1111111111111111,
              "#46039f"
             ],
             [
              0.2222222222222222,
              "#7201a8"
             ],
             [
              0.3333333333333333,
              "#9c179e"
             ],
             [
              0.4444444444444444,
              "#bd3786"
             ],
             [
              0.5555555555555556,
              "#d8576b"
             ],
             [
              0.6666666666666666,
              "#ed7953"
             ],
             [
              0.7777777777777778,
              "#fb9f3a"
             ],
             [
              0.8888888888888888,
              "#fdca26"
             ],
             [
              1,
              "#f0f921"
             ]
            ],
            "type": "surface"
           }
          ],
          "table": [
           {
            "cells": {
             "fill": {
              "color": "#EBF0F8"
             },
             "line": {
              "color": "white"
             }
            },
            "header": {
             "fill": {
              "color": "#C8D4E3"
             },
             "line": {
              "color": "white"
             }
            },
            "type": "table"
           }
          ]
         },
         "layout": {
          "annotationdefaults": {
           "arrowcolor": "#2a3f5f",
           "arrowhead": 0,
           "arrowwidth": 1
          },
          "coloraxis": {
           "colorbar": {
            "outlinewidth": 0,
            "ticks": ""
           }
          },
          "colorscale": {
           "diverging": [
            [
             0,
             "#8e0152"
            ],
            [
             0.1,
             "#c51b7d"
            ],
            [
             0.2,
             "#de77ae"
            ],
            [
             0.3,
             "#f1b6da"
            ],
            [
             0.4,
             "#fde0ef"
            ],
            [
             0.5,
             "#f7f7f7"
            ],
            [
             0.6,
             "#e6f5d0"
            ],
            [
             0.7,
             "#b8e186"
            ],
            [
             0.8,
             "#7fbc41"
            ],
            [
             0.9,
             "#4d9221"
            ],
            [
             1,
             "#276419"
            ]
           ],
           "sequential": [
            [
             0,
             "#0d0887"
            ],
            [
             0.1111111111111111,
             "#46039f"
            ],
            [
             0.2222222222222222,
             "#7201a8"
            ],
            [
             0.3333333333333333,
             "#9c179e"
            ],
            [
             0.4444444444444444,
             "#bd3786"
            ],
            [
             0.5555555555555556,
             "#d8576b"
            ],
            [
             0.6666666666666666,
             "#ed7953"
            ],
            [
             0.7777777777777778,
             "#fb9f3a"
            ],
            [
             0.8888888888888888,
             "#fdca26"
            ],
            [
             1,
             "#f0f921"
            ]
           ],
           "sequentialminus": [
            [
             0,
             "#0d0887"
            ],
            [
             0.1111111111111111,
             "#46039f"
            ],
            [
             0.2222222222222222,
             "#7201a8"
            ],
            [
             0.3333333333333333,
             "#9c179e"
            ],
            [
             0.4444444444444444,
             "#bd3786"
            ],
            [
             0.5555555555555556,
             "#d8576b"
            ],
            [
             0.6666666666666666,
             "#ed7953"
            ],
            [
             0.7777777777777778,
             "#fb9f3a"
            ],
            [
             0.8888888888888888,
             "#fdca26"
            ],
            [
             1,
             "#f0f921"
            ]
           ]
          },
          "colorway": [
           "#636efa",
           "#EF553B",
           "#00cc96",
           "#ab63fa",
           "#FFA15A",
           "#19d3f3",
           "#FF6692",
           "#B6E880",
           "#FF97FF",
           "#FECB52"
          ],
          "font": {
           "color": "#2a3f5f"
          },
          "geo": {
           "bgcolor": "white",
           "lakecolor": "white",
           "landcolor": "#E5ECF6",
           "showlakes": true,
           "showland": true,
           "subunitcolor": "white"
          },
          "hoverlabel": {
           "align": "left"
          },
          "hovermode": "closest",
          "mapbox": {
           "style": "light"
          },
          "paper_bgcolor": "white",
          "plot_bgcolor": "#E5ECF6",
          "polar": {
           "angularaxis": {
            "gridcolor": "white",
            "linecolor": "white",
            "ticks": ""
           },
           "bgcolor": "#E5ECF6",
           "radialaxis": {
            "gridcolor": "white",
            "linecolor": "white",
            "ticks": ""
           }
          },
          "scene": {
           "xaxis": {
            "backgroundcolor": "#E5ECF6",
            "gridcolor": "white",
            "gridwidth": 2,
            "linecolor": "white",
            "showbackground": true,
            "ticks": "",
            "zerolinecolor": "white"
           },
           "yaxis": {
            "backgroundcolor": "#E5ECF6",
            "gridcolor": "white",
            "gridwidth": 2,
            "linecolor": "white",
            "showbackground": true,
            "ticks": "",
            "zerolinecolor": "white"
           },
           "zaxis": {
            "backgroundcolor": "#E5ECF6",
            "gridcolor": "white",
            "gridwidth": 2,
            "linecolor": "white",
            "showbackground": true,
            "ticks": "",
            "zerolinecolor": "white"
           }
          },
          "shapedefaults": {
           "line": {
            "color": "#2a3f5f"
           }
          },
          "ternary": {
           "aaxis": {
            "gridcolor": "white",
            "linecolor": "white",
            "ticks": ""
           },
           "baxis": {
            "gridcolor": "white",
            "linecolor": "white",
            "ticks": ""
           },
           "bgcolor": "#E5ECF6",
           "caxis": {
            "gridcolor": "white",
            "linecolor": "white",
            "ticks": ""
           }
          },
          "title": {
           "x": 0.05
          },
          "xaxis": {
           "automargin": true,
           "gridcolor": "white",
           "linecolor": "white",
           "ticks": "",
           "title": {
            "standoff": 15
           },
           "zerolinecolor": "white",
           "zerolinewidth": 2
          },
          "yaxis": {
           "automargin": true,
           "gridcolor": "white",
           "linecolor": "white",
           "ticks": "",
           "title": {
            "standoff": 15
           },
           "zerolinecolor": "white",
           "zerolinewidth": 2
          }
         }
        },
        "title": {
         "text": "Detergents_Paper vs Milk by labels"
        },
        "xaxis": {
         "anchor": "y",
         "domain": [
          0,
          1
         ],
         "title": {
          "text": "Detergents_Paper"
         }
        },
        "yaxis": {
         "anchor": "x",
         "domain": [
          0,
          1
         ],
         "title": {
          "text": "Milk"
         }
        }
       }
      },
      "text/html": [
       "<div>\n",
       "        \n",
       "        \n",
       "            <div id=\"95343569-a5ca-4a2c-b677-39af50ee3b1c\" class=\"plotly-graph-div\" style=\"height:525px; width:100%;\"></div>\n",
       "            <script type=\"text/javascript\">\n",
       "                require([\"plotly\"], function(Plotly) {\n",
       "                    window.PLOTLYENV=window.PLOTLYENV || {};\n",
       "                    \n",
       "                if (document.getElementById(\"95343569-a5ca-4a2c-b677-39af50ee3b1c\")) {\n",
       "                    Plotly.newPlot(\n",
       "                        '95343569-a5ca-4a2c-b677-39af50ee3b1c',\n",
       "                        [{\"hoverlabel\": {\"namelength\": 0}, \"hovertemplate\": \"Detergents_Paper=%{x}<br>Milk=%{y}<br>labels=%{marker.color}\", \"legendgroup\": \"\", \"marker\": {\"color\": [1, 1, 2, 6, 1, 3, 6, 3, 4, 1, 5, 6, 1, 1, 3, 1, 6, 6, 3, 6, 3, 6, 6, 5, 5, 5, 7, 0, 6, 3, 5, 0, 3, 1, 6, 1, 4, 0, 6, 6, 1, 4, 1, 7, 4, 1, 4, 5, 3, 0, 1, 5, 3, 1, 5, 1, 3, 1, 4, 3, 3, 1, 6, 3, 2, 2, 2, 1, 5, 2, 4, 5, 3, 3, 1, 1, 5, 3, 2, 6, 5, 2, 1, 3, 3, 3, 3, 2, 1, 1, 1, 5, 5, 1, 4, 1, 4, 5, 4, 2, 5, 5, 5, 3, 3, 2, 5, 5, 3, 5, 1, 0, 2, 6, 3, 0, 2, 3, 5, 3, 3, 3, 1, 3, 6, 3, 6, 0, 0, 2, 5, 4, 3, 3, 3, 0, 5, 3, 5, 3, 3, 4, 1, 5, 1, 1, 1, 5, 5, 4, 1, 4, 6, 3, 3, 3, 1, 3, 4, 3, 1, 0, 6, 3, 2, 6, 1, 3, 3, 3, 2, 1, 1, 2, 5, 3, 1, 3, 2, 1, 5, 3, 4, 4, 3, 3, 4, 3, 1, 3, 4, 5, 3, 1, 1, 1, 5, 3, 5, 1, 2, 2, 3, 5, 5, 3, 3, 2, 2, 3, 5, 3, 6, 3, 3, 5, 3, 0, 2, 5, 5, 6, 1, 1, 3, 5, 5, 2, 3, 2, 1, 7, 0, 3, 2, 0, 0, 3, 2, 5, 3, 1, 7, 4, 6, 1, 5, 2, 3, 3, 0, 3, 3, 6, 2, 1, 3, 6, 0, 2, 0, 3, 2, 5, 0, 3, 3, 3, 1, 5, 3, 5, 3, 1, 3, 6, 4, 1, 1, 4, 1, 4, 5, 3, 4, 5, 5, 5, 7, 3, 3, 5, 3, 5, 5, 5, 5, 3, 3, 2, 2, 5, 4, 6, 2, 6, 5, 2, 2, 1, 1, 1, 3, 3, 1, 1, 3, 4, 3, 4, 3, 4, 2, 3, 5, 1, 7, 3, 5, 3, 3, 3, 3, 6, 3, 3, 5, 3, 0, 2, 6, 6, 3, 3, 1, 0, 3, 3, 5, 2, 6, 3, 7, 5, 3, 5, 3, 5, 2, 3, 3, 2, 5, 5, 1, 2, 2, 3, 3, 5, 5, 5, 3, 2, 4, 3, 6, 3, 6, 1, 2, 1, 1, 1, 1, 3, 1, 1, 5, 5, 1, 1, 3, 3, 1, 5, 3, 5, 0, 4, 5, 3], \"coloraxis\": \"coloraxis\", \"symbol\": \"circle\"}, \"mode\": \"markers\", \"name\": \"\", \"showlegend\": false, \"type\": \"scatter\", \"x\": [2674, 3293, 507, 1777, 1795, 3140, 3321, 1716, 7425, 5977, 549, 3881, 6707, 5058, 964, 4508, 370, 2767, 2518, 2259, 375, 2381, 4482, 4003, 242, 100, 8604, 1107, 2134, 820, 918, 361, 483, 4239, 862, 6506, 6956, 212, 1145, 2575, 6899, 9529, 4618, 7353, 6792, 5121, 13583, 609, 1538, 2587, 5611, 204, 2024, 7572, 227, 3084, 4095, 4074, 7677, 1247, 3468, 5141, 788, 656, 116, 1321, 764, 1901, 3, 529, 12034, 301, 1202, 610, 7818, 3537, 550, 3837, 165, 454, 69, 627, 5038, 223, 3874, 54, 56, 215, 8035, 6766, 4573, 1491, 139, 6830, 8969, 2505, 836, 169, 6457, 483, 585, 118, 276, 310, 319, 411, 266, 174, 264, 25, 1976, 500, 349, 2386, 1062, 410, 395, 70, 955, 256, 47, 199, 2447, 721, 249, 637, 960, 51, 20, 399, 516, 12591, 73, 1082, 283, 113, 170, 255, 352, 302, 7, 11577, 6694, 811, 4004, 8077, 4424, 3, 232, 13726, 3674, 7108, 4973, 1680, 79, 69, 7015, 2840, 9836, 153, 4196, 1532, 20, 120, 273, 1382, 6907, 334, 58, 949, 3459, 6839, 4027, 118, 43, 187, 5618, 355, 330, 4314, 592, 402, 9959, 14235, 954, 5, 9265, 288, 5316, 3381, 12420, 244, 240, 3961, 5957, 5828, 130, 86, 56, 4167, 256, 788, 70, 761, 2568, 263, 4762, 694, 955, 1566, 284, 409, 325, 1216, 415, 28, 72, 828, 343, 412, 586, 1682, 3143, 8933, 430, 44, 562, 918, 234, 205, 363, 1547, 111, 392, 3593, 730, 967, 780, 49, 429, 2894, 5980, 830, 4882, 737, 6374, 333, 197, 147, 93, 210, 759, 96, 603, 274, 3620, 167, 2328, 1041, 314, 436, 1226, 386, 445, 32, 965, 212, 825, 5952, 811, 2208, 710, 3712, 4538, 290, 2662, 8752, 6236, 10069, 11783, 3909, 7558, 351, 257, 6846, 371, 183, 857, 3891, 83, 821, 706, 275, 228, 1470, 1679, 140, 387, 88, 210, 492, 182, 9606, 178, 332, 4111, 146, 442, 573, 7271, 5162, 4595, 217, 3843, 6600, 4621, 1184, 12218, 173, 12638, 90, 8682, 1333, 184, 9, 6747, 536, 232, 468, 159, 179, 1335, 514, 4515, 222, 252, 101, 41, 523, 716, 397, 1916, 311, 476, 4666, 96, 68, 813, 600, 246, 1711, 397, 282, 192, 353, 231, 200, 227, 311, 95, 122, 385, 149, 841, 3378, 64, 74, 469, 153, 10, 632, 914, 593, 1092, 7883, 2730, 2123, 1860, 235, 2970, 1135, 3540, 6728, 3485, 6740, 1580, 6818, 3415, 948, 1803, 3213, 5079, 850, 84, 241, 1328, 356, 2371, 93, 14841, 168, 477], \"xaxis\": \"x\", \"y\": [9656, 9810, 1196, 5410, 8259, 3199, 4956, 3648, 11093, 5403, 1124, 12319, 6208, 9465, 1114, 8816, 6157, 6327, 2495, 4519, 871, 1917, 9776, 4230, 961, 803, 20484, 2100, 3610, 4339, 1318, 4786, 1979, 5491, 4362, 10556, 15729, 555, 4332, 3065, 7555, 11095, 7027, 22044, 14069, 6152, 21412, 1095, 4051, 3916, 10473, 1449, 3683, 9933, 1970, 5360, 3045, 6245, 11601, 1227, 1534, 6759, 7260, 2820, 2037, 5139, 5332, 6343, 1137, 3587, 12697, 1175, 3259, 829, 9540, 9232, 1563, 3327, 542, 3836, 596, 2762, 12220, 2920, 2616, 254, 112, 2182, 7779, 10810, 6459, 2132, 1014, 6337, 10646, 8397, 16729, 1648, 11114, 2770, 2295, 1080, 793, 2521, 3880, 1891, 2344, 1200, 3234, 201, 10769, 1642, 1840, 7243, 8847, 926, 2428, 589, 2032, 1042, 1882, 1289, 8579, 8080, 4257, 4979, 4280, 13252, 7152, 1596, 3677, 8384, 1936, 3373, 584, 1433, 1825, 3328, 1371, 9250, 55, 10690, 5291, 1366, 6570, 7704, 3651, 540, 2024, 15726, 7603, 12653, 6721, 3195, 735, 717, 8675, 5479, 7677, 1208, 7845, 6958, 7330, 7075, 4888, 6036, 8533, 918, 6448, 521, 8002, 7639, 11577, 6250, 295, 1461, 3485, 1012, 5139, 7097, 2154, 2280, 13240, 14399, 685, 891, 11711, 780, 4737, 3748, 12729, 1895, 1012, 6602, 6551, 10765, 1475, 367, 899, 7503, 1115, 2527, 659, 3243, 5921, 2204, 577, 2746, 5989, 10678, 1780, 4984, 2703, 6380, 820, 3838, 475, 2567, 3575, 1801, 659, 3576, 7775, 6154, 2428, 346, 5279, 3795, 1993, 1860, 7961, 17972, 489, 5008, 1931, 4563, 4959, 4885, 1110, 1372, 1115, 9679, 23527, 9763, 1222, 8053, 258, 1032, 5007, 8323, 3045, 1703, 1610, 3749, 2317, 6200, 2884, 7108, 3965, 3613, 640, 2247, 2102, 594, 286, 2160, 3354, 3086, 11103, 2013, 1897, 1304, 3199, 4560, 879, 6243, 13316, 5302, 3688, 7460, 12939, 12867, 2374, 1020, 20655, 2335, 925, 1795, 14982, 1375, 3088, 2713, 3696, 1897, 713, 944, 3587, 1610, 899, 2209, 1486, 1786, 14881, 3216, 928, 6817, 1511, 1347, 1188, 4025, 5763, 5758, 1172, 2602, 6939, 7184, 2380, 14641, 1099, 10044, 1106, 6264, 7393, 727, 134, 1275, 18664, 5878, 2872, 607, 1601, 997, 873, 6128, 2217, 894, 1196, 337, 3944, 1887, 3801, 6257, 2256, 1450, 8630, 3154, 3294, 5164, 944, 4591, 7435, 1364, 21858, 922, 3620, 1916, 848, 1530, 1181, 2761, 4180, 6730, 865, 1316, 11991, 1666, 1032, 577, 906, 4753, 11006, 4613, 1046, 5010, 12844, 3880, 3634, 2096, 3289, 3605, 1990, 6046, 10940, 5499, 8494, 3783, 5266, 4847, 1377, 3686, 2884, 9347, 5970, 1750, 4230, 1162, 3218, 3922, 1431, 15488, 1981, 1698], \"yaxis\": \"y\"}],\n",
       "                        {\"coloraxis\": {\"colorbar\": {\"title\": {\"text\": \"labels\"}}, \"colorscale\": [[0.0, \"#0d0887\"], [0.1111111111111111, \"#46039f\"], [0.2222222222222222, \"#7201a8\"], [0.3333333333333333, \"#9c179e\"], [0.4444444444444444, \"#bd3786\"], [0.5555555555555556, \"#d8576b\"], [0.6666666666666666, \"#ed7953\"], [0.7777777777777778, \"#fb9f3a\"], [0.8888888888888888, \"#fdca26\"], [1.0, \"#f0f921\"]]}, \"legend\": {\"tracegroupgap\": 0}, \"margin\": {\"t\": 60}, \"template\": {\"data\": {\"bar\": [{\"error_x\": {\"color\": \"#2a3f5f\"}, \"error_y\": {\"color\": \"#2a3f5f\"}, \"marker\": {\"line\": {\"color\": \"#E5ECF6\", \"width\": 0.5}}, \"type\": \"bar\"}], \"barpolar\": [{\"marker\": {\"line\": {\"color\": \"#E5ECF6\", \"width\": 0.5}}, \"type\": \"barpolar\"}], \"carpet\": [{\"aaxis\": {\"endlinecolor\": \"#2a3f5f\", \"gridcolor\": \"white\", \"linecolor\": \"white\", \"minorgridcolor\": \"white\", \"startlinecolor\": \"#2a3f5f\"}, \"baxis\": {\"endlinecolor\": \"#2a3f5f\", \"gridcolor\": \"white\", \"linecolor\": \"white\", \"minorgridcolor\": \"white\", \"startlinecolor\": \"#2a3f5f\"}, \"type\": \"carpet\"}], \"choropleth\": [{\"colorbar\": {\"outlinewidth\": 0, \"ticks\": \"\"}, \"type\": \"choropleth\"}], \"contour\": [{\"colorbar\": {\"outlinewidth\": 0, \"ticks\": \"\"}, \"colorscale\": [[0.0, \"#0d0887\"], [0.1111111111111111, \"#46039f\"], [0.2222222222222222, \"#7201a8\"], [0.3333333333333333, \"#9c179e\"], [0.4444444444444444, \"#bd3786\"], [0.5555555555555556, \"#d8576b\"], [0.6666666666666666, \"#ed7953\"], [0.7777777777777778, \"#fb9f3a\"], [0.8888888888888888, \"#fdca26\"], [1.0, \"#f0f921\"]], \"type\": \"contour\"}], \"contourcarpet\": [{\"colorbar\": {\"outlinewidth\": 0, \"ticks\": \"\"}, \"type\": \"contourcarpet\"}], \"heatmap\": [{\"colorbar\": {\"outlinewidth\": 0, \"ticks\": \"\"}, \"colorscale\": [[0.0, \"#0d0887\"], [0.1111111111111111, \"#46039f\"], [0.2222222222222222, \"#7201a8\"], [0.3333333333333333, \"#9c179e\"], [0.4444444444444444, \"#bd3786\"], [0.5555555555555556, \"#d8576b\"], [0.6666666666666666, \"#ed7953\"], [0.7777777777777778, \"#fb9f3a\"], [0.8888888888888888, \"#fdca26\"], [1.0, \"#f0f921\"]], \"type\": \"heatmap\"}], \"heatmapgl\": [{\"colorbar\": {\"outlinewidth\": 0, \"ticks\": \"\"}, \"colorscale\": [[0.0, \"#0d0887\"], [0.1111111111111111, \"#46039f\"], [0.2222222222222222, \"#7201a8\"], [0.3333333333333333, \"#9c179e\"], [0.4444444444444444, \"#bd3786\"], [0.5555555555555556, \"#d8576b\"], [0.6666666666666666, \"#ed7953\"], [0.7777777777777778, \"#fb9f3a\"], [0.8888888888888888, \"#fdca26\"], [1.0, \"#f0f921\"]], \"type\": \"heatmapgl\"}], \"histogram\": [{\"marker\": {\"colorbar\": {\"outlinewidth\": 0, \"ticks\": \"\"}}, \"type\": \"histogram\"}], \"histogram2d\": [{\"colorbar\": {\"outlinewidth\": 0, \"ticks\": \"\"}, \"colorscale\": [[0.0, \"#0d0887\"], [0.1111111111111111, \"#46039f\"], [0.2222222222222222, \"#7201a8\"], [0.3333333333333333, \"#9c179e\"], [0.4444444444444444, \"#bd3786\"], [0.5555555555555556, \"#d8576b\"], [0.6666666666666666, \"#ed7953\"], [0.7777777777777778, \"#fb9f3a\"], [0.8888888888888888, \"#fdca26\"], [1.0, \"#f0f921\"]], \"type\": \"histogram2d\"}], \"histogram2dcontour\": [{\"colorbar\": {\"outlinewidth\": 0, \"ticks\": \"\"}, \"colorscale\": [[0.0, \"#0d0887\"], [0.1111111111111111, \"#46039f\"], [0.2222222222222222, \"#7201a8\"], [0.3333333333333333, \"#9c179e\"], [0.4444444444444444, \"#bd3786\"], [0.5555555555555556, \"#d8576b\"], [0.6666666666666666, \"#ed7953\"], [0.7777777777777778, \"#fb9f3a\"], [0.8888888888888888, \"#fdca26\"], [1.0, \"#f0f921\"]], \"type\": \"histogram2dcontour\"}], \"mesh3d\": [{\"colorbar\": {\"outlinewidth\": 0, \"ticks\": \"\"}, \"type\": \"mesh3d\"}], \"parcoords\": [{\"line\": {\"colorbar\": {\"outlinewidth\": 0, \"ticks\": \"\"}}, \"type\": \"parcoords\"}], \"pie\": [{\"automargin\": true, \"type\": \"pie\"}], \"scatter\": [{\"marker\": {\"colorbar\": {\"outlinewidth\": 0, \"ticks\": \"\"}}, \"type\": \"scatter\"}], \"scatter3d\": [{\"line\": {\"colorbar\": {\"outlinewidth\": 0, \"ticks\": \"\"}}, \"marker\": {\"colorbar\": {\"outlinewidth\": 0, \"ticks\": \"\"}}, \"type\": \"scatter3d\"}], \"scattercarpet\": [{\"marker\": {\"colorbar\": {\"outlinewidth\": 0, \"ticks\": \"\"}}, \"type\": \"scattercarpet\"}], \"scattergeo\": [{\"marker\": {\"colorbar\": {\"outlinewidth\": 0, \"ticks\": \"\"}}, \"type\": \"scattergeo\"}], \"scattergl\": [{\"marker\": {\"colorbar\": {\"outlinewidth\": 0, \"ticks\": \"\"}}, \"type\": \"scattergl\"}], \"scattermapbox\": [{\"marker\": {\"colorbar\": {\"outlinewidth\": 0, \"ticks\": \"\"}}, \"type\": \"scattermapbox\"}], \"scatterpolar\": [{\"marker\": {\"colorbar\": {\"outlinewidth\": 0, \"ticks\": \"\"}}, \"type\": \"scatterpolar\"}], \"scatterpolargl\": [{\"marker\": {\"colorbar\": {\"outlinewidth\": 0, \"ticks\": \"\"}}, \"type\": \"scatterpolargl\"}], \"scatterternary\": [{\"marker\": {\"colorbar\": {\"outlinewidth\": 0, \"ticks\": \"\"}}, \"type\": \"scatterternary\"}], \"surface\": [{\"colorbar\": {\"outlinewidth\": 0, \"ticks\": \"\"}, \"colorscale\": [[0.0, \"#0d0887\"], [0.1111111111111111, \"#46039f\"], [0.2222222222222222, \"#7201a8\"], [0.3333333333333333, \"#9c179e\"], [0.4444444444444444, \"#bd3786\"], [0.5555555555555556, \"#d8576b\"], [0.6666666666666666, \"#ed7953\"], [0.7777777777777778, \"#fb9f3a\"], [0.8888888888888888, \"#fdca26\"], [1.0, \"#f0f921\"]], \"type\": \"surface\"}], \"table\": [{\"cells\": {\"fill\": {\"color\": \"#EBF0F8\"}, \"line\": {\"color\": \"white\"}}, \"header\": {\"fill\": {\"color\": \"#C8D4E3\"}, \"line\": {\"color\": \"white\"}}, \"type\": \"table\"}]}, \"layout\": {\"annotationdefaults\": {\"arrowcolor\": \"#2a3f5f\", \"arrowhead\": 0, \"arrowwidth\": 1}, \"coloraxis\": {\"colorbar\": {\"outlinewidth\": 0, \"ticks\": \"\"}}, \"colorscale\": {\"diverging\": [[0, \"#8e0152\"], [0.1, \"#c51b7d\"], [0.2, \"#de77ae\"], [0.3, \"#f1b6da\"], [0.4, \"#fde0ef\"], [0.5, \"#f7f7f7\"], [0.6, \"#e6f5d0\"], [0.7, \"#b8e186\"], [0.8, \"#7fbc41\"], [0.9, \"#4d9221\"], [1, \"#276419\"]], \"sequential\": [[0.0, \"#0d0887\"], [0.1111111111111111, \"#46039f\"], [0.2222222222222222, \"#7201a8\"], [0.3333333333333333, \"#9c179e\"], [0.4444444444444444, \"#bd3786\"], [0.5555555555555556, \"#d8576b\"], [0.6666666666666666, \"#ed7953\"], [0.7777777777777778, \"#fb9f3a\"], [0.8888888888888888, \"#fdca26\"], [1.0, \"#f0f921\"]], \"sequentialminus\": [[0.0, \"#0d0887\"], [0.1111111111111111, \"#46039f\"], [0.2222222222222222, \"#7201a8\"], [0.3333333333333333, \"#9c179e\"], [0.4444444444444444, \"#bd3786\"], [0.5555555555555556, \"#d8576b\"], [0.6666666666666666, \"#ed7953\"], [0.7777777777777778, \"#fb9f3a\"], [0.8888888888888888, \"#fdca26\"], [1.0, \"#f0f921\"]]}, \"colorway\": [\"#636efa\", \"#EF553B\", \"#00cc96\", \"#ab63fa\", \"#FFA15A\", \"#19d3f3\", \"#FF6692\", \"#B6E880\", \"#FF97FF\", \"#FECB52\"], \"font\": {\"color\": \"#2a3f5f\"}, \"geo\": {\"bgcolor\": \"white\", \"lakecolor\": \"white\", \"landcolor\": \"#E5ECF6\", \"showlakes\": true, \"showland\": true, \"subunitcolor\": \"white\"}, \"hoverlabel\": {\"align\": \"left\"}, \"hovermode\": \"closest\", \"mapbox\": {\"style\": \"light\"}, \"paper_bgcolor\": \"white\", \"plot_bgcolor\": \"#E5ECF6\", \"polar\": {\"angularaxis\": {\"gridcolor\": \"white\", \"linecolor\": \"white\", \"ticks\": \"\"}, \"bgcolor\": \"#E5ECF6\", \"radialaxis\": {\"gridcolor\": \"white\", \"linecolor\": \"white\", \"ticks\": \"\"}}, \"scene\": {\"xaxis\": {\"backgroundcolor\": \"#E5ECF6\", \"gridcolor\": \"white\", \"gridwidth\": 2, \"linecolor\": \"white\", \"showbackground\": true, \"ticks\": \"\", \"zerolinecolor\": \"white\"}, \"yaxis\": {\"backgroundcolor\": \"#E5ECF6\", \"gridcolor\": \"white\", \"gridwidth\": 2, \"linecolor\": \"white\", \"showbackground\": true, \"ticks\": \"\", \"zerolinecolor\": \"white\"}, \"zaxis\": {\"backgroundcolor\": \"#E5ECF6\", \"gridcolor\": \"white\", \"gridwidth\": 2, \"linecolor\": \"white\", \"showbackground\": true, \"ticks\": \"\", \"zerolinecolor\": \"white\"}}, \"shapedefaults\": {\"line\": {\"color\": \"#2a3f5f\"}}, \"ternary\": {\"aaxis\": {\"gridcolor\": \"white\", \"linecolor\": \"white\", \"ticks\": \"\"}, \"baxis\": {\"gridcolor\": \"white\", \"linecolor\": \"white\", \"ticks\": \"\"}, \"bgcolor\": \"#E5ECF6\", \"caxis\": {\"gridcolor\": \"white\", \"linecolor\": \"white\", \"ticks\": \"\"}}, \"title\": {\"x\": 0.05}, \"xaxis\": {\"automargin\": true, \"gridcolor\": \"white\", \"linecolor\": \"white\", \"ticks\": \"\", \"title\": {\"standoff\": 15}, \"zerolinecolor\": \"white\", \"zerolinewidth\": 2}, \"yaxis\": {\"automargin\": true, \"gridcolor\": \"white\", \"linecolor\": \"white\", \"ticks\": \"\", \"title\": {\"standoff\": 15}, \"zerolinecolor\": \"white\", \"zerolinewidth\": 2}}}, \"title\": {\"text\": \"Detergents_Paper vs Milk by labels\"}, \"xaxis\": {\"anchor\": \"y\", \"domain\": [0.0, 1.0], \"title\": {\"text\": \"Detergents_Paper\"}}, \"yaxis\": {\"anchor\": \"x\", \"domain\": [0.0, 1.0], \"title\": {\"text\": \"Milk\"}}},\n",
       "                        {\"responsive\": true}\n",
       "                    ).then(function(){\n",
       "                            \n",
       "var gd = document.getElementById('95343569-a5ca-4a2c-b677-39af50ee3b1c');\n",
       "var x = new MutationObserver(function (mutations, observer) {{\n",
       "        var display = window.getComputedStyle(gd).display;\n",
       "        if (!display || display === 'none') {{\n",
       "            console.log([gd, 'removed!']);\n",
       "            Plotly.purge(gd);\n",
       "            observer.disconnect();\n",
       "        }}\n",
       "}});\n",
       "\n",
       "// Listen for the removal of the full notebook cells\n",
       "var notebookContainer = gd.closest('#notebook-container');\n",
       "if (notebookContainer) {{\n",
       "    x.observe(notebookContainer, {childList: true});\n",
       "}}\n",
       "\n",
       "// Listen for the clearing of the current output cell\n",
       "var outputEl = gd.closest('.output');\n",
       "if (outputEl) {{\n",
       "    x.observe(outputEl, {childList: true});\n",
       "}}\n",
       "\n",
       "                        })\n",
       "                };\n",
       "                });\n",
       "            </script>\n",
       "        </div>"
      ]
     },
     "metadata": {},
     "output_type": "display_data"
    },
    {
     "data": {
      "application/vnd.plotly.v1+json": {
       "config": {
        "plotlyServerURL": "https://plot.ly"
       },
       "data": [
        {
         "hoverlabel": {
          "namelength": 0
         },
         "hovertemplate": "Detergents_Paper=%{x}<br>Milk=%{y}<br>labels_DBSCAN=%{marker.color}",
         "legendgroup": "",
         "marker": {
          "color": [
           -1,
           -1,
           -1,
           -1,
           -1,
           -1,
           -1,
           -1,
           -1,
           -1,
           0,
           -1,
           -1,
           -1,
           0,
           -1,
           -1,
           -1,
           -1,
           -1,
           0,
           -1,
           -1,
           -1,
           0,
           0,
           -1,
           -1,
           -1,
           -1,
           -1,
           -1,
           0,
           -1,
           -1,
           -1,
           -1,
           -1,
           -1,
           -1,
           -1,
           -1,
           -1,
           -1,
           -1,
           -1,
           -1,
           -1,
           -1,
           -1,
           -1,
           2,
           -1,
           -1,
           0,
           -1,
           -1,
           -1,
           -1,
           -1,
           -1,
           -1,
           -1,
           0,
           -1,
           -1,
           -1,
           -1,
           -1,
           -1,
           -1,
           0,
           1,
           0,
           -1,
           -1,
           2,
           -1,
           -1,
           -1,
           0,
           -1,
           -1,
           -1,
           -1,
           0,
           0,
           -1,
           -1,
           -1,
           -1,
           0,
           -1,
           -1,
           -1,
           -1,
           -1,
           -1,
           -1,
           -1,
           -1,
           2,
           0,
           0,
           -1,
           -1,
           0,
           2,
           0,
           0,
           -1,
           -1,
           -1,
           -1,
           -1,
           -1,
           -1,
           0,
           0,
           0,
           0,
           0,
           -1,
           -1,
           -1,
           -1,
           -1,
           -1,
           -1,
           -1,
           -1,
           -1,
           0,
           0,
           0,
           -1,
           0,
           1,
           -1,
           -1,
           0,
           -1,
           -1,
           -1,
           -1,
           -1,
           -1,
           -1,
           0,
           -1,
           -1,
           -1,
           -1,
           -1,
           0,
           0,
           -1,
           -1,
           -1,
           -1,
           -1,
           -1,
           -1,
           -1,
           -1,
           -1,
           -1,
           0,
           -1,
           0,
           -1,
           -1,
           -1,
           -1,
           0,
           0,
           -1,
           0,
           -1,
           -1,
           -1,
           0,
           -1,
           -1,
           0,
           -1,
           -1,
           0,
           -1,
           -1,
           -1,
           -1,
           -1,
           -1,
           -1,
           -1,
           2,
           0,
           0,
           -1,
           -1,
           -1,
           0,
           -1,
           -1,
           0,
           -1,
           -1,
           -1,
           -1,
           -1,
           -1,
           -1,
           -1,
           0,
           -1,
           0,
           -1,
           -1,
           2,
           2,
           -1,
           -1,
           -1,
           0,
           0,
           -1,
           -1,
           0,
           -1,
           -1,
           -1,
           -1,
           -1,
           -1,
           -1,
           -1,
           -1,
           -1,
           -1,
           -1,
           -1,
           -1,
           -1,
           -1,
           -1,
           0,
           -1,
           -1,
           -1,
           -1,
           0,
           0,
           -1,
           -1,
           -1,
           3,
           -1,
           -1,
           -1,
           -1,
           0,
           -1,
           0,
           -1,
           1,
           0,
           -1,
           -1,
           -1,
           -1,
           2,
           -1,
           -1,
           0,
           -1,
           -1,
           -1,
           -1,
           -1,
           -1,
           -1,
           -1,
           0,
           -1,
           -1,
           -1,
           -1,
           -1,
           0,
           1,
           0,
           3,
           -1,
           -1,
           -1,
           2,
           0,
           0,
           -1,
           -1,
           0,
           -1,
           -1,
           -1,
           -1,
           0,
           -1,
           -1,
           -1,
           -1,
           -1,
           0,
           -1,
           -1,
           -1,
           0,
           -1,
           0,
           -1,
           0,
           -1,
           -1,
           0,
           -1,
           -1,
           -1,
           -1,
           2,
           0,
           0,
           0,
           0,
           -1,
           0,
           0,
           2,
           0,
           -1,
           -1,
           -1,
           -1,
           0,
           0,
           -1,
           -1,
           3,
           -1,
           -1,
           -1,
           -1,
           -1,
           -1,
           0,
           -1,
           2,
           0,
           0,
           -1,
           1,
           -1,
           -1,
           0,
           0,
           -1,
           -1,
           -1,
           0,
           0,
           -1,
           -1,
           -1,
           0,
           -1,
           -1,
           -1,
           -1,
           -1,
           -1,
           -1,
           -1,
           -1,
           -1,
           -1,
           -1,
           -1,
           -1,
           -1,
           -1,
           -1,
           -1,
           -1,
           -1,
           -1,
           -1,
           -1,
           1,
           -1,
           -1,
           -1,
           -1,
           0
          ],
          "coloraxis": "coloraxis",
          "symbol": "circle"
         },
         "mode": "markers",
         "name": "",
         "showlegend": false,
         "type": "scatter",
         "x": [
          2674,
          3293,
          507,
          1777,
          1795,
          3140,
          3321,
          1716,
          7425,
          5977,
          549,
          3881,
          6707,
          5058,
          964,
          4508,
          370,
          2767,
          2518,
          2259,
          375,
          2381,
          4482,
          4003,
          242,
          100,
          8604,
          1107,
          2134,
          820,
          918,
          361,
          483,
          4239,
          862,
          6506,
          6956,
          212,
          1145,
          2575,
          6899,
          9529,
          4618,
          7353,
          6792,
          5121,
          13583,
          609,
          1538,
          2587,
          5611,
          204,
          2024,
          7572,
          227,
          3084,
          4095,
          4074,
          7677,
          1247,
          3468,
          5141,
          788,
          656,
          116,
          1321,
          764,
          1901,
          3,
          529,
          12034,
          301,
          1202,
          610,
          7818,
          3537,
          550,
          3837,
          165,
          454,
          69,
          627,
          5038,
          223,
          3874,
          54,
          56,
          215,
          8035,
          6766,
          4573,
          1491,
          139,
          6830,
          8969,
          2505,
          836,
          169,
          6457,
          483,
          585,
          118,
          276,
          310,
          319,
          411,
          266,
          174,
          264,
          25,
          1976,
          500,
          349,
          2386,
          1062,
          410,
          395,
          70,
          955,
          256,
          47,
          199,
          2447,
          721,
          249,
          637,
          960,
          51,
          20,
          399,
          516,
          12591,
          73,
          1082,
          283,
          113,
          170,
          255,
          352,
          302,
          7,
          11577,
          6694,
          811,
          4004,
          8077,
          4424,
          3,
          232,
          13726,
          3674,
          7108,
          4973,
          1680,
          79,
          69,
          7015,
          2840,
          9836,
          153,
          4196,
          1532,
          20,
          120,
          273,
          1382,
          6907,
          334,
          58,
          949,
          3459,
          6839,
          4027,
          118,
          43,
          187,
          5618,
          355,
          330,
          4314,
          592,
          402,
          9959,
          14235,
          954,
          5,
          9265,
          288,
          5316,
          3381,
          12420,
          244,
          240,
          3961,
          5957,
          5828,
          130,
          86,
          56,
          4167,
          256,
          788,
          70,
          761,
          2568,
          263,
          4762,
          694,
          955,
          1566,
          284,
          409,
          325,
          1216,
          415,
          28,
          72,
          828,
          343,
          412,
          586,
          1682,
          3143,
          8933,
          430,
          44,
          562,
          918,
          234,
          205,
          363,
          1547,
          111,
          392,
          3593,
          730,
          967,
          780,
          49,
          429,
          2894,
          5980,
          830,
          4882,
          737,
          6374,
          333,
          197,
          147,
          93,
          210,
          759,
          96,
          603,
          274,
          3620,
          167,
          2328,
          1041,
          314,
          436,
          1226,
          386,
          445,
          32,
          965,
          212,
          825,
          5952,
          811,
          2208,
          710,
          3712,
          4538,
          290,
          2662,
          8752,
          6236,
          10069,
          11783,
          3909,
          7558,
          351,
          257,
          6846,
          371,
          183,
          857,
          3891,
          83,
          821,
          706,
          275,
          228,
          1470,
          1679,
          140,
          387,
          88,
          210,
          492,
          182,
          9606,
          178,
          332,
          4111,
          146,
          442,
          573,
          7271,
          5162,
          4595,
          217,
          3843,
          6600,
          4621,
          1184,
          12218,
          173,
          12638,
          90,
          8682,
          1333,
          184,
          9,
          6747,
          536,
          232,
          468,
          159,
          179,
          1335,
          514,
          4515,
          222,
          252,
          101,
          41,
          523,
          716,
          397,
          1916,
          311,
          476,
          4666,
          96,
          68,
          813,
          600,
          246,
          1711,
          397,
          282,
          192,
          353,
          231,
          200,
          227,
          311,
          95,
          122,
          385,
          149,
          841,
          3378,
          64,
          74,
          469,
          153,
          10,
          632,
          914,
          593,
          1092,
          7883,
          2730,
          2123,
          1860,
          235,
          2970,
          1135,
          3540,
          6728,
          3485,
          6740,
          1580,
          6818,
          3415,
          948,
          1803,
          3213,
          5079,
          850,
          84,
          241,
          1328,
          356,
          2371,
          93,
          14841,
          168,
          477
         ],
         "xaxis": "x",
         "y": [
          9656,
          9810,
          1196,
          5410,
          8259,
          3199,
          4956,
          3648,
          11093,
          5403,
          1124,
          12319,
          6208,
          9465,
          1114,
          8816,
          6157,
          6327,
          2495,
          4519,
          871,
          1917,
          9776,
          4230,
          961,
          803,
          20484,
          2100,
          3610,
          4339,
          1318,
          4786,
          1979,
          5491,
          4362,
          10556,
          15729,
          555,
          4332,
          3065,
          7555,
          11095,
          7027,
          22044,
          14069,
          6152,
          21412,
          1095,
          4051,
          3916,
          10473,
          1449,
          3683,
          9933,
          1970,
          5360,
          3045,
          6245,
          11601,
          1227,
          1534,
          6759,
          7260,
          2820,
          2037,
          5139,
          5332,
          6343,
          1137,
          3587,
          12697,
          1175,
          3259,
          829,
          9540,
          9232,
          1563,
          3327,
          542,
          3836,
          596,
          2762,
          12220,
          2920,
          2616,
          254,
          112,
          2182,
          7779,
          10810,
          6459,
          2132,
          1014,
          6337,
          10646,
          8397,
          16729,
          1648,
          11114,
          2770,
          2295,
          1080,
          793,
          2521,
          3880,
          1891,
          2344,
          1200,
          3234,
          201,
          10769,
          1642,
          1840,
          7243,
          8847,
          926,
          2428,
          589,
          2032,
          1042,
          1882,
          1289,
          8579,
          8080,
          4257,
          4979,
          4280,
          13252,
          7152,
          1596,
          3677,
          8384,
          1936,
          3373,
          584,
          1433,
          1825,
          3328,
          1371,
          9250,
          55,
          10690,
          5291,
          1366,
          6570,
          7704,
          3651,
          540,
          2024,
          15726,
          7603,
          12653,
          6721,
          3195,
          735,
          717,
          8675,
          5479,
          7677,
          1208,
          7845,
          6958,
          7330,
          7075,
          4888,
          6036,
          8533,
          918,
          6448,
          521,
          8002,
          7639,
          11577,
          6250,
          295,
          1461,
          3485,
          1012,
          5139,
          7097,
          2154,
          2280,
          13240,
          14399,
          685,
          891,
          11711,
          780,
          4737,
          3748,
          12729,
          1895,
          1012,
          6602,
          6551,
          10765,
          1475,
          367,
          899,
          7503,
          1115,
          2527,
          659,
          3243,
          5921,
          2204,
          577,
          2746,
          5989,
          10678,
          1780,
          4984,
          2703,
          6380,
          820,
          3838,
          475,
          2567,
          3575,
          1801,
          659,
          3576,
          7775,
          6154,
          2428,
          346,
          5279,
          3795,
          1993,
          1860,
          7961,
          17972,
          489,
          5008,
          1931,
          4563,
          4959,
          4885,
          1110,
          1372,
          1115,
          9679,
          23527,
          9763,
          1222,
          8053,
          258,
          1032,
          5007,
          8323,
          3045,
          1703,
          1610,
          3749,
          2317,
          6200,
          2884,
          7108,
          3965,
          3613,
          640,
          2247,
          2102,
          594,
          286,
          2160,
          3354,
          3086,
          11103,
          2013,
          1897,
          1304,
          3199,
          4560,
          879,
          6243,
          13316,
          5302,
          3688,
          7460,
          12939,
          12867,
          2374,
          1020,
          20655,
          2335,
          925,
          1795,
          14982,
          1375,
          3088,
          2713,
          3696,
          1897,
          713,
          944,
          3587,
          1610,
          899,
          2209,
          1486,
          1786,
          14881,
          3216,
          928,
          6817,
          1511,
          1347,
          1188,
          4025,
          5763,
          5758,
          1172,
          2602,
          6939,
          7184,
          2380,
          14641,
          1099,
          10044,
          1106,
          6264,
          7393,
          727,
          134,
          1275,
          18664,
          5878,
          2872,
          607,
          1601,
          997,
          873,
          6128,
          2217,
          894,
          1196,
          337,
          3944,
          1887,
          3801,
          6257,
          2256,
          1450,
          8630,
          3154,
          3294,
          5164,
          944,
          4591,
          7435,
          1364,
          21858,
          922,
          3620,
          1916,
          848,
          1530,
          1181,
          2761,
          4180,
          6730,
          865,
          1316,
          11991,
          1666,
          1032,
          577,
          906,
          4753,
          11006,
          4613,
          1046,
          5010,
          12844,
          3880,
          3634,
          2096,
          3289,
          3605,
          1990,
          6046,
          10940,
          5499,
          8494,
          3783,
          5266,
          4847,
          1377,
          3686,
          2884,
          9347,
          5970,
          1750,
          4230,
          1162,
          3218,
          3922,
          1431,
          15488,
          1981,
          1698
         ],
         "yaxis": "y"
        }
       ],
       "layout": {
        "coloraxis": {
         "colorbar": {
          "title": {
           "text": "labels_DBSCAN"
          }
         },
         "colorscale": [
          [
           0,
           "#0d0887"
          ],
          [
           0.1111111111111111,
           "#46039f"
          ],
          [
           0.2222222222222222,
           "#7201a8"
          ],
          [
           0.3333333333333333,
           "#9c179e"
          ],
          [
           0.4444444444444444,
           "#bd3786"
          ],
          [
           0.5555555555555556,
           "#d8576b"
          ],
          [
           0.6666666666666666,
           "#ed7953"
          ],
          [
           0.7777777777777778,
           "#fb9f3a"
          ],
          [
           0.8888888888888888,
           "#fdca26"
          ],
          [
           1,
           "#f0f921"
          ]
         ]
        },
        "legend": {
         "tracegroupgap": 0
        },
        "margin": {
         "t": 60
        },
        "template": {
         "data": {
          "bar": [
           {
            "error_x": {
             "color": "#2a3f5f"
            },
            "error_y": {
             "color": "#2a3f5f"
            },
            "marker": {
             "line": {
              "color": "#E5ECF6",
              "width": 0.5
             }
            },
            "type": "bar"
           }
          ],
          "barpolar": [
           {
            "marker": {
             "line": {
              "color": "#E5ECF6",
              "width": 0.5
             }
            },
            "type": "barpolar"
           }
          ],
          "carpet": [
           {
            "aaxis": {
             "endlinecolor": "#2a3f5f",
             "gridcolor": "white",
             "linecolor": "white",
             "minorgridcolor": "white",
             "startlinecolor": "#2a3f5f"
            },
            "baxis": {
             "endlinecolor": "#2a3f5f",
             "gridcolor": "white",
             "linecolor": "white",
             "minorgridcolor": "white",
             "startlinecolor": "#2a3f5f"
            },
            "type": "carpet"
           }
          ],
          "choropleth": [
           {
            "colorbar": {
             "outlinewidth": 0,
             "ticks": ""
            },
            "type": "choropleth"
           }
          ],
          "contour": [
           {
            "colorbar": {
             "outlinewidth": 0,
             "ticks": ""
            },
            "colorscale": [
             [
              0,
              "#0d0887"
             ],
             [
              0.1111111111111111,
              "#46039f"
             ],
             [
              0.2222222222222222,
              "#7201a8"
             ],
             [
              0.3333333333333333,
              "#9c179e"
             ],
             [
              0.4444444444444444,
              "#bd3786"
             ],
             [
              0.5555555555555556,
              "#d8576b"
             ],
             [
              0.6666666666666666,
              "#ed7953"
             ],
             [
              0.7777777777777778,
              "#fb9f3a"
             ],
             [
              0.8888888888888888,
              "#fdca26"
             ],
             [
              1,
              "#f0f921"
             ]
            ],
            "type": "contour"
           }
          ],
          "contourcarpet": [
           {
            "colorbar": {
             "outlinewidth": 0,
             "ticks": ""
            },
            "type": "contourcarpet"
           }
          ],
          "heatmap": [
           {
            "colorbar": {
             "outlinewidth": 0,
             "ticks": ""
            },
            "colorscale": [
             [
              0,
              "#0d0887"
             ],
             [
              0.1111111111111111,
              "#46039f"
             ],
             [
              0.2222222222222222,
              "#7201a8"
             ],
             [
              0.3333333333333333,
              "#9c179e"
             ],
             [
              0.4444444444444444,
              "#bd3786"
             ],
             [
              0.5555555555555556,
              "#d8576b"
             ],
             [
              0.6666666666666666,
              "#ed7953"
             ],
             [
              0.7777777777777778,
              "#fb9f3a"
             ],
             [
              0.8888888888888888,
              "#fdca26"
             ],
             [
              1,
              "#f0f921"
             ]
            ],
            "type": "heatmap"
           }
          ],
          "heatmapgl": [
           {
            "colorbar": {
             "outlinewidth": 0,
             "ticks": ""
            },
            "colorscale": [
             [
              0,
              "#0d0887"
             ],
             [
              0.1111111111111111,
              "#46039f"
             ],
             [
              0.2222222222222222,
              "#7201a8"
             ],
             [
              0.3333333333333333,
              "#9c179e"
             ],
             [
              0.4444444444444444,
              "#bd3786"
             ],
             [
              0.5555555555555556,
              "#d8576b"
             ],
             [
              0.6666666666666666,
              "#ed7953"
             ],
             [
              0.7777777777777778,
              "#fb9f3a"
             ],
             [
              0.8888888888888888,
              "#fdca26"
             ],
             [
              1,
              "#f0f921"
             ]
            ],
            "type": "heatmapgl"
           }
          ],
          "histogram": [
           {
            "marker": {
             "colorbar": {
              "outlinewidth": 0,
              "ticks": ""
             }
            },
            "type": "histogram"
           }
          ],
          "histogram2d": [
           {
            "colorbar": {
             "outlinewidth": 0,
             "ticks": ""
            },
            "colorscale": [
             [
              0,
              "#0d0887"
             ],
             [
              0.1111111111111111,
              "#46039f"
             ],
             [
              0.2222222222222222,
              "#7201a8"
             ],
             [
              0.3333333333333333,
              "#9c179e"
             ],
             [
              0.4444444444444444,
              "#bd3786"
             ],
             [
              0.5555555555555556,
              "#d8576b"
             ],
             [
              0.6666666666666666,
              "#ed7953"
             ],
             [
              0.7777777777777778,
              "#fb9f3a"
             ],
             [
              0.8888888888888888,
              "#fdca26"
             ],
             [
              1,
              "#f0f921"
             ]
            ],
            "type": "histogram2d"
           }
          ],
          "histogram2dcontour": [
           {
            "colorbar": {
             "outlinewidth": 0,
             "ticks": ""
            },
            "colorscale": [
             [
              0,
              "#0d0887"
             ],
             [
              0.1111111111111111,
              "#46039f"
             ],
             [
              0.2222222222222222,
              "#7201a8"
             ],
             [
              0.3333333333333333,
              "#9c179e"
             ],
             [
              0.4444444444444444,
              "#bd3786"
             ],
             [
              0.5555555555555556,
              "#d8576b"
             ],
             [
              0.6666666666666666,
              "#ed7953"
             ],
             [
              0.7777777777777778,
              "#fb9f3a"
             ],
             [
              0.8888888888888888,
              "#fdca26"
             ],
             [
              1,
              "#f0f921"
             ]
            ],
            "type": "histogram2dcontour"
           }
          ],
          "mesh3d": [
           {
            "colorbar": {
             "outlinewidth": 0,
             "ticks": ""
            },
            "type": "mesh3d"
           }
          ],
          "parcoords": [
           {
            "line": {
             "colorbar": {
              "outlinewidth": 0,
              "ticks": ""
             }
            },
            "type": "parcoords"
           }
          ],
          "pie": [
           {
            "automargin": true,
            "type": "pie"
           }
          ],
          "scatter": [
           {
            "marker": {
             "colorbar": {
              "outlinewidth": 0,
              "ticks": ""
             }
            },
            "type": "scatter"
           }
          ],
          "scatter3d": [
           {
            "line": {
             "colorbar": {
              "outlinewidth": 0,
              "ticks": ""
             }
            },
            "marker": {
             "colorbar": {
              "outlinewidth": 0,
              "ticks": ""
             }
            },
            "type": "scatter3d"
           }
          ],
          "scattercarpet": [
           {
            "marker": {
             "colorbar": {
              "outlinewidth": 0,
              "ticks": ""
             }
            },
            "type": "scattercarpet"
           }
          ],
          "scattergeo": [
           {
            "marker": {
             "colorbar": {
              "outlinewidth": 0,
              "ticks": ""
             }
            },
            "type": "scattergeo"
           }
          ],
          "scattergl": [
           {
            "marker": {
             "colorbar": {
              "outlinewidth": 0,
              "ticks": ""
             }
            },
            "type": "scattergl"
           }
          ],
          "scattermapbox": [
           {
            "marker": {
             "colorbar": {
              "outlinewidth": 0,
              "ticks": ""
             }
            },
            "type": "scattermapbox"
           }
          ],
          "scatterpolar": [
           {
            "marker": {
             "colorbar": {
              "outlinewidth": 0,
              "ticks": ""
             }
            },
            "type": "scatterpolar"
           }
          ],
          "scatterpolargl": [
           {
            "marker": {
             "colorbar": {
              "outlinewidth": 0,
              "ticks": ""
             }
            },
            "type": "scatterpolargl"
           }
          ],
          "scatterternary": [
           {
            "marker": {
             "colorbar": {
              "outlinewidth": 0,
              "ticks": ""
             }
            },
            "type": "scatterternary"
           }
          ],
          "surface": [
           {
            "colorbar": {
             "outlinewidth": 0,
             "ticks": ""
            },
            "colorscale": [
             [
              0,
              "#0d0887"
             ],
             [
              0.1111111111111111,
              "#46039f"
             ],
             [
              0.2222222222222222,
              "#7201a8"
             ],
             [
              0.3333333333333333,
              "#9c179e"
             ],
             [
              0.4444444444444444,
              "#bd3786"
             ],
             [
              0.5555555555555556,
              "#d8576b"
             ],
             [
              0.6666666666666666,
              "#ed7953"
             ],
             [
              0.7777777777777778,
              "#fb9f3a"
             ],
             [
              0.8888888888888888,
              "#fdca26"
             ],
             [
              1,
              "#f0f921"
             ]
            ],
            "type": "surface"
           }
          ],
          "table": [
           {
            "cells": {
             "fill": {
              "color": "#EBF0F8"
             },
             "line": {
              "color": "white"
             }
            },
            "header": {
             "fill": {
              "color": "#C8D4E3"
             },
             "line": {
              "color": "white"
             }
            },
            "type": "table"
           }
          ]
         },
         "layout": {
          "annotationdefaults": {
           "arrowcolor": "#2a3f5f",
           "arrowhead": 0,
           "arrowwidth": 1
          },
          "coloraxis": {
           "colorbar": {
            "outlinewidth": 0,
            "ticks": ""
           }
          },
          "colorscale": {
           "diverging": [
            [
             0,
             "#8e0152"
            ],
            [
             0.1,
             "#c51b7d"
            ],
            [
             0.2,
             "#de77ae"
            ],
            [
             0.3,
             "#f1b6da"
            ],
            [
             0.4,
             "#fde0ef"
            ],
            [
             0.5,
             "#f7f7f7"
            ],
            [
             0.6,
             "#e6f5d0"
            ],
            [
             0.7,
             "#b8e186"
            ],
            [
             0.8,
             "#7fbc41"
            ],
            [
             0.9,
             "#4d9221"
            ],
            [
             1,
             "#276419"
            ]
           ],
           "sequential": [
            [
             0,
             "#0d0887"
            ],
            [
             0.1111111111111111,
             "#46039f"
            ],
            [
             0.2222222222222222,
             "#7201a8"
            ],
            [
             0.3333333333333333,
             "#9c179e"
            ],
            [
             0.4444444444444444,
             "#bd3786"
            ],
            [
             0.5555555555555556,
             "#d8576b"
            ],
            [
             0.6666666666666666,
             "#ed7953"
            ],
            [
             0.7777777777777778,
             "#fb9f3a"
            ],
            [
             0.8888888888888888,
             "#fdca26"
            ],
            [
             1,
             "#f0f921"
            ]
           ],
           "sequentialminus": [
            [
             0,
             "#0d0887"
            ],
            [
             0.1111111111111111,
             "#46039f"
            ],
            [
             0.2222222222222222,
             "#7201a8"
            ],
            [
             0.3333333333333333,
             "#9c179e"
            ],
            [
             0.4444444444444444,
             "#bd3786"
            ],
            [
             0.5555555555555556,
             "#d8576b"
            ],
            [
             0.6666666666666666,
             "#ed7953"
            ],
            [
             0.7777777777777778,
             "#fb9f3a"
            ],
            [
             0.8888888888888888,
             "#fdca26"
            ],
            [
             1,
             "#f0f921"
            ]
           ]
          },
          "colorway": [
           "#636efa",
           "#EF553B",
           "#00cc96",
           "#ab63fa",
           "#FFA15A",
           "#19d3f3",
           "#FF6692",
           "#B6E880",
           "#FF97FF",
           "#FECB52"
          ],
          "font": {
           "color": "#2a3f5f"
          },
          "geo": {
           "bgcolor": "white",
           "lakecolor": "white",
           "landcolor": "#E5ECF6",
           "showlakes": true,
           "showland": true,
           "subunitcolor": "white"
          },
          "hoverlabel": {
           "align": "left"
          },
          "hovermode": "closest",
          "mapbox": {
           "style": "light"
          },
          "paper_bgcolor": "white",
          "plot_bgcolor": "#E5ECF6",
          "polar": {
           "angularaxis": {
            "gridcolor": "white",
            "linecolor": "white",
            "ticks": ""
           },
           "bgcolor": "#E5ECF6",
           "radialaxis": {
            "gridcolor": "white",
            "linecolor": "white",
            "ticks": ""
           }
          },
          "scene": {
           "xaxis": {
            "backgroundcolor": "#E5ECF6",
            "gridcolor": "white",
            "gridwidth": 2,
            "linecolor": "white",
            "showbackground": true,
            "ticks": "",
            "zerolinecolor": "white"
           },
           "yaxis": {
            "backgroundcolor": "#E5ECF6",
            "gridcolor": "white",
            "gridwidth": 2,
            "linecolor": "white",
            "showbackground": true,
            "ticks": "",
            "zerolinecolor": "white"
           },
           "zaxis": {
            "backgroundcolor": "#E5ECF6",
            "gridcolor": "white",
            "gridwidth": 2,
            "linecolor": "white",
            "showbackground": true,
            "ticks": "",
            "zerolinecolor": "white"
           }
          },
          "shapedefaults": {
           "line": {
            "color": "#2a3f5f"
           }
          },
          "ternary": {
           "aaxis": {
            "gridcolor": "white",
            "linecolor": "white",
            "ticks": ""
           },
           "baxis": {
            "gridcolor": "white",
            "linecolor": "white",
            "ticks": ""
           },
           "bgcolor": "#E5ECF6",
           "caxis": {
            "gridcolor": "white",
            "linecolor": "white",
            "ticks": ""
           }
          },
          "title": {
           "x": 0.05
          },
          "xaxis": {
           "automargin": true,
           "gridcolor": "white",
           "linecolor": "white",
           "ticks": "",
           "title": {
            "standoff": 15
           },
           "zerolinecolor": "white",
           "zerolinewidth": 2
          },
          "yaxis": {
           "automargin": true,
           "gridcolor": "white",
           "linecolor": "white",
           "ticks": "",
           "title": {
            "standoff": 15
           },
           "zerolinecolor": "white",
           "zerolinewidth": 2
          }
         }
        },
        "title": {
         "text": "Detergents_Paper vs Milk by labels_DBSCAN"
        },
        "xaxis": {
         "anchor": "y",
         "domain": [
          0,
          1
         ],
         "title": {
          "text": "Detergents_Paper"
         }
        },
        "yaxis": {
         "anchor": "x",
         "domain": [
          0,
          1
         ],
         "title": {
          "text": "Milk"
         }
        }
       }
      },
      "text/html": [
       "<div>\n",
       "        \n",
       "        \n",
       "            <div id=\"19c2cd2b-6c8f-419b-a196-95593a5fe4ab\" class=\"plotly-graph-div\" style=\"height:525px; width:100%;\"></div>\n",
       "            <script type=\"text/javascript\">\n",
       "                require([\"plotly\"], function(Plotly) {\n",
       "                    window.PLOTLYENV=window.PLOTLYENV || {};\n",
       "                    \n",
       "                if (document.getElementById(\"19c2cd2b-6c8f-419b-a196-95593a5fe4ab\")) {\n",
       "                    Plotly.newPlot(\n",
       "                        '19c2cd2b-6c8f-419b-a196-95593a5fe4ab',\n",
       "                        [{\"hoverlabel\": {\"namelength\": 0}, \"hovertemplate\": \"Detergents_Paper=%{x}<br>Milk=%{y}<br>labels_DBSCAN=%{marker.color}\", \"legendgroup\": \"\", \"marker\": {\"color\": [-1, -1, -1, -1, -1, -1, -1, -1, -1, -1, 0, -1, -1, -1, 0, -1, -1, -1, -1, -1, 0, -1, -1, -1, 0, 0, -1, -1, -1, -1, -1, -1, 0, -1, -1, -1, -1, -1, -1, -1, -1, -1, -1, -1, -1, -1, -1, -1, -1, -1, -1, 2, -1, -1, 0, -1, -1, -1, -1, -1, -1, -1, -1, 0, -1, -1, -1, -1, -1, -1, -1, 0, 1, 0, -1, -1, 2, -1, -1, -1, 0, -1, -1, -1, -1, 0, 0, -1, -1, -1, -1, 0, -1, -1, -1, -1, -1, -1, -1, -1, -1, 2, 0, 0, -1, -1, 0, 2, 0, 0, -1, -1, -1, -1, -1, -1, -1, 0, 0, 0, 0, 0, -1, -1, -1, -1, -1, -1, -1, -1, -1, -1, 0, 0, 0, -1, 0, 1, -1, -1, 0, -1, -1, -1, -1, -1, -1, -1, 0, -1, -1, -1, -1, -1, 0, 0, -1, -1, -1, -1, -1, -1, -1, -1, -1, -1, -1, 0, -1, 0, -1, -1, -1, -1, 0, 0, -1, 0, -1, -1, -1, 0, -1, -1, 0, -1, -1, 0, -1, -1, -1, -1, -1, -1, -1, -1, 2, 0, 0, -1, -1, -1, 0, -1, -1, 0, -1, -1, -1, -1, -1, -1, -1, -1, 0, -1, 0, -1, -1, 2, 2, -1, -1, -1, 0, 0, -1, -1, 0, -1, -1, -1, -1, -1, -1, -1, -1, -1, -1, -1, -1, -1, -1, -1, -1, -1, 0, -1, -1, -1, -1, 0, 0, -1, -1, -1, 3, -1, -1, -1, -1, 0, -1, 0, -1, 1, 0, -1, -1, -1, -1, 2, -1, -1, 0, -1, -1, -1, -1, -1, -1, -1, -1, 0, -1, -1, -1, -1, -1, 0, 1, 0, 3, -1, -1, -1, 2, 0, 0, -1, -1, 0, -1, -1, -1, -1, 0, -1, -1, -1, -1, -1, 0, -1, -1, -1, 0, -1, 0, -1, 0, -1, -1, 0, -1, -1, -1, -1, 2, 0, 0, 0, 0, -1, 0, 0, 2, 0, -1, -1, -1, -1, 0, 0, -1, -1, 3, -1, -1, -1, -1, -1, -1, 0, -1, 2, 0, 0, -1, 1, -1, -1, 0, 0, -1, -1, -1, 0, 0, -1, -1, -1, 0, -1, -1, -1, -1, -1, -1, -1, -1, -1, -1, -1, -1, -1, -1, -1, -1, -1, -1, -1, -1, -1, -1, -1, 1, -1, -1, -1, -1, 0], \"coloraxis\": \"coloraxis\", \"symbol\": \"circle\"}, \"mode\": \"markers\", \"name\": \"\", \"showlegend\": false, \"type\": \"scatter\", \"x\": [2674, 3293, 507, 1777, 1795, 3140, 3321, 1716, 7425, 5977, 549, 3881, 6707, 5058, 964, 4508, 370, 2767, 2518, 2259, 375, 2381, 4482, 4003, 242, 100, 8604, 1107, 2134, 820, 918, 361, 483, 4239, 862, 6506, 6956, 212, 1145, 2575, 6899, 9529, 4618, 7353, 6792, 5121, 13583, 609, 1538, 2587, 5611, 204, 2024, 7572, 227, 3084, 4095, 4074, 7677, 1247, 3468, 5141, 788, 656, 116, 1321, 764, 1901, 3, 529, 12034, 301, 1202, 610, 7818, 3537, 550, 3837, 165, 454, 69, 627, 5038, 223, 3874, 54, 56, 215, 8035, 6766, 4573, 1491, 139, 6830, 8969, 2505, 836, 169, 6457, 483, 585, 118, 276, 310, 319, 411, 266, 174, 264, 25, 1976, 500, 349, 2386, 1062, 410, 395, 70, 955, 256, 47, 199, 2447, 721, 249, 637, 960, 51, 20, 399, 516, 12591, 73, 1082, 283, 113, 170, 255, 352, 302, 7, 11577, 6694, 811, 4004, 8077, 4424, 3, 232, 13726, 3674, 7108, 4973, 1680, 79, 69, 7015, 2840, 9836, 153, 4196, 1532, 20, 120, 273, 1382, 6907, 334, 58, 949, 3459, 6839, 4027, 118, 43, 187, 5618, 355, 330, 4314, 592, 402, 9959, 14235, 954, 5, 9265, 288, 5316, 3381, 12420, 244, 240, 3961, 5957, 5828, 130, 86, 56, 4167, 256, 788, 70, 761, 2568, 263, 4762, 694, 955, 1566, 284, 409, 325, 1216, 415, 28, 72, 828, 343, 412, 586, 1682, 3143, 8933, 430, 44, 562, 918, 234, 205, 363, 1547, 111, 392, 3593, 730, 967, 780, 49, 429, 2894, 5980, 830, 4882, 737, 6374, 333, 197, 147, 93, 210, 759, 96, 603, 274, 3620, 167, 2328, 1041, 314, 436, 1226, 386, 445, 32, 965, 212, 825, 5952, 811, 2208, 710, 3712, 4538, 290, 2662, 8752, 6236, 10069, 11783, 3909, 7558, 351, 257, 6846, 371, 183, 857, 3891, 83, 821, 706, 275, 228, 1470, 1679, 140, 387, 88, 210, 492, 182, 9606, 178, 332, 4111, 146, 442, 573, 7271, 5162, 4595, 217, 3843, 6600, 4621, 1184, 12218, 173, 12638, 90, 8682, 1333, 184, 9, 6747, 536, 232, 468, 159, 179, 1335, 514, 4515, 222, 252, 101, 41, 523, 716, 397, 1916, 311, 476, 4666, 96, 68, 813, 600, 246, 1711, 397, 282, 192, 353, 231, 200, 227, 311, 95, 122, 385, 149, 841, 3378, 64, 74, 469, 153, 10, 632, 914, 593, 1092, 7883, 2730, 2123, 1860, 235, 2970, 1135, 3540, 6728, 3485, 6740, 1580, 6818, 3415, 948, 1803, 3213, 5079, 850, 84, 241, 1328, 356, 2371, 93, 14841, 168, 477], \"xaxis\": \"x\", \"y\": [9656, 9810, 1196, 5410, 8259, 3199, 4956, 3648, 11093, 5403, 1124, 12319, 6208, 9465, 1114, 8816, 6157, 6327, 2495, 4519, 871, 1917, 9776, 4230, 961, 803, 20484, 2100, 3610, 4339, 1318, 4786, 1979, 5491, 4362, 10556, 15729, 555, 4332, 3065, 7555, 11095, 7027, 22044, 14069, 6152, 21412, 1095, 4051, 3916, 10473, 1449, 3683, 9933, 1970, 5360, 3045, 6245, 11601, 1227, 1534, 6759, 7260, 2820, 2037, 5139, 5332, 6343, 1137, 3587, 12697, 1175, 3259, 829, 9540, 9232, 1563, 3327, 542, 3836, 596, 2762, 12220, 2920, 2616, 254, 112, 2182, 7779, 10810, 6459, 2132, 1014, 6337, 10646, 8397, 16729, 1648, 11114, 2770, 2295, 1080, 793, 2521, 3880, 1891, 2344, 1200, 3234, 201, 10769, 1642, 1840, 7243, 8847, 926, 2428, 589, 2032, 1042, 1882, 1289, 8579, 8080, 4257, 4979, 4280, 13252, 7152, 1596, 3677, 8384, 1936, 3373, 584, 1433, 1825, 3328, 1371, 9250, 55, 10690, 5291, 1366, 6570, 7704, 3651, 540, 2024, 15726, 7603, 12653, 6721, 3195, 735, 717, 8675, 5479, 7677, 1208, 7845, 6958, 7330, 7075, 4888, 6036, 8533, 918, 6448, 521, 8002, 7639, 11577, 6250, 295, 1461, 3485, 1012, 5139, 7097, 2154, 2280, 13240, 14399, 685, 891, 11711, 780, 4737, 3748, 12729, 1895, 1012, 6602, 6551, 10765, 1475, 367, 899, 7503, 1115, 2527, 659, 3243, 5921, 2204, 577, 2746, 5989, 10678, 1780, 4984, 2703, 6380, 820, 3838, 475, 2567, 3575, 1801, 659, 3576, 7775, 6154, 2428, 346, 5279, 3795, 1993, 1860, 7961, 17972, 489, 5008, 1931, 4563, 4959, 4885, 1110, 1372, 1115, 9679, 23527, 9763, 1222, 8053, 258, 1032, 5007, 8323, 3045, 1703, 1610, 3749, 2317, 6200, 2884, 7108, 3965, 3613, 640, 2247, 2102, 594, 286, 2160, 3354, 3086, 11103, 2013, 1897, 1304, 3199, 4560, 879, 6243, 13316, 5302, 3688, 7460, 12939, 12867, 2374, 1020, 20655, 2335, 925, 1795, 14982, 1375, 3088, 2713, 3696, 1897, 713, 944, 3587, 1610, 899, 2209, 1486, 1786, 14881, 3216, 928, 6817, 1511, 1347, 1188, 4025, 5763, 5758, 1172, 2602, 6939, 7184, 2380, 14641, 1099, 10044, 1106, 6264, 7393, 727, 134, 1275, 18664, 5878, 2872, 607, 1601, 997, 873, 6128, 2217, 894, 1196, 337, 3944, 1887, 3801, 6257, 2256, 1450, 8630, 3154, 3294, 5164, 944, 4591, 7435, 1364, 21858, 922, 3620, 1916, 848, 1530, 1181, 2761, 4180, 6730, 865, 1316, 11991, 1666, 1032, 577, 906, 4753, 11006, 4613, 1046, 5010, 12844, 3880, 3634, 2096, 3289, 3605, 1990, 6046, 10940, 5499, 8494, 3783, 5266, 4847, 1377, 3686, 2884, 9347, 5970, 1750, 4230, 1162, 3218, 3922, 1431, 15488, 1981, 1698], \"yaxis\": \"y\"}],\n",
       "                        {\"coloraxis\": {\"colorbar\": {\"title\": {\"text\": \"labels_DBSCAN\"}}, \"colorscale\": [[0.0, \"#0d0887\"], [0.1111111111111111, \"#46039f\"], [0.2222222222222222, \"#7201a8\"], [0.3333333333333333, \"#9c179e\"], [0.4444444444444444, \"#bd3786\"], [0.5555555555555556, \"#d8576b\"], [0.6666666666666666, \"#ed7953\"], [0.7777777777777778, \"#fb9f3a\"], [0.8888888888888888, \"#fdca26\"], [1.0, \"#f0f921\"]]}, \"legend\": {\"tracegroupgap\": 0}, \"margin\": {\"t\": 60}, \"template\": {\"data\": {\"bar\": [{\"error_x\": {\"color\": \"#2a3f5f\"}, \"error_y\": {\"color\": \"#2a3f5f\"}, \"marker\": {\"line\": {\"color\": \"#E5ECF6\", \"width\": 0.5}}, \"type\": \"bar\"}], \"barpolar\": [{\"marker\": {\"line\": {\"color\": \"#E5ECF6\", \"width\": 0.5}}, \"type\": \"barpolar\"}], \"carpet\": [{\"aaxis\": {\"endlinecolor\": \"#2a3f5f\", \"gridcolor\": \"white\", \"linecolor\": \"white\", \"minorgridcolor\": \"white\", \"startlinecolor\": \"#2a3f5f\"}, \"baxis\": {\"endlinecolor\": \"#2a3f5f\", \"gridcolor\": \"white\", \"linecolor\": \"white\", \"minorgridcolor\": \"white\", \"startlinecolor\": \"#2a3f5f\"}, \"type\": \"carpet\"}], \"choropleth\": [{\"colorbar\": {\"outlinewidth\": 0, \"ticks\": \"\"}, \"type\": \"choropleth\"}], \"contour\": [{\"colorbar\": {\"outlinewidth\": 0, \"ticks\": \"\"}, \"colorscale\": [[0.0, \"#0d0887\"], [0.1111111111111111, \"#46039f\"], [0.2222222222222222, \"#7201a8\"], [0.3333333333333333, \"#9c179e\"], [0.4444444444444444, \"#bd3786\"], [0.5555555555555556, \"#d8576b\"], [0.6666666666666666, \"#ed7953\"], [0.7777777777777778, \"#fb9f3a\"], [0.8888888888888888, \"#fdca26\"], [1.0, \"#f0f921\"]], \"type\": \"contour\"}], \"contourcarpet\": [{\"colorbar\": {\"outlinewidth\": 0, \"ticks\": \"\"}, \"type\": \"contourcarpet\"}], \"heatmap\": [{\"colorbar\": {\"outlinewidth\": 0, \"ticks\": \"\"}, \"colorscale\": [[0.0, \"#0d0887\"], [0.1111111111111111, \"#46039f\"], [0.2222222222222222, \"#7201a8\"], [0.3333333333333333, \"#9c179e\"], [0.4444444444444444, \"#bd3786\"], [0.5555555555555556, \"#d8576b\"], [0.6666666666666666, \"#ed7953\"], [0.7777777777777778, \"#fb9f3a\"], [0.8888888888888888, \"#fdca26\"], [1.0, \"#f0f921\"]], \"type\": \"heatmap\"}], \"heatmapgl\": [{\"colorbar\": {\"outlinewidth\": 0, \"ticks\": \"\"}, \"colorscale\": [[0.0, \"#0d0887\"], [0.1111111111111111, \"#46039f\"], [0.2222222222222222, \"#7201a8\"], [0.3333333333333333, \"#9c179e\"], [0.4444444444444444, \"#bd3786\"], [0.5555555555555556, \"#d8576b\"], [0.6666666666666666, \"#ed7953\"], [0.7777777777777778, \"#fb9f3a\"], [0.8888888888888888, \"#fdca26\"], [1.0, \"#f0f921\"]], \"type\": \"heatmapgl\"}], \"histogram\": [{\"marker\": {\"colorbar\": {\"outlinewidth\": 0, \"ticks\": \"\"}}, \"type\": \"histogram\"}], \"histogram2d\": [{\"colorbar\": {\"outlinewidth\": 0, \"ticks\": \"\"}, \"colorscale\": [[0.0, \"#0d0887\"], [0.1111111111111111, \"#46039f\"], [0.2222222222222222, \"#7201a8\"], [0.3333333333333333, \"#9c179e\"], [0.4444444444444444, \"#bd3786\"], [0.5555555555555556, \"#d8576b\"], [0.6666666666666666, \"#ed7953\"], [0.7777777777777778, \"#fb9f3a\"], [0.8888888888888888, \"#fdca26\"], [1.0, \"#f0f921\"]], \"type\": \"histogram2d\"}], \"histogram2dcontour\": [{\"colorbar\": {\"outlinewidth\": 0, \"ticks\": \"\"}, \"colorscale\": [[0.0, \"#0d0887\"], [0.1111111111111111, \"#46039f\"], [0.2222222222222222, \"#7201a8\"], [0.3333333333333333, \"#9c179e\"], [0.4444444444444444, \"#bd3786\"], [0.5555555555555556, \"#d8576b\"], [0.6666666666666666, \"#ed7953\"], [0.7777777777777778, \"#fb9f3a\"], [0.8888888888888888, \"#fdca26\"], [1.0, \"#f0f921\"]], \"type\": \"histogram2dcontour\"}], \"mesh3d\": [{\"colorbar\": {\"outlinewidth\": 0, \"ticks\": \"\"}, \"type\": \"mesh3d\"}], \"parcoords\": [{\"line\": {\"colorbar\": {\"outlinewidth\": 0, \"ticks\": \"\"}}, \"type\": \"parcoords\"}], \"pie\": [{\"automargin\": true, \"type\": \"pie\"}], \"scatter\": [{\"marker\": {\"colorbar\": {\"outlinewidth\": 0, \"ticks\": \"\"}}, \"type\": \"scatter\"}], \"scatter3d\": [{\"line\": {\"colorbar\": {\"outlinewidth\": 0, \"ticks\": \"\"}}, \"marker\": {\"colorbar\": {\"outlinewidth\": 0, \"ticks\": \"\"}}, \"type\": \"scatter3d\"}], \"scattercarpet\": [{\"marker\": {\"colorbar\": {\"outlinewidth\": 0, \"ticks\": \"\"}}, \"type\": \"scattercarpet\"}], \"scattergeo\": [{\"marker\": {\"colorbar\": {\"outlinewidth\": 0, \"ticks\": \"\"}}, \"type\": \"scattergeo\"}], \"scattergl\": [{\"marker\": {\"colorbar\": {\"outlinewidth\": 0, \"ticks\": \"\"}}, \"type\": \"scattergl\"}], \"scattermapbox\": [{\"marker\": {\"colorbar\": {\"outlinewidth\": 0, \"ticks\": \"\"}}, \"type\": \"scattermapbox\"}], \"scatterpolar\": [{\"marker\": {\"colorbar\": {\"outlinewidth\": 0, \"ticks\": \"\"}}, \"type\": \"scatterpolar\"}], \"scatterpolargl\": [{\"marker\": {\"colorbar\": {\"outlinewidth\": 0, \"ticks\": \"\"}}, \"type\": \"scatterpolargl\"}], \"scatterternary\": [{\"marker\": {\"colorbar\": {\"outlinewidth\": 0, \"ticks\": \"\"}}, \"type\": \"scatterternary\"}], \"surface\": [{\"colorbar\": {\"outlinewidth\": 0, \"ticks\": \"\"}, \"colorscale\": [[0.0, \"#0d0887\"], [0.1111111111111111, \"#46039f\"], [0.2222222222222222, \"#7201a8\"], [0.3333333333333333, \"#9c179e\"], [0.4444444444444444, \"#bd3786\"], [0.5555555555555556, \"#d8576b\"], [0.6666666666666666, \"#ed7953\"], [0.7777777777777778, \"#fb9f3a\"], [0.8888888888888888, \"#fdca26\"], [1.0, \"#f0f921\"]], \"type\": \"surface\"}], \"table\": [{\"cells\": {\"fill\": {\"color\": \"#EBF0F8\"}, \"line\": {\"color\": \"white\"}}, \"header\": {\"fill\": {\"color\": \"#C8D4E3\"}, \"line\": {\"color\": \"white\"}}, \"type\": \"table\"}]}, \"layout\": {\"annotationdefaults\": {\"arrowcolor\": \"#2a3f5f\", \"arrowhead\": 0, \"arrowwidth\": 1}, \"coloraxis\": {\"colorbar\": {\"outlinewidth\": 0, \"ticks\": \"\"}}, \"colorscale\": {\"diverging\": [[0, \"#8e0152\"], [0.1, \"#c51b7d\"], [0.2, \"#de77ae\"], [0.3, \"#f1b6da\"], [0.4, \"#fde0ef\"], [0.5, \"#f7f7f7\"], [0.6, \"#e6f5d0\"], [0.7, \"#b8e186\"], [0.8, \"#7fbc41\"], [0.9, \"#4d9221\"], [1, \"#276419\"]], \"sequential\": [[0.0, \"#0d0887\"], [0.1111111111111111, \"#46039f\"], [0.2222222222222222, \"#7201a8\"], [0.3333333333333333, \"#9c179e\"], [0.4444444444444444, \"#bd3786\"], [0.5555555555555556, \"#d8576b\"], [0.6666666666666666, \"#ed7953\"], [0.7777777777777778, \"#fb9f3a\"], [0.8888888888888888, \"#fdca26\"], [1.0, \"#f0f921\"]], \"sequentialminus\": [[0.0, \"#0d0887\"], [0.1111111111111111, \"#46039f\"], [0.2222222222222222, \"#7201a8\"], [0.3333333333333333, \"#9c179e\"], [0.4444444444444444, \"#bd3786\"], [0.5555555555555556, \"#d8576b\"], [0.6666666666666666, \"#ed7953\"], [0.7777777777777778, \"#fb9f3a\"], [0.8888888888888888, \"#fdca26\"], [1.0, \"#f0f921\"]]}, \"colorway\": [\"#636efa\", \"#EF553B\", \"#00cc96\", \"#ab63fa\", \"#FFA15A\", \"#19d3f3\", \"#FF6692\", \"#B6E880\", \"#FF97FF\", \"#FECB52\"], \"font\": {\"color\": \"#2a3f5f\"}, \"geo\": {\"bgcolor\": \"white\", \"lakecolor\": \"white\", \"landcolor\": \"#E5ECF6\", \"showlakes\": true, \"showland\": true, \"subunitcolor\": \"white\"}, \"hoverlabel\": {\"align\": \"left\"}, \"hovermode\": \"closest\", \"mapbox\": {\"style\": \"light\"}, \"paper_bgcolor\": \"white\", \"plot_bgcolor\": \"#E5ECF6\", \"polar\": {\"angularaxis\": {\"gridcolor\": \"white\", \"linecolor\": \"white\", \"ticks\": \"\"}, \"bgcolor\": \"#E5ECF6\", \"radialaxis\": {\"gridcolor\": \"white\", \"linecolor\": \"white\", \"ticks\": \"\"}}, \"scene\": {\"xaxis\": {\"backgroundcolor\": \"#E5ECF6\", \"gridcolor\": \"white\", \"gridwidth\": 2, \"linecolor\": \"white\", \"showbackground\": true, \"ticks\": \"\", \"zerolinecolor\": \"white\"}, \"yaxis\": {\"backgroundcolor\": \"#E5ECF6\", \"gridcolor\": \"white\", \"gridwidth\": 2, \"linecolor\": \"white\", \"showbackground\": true, \"ticks\": \"\", \"zerolinecolor\": \"white\"}, \"zaxis\": {\"backgroundcolor\": \"#E5ECF6\", \"gridcolor\": \"white\", \"gridwidth\": 2, \"linecolor\": \"white\", \"showbackground\": true, \"ticks\": \"\", \"zerolinecolor\": \"white\"}}, \"shapedefaults\": {\"line\": {\"color\": \"#2a3f5f\"}}, \"ternary\": {\"aaxis\": {\"gridcolor\": \"white\", \"linecolor\": \"white\", \"ticks\": \"\"}, \"baxis\": {\"gridcolor\": \"white\", \"linecolor\": \"white\", \"ticks\": \"\"}, \"bgcolor\": \"#E5ECF6\", \"caxis\": {\"gridcolor\": \"white\", \"linecolor\": \"white\", \"ticks\": \"\"}}, \"title\": {\"x\": 0.05}, \"xaxis\": {\"automargin\": true, \"gridcolor\": \"white\", \"linecolor\": \"white\", \"ticks\": \"\", \"title\": {\"standoff\": 15}, \"zerolinecolor\": \"white\", \"zerolinewidth\": 2}, \"yaxis\": {\"automargin\": true, \"gridcolor\": \"white\", \"linecolor\": \"white\", \"ticks\": \"\", \"title\": {\"standoff\": 15}, \"zerolinecolor\": \"white\", \"zerolinewidth\": 2}}}, \"title\": {\"text\": \"Detergents_Paper vs Milk by labels_DBSCAN\"}, \"xaxis\": {\"anchor\": \"y\", \"domain\": [0.0, 1.0], \"title\": {\"text\": \"Detergents_Paper\"}}, \"yaxis\": {\"anchor\": \"x\", \"domain\": [0.0, 1.0], \"title\": {\"text\": \"Milk\"}}},\n",
       "                        {\"responsive\": true}\n",
       "                    ).then(function(){\n",
       "                            \n",
       "var gd = document.getElementById('19c2cd2b-6c8f-419b-a196-95593a5fe4ab');\n",
       "var x = new MutationObserver(function (mutations, observer) {{\n",
       "        var display = window.getComputedStyle(gd).display;\n",
       "        if (!display || display === 'none') {{\n",
       "            console.log([gd, 'removed!']);\n",
       "            Plotly.purge(gd);\n",
       "            observer.disconnect();\n",
       "        }}\n",
       "}});\n",
       "\n",
       "// Listen for the removal of the full notebook cells\n",
       "var notebookContainer = gd.closest('#notebook-container');\n",
       "if (notebookContainer) {{\n",
       "    x.observe(notebookContainer, {childList: true});\n",
       "}}\n",
       "\n",
       "// Listen for the clearing of the current output cell\n",
       "var outputEl = gd.closest('.output');\n",
       "if (outputEl) {{\n",
       "    x.observe(outputEl, {childList: true});\n",
       "}}\n",
       "\n",
       "                        })\n",
       "                };\n",
       "                });\n",
       "            </script>\n",
       "        </div>"
      ]
     },
     "metadata": {},
     "output_type": "display_data"
    }
   ],
   "source": [
    "fig_labels = px.scatter(data, x=\"Detergents_Paper\", y=\"Milk\", color=\"labels\")\n",
    "fig_labels.update_layout(title='Detergents_Paper vs Milk by labels')\n",
    "fig_labels.show()\n",
    "\n",
    "fig_labels_DBSCAN= px.scatter(data, x=\"Detergents_Paper\", y=\"Milk\", color=\"labels_DBSCAN\")\n",
    "fig_labels_DBSCAN.update_layout(title='Detergents_Paper vs Milk by labels_DBSCAN')\n",
    "fig_labels_DBSCAN.show()"
   ]
  },
  {
   "cell_type": "markdown",
   "metadata": {},
   "source": [
    "Visualize `Grocery` as X and `Fresh` as y by `labels` and `labels_DBSCAN` respectively"
   ]
  },
  {
   "cell_type": "code",
   "execution_count": 46,
   "metadata": {},
   "outputs": [
    {
     "data": {
      "application/vnd.plotly.v1+json": {
       "config": {
        "plotlyServerURL": "https://plot.ly"
       },
       "data": [
        {
         "hoverlabel": {
          "namelength": 0
         },
         "hovertemplate": "Grocery=%{x}<br>Fresh=%{y}<br>labels=%{marker.color}",
         "legendgroup": "",
         "marker": {
          "color": [
           1,
           1,
           2,
           6,
           1,
           3,
           6,
           3,
           4,
           1,
           5,
           6,
           1,
           1,
           3,
           1,
           6,
           6,
           3,
           6,
           3,
           6,
           6,
           5,
           5,
           5,
           7,
           0,
           6,
           3,
           5,
           0,
           3,
           1,
           6,
           1,
           4,
           0,
           6,
           6,
           1,
           4,
           1,
           7,
           4,
           1,
           4,
           5,
           3,
           0,
           1,
           5,
           3,
           1,
           5,
           1,
           3,
           1,
           4,
           3,
           3,
           1,
           6,
           3,
           2,
           2,
           2,
           1,
           5,
           2,
           4,
           5,
           3,
           3,
           1,
           1,
           5,
           3,
           2,
           6,
           5,
           2,
           1,
           3,
           3,
           3,
           3,
           2,
           1,
           1,
           1,
           5,
           5,
           1,
           4,
           1,
           4,
           5,
           4,
           2,
           5,
           5,
           5,
           3,
           3,
           2,
           5,
           5,
           3,
           5,
           1,
           0,
           2,
           6,
           3,
           0,
           2,
           3,
           5,
           3,
           3,
           3,
           1,
           3,
           6,
           3,
           6,
           0,
           0,
           2,
           5,
           4,
           3,
           3,
           3,
           0,
           5,
           3,
           5,
           3,
           3,
           4,
           1,
           5,
           1,
           1,
           1,
           5,
           5,
           4,
           1,
           4,
           6,
           3,
           3,
           3,
           1,
           3,
           4,
           3,
           1,
           0,
           6,
           3,
           2,
           6,
           1,
           3,
           3,
           3,
           2,
           1,
           1,
           2,
           5,
           3,
           1,
           3,
           2,
           1,
           5,
           3,
           4,
           4,
           3,
           3,
           4,
           3,
           1,
           3,
           4,
           5,
           3,
           1,
           1,
           1,
           5,
           3,
           5,
           1,
           2,
           2,
           3,
           5,
           5,
           3,
           3,
           2,
           2,
           3,
           5,
           3,
           6,
           3,
           3,
           5,
           3,
           0,
           2,
           5,
           5,
           6,
           1,
           1,
           3,
           5,
           5,
           2,
           3,
           2,
           1,
           7,
           0,
           3,
           2,
           0,
           0,
           3,
           2,
           5,
           3,
           1,
           7,
           4,
           6,
           1,
           5,
           2,
           3,
           3,
           0,
           3,
           3,
           6,
           2,
           1,
           3,
           6,
           0,
           2,
           0,
           3,
           2,
           5,
           0,
           3,
           3,
           3,
           1,
           5,
           3,
           5,
           3,
           1,
           3,
           6,
           4,
           1,
           1,
           4,
           1,
           4,
           5,
           3,
           4,
           5,
           5,
           5,
           7,
           3,
           3,
           5,
           3,
           5,
           5,
           5,
           5,
           3,
           3,
           2,
           2,
           5,
           4,
           6,
           2,
           6,
           5,
           2,
           2,
           1,
           1,
           1,
           3,
           3,
           1,
           1,
           3,
           4,
           3,
           4,
           3,
           4,
           2,
           3,
           5,
           1,
           7,
           3,
           5,
           3,
           3,
           3,
           3,
           6,
           3,
           3,
           5,
           3,
           0,
           2,
           6,
           6,
           3,
           3,
           1,
           0,
           3,
           3,
           5,
           2,
           6,
           3,
           7,
           5,
           3,
           5,
           3,
           5,
           2,
           3,
           3,
           2,
           5,
           5,
           1,
           2,
           2,
           3,
           3,
           5,
           5,
           5,
           3,
           2,
           4,
           3,
           6,
           3,
           6,
           1,
           2,
           1,
           1,
           1,
           1,
           3,
           1,
           1,
           5,
           5,
           1,
           1,
           3,
           3,
           1,
           5,
           3,
           5,
           0,
           4,
           5,
           3
          ],
          "coloraxis": "coloraxis",
          "symbol": "circle"
         },
         "mode": "markers",
         "name": "",
         "showlegend": false,
         "type": "scatter",
         "x": [
          7561,
          9568,
          4221,
          7198,
          5126,
          6975,
          9426,
          6192,
          18881,
          12974,
          4523,
          11757,
          14982,
          12091,
          3821,
          12121,
          2933,
          10099,
          9464,
          4602,
          2010,
          4469,
          13792,
          7595,
          2861,
          3045,
          25957,
          2609,
          11107,
          3133,
          2886,
          7326,
          2262,
          11091,
          5428,
          12477,
          16709,
          902,
          4757,
          5956,
          14961,
          23998,
          10471,
          21531,
          21955,
          10868,
          28921,
          1980,
          6996,
          5876,
          11532,
          1947,
          5005,
          10487,
          1648,
          8040,
          7854,
          6544,
          15775,
          3250,
          7417,
          13462,
          3993,
          1293,
          3202,
          2661,
          8713,
          9794,
          3,
          6532,
          28540,
          2067,
          3655,
          3009,
          14403,
          11009,
          1783,
          4814,
          4042,
          5330,
          1638,
          2530,
          11323,
          6252,
          8118,
          610,
          778,
          1909,
          12144,
          16267,
          7677,
          3445,
          3970,
          10704,
          14886,
          6981,
          28986,
          1694,
          17569,
          2469,
          1733,
          2000,
          2988,
          3355,
          5380,
          2362,
          2147,
          3412,
          1498,
          245,
          8814,
          2961,
          1658,
          10685,
          3823,
          1510,
          699,
          314,
          2479,
          1235,
          2174,
          2591,
          7030,
          8282,
          5034,
          3343,
          7305,
          5189,
          8253,
          1096,
          1988,
          34792,
          2177,
          2707,
          542,
          1651,
          1765,
          2022,
          3135,
          2368,
          137,
          19460,
          14855,
          2474,
          9618,
          14682,
          12822,
          283,
          3810,
          26870,
          8584,
          19858,
          9170,
          3268,
          803,
          2155,
          13430,
          6536,
          19805,
          5241,
          11874,
          6536,
          4533,
          4945,
          2500,
          8887,
          10518,
          4710,
          1139,
          854,
          9819,
          11687,
          11522,
          1981,
          1381,
          2251,
          20292,
          2974,
          5230,
          10391,
          6824,
          2112,
          23127,
          24708,
          2216,
          5226,
          23596,
          950,
          6089,
          5838,
          16767,
          1393,
          2062,
          6861,
          11364,
          15538,
          2046,
          1390,
          1382,
          10646,
          2856,
          5265,
          1499,
          4157,
          9212,
          1563,
          572,
          2501,
          5615,
          3828,
          3838,
          3316,
          3833,
          2824,
          3047,
          593,
          585,
          3779,
          7041,
          2475,
          2914,
          5119,
          10817,
          13916,
          1777,
          489,
          2406,
          2070,
          1799,
          4740,
          16966,
          4748,
          1495,
          5249,
          1883,
          2124,
          7336,
          2157,
          1094,
          1677,
          6684,
          15445,
          13699,
          22182,
          2576,
          19847,
          1138,
          975,
          1563,
          6869,
          1493,
          1841,
          223,
          6964,
          2543,
          9694,
          2431,
          6235,
          4252,
          2013,
          3600,
          1242,
          2828,
          1296,
          471,
          2642,
          3261,
          4329,
          12469,
          6550,
          5234,
          3643,
          6986,
          9965,
          2060,
          6360,
          20399,
          9785,
          13829,
          24773,
          8852,
          21570,
          2842,
          3007,
          13567,
          8280,
          2405,
          7647,
          11924,
          2201,
          6114,
          3558,
          2280,
          5167,
          3315,
          11593,
          2464,
          1431,
          1664,
          3389,
          4583,
          5109,
          26839,
          1447,
          2743,
          10790,
          1330,
          2611,
          5332,
          9670,
          11238,
          5923,
          1763,
          8335,
          15541,
          12311,
          2028,
          20521,
          1997,
          22294,
          1533,
          21203,
          2548,
          2012,
          218,
          22272,
          1660,
          2109,
          2006,
          864,
          2453,
          4438,
          1524,
          8025,
          1664,
          534,
          2406,
          683,
          4955,
          1939,
          1641,
          7398,
          1668,
          1162,
          13586,
          2648,
          1902,
          10391,
          2146,
          1617,
          8469,
          3450,
          15400,
          1614,
          2857,
          1573,
          1172,
          1422,
          1328,
          2313,
          3600,
          3842,
          3204,
          1263,
          9345,
          1428,
          582,
          935,
          1238,
          5091,
          4604,
          3444,
          1167,
          5026,
          18683,
          6407,
          6100,
          4563,
          3281,
          12400,
          3417,
          8552,
          10908,
          11055,
          18622,
          2223,
          13227,
          9053,
          4172,
          4657,
          12232,
          14316,
          4910,
          3580,
          16483,
          4754,
          1493,
          7994,
          764,
          30243,
          2232,
          2510
         ],
         "xaxis": "x",
         "y": [
          12669,
          7057,
          13265,
          22615,
          9413,
          12126,
          7579,
          5963,
          6006,
          3366,
          13146,
          31714,
          21217,
          24653,
          10253,
          1020,
          5876,
          18601,
          7780,
          17546,
          5567,
          31276,
          22647,
          16165,
          9898,
          14276,
          4113,
          43088,
          18815,
          2612,
          21632,
          29729,
          1502,
          688,
          29955,
          15168,
          4591,
          56159,
          24025,
          19176,
          10850,
          630,
          9670,
          5181,
          3103,
          11519,
          4967,
          6269,
          3347,
          40721,
          491,
          27329,
          5264,
          5417,
          13779,
          6137,
          8590,
          7823,
          9396,
          4760,
          9,
          19913,
          2446,
          8352,
          16705,
          4420,
          19899,
          8190,
          20398,
          717,
          12205,
          10766,
          1640,
          7005,
          219,
          10362,
          20874,
          11867,
          7864,
          24904,
          11405,
          12754,
          5626,
          3,
          23,
          403,
          503,
          9658,
          11594,
          1420,
          2932,
          14100,
          15587,
          1454,
          8797,
          1531,
          1406,
          11818,
          12579,
          19046,
          14438,
          18044,
          11134,
          11173,
          6990,
          20049,
          8258,
          17160,
          4020,
          12212,
          11170,
          36050,
          19219,
          21465,
          140,
          42312,
          7149,
          2101,
          14903,
          9434,
          7388,
          6300,
          4625,
          3087,
          13537,
          5387,
          17623,
          30379,
          37036,
          10405,
          18827,
          22039,
          7769,
          9203,
          5924,
          31812,
          16225,
          1289,
          18840,
          3463,
          622,
          1989,
          3830,
          17773,
          2861,
          355,
          1725,
          12434,
          15177,
          5531,
          5224,
          15615,
          4822,
          2926,
          5809,
          5414,
          260,
          955,
          514,
          286,
          2343,
          45640,
          12759,
          11002,
          3157,
          12356,
          694,
          327,
          8170,
          3009,
          2438,
          8040,
          834,
          16936,
          13624,
          5509,
          180,
          7107,
          17023,
          2427,
          11686,
          9670,
          3067,
          4484,
          583,
          1956,
          1107,
          6373,
          2541,
          1537,
          5550,
          18567,
          7291,
          3317,
          2362,
          2806,
          18044,
          4155,
          14755,
          5396,
          5041,
          2790,
          7274,
          12680,
          20782,
          4042,
          1869,
          8656,
          11072,
          2344,
          25962,
          964,
          15603,
          1838,
          8635,
          18692,
          7363,
          47493,
          22096,
          24929,
          18226,
          11210,
          6202,
          3062,
          8885,
          13569,
          15671,
          8040,
          3191,
          6623,
          29526,
          10379,
          31614,
          11092,
          8475,
          56083,
          53205,
          9193,
          7858,
          23257,
          2153,
          1073,
          5909,
          572,
          20893,
          11908,
          15218,
          4720,
          2083,
          514,
          36817,
          894,
          680,
          27901,
          11693,
          17360,
          3366,
          12238,
          49063,
          25767,
          40254,
          7149,
          15354,
          16260,
          42786,
          2708,
          6022,
          2838,
          3996,
          21273,
          7588,
          19087,
          8090,
          6758,
          444,
          16448,
          5283,
          2886,
          2599,
          161,
          243,
          6468,
          17327,
          6987,
          918,
          29635,
          9784,
          10617,
          1479,
          7127,
          1182,
          11800,
          1774,
          9155,
          15881,
          13360,
          25977,
          4414,
          542,
          16933,
          5113,
          9790,
          11223,
          22321,
          16823,
          27082,
          13970,
          9351,
          2617,
          381,
          2320,
          255,
          3043,
          1198,
          2771,
          27380,
          3428,
          5981,
          3521,
          1210,
          608,
          117,
          14039,
          190,
          22686,
          37,
          759,
          796,
          19746,
          4734,
          2121,
          4627,
          2615,
          4692,
          9561,
          3477,
          22335,
          6211,
          39679,
          20105,
          3884,
          15076,
          6338,
          5841,
          3136,
          38793,
          3225,
          4048,
          28257,
          17770,
          34454,
          1821,
          10683,
          11635,
          1206,
          20918,
          9785,
          9385,
          3352,
          2647,
          518,
          23632,
          12377,
          9602,
          4515,
          11535,
          11442,
          9612,
          4446,
          26539,
          25606,
          18073,
          6884,
          25066,
          7362,
          8257,
          8708,
          6633,
          2126,
          97,
          5969,
          7842,
          4389,
          5065,
          660,
          8861,
          4456,
          17063,
          26400,
          17565,
          16980,
          13134,
          3047,
          8607,
          3097,
          21117,
          1982,
          16731,
          39228,
          14531,
          10290,
          2787
         ],
         "yaxis": "y"
        }
       ],
       "layout": {
        "coloraxis": {
         "colorbar": {
          "title": {
           "text": "labels"
          }
         },
         "colorscale": [
          [
           0,
           "#0d0887"
          ],
          [
           0.1111111111111111,
           "#46039f"
          ],
          [
           0.2222222222222222,
           "#7201a8"
          ],
          [
           0.3333333333333333,
           "#9c179e"
          ],
          [
           0.4444444444444444,
           "#bd3786"
          ],
          [
           0.5555555555555556,
           "#d8576b"
          ],
          [
           0.6666666666666666,
           "#ed7953"
          ],
          [
           0.7777777777777778,
           "#fb9f3a"
          ],
          [
           0.8888888888888888,
           "#fdca26"
          ],
          [
           1,
           "#f0f921"
          ]
         ]
        },
        "legend": {
         "tracegroupgap": 0
        },
        "margin": {
         "t": 60
        },
        "template": {
         "data": {
          "bar": [
           {
            "error_x": {
             "color": "#2a3f5f"
            },
            "error_y": {
             "color": "#2a3f5f"
            },
            "marker": {
             "line": {
              "color": "#E5ECF6",
              "width": 0.5
             }
            },
            "type": "bar"
           }
          ],
          "barpolar": [
           {
            "marker": {
             "line": {
              "color": "#E5ECF6",
              "width": 0.5
             }
            },
            "type": "barpolar"
           }
          ],
          "carpet": [
           {
            "aaxis": {
             "endlinecolor": "#2a3f5f",
             "gridcolor": "white",
             "linecolor": "white",
             "minorgridcolor": "white",
             "startlinecolor": "#2a3f5f"
            },
            "baxis": {
             "endlinecolor": "#2a3f5f",
             "gridcolor": "white",
             "linecolor": "white",
             "minorgridcolor": "white",
             "startlinecolor": "#2a3f5f"
            },
            "type": "carpet"
           }
          ],
          "choropleth": [
           {
            "colorbar": {
             "outlinewidth": 0,
             "ticks": ""
            },
            "type": "choropleth"
           }
          ],
          "contour": [
           {
            "colorbar": {
             "outlinewidth": 0,
             "ticks": ""
            },
            "colorscale": [
             [
              0,
              "#0d0887"
             ],
             [
              0.1111111111111111,
              "#46039f"
             ],
             [
              0.2222222222222222,
              "#7201a8"
             ],
             [
              0.3333333333333333,
              "#9c179e"
             ],
             [
              0.4444444444444444,
              "#bd3786"
             ],
             [
              0.5555555555555556,
              "#d8576b"
             ],
             [
              0.6666666666666666,
              "#ed7953"
             ],
             [
              0.7777777777777778,
              "#fb9f3a"
             ],
             [
              0.8888888888888888,
              "#fdca26"
             ],
             [
              1,
              "#f0f921"
             ]
            ],
            "type": "contour"
           }
          ],
          "contourcarpet": [
           {
            "colorbar": {
             "outlinewidth": 0,
             "ticks": ""
            },
            "type": "contourcarpet"
           }
          ],
          "heatmap": [
           {
            "colorbar": {
             "outlinewidth": 0,
             "ticks": ""
            },
            "colorscale": [
             [
              0,
              "#0d0887"
             ],
             [
              0.1111111111111111,
              "#46039f"
             ],
             [
              0.2222222222222222,
              "#7201a8"
             ],
             [
              0.3333333333333333,
              "#9c179e"
             ],
             [
              0.4444444444444444,
              "#bd3786"
             ],
             [
              0.5555555555555556,
              "#d8576b"
             ],
             [
              0.6666666666666666,
              "#ed7953"
             ],
             [
              0.7777777777777778,
              "#fb9f3a"
             ],
             [
              0.8888888888888888,
              "#fdca26"
             ],
             [
              1,
              "#f0f921"
             ]
            ],
            "type": "heatmap"
           }
          ],
          "heatmapgl": [
           {
            "colorbar": {
             "outlinewidth": 0,
             "ticks": ""
            },
            "colorscale": [
             [
              0,
              "#0d0887"
             ],
             [
              0.1111111111111111,
              "#46039f"
             ],
             [
              0.2222222222222222,
              "#7201a8"
             ],
             [
              0.3333333333333333,
              "#9c179e"
             ],
             [
              0.4444444444444444,
              "#bd3786"
             ],
             [
              0.5555555555555556,
              "#d8576b"
             ],
             [
              0.6666666666666666,
              "#ed7953"
             ],
             [
              0.7777777777777778,
              "#fb9f3a"
             ],
             [
              0.8888888888888888,
              "#fdca26"
             ],
             [
              1,
              "#f0f921"
             ]
            ],
            "type": "heatmapgl"
           }
          ],
          "histogram": [
           {
            "marker": {
             "colorbar": {
              "outlinewidth": 0,
              "ticks": ""
             }
            },
            "type": "histogram"
           }
          ],
          "histogram2d": [
           {
            "colorbar": {
             "outlinewidth": 0,
             "ticks": ""
            },
            "colorscale": [
             [
              0,
              "#0d0887"
             ],
             [
              0.1111111111111111,
              "#46039f"
             ],
             [
              0.2222222222222222,
              "#7201a8"
             ],
             [
              0.3333333333333333,
              "#9c179e"
             ],
             [
              0.4444444444444444,
              "#bd3786"
             ],
             [
              0.5555555555555556,
              "#d8576b"
             ],
             [
              0.6666666666666666,
              "#ed7953"
             ],
             [
              0.7777777777777778,
              "#fb9f3a"
             ],
             [
              0.8888888888888888,
              "#fdca26"
             ],
             [
              1,
              "#f0f921"
             ]
            ],
            "type": "histogram2d"
           }
          ],
          "histogram2dcontour": [
           {
            "colorbar": {
             "outlinewidth": 0,
             "ticks": ""
            },
            "colorscale": [
             [
              0,
              "#0d0887"
             ],
             [
              0.1111111111111111,
              "#46039f"
             ],
             [
              0.2222222222222222,
              "#7201a8"
             ],
             [
              0.3333333333333333,
              "#9c179e"
             ],
             [
              0.4444444444444444,
              "#bd3786"
             ],
             [
              0.5555555555555556,
              "#d8576b"
             ],
             [
              0.6666666666666666,
              "#ed7953"
             ],
             [
              0.7777777777777778,
              "#fb9f3a"
             ],
             [
              0.8888888888888888,
              "#fdca26"
             ],
             [
              1,
              "#f0f921"
             ]
            ],
            "type": "histogram2dcontour"
           }
          ],
          "mesh3d": [
           {
            "colorbar": {
             "outlinewidth": 0,
             "ticks": ""
            },
            "type": "mesh3d"
           }
          ],
          "parcoords": [
           {
            "line": {
             "colorbar": {
              "outlinewidth": 0,
              "ticks": ""
             }
            },
            "type": "parcoords"
           }
          ],
          "pie": [
           {
            "automargin": true,
            "type": "pie"
           }
          ],
          "scatter": [
           {
            "marker": {
             "colorbar": {
              "outlinewidth": 0,
              "ticks": ""
             }
            },
            "type": "scatter"
           }
          ],
          "scatter3d": [
           {
            "line": {
             "colorbar": {
              "outlinewidth": 0,
              "ticks": ""
             }
            },
            "marker": {
             "colorbar": {
              "outlinewidth": 0,
              "ticks": ""
             }
            },
            "type": "scatter3d"
           }
          ],
          "scattercarpet": [
           {
            "marker": {
             "colorbar": {
              "outlinewidth": 0,
              "ticks": ""
             }
            },
            "type": "scattercarpet"
           }
          ],
          "scattergeo": [
           {
            "marker": {
             "colorbar": {
              "outlinewidth": 0,
              "ticks": ""
             }
            },
            "type": "scattergeo"
           }
          ],
          "scattergl": [
           {
            "marker": {
             "colorbar": {
              "outlinewidth": 0,
              "ticks": ""
             }
            },
            "type": "scattergl"
           }
          ],
          "scattermapbox": [
           {
            "marker": {
             "colorbar": {
              "outlinewidth": 0,
              "ticks": ""
             }
            },
            "type": "scattermapbox"
           }
          ],
          "scatterpolar": [
           {
            "marker": {
             "colorbar": {
              "outlinewidth": 0,
              "ticks": ""
             }
            },
            "type": "scatterpolar"
           }
          ],
          "scatterpolargl": [
           {
            "marker": {
             "colorbar": {
              "outlinewidth": 0,
              "ticks": ""
             }
            },
            "type": "scatterpolargl"
           }
          ],
          "scatterternary": [
           {
            "marker": {
             "colorbar": {
              "outlinewidth": 0,
              "ticks": ""
             }
            },
            "type": "scatterternary"
           }
          ],
          "surface": [
           {
            "colorbar": {
             "outlinewidth": 0,
             "ticks": ""
            },
            "colorscale": [
             [
              0,
              "#0d0887"
             ],
             [
              0.1111111111111111,
              "#46039f"
             ],
             [
              0.2222222222222222,
              "#7201a8"
             ],
             [
              0.3333333333333333,
              "#9c179e"
             ],
             [
              0.4444444444444444,
              "#bd3786"
             ],
             [
              0.5555555555555556,
              "#d8576b"
             ],
             [
              0.6666666666666666,
              "#ed7953"
             ],
             [
              0.7777777777777778,
              "#fb9f3a"
             ],
             [
              0.8888888888888888,
              "#fdca26"
             ],
             [
              1,
              "#f0f921"
             ]
            ],
            "type": "surface"
           }
          ],
          "table": [
           {
            "cells": {
             "fill": {
              "color": "#EBF0F8"
             },
             "line": {
              "color": "white"
             }
            },
            "header": {
             "fill": {
              "color": "#C8D4E3"
             },
             "line": {
              "color": "white"
             }
            },
            "type": "table"
           }
          ]
         },
         "layout": {
          "annotationdefaults": {
           "arrowcolor": "#2a3f5f",
           "arrowhead": 0,
           "arrowwidth": 1
          },
          "coloraxis": {
           "colorbar": {
            "outlinewidth": 0,
            "ticks": ""
           }
          },
          "colorscale": {
           "diverging": [
            [
             0,
             "#8e0152"
            ],
            [
             0.1,
             "#c51b7d"
            ],
            [
             0.2,
             "#de77ae"
            ],
            [
             0.3,
             "#f1b6da"
            ],
            [
             0.4,
             "#fde0ef"
            ],
            [
             0.5,
             "#f7f7f7"
            ],
            [
             0.6,
             "#e6f5d0"
            ],
            [
             0.7,
             "#b8e186"
            ],
            [
             0.8,
             "#7fbc41"
            ],
            [
             0.9,
             "#4d9221"
            ],
            [
             1,
             "#276419"
            ]
           ],
           "sequential": [
            [
             0,
             "#0d0887"
            ],
            [
             0.1111111111111111,
             "#46039f"
            ],
            [
             0.2222222222222222,
             "#7201a8"
            ],
            [
             0.3333333333333333,
             "#9c179e"
            ],
            [
             0.4444444444444444,
             "#bd3786"
            ],
            [
             0.5555555555555556,
             "#d8576b"
            ],
            [
             0.6666666666666666,
             "#ed7953"
            ],
            [
             0.7777777777777778,
             "#fb9f3a"
            ],
            [
             0.8888888888888888,
             "#fdca26"
            ],
            [
             1,
             "#f0f921"
            ]
           ],
           "sequentialminus": [
            [
             0,
             "#0d0887"
            ],
            [
             0.1111111111111111,
             "#46039f"
            ],
            [
             0.2222222222222222,
             "#7201a8"
            ],
            [
             0.3333333333333333,
             "#9c179e"
            ],
            [
             0.4444444444444444,
             "#bd3786"
            ],
            [
             0.5555555555555556,
             "#d8576b"
            ],
            [
             0.6666666666666666,
             "#ed7953"
            ],
            [
             0.7777777777777778,
             "#fb9f3a"
            ],
            [
             0.8888888888888888,
             "#fdca26"
            ],
            [
             1,
             "#f0f921"
            ]
           ]
          },
          "colorway": [
           "#636efa",
           "#EF553B",
           "#00cc96",
           "#ab63fa",
           "#FFA15A",
           "#19d3f3",
           "#FF6692",
           "#B6E880",
           "#FF97FF",
           "#FECB52"
          ],
          "font": {
           "color": "#2a3f5f"
          },
          "geo": {
           "bgcolor": "white",
           "lakecolor": "white",
           "landcolor": "#E5ECF6",
           "showlakes": true,
           "showland": true,
           "subunitcolor": "white"
          },
          "hoverlabel": {
           "align": "left"
          },
          "hovermode": "closest",
          "mapbox": {
           "style": "light"
          },
          "paper_bgcolor": "white",
          "plot_bgcolor": "#E5ECF6",
          "polar": {
           "angularaxis": {
            "gridcolor": "white",
            "linecolor": "white",
            "ticks": ""
           },
           "bgcolor": "#E5ECF6",
           "radialaxis": {
            "gridcolor": "white",
            "linecolor": "white",
            "ticks": ""
           }
          },
          "scene": {
           "xaxis": {
            "backgroundcolor": "#E5ECF6",
            "gridcolor": "white",
            "gridwidth": 2,
            "linecolor": "white",
            "showbackground": true,
            "ticks": "",
            "zerolinecolor": "white"
           },
           "yaxis": {
            "backgroundcolor": "#E5ECF6",
            "gridcolor": "white",
            "gridwidth": 2,
            "linecolor": "white",
            "showbackground": true,
            "ticks": "",
            "zerolinecolor": "white"
           },
           "zaxis": {
            "backgroundcolor": "#E5ECF6",
            "gridcolor": "white",
            "gridwidth": 2,
            "linecolor": "white",
            "showbackground": true,
            "ticks": "",
            "zerolinecolor": "white"
           }
          },
          "shapedefaults": {
           "line": {
            "color": "#2a3f5f"
           }
          },
          "ternary": {
           "aaxis": {
            "gridcolor": "white",
            "linecolor": "white",
            "ticks": ""
           },
           "baxis": {
            "gridcolor": "white",
            "linecolor": "white",
            "ticks": ""
           },
           "bgcolor": "#E5ECF6",
           "caxis": {
            "gridcolor": "white",
            "linecolor": "white",
            "ticks": ""
           }
          },
          "title": {
           "x": 0.05
          },
          "xaxis": {
           "automargin": true,
           "gridcolor": "white",
           "linecolor": "white",
           "ticks": "",
           "title": {
            "standoff": 15
           },
           "zerolinecolor": "white",
           "zerolinewidth": 2
          },
          "yaxis": {
           "automargin": true,
           "gridcolor": "white",
           "linecolor": "white",
           "ticks": "",
           "title": {
            "standoff": 15
           },
           "zerolinecolor": "white",
           "zerolinewidth": 2
          }
         }
        },
        "title": {
         "text": "Grocery vs Fresh by labels"
        },
        "xaxis": {
         "anchor": "y",
         "domain": [
          0,
          1
         ],
         "title": {
          "text": "Grocery"
         }
        },
        "yaxis": {
         "anchor": "x",
         "domain": [
          0,
          1
         ],
         "title": {
          "text": "Fresh"
         }
        }
       }
      },
      "text/html": [
       "<div>\n",
       "        \n",
       "        \n",
       "            <div id=\"9b88633d-cdf3-4b5e-83ee-194dc6ea609c\" class=\"plotly-graph-div\" style=\"height:525px; width:100%;\"></div>\n",
       "            <script type=\"text/javascript\">\n",
       "                require([\"plotly\"], function(Plotly) {\n",
       "                    window.PLOTLYENV=window.PLOTLYENV || {};\n",
       "                    \n",
       "                if (document.getElementById(\"9b88633d-cdf3-4b5e-83ee-194dc6ea609c\")) {\n",
       "                    Plotly.newPlot(\n",
       "                        '9b88633d-cdf3-4b5e-83ee-194dc6ea609c',\n",
       "                        [{\"hoverlabel\": {\"namelength\": 0}, \"hovertemplate\": \"Grocery=%{x}<br>Fresh=%{y}<br>labels=%{marker.color}\", \"legendgroup\": \"\", \"marker\": {\"color\": [1, 1, 2, 6, 1, 3, 6, 3, 4, 1, 5, 6, 1, 1, 3, 1, 6, 6, 3, 6, 3, 6, 6, 5, 5, 5, 7, 0, 6, 3, 5, 0, 3, 1, 6, 1, 4, 0, 6, 6, 1, 4, 1, 7, 4, 1, 4, 5, 3, 0, 1, 5, 3, 1, 5, 1, 3, 1, 4, 3, 3, 1, 6, 3, 2, 2, 2, 1, 5, 2, 4, 5, 3, 3, 1, 1, 5, 3, 2, 6, 5, 2, 1, 3, 3, 3, 3, 2, 1, 1, 1, 5, 5, 1, 4, 1, 4, 5, 4, 2, 5, 5, 5, 3, 3, 2, 5, 5, 3, 5, 1, 0, 2, 6, 3, 0, 2, 3, 5, 3, 3, 3, 1, 3, 6, 3, 6, 0, 0, 2, 5, 4, 3, 3, 3, 0, 5, 3, 5, 3, 3, 4, 1, 5, 1, 1, 1, 5, 5, 4, 1, 4, 6, 3, 3, 3, 1, 3, 4, 3, 1, 0, 6, 3, 2, 6, 1, 3, 3, 3, 2, 1, 1, 2, 5, 3, 1, 3, 2, 1, 5, 3, 4, 4, 3, 3, 4, 3, 1, 3, 4, 5, 3, 1, 1, 1, 5, 3, 5, 1, 2, 2, 3, 5, 5, 3, 3, 2, 2, 3, 5, 3, 6, 3, 3, 5, 3, 0, 2, 5, 5, 6, 1, 1, 3, 5, 5, 2, 3, 2, 1, 7, 0, 3, 2, 0, 0, 3, 2, 5, 3, 1, 7, 4, 6, 1, 5, 2, 3, 3, 0, 3, 3, 6, 2, 1, 3, 6, 0, 2, 0, 3, 2, 5, 0, 3, 3, 3, 1, 5, 3, 5, 3, 1, 3, 6, 4, 1, 1, 4, 1, 4, 5, 3, 4, 5, 5, 5, 7, 3, 3, 5, 3, 5, 5, 5, 5, 3, 3, 2, 2, 5, 4, 6, 2, 6, 5, 2, 2, 1, 1, 1, 3, 3, 1, 1, 3, 4, 3, 4, 3, 4, 2, 3, 5, 1, 7, 3, 5, 3, 3, 3, 3, 6, 3, 3, 5, 3, 0, 2, 6, 6, 3, 3, 1, 0, 3, 3, 5, 2, 6, 3, 7, 5, 3, 5, 3, 5, 2, 3, 3, 2, 5, 5, 1, 2, 2, 3, 3, 5, 5, 5, 3, 2, 4, 3, 6, 3, 6, 1, 2, 1, 1, 1, 1, 3, 1, 1, 5, 5, 1, 1, 3, 3, 1, 5, 3, 5, 0, 4, 5, 3], \"coloraxis\": \"coloraxis\", \"symbol\": \"circle\"}, \"mode\": \"markers\", \"name\": \"\", \"showlegend\": false, \"type\": \"scatter\", \"x\": [7561, 9568, 4221, 7198, 5126, 6975, 9426, 6192, 18881, 12974, 4523, 11757, 14982, 12091, 3821, 12121, 2933, 10099, 9464, 4602, 2010, 4469, 13792, 7595, 2861, 3045, 25957, 2609, 11107, 3133, 2886, 7326, 2262, 11091, 5428, 12477, 16709, 902, 4757, 5956, 14961, 23998, 10471, 21531, 21955, 10868, 28921, 1980, 6996, 5876, 11532, 1947, 5005, 10487, 1648, 8040, 7854, 6544, 15775, 3250, 7417, 13462, 3993, 1293, 3202, 2661, 8713, 9794, 3, 6532, 28540, 2067, 3655, 3009, 14403, 11009, 1783, 4814, 4042, 5330, 1638, 2530, 11323, 6252, 8118, 610, 778, 1909, 12144, 16267, 7677, 3445, 3970, 10704, 14886, 6981, 28986, 1694, 17569, 2469, 1733, 2000, 2988, 3355, 5380, 2362, 2147, 3412, 1498, 245, 8814, 2961, 1658, 10685, 3823, 1510, 699, 314, 2479, 1235, 2174, 2591, 7030, 8282, 5034, 3343, 7305, 5189, 8253, 1096, 1988, 34792, 2177, 2707, 542, 1651, 1765, 2022, 3135, 2368, 137, 19460, 14855, 2474, 9618, 14682, 12822, 283, 3810, 26870, 8584, 19858, 9170, 3268, 803, 2155, 13430, 6536, 19805, 5241, 11874, 6536, 4533, 4945, 2500, 8887, 10518, 4710, 1139, 854, 9819, 11687, 11522, 1981, 1381, 2251, 20292, 2974, 5230, 10391, 6824, 2112, 23127, 24708, 2216, 5226, 23596, 950, 6089, 5838, 16767, 1393, 2062, 6861, 11364, 15538, 2046, 1390, 1382, 10646, 2856, 5265, 1499, 4157, 9212, 1563, 572, 2501, 5615, 3828, 3838, 3316, 3833, 2824, 3047, 593, 585, 3779, 7041, 2475, 2914, 5119, 10817, 13916, 1777, 489, 2406, 2070, 1799, 4740, 16966, 4748, 1495, 5249, 1883, 2124, 7336, 2157, 1094, 1677, 6684, 15445, 13699, 22182, 2576, 19847, 1138, 975, 1563, 6869, 1493, 1841, 223, 6964, 2543, 9694, 2431, 6235, 4252, 2013, 3600, 1242, 2828, 1296, 471, 2642, 3261, 4329, 12469, 6550, 5234, 3643, 6986, 9965, 2060, 6360, 20399, 9785, 13829, 24773, 8852, 21570, 2842, 3007, 13567, 8280, 2405, 7647, 11924, 2201, 6114, 3558, 2280, 5167, 3315, 11593, 2464, 1431, 1664, 3389, 4583, 5109, 26839, 1447, 2743, 10790, 1330, 2611, 5332, 9670, 11238, 5923, 1763, 8335, 15541, 12311, 2028, 20521, 1997, 22294, 1533, 21203, 2548, 2012, 218, 22272, 1660, 2109, 2006, 864, 2453, 4438, 1524, 8025, 1664, 534, 2406, 683, 4955, 1939, 1641, 7398, 1668, 1162, 13586, 2648, 1902, 10391, 2146, 1617, 8469, 3450, 15400, 1614, 2857, 1573, 1172, 1422, 1328, 2313, 3600, 3842, 3204, 1263, 9345, 1428, 582, 935, 1238, 5091, 4604, 3444, 1167, 5026, 18683, 6407, 6100, 4563, 3281, 12400, 3417, 8552, 10908, 11055, 18622, 2223, 13227, 9053, 4172, 4657, 12232, 14316, 4910, 3580, 16483, 4754, 1493, 7994, 764, 30243, 2232, 2510], \"xaxis\": \"x\", \"y\": [12669, 7057, 13265, 22615, 9413, 12126, 7579, 5963, 6006, 3366, 13146, 31714, 21217, 24653, 10253, 1020, 5876, 18601, 7780, 17546, 5567, 31276, 22647, 16165, 9898, 14276, 4113, 43088, 18815, 2612, 21632, 29729, 1502, 688, 29955, 15168, 4591, 56159, 24025, 19176, 10850, 630, 9670, 5181, 3103, 11519, 4967, 6269, 3347, 40721, 491, 27329, 5264, 5417, 13779, 6137, 8590, 7823, 9396, 4760, 9, 19913, 2446, 8352, 16705, 4420, 19899, 8190, 20398, 717, 12205, 10766, 1640, 7005, 219, 10362, 20874, 11867, 7864, 24904, 11405, 12754, 5626, 3, 23, 403, 503, 9658, 11594, 1420, 2932, 14100, 15587, 1454, 8797, 1531, 1406, 11818, 12579, 19046, 14438, 18044, 11134, 11173, 6990, 20049, 8258, 17160, 4020, 12212, 11170, 36050, 19219, 21465, 140, 42312, 7149, 2101, 14903, 9434, 7388, 6300, 4625, 3087, 13537, 5387, 17623, 30379, 37036, 10405, 18827, 22039, 7769, 9203, 5924, 31812, 16225, 1289, 18840, 3463, 622, 1989, 3830, 17773, 2861, 355, 1725, 12434, 15177, 5531, 5224, 15615, 4822, 2926, 5809, 5414, 260, 955, 514, 286, 2343, 45640, 12759, 11002, 3157, 12356, 694, 327, 8170, 3009, 2438, 8040, 834, 16936, 13624, 5509, 180, 7107, 17023, 2427, 11686, 9670, 3067, 4484, 583, 1956, 1107, 6373, 2541, 1537, 5550, 18567, 7291, 3317, 2362, 2806, 18044, 4155, 14755, 5396, 5041, 2790, 7274, 12680, 20782, 4042, 1869, 8656, 11072, 2344, 25962, 964, 15603, 1838, 8635, 18692, 7363, 47493, 22096, 24929, 18226, 11210, 6202, 3062, 8885, 13569, 15671, 8040, 3191, 6623, 29526, 10379, 31614, 11092, 8475, 56083, 53205, 9193, 7858, 23257, 2153, 1073, 5909, 572, 20893, 11908, 15218, 4720, 2083, 514, 36817, 894, 680, 27901, 11693, 17360, 3366, 12238, 49063, 25767, 40254, 7149, 15354, 16260, 42786, 2708, 6022, 2838, 3996, 21273, 7588, 19087, 8090, 6758, 444, 16448, 5283, 2886, 2599, 161, 243, 6468, 17327, 6987, 918, 29635, 9784, 10617, 1479, 7127, 1182, 11800, 1774, 9155, 15881, 13360, 25977, 4414, 542, 16933, 5113, 9790, 11223, 22321, 16823, 27082, 13970, 9351, 2617, 381, 2320, 255, 3043, 1198, 2771, 27380, 3428, 5981, 3521, 1210, 608, 117, 14039, 190, 22686, 37, 759, 796, 19746, 4734, 2121, 4627, 2615, 4692, 9561, 3477, 22335, 6211, 39679, 20105, 3884, 15076, 6338, 5841, 3136, 38793, 3225, 4048, 28257, 17770, 34454, 1821, 10683, 11635, 1206, 20918, 9785, 9385, 3352, 2647, 518, 23632, 12377, 9602, 4515, 11535, 11442, 9612, 4446, 26539, 25606, 18073, 6884, 25066, 7362, 8257, 8708, 6633, 2126, 97, 5969, 7842, 4389, 5065, 660, 8861, 4456, 17063, 26400, 17565, 16980, 13134, 3047, 8607, 3097, 21117, 1982, 16731, 39228, 14531, 10290, 2787], \"yaxis\": \"y\"}],\n",
       "                        {\"coloraxis\": {\"colorbar\": {\"title\": {\"text\": \"labels\"}}, \"colorscale\": [[0.0, \"#0d0887\"], [0.1111111111111111, \"#46039f\"], [0.2222222222222222, \"#7201a8\"], [0.3333333333333333, \"#9c179e\"], [0.4444444444444444, \"#bd3786\"], [0.5555555555555556, \"#d8576b\"], [0.6666666666666666, \"#ed7953\"], [0.7777777777777778, \"#fb9f3a\"], [0.8888888888888888, \"#fdca26\"], [1.0, \"#f0f921\"]]}, \"legend\": {\"tracegroupgap\": 0}, \"margin\": {\"t\": 60}, \"template\": {\"data\": {\"bar\": [{\"error_x\": {\"color\": \"#2a3f5f\"}, \"error_y\": {\"color\": \"#2a3f5f\"}, \"marker\": {\"line\": {\"color\": \"#E5ECF6\", \"width\": 0.5}}, \"type\": \"bar\"}], \"barpolar\": [{\"marker\": {\"line\": {\"color\": \"#E5ECF6\", \"width\": 0.5}}, \"type\": \"barpolar\"}], \"carpet\": [{\"aaxis\": {\"endlinecolor\": \"#2a3f5f\", \"gridcolor\": \"white\", \"linecolor\": \"white\", \"minorgridcolor\": \"white\", \"startlinecolor\": \"#2a3f5f\"}, \"baxis\": {\"endlinecolor\": \"#2a3f5f\", \"gridcolor\": \"white\", \"linecolor\": \"white\", \"minorgridcolor\": \"white\", \"startlinecolor\": \"#2a3f5f\"}, \"type\": \"carpet\"}], \"choropleth\": [{\"colorbar\": {\"outlinewidth\": 0, \"ticks\": \"\"}, \"type\": \"choropleth\"}], \"contour\": [{\"colorbar\": {\"outlinewidth\": 0, \"ticks\": \"\"}, \"colorscale\": [[0.0, \"#0d0887\"], [0.1111111111111111, \"#46039f\"], [0.2222222222222222, \"#7201a8\"], [0.3333333333333333, \"#9c179e\"], [0.4444444444444444, \"#bd3786\"], [0.5555555555555556, \"#d8576b\"], [0.6666666666666666, \"#ed7953\"], [0.7777777777777778, \"#fb9f3a\"], [0.8888888888888888, \"#fdca26\"], [1.0, \"#f0f921\"]], \"type\": \"contour\"}], \"contourcarpet\": [{\"colorbar\": {\"outlinewidth\": 0, \"ticks\": \"\"}, \"type\": \"contourcarpet\"}], \"heatmap\": [{\"colorbar\": {\"outlinewidth\": 0, \"ticks\": \"\"}, \"colorscale\": [[0.0, \"#0d0887\"], [0.1111111111111111, \"#46039f\"], [0.2222222222222222, \"#7201a8\"], [0.3333333333333333, \"#9c179e\"], [0.4444444444444444, \"#bd3786\"], [0.5555555555555556, \"#d8576b\"], [0.6666666666666666, \"#ed7953\"], [0.7777777777777778, \"#fb9f3a\"], [0.8888888888888888, \"#fdca26\"], [1.0, \"#f0f921\"]], \"type\": \"heatmap\"}], \"heatmapgl\": [{\"colorbar\": {\"outlinewidth\": 0, \"ticks\": \"\"}, \"colorscale\": [[0.0, \"#0d0887\"], [0.1111111111111111, \"#46039f\"], [0.2222222222222222, \"#7201a8\"], [0.3333333333333333, \"#9c179e\"], [0.4444444444444444, \"#bd3786\"], [0.5555555555555556, \"#d8576b\"], [0.6666666666666666, \"#ed7953\"], [0.7777777777777778, \"#fb9f3a\"], [0.8888888888888888, \"#fdca26\"], [1.0, \"#f0f921\"]], \"type\": \"heatmapgl\"}], \"histogram\": [{\"marker\": {\"colorbar\": {\"outlinewidth\": 0, \"ticks\": \"\"}}, \"type\": \"histogram\"}], \"histogram2d\": [{\"colorbar\": {\"outlinewidth\": 0, \"ticks\": \"\"}, \"colorscale\": [[0.0, \"#0d0887\"], [0.1111111111111111, \"#46039f\"], [0.2222222222222222, \"#7201a8\"], [0.3333333333333333, \"#9c179e\"], [0.4444444444444444, \"#bd3786\"], [0.5555555555555556, \"#d8576b\"], [0.6666666666666666, \"#ed7953\"], [0.7777777777777778, \"#fb9f3a\"], [0.8888888888888888, \"#fdca26\"], [1.0, \"#f0f921\"]], \"type\": \"histogram2d\"}], \"histogram2dcontour\": [{\"colorbar\": {\"outlinewidth\": 0, \"ticks\": \"\"}, \"colorscale\": [[0.0, \"#0d0887\"], [0.1111111111111111, \"#46039f\"], [0.2222222222222222, \"#7201a8\"], [0.3333333333333333, \"#9c179e\"], [0.4444444444444444, \"#bd3786\"], [0.5555555555555556, \"#d8576b\"], [0.6666666666666666, \"#ed7953\"], [0.7777777777777778, \"#fb9f3a\"], [0.8888888888888888, \"#fdca26\"], [1.0, \"#f0f921\"]], \"type\": \"histogram2dcontour\"}], \"mesh3d\": [{\"colorbar\": {\"outlinewidth\": 0, \"ticks\": \"\"}, \"type\": \"mesh3d\"}], \"parcoords\": [{\"line\": {\"colorbar\": {\"outlinewidth\": 0, \"ticks\": \"\"}}, \"type\": \"parcoords\"}], \"pie\": [{\"automargin\": true, \"type\": \"pie\"}], \"scatter\": [{\"marker\": {\"colorbar\": {\"outlinewidth\": 0, \"ticks\": \"\"}}, \"type\": \"scatter\"}], \"scatter3d\": [{\"line\": {\"colorbar\": {\"outlinewidth\": 0, \"ticks\": \"\"}}, \"marker\": {\"colorbar\": {\"outlinewidth\": 0, \"ticks\": \"\"}}, \"type\": \"scatter3d\"}], \"scattercarpet\": [{\"marker\": {\"colorbar\": {\"outlinewidth\": 0, \"ticks\": \"\"}}, \"type\": \"scattercarpet\"}], \"scattergeo\": [{\"marker\": {\"colorbar\": {\"outlinewidth\": 0, \"ticks\": \"\"}}, \"type\": \"scattergeo\"}], \"scattergl\": [{\"marker\": {\"colorbar\": {\"outlinewidth\": 0, \"ticks\": \"\"}}, \"type\": \"scattergl\"}], \"scattermapbox\": [{\"marker\": {\"colorbar\": {\"outlinewidth\": 0, \"ticks\": \"\"}}, \"type\": \"scattermapbox\"}], \"scatterpolar\": [{\"marker\": {\"colorbar\": {\"outlinewidth\": 0, \"ticks\": \"\"}}, \"type\": \"scatterpolar\"}], \"scatterpolargl\": [{\"marker\": {\"colorbar\": {\"outlinewidth\": 0, \"ticks\": \"\"}}, \"type\": \"scatterpolargl\"}], \"scatterternary\": [{\"marker\": {\"colorbar\": {\"outlinewidth\": 0, \"ticks\": \"\"}}, \"type\": \"scatterternary\"}], \"surface\": [{\"colorbar\": {\"outlinewidth\": 0, \"ticks\": \"\"}, \"colorscale\": [[0.0, \"#0d0887\"], [0.1111111111111111, \"#46039f\"], [0.2222222222222222, \"#7201a8\"], [0.3333333333333333, \"#9c179e\"], [0.4444444444444444, \"#bd3786\"], [0.5555555555555556, \"#d8576b\"], [0.6666666666666666, \"#ed7953\"], [0.7777777777777778, \"#fb9f3a\"], [0.8888888888888888, \"#fdca26\"], [1.0, \"#f0f921\"]], \"type\": \"surface\"}], \"table\": [{\"cells\": {\"fill\": {\"color\": \"#EBF0F8\"}, \"line\": {\"color\": \"white\"}}, \"header\": {\"fill\": {\"color\": \"#C8D4E3\"}, \"line\": {\"color\": \"white\"}}, \"type\": \"table\"}]}, \"layout\": {\"annotationdefaults\": {\"arrowcolor\": \"#2a3f5f\", \"arrowhead\": 0, \"arrowwidth\": 1}, \"coloraxis\": {\"colorbar\": {\"outlinewidth\": 0, \"ticks\": \"\"}}, \"colorscale\": {\"diverging\": [[0, \"#8e0152\"], [0.1, \"#c51b7d\"], [0.2, \"#de77ae\"], [0.3, \"#f1b6da\"], [0.4, \"#fde0ef\"], [0.5, \"#f7f7f7\"], [0.6, \"#e6f5d0\"], [0.7, \"#b8e186\"], [0.8, \"#7fbc41\"], [0.9, \"#4d9221\"], [1, \"#276419\"]], \"sequential\": [[0.0, \"#0d0887\"], [0.1111111111111111, \"#46039f\"], [0.2222222222222222, \"#7201a8\"], [0.3333333333333333, \"#9c179e\"], [0.4444444444444444, \"#bd3786\"], [0.5555555555555556, \"#d8576b\"], [0.6666666666666666, \"#ed7953\"], [0.7777777777777778, \"#fb9f3a\"], [0.8888888888888888, \"#fdca26\"], [1.0, \"#f0f921\"]], \"sequentialminus\": [[0.0, \"#0d0887\"], [0.1111111111111111, \"#46039f\"], [0.2222222222222222, \"#7201a8\"], [0.3333333333333333, \"#9c179e\"], [0.4444444444444444, \"#bd3786\"], [0.5555555555555556, \"#d8576b\"], [0.6666666666666666, \"#ed7953\"], [0.7777777777777778, \"#fb9f3a\"], [0.8888888888888888, \"#fdca26\"], [1.0, \"#f0f921\"]]}, \"colorway\": [\"#636efa\", \"#EF553B\", \"#00cc96\", \"#ab63fa\", \"#FFA15A\", \"#19d3f3\", \"#FF6692\", \"#B6E880\", \"#FF97FF\", \"#FECB52\"], \"font\": {\"color\": \"#2a3f5f\"}, \"geo\": {\"bgcolor\": \"white\", \"lakecolor\": \"white\", \"landcolor\": \"#E5ECF6\", \"showlakes\": true, \"showland\": true, \"subunitcolor\": \"white\"}, \"hoverlabel\": {\"align\": \"left\"}, \"hovermode\": \"closest\", \"mapbox\": {\"style\": \"light\"}, \"paper_bgcolor\": \"white\", \"plot_bgcolor\": \"#E5ECF6\", \"polar\": {\"angularaxis\": {\"gridcolor\": \"white\", \"linecolor\": \"white\", \"ticks\": \"\"}, \"bgcolor\": \"#E5ECF6\", \"radialaxis\": {\"gridcolor\": \"white\", \"linecolor\": \"white\", \"ticks\": \"\"}}, \"scene\": {\"xaxis\": {\"backgroundcolor\": \"#E5ECF6\", \"gridcolor\": \"white\", \"gridwidth\": 2, \"linecolor\": \"white\", \"showbackground\": true, \"ticks\": \"\", \"zerolinecolor\": \"white\"}, \"yaxis\": {\"backgroundcolor\": \"#E5ECF6\", \"gridcolor\": \"white\", \"gridwidth\": 2, \"linecolor\": \"white\", \"showbackground\": true, \"ticks\": \"\", \"zerolinecolor\": \"white\"}, \"zaxis\": {\"backgroundcolor\": \"#E5ECF6\", \"gridcolor\": \"white\", \"gridwidth\": 2, \"linecolor\": \"white\", \"showbackground\": true, \"ticks\": \"\", \"zerolinecolor\": \"white\"}}, \"shapedefaults\": {\"line\": {\"color\": \"#2a3f5f\"}}, \"ternary\": {\"aaxis\": {\"gridcolor\": \"white\", \"linecolor\": \"white\", \"ticks\": \"\"}, \"baxis\": {\"gridcolor\": \"white\", \"linecolor\": \"white\", \"ticks\": \"\"}, \"bgcolor\": \"#E5ECF6\", \"caxis\": {\"gridcolor\": \"white\", \"linecolor\": \"white\", \"ticks\": \"\"}}, \"title\": {\"x\": 0.05}, \"xaxis\": {\"automargin\": true, \"gridcolor\": \"white\", \"linecolor\": \"white\", \"ticks\": \"\", \"title\": {\"standoff\": 15}, \"zerolinecolor\": \"white\", \"zerolinewidth\": 2}, \"yaxis\": {\"automargin\": true, \"gridcolor\": \"white\", \"linecolor\": \"white\", \"ticks\": \"\", \"title\": {\"standoff\": 15}, \"zerolinecolor\": \"white\", \"zerolinewidth\": 2}}}, \"title\": {\"text\": \"Grocery vs Fresh by labels\"}, \"xaxis\": {\"anchor\": \"y\", \"domain\": [0.0, 1.0], \"title\": {\"text\": \"Grocery\"}}, \"yaxis\": {\"anchor\": \"x\", \"domain\": [0.0, 1.0], \"title\": {\"text\": \"Fresh\"}}},\n",
       "                        {\"responsive\": true}\n",
       "                    ).then(function(){\n",
       "                            \n",
       "var gd = document.getElementById('9b88633d-cdf3-4b5e-83ee-194dc6ea609c');\n",
       "var x = new MutationObserver(function (mutations, observer) {{\n",
       "        var display = window.getComputedStyle(gd).display;\n",
       "        if (!display || display === 'none') {{\n",
       "            console.log([gd, 'removed!']);\n",
       "            Plotly.purge(gd);\n",
       "            observer.disconnect();\n",
       "        }}\n",
       "}});\n",
       "\n",
       "// Listen for the removal of the full notebook cells\n",
       "var notebookContainer = gd.closest('#notebook-container');\n",
       "if (notebookContainer) {{\n",
       "    x.observe(notebookContainer, {childList: true});\n",
       "}}\n",
       "\n",
       "// Listen for the clearing of the current output cell\n",
       "var outputEl = gd.closest('.output');\n",
       "if (outputEl) {{\n",
       "    x.observe(outputEl, {childList: true});\n",
       "}}\n",
       "\n",
       "                        })\n",
       "                };\n",
       "                });\n",
       "            </script>\n",
       "        </div>"
      ]
     },
     "metadata": {},
     "output_type": "display_data"
    },
    {
     "data": {
      "application/vnd.plotly.v1+json": {
       "config": {
        "plotlyServerURL": "https://plot.ly"
       },
       "data": [
        {
         "hoverlabel": {
          "namelength": 0
         },
         "hovertemplate": "Grocery=%{x}<br>Fresh=%{y}<br>labels_DBSCAN=%{marker.color}",
         "legendgroup": "",
         "marker": {
          "color": [
           -1,
           -1,
           -1,
           -1,
           -1,
           -1,
           -1,
           -1,
           -1,
           -1,
           0,
           -1,
           -1,
           -1,
           0,
           -1,
           -1,
           -1,
           -1,
           -1,
           0,
           -1,
           -1,
           -1,
           0,
           0,
           -1,
           -1,
           -1,
           -1,
           -1,
           -1,
           0,
           -1,
           -1,
           -1,
           -1,
           -1,
           -1,
           -1,
           -1,
           -1,
           -1,
           -1,
           -1,
           -1,
           -1,
           -1,
           -1,
           -1,
           -1,
           2,
           -1,
           -1,
           0,
           -1,
           -1,
           -1,
           -1,
           -1,
           -1,
           -1,
           -1,
           0,
           -1,
           -1,
           -1,
           -1,
           -1,
           -1,
           -1,
           0,
           1,
           0,
           -1,
           -1,
           2,
           -1,
           -1,
           -1,
           0,
           -1,
           -1,
           -1,
           -1,
           0,
           0,
           -1,
           -1,
           -1,
           -1,
           0,
           -1,
           -1,
           -1,
           -1,
           -1,
           -1,
           -1,
           -1,
           -1,
           2,
           0,
           0,
           -1,
           -1,
           0,
           2,
           0,
           0,
           -1,
           -1,
           -1,
           -1,
           -1,
           -1,
           -1,
           0,
           0,
           0,
           0,
           0,
           -1,
           -1,
           -1,
           -1,
           -1,
           -1,
           -1,
           -1,
           -1,
           -1,
           0,
           0,
           0,
           -1,
           0,
           1,
           -1,
           -1,
           0,
           -1,
           -1,
           -1,
           -1,
           -1,
           -1,
           -1,
           0,
           -1,
           -1,
           -1,
           -1,
           -1,
           0,
           0,
           -1,
           -1,
           -1,
           -1,
           -1,
           -1,
           -1,
           -1,
           -1,
           -1,
           -1,
           0,
           -1,
           0,
           -1,
           -1,
           -1,
           -1,
           0,
           0,
           -1,
           0,
           -1,
           -1,
           -1,
           0,
           -1,
           -1,
           0,
           -1,
           -1,
           0,
           -1,
           -1,
           -1,
           -1,
           -1,
           -1,
           -1,
           -1,
           2,
           0,
           0,
           -1,
           -1,
           -1,
           0,
           -1,
           -1,
           0,
           -1,
           -1,
           -1,
           -1,
           -1,
           -1,
           -1,
           -1,
           0,
           -1,
           0,
           -1,
           -1,
           2,
           2,
           -1,
           -1,
           -1,
           0,
           0,
           -1,
           -1,
           0,
           -1,
           -1,
           -1,
           -1,
           -1,
           -1,
           -1,
           -1,
           -1,
           -1,
           -1,
           -1,
           -1,
           -1,
           -1,
           -1,
           -1,
           0,
           -1,
           -1,
           -1,
           -1,
           0,
           0,
           -1,
           -1,
           -1,
           3,
           -1,
           -1,
           -1,
           -1,
           0,
           -1,
           0,
           -1,
           1,
           0,
           -1,
           -1,
           -1,
           -1,
           2,
           -1,
           -1,
           0,
           -1,
           -1,
           -1,
           -1,
           -1,
           -1,
           -1,
           -1,
           0,
           -1,
           -1,
           -1,
           -1,
           -1,
           0,
           1,
           0,
           3,
           -1,
           -1,
           -1,
           2,
           0,
           0,
           -1,
           -1,
           0,
           -1,
           -1,
           -1,
           -1,
           0,
           -1,
           -1,
           -1,
           -1,
           -1,
           0,
           -1,
           -1,
           -1,
           0,
           -1,
           0,
           -1,
           0,
           -1,
           -1,
           0,
           -1,
           -1,
           -1,
           -1,
           2,
           0,
           0,
           0,
           0,
           -1,
           0,
           0,
           2,
           0,
           -1,
           -1,
           -1,
           -1,
           0,
           0,
           -1,
           -1,
           3,
           -1,
           -1,
           -1,
           -1,
           -1,
           -1,
           0,
           -1,
           2,
           0,
           0,
           -1,
           1,
           -1,
           -1,
           0,
           0,
           -1,
           -1,
           -1,
           0,
           0,
           -1,
           -1,
           -1,
           0,
           -1,
           -1,
           -1,
           -1,
           -1,
           -1,
           -1,
           -1,
           -1,
           -1,
           -1,
           -1,
           -1,
           -1,
           -1,
           -1,
           -1,
           -1,
           -1,
           -1,
           -1,
           -1,
           -1,
           1,
           -1,
           -1,
           -1,
           -1,
           0
          ],
          "coloraxis": "coloraxis",
          "symbol": "circle"
         },
         "mode": "markers",
         "name": "",
         "showlegend": false,
         "type": "scatter",
         "x": [
          7561,
          9568,
          4221,
          7198,
          5126,
          6975,
          9426,
          6192,
          18881,
          12974,
          4523,
          11757,
          14982,
          12091,
          3821,
          12121,
          2933,
          10099,
          9464,
          4602,
          2010,
          4469,
          13792,
          7595,
          2861,
          3045,
          25957,
          2609,
          11107,
          3133,
          2886,
          7326,
          2262,
          11091,
          5428,
          12477,
          16709,
          902,
          4757,
          5956,
          14961,
          23998,
          10471,
          21531,
          21955,
          10868,
          28921,
          1980,
          6996,
          5876,
          11532,
          1947,
          5005,
          10487,
          1648,
          8040,
          7854,
          6544,
          15775,
          3250,
          7417,
          13462,
          3993,
          1293,
          3202,
          2661,
          8713,
          9794,
          3,
          6532,
          28540,
          2067,
          3655,
          3009,
          14403,
          11009,
          1783,
          4814,
          4042,
          5330,
          1638,
          2530,
          11323,
          6252,
          8118,
          610,
          778,
          1909,
          12144,
          16267,
          7677,
          3445,
          3970,
          10704,
          14886,
          6981,
          28986,
          1694,
          17569,
          2469,
          1733,
          2000,
          2988,
          3355,
          5380,
          2362,
          2147,
          3412,
          1498,
          245,
          8814,
          2961,
          1658,
          10685,
          3823,
          1510,
          699,
          314,
          2479,
          1235,
          2174,
          2591,
          7030,
          8282,
          5034,
          3343,
          7305,
          5189,
          8253,
          1096,
          1988,
          34792,
          2177,
          2707,
          542,
          1651,
          1765,
          2022,
          3135,
          2368,
          137,
          19460,
          14855,
          2474,
          9618,
          14682,
          12822,
          283,
          3810,
          26870,
          8584,
          19858,
          9170,
          3268,
          803,
          2155,
          13430,
          6536,
          19805,
          5241,
          11874,
          6536,
          4533,
          4945,
          2500,
          8887,
          10518,
          4710,
          1139,
          854,
          9819,
          11687,
          11522,
          1981,
          1381,
          2251,
          20292,
          2974,
          5230,
          10391,
          6824,
          2112,
          23127,
          24708,
          2216,
          5226,
          23596,
          950,
          6089,
          5838,
          16767,
          1393,
          2062,
          6861,
          11364,
          15538,
          2046,
          1390,
          1382,
          10646,
          2856,
          5265,
          1499,
          4157,
          9212,
          1563,
          572,
          2501,
          5615,
          3828,
          3838,
          3316,
          3833,
          2824,
          3047,
          593,
          585,
          3779,
          7041,
          2475,
          2914,
          5119,
          10817,
          13916,
          1777,
          489,
          2406,
          2070,
          1799,
          4740,
          16966,
          4748,
          1495,
          5249,
          1883,
          2124,
          7336,
          2157,
          1094,
          1677,
          6684,
          15445,
          13699,
          22182,
          2576,
          19847,
          1138,
          975,
          1563,
          6869,
          1493,
          1841,
          223,
          6964,
          2543,
          9694,
          2431,
          6235,
          4252,
          2013,
          3600,
          1242,
          2828,
          1296,
          471,
          2642,
          3261,
          4329,
          12469,
          6550,
          5234,
          3643,
          6986,
          9965,
          2060,
          6360,
          20399,
          9785,
          13829,
          24773,
          8852,
          21570,
          2842,
          3007,
          13567,
          8280,
          2405,
          7647,
          11924,
          2201,
          6114,
          3558,
          2280,
          5167,
          3315,
          11593,
          2464,
          1431,
          1664,
          3389,
          4583,
          5109,
          26839,
          1447,
          2743,
          10790,
          1330,
          2611,
          5332,
          9670,
          11238,
          5923,
          1763,
          8335,
          15541,
          12311,
          2028,
          20521,
          1997,
          22294,
          1533,
          21203,
          2548,
          2012,
          218,
          22272,
          1660,
          2109,
          2006,
          864,
          2453,
          4438,
          1524,
          8025,
          1664,
          534,
          2406,
          683,
          4955,
          1939,
          1641,
          7398,
          1668,
          1162,
          13586,
          2648,
          1902,
          10391,
          2146,
          1617,
          8469,
          3450,
          15400,
          1614,
          2857,
          1573,
          1172,
          1422,
          1328,
          2313,
          3600,
          3842,
          3204,
          1263,
          9345,
          1428,
          582,
          935,
          1238,
          5091,
          4604,
          3444,
          1167,
          5026,
          18683,
          6407,
          6100,
          4563,
          3281,
          12400,
          3417,
          8552,
          10908,
          11055,
          18622,
          2223,
          13227,
          9053,
          4172,
          4657,
          12232,
          14316,
          4910,
          3580,
          16483,
          4754,
          1493,
          7994,
          764,
          30243,
          2232,
          2510
         ],
         "xaxis": "x",
         "y": [
          12669,
          7057,
          13265,
          22615,
          9413,
          12126,
          7579,
          5963,
          6006,
          3366,
          13146,
          31714,
          21217,
          24653,
          10253,
          1020,
          5876,
          18601,
          7780,
          17546,
          5567,
          31276,
          22647,
          16165,
          9898,
          14276,
          4113,
          43088,
          18815,
          2612,
          21632,
          29729,
          1502,
          688,
          29955,
          15168,
          4591,
          56159,
          24025,
          19176,
          10850,
          630,
          9670,
          5181,
          3103,
          11519,
          4967,
          6269,
          3347,
          40721,
          491,
          27329,
          5264,
          5417,
          13779,
          6137,
          8590,
          7823,
          9396,
          4760,
          9,
          19913,
          2446,
          8352,
          16705,
          4420,
          19899,
          8190,
          20398,
          717,
          12205,
          10766,
          1640,
          7005,
          219,
          10362,
          20874,
          11867,
          7864,
          24904,
          11405,
          12754,
          5626,
          3,
          23,
          403,
          503,
          9658,
          11594,
          1420,
          2932,
          14100,
          15587,
          1454,
          8797,
          1531,
          1406,
          11818,
          12579,
          19046,
          14438,
          18044,
          11134,
          11173,
          6990,
          20049,
          8258,
          17160,
          4020,
          12212,
          11170,
          36050,
          19219,
          21465,
          140,
          42312,
          7149,
          2101,
          14903,
          9434,
          7388,
          6300,
          4625,
          3087,
          13537,
          5387,
          17623,
          30379,
          37036,
          10405,
          18827,
          22039,
          7769,
          9203,
          5924,
          31812,
          16225,
          1289,
          18840,
          3463,
          622,
          1989,
          3830,
          17773,
          2861,
          355,
          1725,
          12434,
          15177,
          5531,
          5224,
          15615,
          4822,
          2926,
          5809,
          5414,
          260,
          955,
          514,
          286,
          2343,
          45640,
          12759,
          11002,
          3157,
          12356,
          694,
          327,
          8170,
          3009,
          2438,
          8040,
          834,
          16936,
          13624,
          5509,
          180,
          7107,
          17023,
          2427,
          11686,
          9670,
          3067,
          4484,
          583,
          1956,
          1107,
          6373,
          2541,
          1537,
          5550,
          18567,
          7291,
          3317,
          2362,
          2806,
          18044,
          4155,
          14755,
          5396,
          5041,
          2790,
          7274,
          12680,
          20782,
          4042,
          1869,
          8656,
          11072,
          2344,
          25962,
          964,
          15603,
          1838,
          8635,
          18692,
          7363,
          47493,
          22096,
          24929,
          18226,
          11210,
          6202,
          3062,
          8885,
          13569,
          15671,
          8040,
          3191,
          6623,
          29526,
          10379,
          31614,
          11092,
          8475,
          56083,
          53205,
          9193,
          7858,
          23257,
          2153,
          1073,
          5909,
          572,
          20893,
          11908,
          15218,
          4720,
          2083,
          514,
          36817,
          894,
          680,
          27901,
          11693,
          17360,
          3366,
          12238,
          49063,
          25767,
          40254,
          7149,
          15354,
          16260,
          42786,
          2708,
          6022,
          2838,
          3996,
          21273,
          7588,
          19087,
          8090,
          6758,
          444,
          16448,
          5283,
          2886,
          2599,
          161,
          243,
          6468,
          17327,
          6987,
          918,
          29635,
          9784,
          10617,
          1479,
          7127,
          1182,
          11800,
          1774,
          9155,
          15881,
          13360,
          25977,
          4414,
          542,
          16933,
          5113,
          9790,
          11223,
          22321,
          16823,
          27082,
          13970,
          9351,
          2617,
          381,
          2320,
          255,
          3043,
          1198,
          2771,
          27380,
          3428,
          5981,
          3521,
          1210,
          608,
          117,
          14039,
          190,
          22686,
          37,
          759,
          796,
          19746,
          4734,
          2121,
          4627,
          2615,
          4692,
          9561,
          3477,
          22335,
          6211,
          39679,
          20105,
          3884,
          15076,
          6338,
          5841,
          3136,
          38793,
          3225,
          4048,
          28257,
          17770,
          34454,
          1821,
          10683,
          11635,
          1206,
          20918,
          9785,
          9385,
          3352,
          2647,
          518,
          23632,
          12377,
          9602,
          4515,
          11535,
          11442,
          9612,
          4446,
          26539,
          25606,
          18073,
          6884,
          25066,
          7362,
          8257,
          8708,
          6633,
          2126,
          97,
          5969,
          7842,
          4389,
          5065,
          660,
          8861,
          4456,
          17063,
          26400,
          17565,
          16980,
          13134,
          3047,
          8607,
          3097,
          21117,
          1982,
          16731,
          39228,
          14531,
          10290,
          2787
         ],
         "yaxis": "y"
        }
       ],
       "layout": {
        "coloraxis": {
         "colorbar": {
          "title": {
           "text": "labels_DBSCAN"
          }
         },
         "colorscale": [
          [
           0,
           "#0d0887"
          ],
          [
           0.1111111111111111,
           "#46039f"
          ],
          [
           0.2222222222222222,
           "#7201a8"
          ],
          [
           0.3333333333333333,
           "#9c179e"
          ],
          [
           0.4444444444444444,
           "#bd3786"
          ],
          [
           0.5555555555555556,
           "#d8576b"
          ],
          [
           0.6666666666666666,
           "#ed7953"
          ],
          [
           0.7777777777777778,
           "#fb9f3a"
          ],
          [
           0.8888888888888888,
           "#fdca26"
          ],
          [
           1,
           "#f0f921"
          ]
         ]
        },
        "legend": {
         "tracegroupgap": 0
        },
        "margin": {
         "t": 60
        },
        "template": {
         "data": {
          "bar": [
           {
            "error_x": {
             "color": "#2a3f5f"
            },
            "error_y": {
             "color": "#2a3f5f"
            },
            "marker": {
             "line": {
              "color": "#E5ECF6",
              "width": 0.5
             }
            },
            "type": "bar"
           }
          ],
          "barpolar": [
           {
            "marker": {
             "line": {
              "color": "#E5ECF6",
              "width": 0.5
             }
            },
            "type": "barpolar"
           }
          ],
          "carpet": [
           {
            "aaxis": {
             "endlinecolor": "#2a3f5f",
             "gridcolor": "white",
             "linecolor": "white",
             "minorgridcolor": "white",
             "startlinecolor": "#2a3f5f"
            },
            "baxis": {
             "endlinecolor": "#2a3f5f",
             "gridcolor": "white",
             "linecolor": "white",
             "minorgridcolor": "white",
             "startlinecolor": "#2a3f5f"
            },
            "type": "carpet"
           }
          ],
          "choropleth": [
           {
            "colorbar": {
             "outlinewidth": 0,
             "ticks": ""
            },
            "type": "choropleth"
           }
          ],
          "contour": [
           {
            "colorbar": {
             "outlinewidth": 0,
             "ticks": ""
            },
            "colorscale": [
             [
              0,
              "#0d0887"
             ],
             [
              0.1111111111111111,
              "#46039f"
             ],
             [
              0.2222222222222222,
              "#7201a8"
             ],
             [
              0.3333333333333333,
              "#9c179e"
             ],
             [
              0.4444444444444444,
              "#bd3786"
             ],
             [
              0.5555555555555556,
              "#d8576b"
             ],
             [
              0.6666666666666666,
              "#ed7953"
             ],
             [
              0.7777777777777778,
              "#fb9f3a"
             ],
             [
              0.8888888888888888,
              "#fdca26"
             ],
             [
              1,
              "#f0f921"
             ]
            ],
            "type": "contour"
           }
          ],
          "contourcarpet": [
           {
            "colorbar": {
             "outlinewidth": 0,
             "ticks": ""
            },
            "type": "contourcarpet"
           }
          ],
          "heatmap": [
           {
            "colorbar": {
             "outlinewidth": 0,
             "ticks": ""
            },
            "colorscale": [
             [
              0,
              "#0d0887"
             ],
             [
              0.1111111111111111,
              "#46039f"
             ],
             [
              0.2222222222222222,
              "#7201a8"
             ],
             [
              0.3333333333333333,
              "#9c179e"
             ],
             [
              0.4444444444444444,
              "#bd3786"
             ],
             [
              0.5555555555555556,
              "#d8576b"
             ],
             [
              0.6666666666666666,
              "#ed7953"
             ],
             [
              0.7777777777777778,
              "#fb9f3a"
             ],
             [
              0.8888888888888888,
              "#fdca26"
             ],
             [
              1,
              "#f0f921"
             ]
            ],
            "type": "heatmap"
           }
          ],
          "heatmapgl": [
           {
            "colorbar": {
             "outlinewidth": 0,
             "ticks": ""
            },
            "colorscale": [
             [
              0,
              "#0d0887"
             ],
             [
              0.1111111111111111,
              "#46039f"
             ],
             [
              0.2222222222222222,
              "#7201a8"
             ],
             [
              0.3333333333333333,
              "#9c179e"
             ],
             [
              0.4444444444444444,
              "#bd3786"
             ],
             [
              0.5555555555555556,
              "#d8576b"
             ],
             [
              0.6666666666666666,
              "#ed7953"
             ],
             [
              0.7777777777777778,
              "#fb9f3a"
             ],
             [
              0.8888888888888888,
              "#fdca26"
             ],
             [
              1,
              "#f0f921"
             ]
            ],
            "type": "heatmapgl"
           }
          ],
          "histogram": [
           {
            "marker": {
             "colorbar": {
              "outlinewidth": 0,
              "ticks": ""
             }
            },
            "type": "histogram"
           }
          ],
          "histogram2d": [
           {
            "colorbar": {
             "outlinewidth": 0,
             "ticks": ""
            },
            "colorscale": [
             [
              0,
              "#0d0887"
             ],
             [
              0.1111111111111111,
              "#46039f"
             ],
             [
              0.2222222222222222,
              "#7201a8"
             ],
             [
              0.3333333333333333,
              "#9c179e"
             ],
             [
              0.4444444444444444,
              "#bd3786"
             ],
             [
              0.5555555555555556,
              "#d8576b"
             ],
             [
              0.6666666666666666,
              "#ed7953"
             ],
             [
              0.7777777777777778,
              "#fb9f3a"
             ],
             [
              0.8888888888888888,
              "#fdca26"
             ],
             [
              1,
              "#f0f921"
             ]
            ],
            "type": "histogram2d"
           }
          ],
          "histogram2dcontour": [
           {
            "colorbar": {
             "outlinewidth": 0,
             "ticks": ""
            },
            "colorscale": [
             [
              0,
              "#0d0887"
             ],
             [
              0.1111111111111111,
              "#46039f"
             ],
             [
              0.2222222222222222,
              "#7201a8"
             ],
             [
              0.3333333333333333,
              "#9c179e"
             ],
             [
              0.4444444444444444,
              "#bd3786"
             ],
             [
              0.5555555555555556,
              "#d8576b"
             ],
             [
              0.6666666666666666,
              "#ed7953"
             ],
             [
              0.7777777777777778,
              "#fb9f3a"
             ],
             [
              0.8888888888888888,
              "#fdca26"
             ],
             [
              1,
              "#f0f921"
             ]
            ],
            "type": "histogram2dcontour"
           }
          ],
          "mesh3d": [
           {
            "colorbar": {
             "outlinewidth": 0,
             "ticks": ""
            },
            "type": "mesh3d"
           }
          ],
          "parcoords": [
           {
            "line": {
             "colorbar": {
              "outlinewidth": 0,
              "ticks": ""
             }
            },
            "type": "parcoords"
           }
          ],
          "pie": [
           {
            "automargin": true,
            "type": "pie"
           }
          ],
          "scatter": [
           {
            "marker": {
             "colorbar": {
              "outlinewidth": 0,
              "ticks": ""
             }
            },
            "type": "scatter"
           }
          ],
          "scatter3d": [
           {
            "line": {
             "colorbar": {
              "outlinewidth": 0,
              "ticks": ""
             }
            },
            "marker": {
             "colorbar": {
              "outlinewidth": 0,
              "ticks": ""
             }
            },
            "type": "scatter3d"
           }
          ],
          "scattercarpet": [
           {
            "marker": {
             "colorbar": {
              "outlinewidth": 0,
              "ticks": ""
             }
            },
            "type": "scattercarpet"
           }
          ],
          "scattergeo": [
           {
            "marker": {
             "colorbar": {
              "outlinewidth": 0,
              "ticks": ""
             }
            },
            "type": "scattergeo"
           }
          ],
          "scattergl": [
           {
            "marker": {
             "colorbar": {
              "outlinewidth": 0,
              "ticks": ""
             }
            },
            "type": "scattergl"
           }
          ],
          "scattermapbox": [
           {
            "marker": {
             "colorbar": {
              "outlinewidth": 0,
              "ticks": ""
             }
            },
            "type": "scattermapbox"
           }
          ],
          "scatterpolar": [
           {
            "marker": {
             "colorbar": {
              "outlinewidth": 0,
              "ticks": ""
             }
            },
            "type": "scatterpolar"
           }
          ],
          "scatterpolargl": [
           {
            "marker": {
             "colorbar": {
              "outlinewidth": 0,
              "ticks": ""
             }
            },
            "type": "scatterpolargl"
           }
          ],
          "scatterternary": [
           {
            "marker": {
             "colorbar": {
              "outlinewidth": 0,
              "ticks": ""
             }
            },
            "type": "scatterternary"
           }
          ],
          "surface": [
           {
            "colorbar": {
             "outlinewidth": 0,
             "ticks": ""
            },
            "colorscale": [
             [
              0,
              "#0d0887"
             ],
             [
              0.1111111111111111,
              "#46039f"
             ],
             [
              0.2222222222222222,
              "#7201a8"
             ],
             [
              0.3333333333333333,
              "#9c179e"
             ],
             [
              0.4444444444444444,
              "#bd3786"
             ],
             [
              0.5555555555555556,
              "#d8576b"
             ],
             [
              0.6666666666666666,
              "#ed7953"
             ],
             [
              0.7777777777777778,
              "#fb9f3a"
             ],
             [
              0.8888888888888888,
              "#fdca26"
             ],
             [
              1,
              "#f0f921"
             ]
            ],
            "type": "surface"
           }
          ],
          "table": [
           {
            "cells": {
             "fill": {
              "color": "#EBF0F8"
             },
             "line": {
              "color": "white"
             }
            },
            "header": {
             "fill": {
              "color": "#C8D4E3"
             },
             "line": {
              "color": "white"
             }
            },
            "type": "table"
           }
          ]
         },
         "layout": {
          "annotationdefaults": {
           "arrowcolor": "#2a3f5f",
           "arrowhead": 0,
           "arrowwidth": 1
          },
          "coloraxis": {
           "colorbar": {
            "outlinewidth": 0,
            "ticks": ""
           }
          },
          "colorscale": {
           "diverging": [
            [
             0,
             "#8e0152"
            ],
            [
             0.1,
             "#c51b7d"
            ],
            [
             0.2,
             "#de77ae"
            ],
            [
             0.3,
             "#f1b6da"
            ],
            [
             0.4,
             "#fde0ef"
            ],
            [
             0.5,
             "#f7f7f7"
            ],
            [
             0.6,
             "#e6f5d0"
            ],
            [
             0.7,
             "#b8e186"
            ],
            [
             0.8,
             "#7fbc41"
            ],
            [
             0.9,
             "#4d9221"
            ],
            [
             1,
             "#276419"
            ]
           ],
           "sequential": [
            [
             0,
             "#0d0887"
            ],
            [
             0.1111111111111111,
             "#46039f"
            ],
            [
             0.2222222222222222,
             "#7201a8"
            ],
            [
             0.3333333333333333,
             "#9c179e"
            ],
            [
             0.4444444444444444,
             "#bd3786"
            ],
            [
             0.5555555555555556,
             "#d8576b"
            ],
            [
             0.6666666666666666,
             "#ed7953"
            ],
            [
             0.7777777777777778,
             "#fb9f3a"
            ],
            [
             0.8888888888888888,
             "#fdca26"
            ],
            [
             1,
             "#f0f921"
            ]
           ],
           "sequentialminus": [
            [
             0,
             "#0d0887"
            ],
            [
             0.1111111111111111,
             "#46039f"
            ],
            [
             0.2222222222222222,
             "#7201a8"
            ],
            [
             0.3333333333333333,
             "#9c179e"
            ],
            [
             0.4444444444444444,
             "#bd3786"
            ],
            [
             0.5555555555555556,
             "#d8576b"
            ],
            [
             0.6666666666666666,
             "#ed7953"
            ],
            [
             0.7777777777777778,
             "#fb9f3a"
            ],
            [
             0.8888888888888888,
             "#fdca26"
            ],
            [
             1,
             "#f0f921"
            ]
           ]
          },
          "colorway": [
           "#636efa",
           "#EF553B",
           "#00cc96",
           "#ab63fa",
           "#FFA15A",
           "#19d3f3",
           "#FF6692",
           "#B6E880",
           "#FF97FF",
           "#FECB52"
          ],
          "font": {
           "color": "#2a3f5f"
          },
          "geo": {
           "bgcolor": "white",
           "lakecolor": "white",
           "landcolor": "#E5ECF6",
           "showlakes": true,
           "showland": true,
           "subunitcolor": "white"
          },
          "hoverlabel": {
           "align": "left"
          },
          "hovermode": "closest",
          "mapbox": {
           "style": "light"
          },
          "paper_bgcolor": "white",
          "plot_bgcolor": "#E5ECF6",
          "polar": {
           "angularaxis": {
            "gridcolor": "white",
            "linecolor": "white",
            "ticks": ""
           },
           "bgcolor": "#E5ECF6",
           "radialaxis": {
            "gridcolor": "white",
            "linecolor": "white",
            "ticks": ""
           }
          },
          "scene": {
           "xaxis": {
            "backgroundcolor": "#E5ECF6",
            "gridcolor": "white",
            "gridwidth": 2,
            "linecolor": "white",
            "showbackground": true,
            "ticks": "",
            "zerolinecolor": "white"
           },
           "yaxis": {
            "backgroundcolor": "#E5ECF6",
            "gridcolor": "white",
            "gridwidth": 2,
            "linecolor": "white",
            "showbackground": true,
            "ticks": "",
            "zerolinecolor": "white"
           },
           "zaxis": {
            "backgroundcolor": "#E5ECF6",
            "gridcolor": "white",
            "gridwidth": 2,
            "linecolor": "white",
            "showbackground": true,
            "ticks": "",
            "zerolinecolor": "white"
           }
          },
          "shapedefaults": {
           "line": {
            "color": "#2a3f5f"
           }
          },
          "ternary": {
           "aaxis": {
            "gridcolor": "white",
            "linecolor": "white",
            "ticks": ""
           },
           "baxis": {
            "gridcolor": "white",
            "linecolor": "white",
            "ticks": ""
           },
           "bgcolor": "#E5ECF6",
           "caxis": {
            "gridcolor": "white",
            "linecolor": "white",
            "ticks": ""
           }
          },
          "title": {
           "x": 0.05
          },
          "xaxis": {
           "automargin": true,
           "gridcolor": "white",
           "linecolor": "white",
           "ticks": "",
           "title": {
            "standoff": 15
           },
           "zerolinecolor": "white",
           "zerolinewidth": 2
          },
          "yaxis": {
           "automargin": true,
           "gridcolor": "white",
           "linecolor": "white",
           "ticks": "",
           "title": {
            "standoff": 15
           },
           "zerolinecolor": "white",
           "zerolinewidth": 2
          }
         }
        },
        "title": {
         "text": "Grocery vs Fresh by labels_DBSCAN"
        },
        "xaxis": {
         "anchor": "y",
         "domain": [
          0,
          1
         ],
         "title": {
          "text": "Grocery"
         }
        },
        "yaxis": {
         "anchor": "x",
         "domain": [
          0,
          1
         ],
         "title": {
          "text": "Fresh"
         }
        }
       }
      },
      "text/html": [
       "<div>\n",
       "        \n",
       "        \n",
       "            <div id=\"5d13dc2c-07e7-4206-bb29-054a3c9253d0\" class=\"plotly-graph-div\" style=\"height:525px; width:100%;\"></div>\n",
       "            <script type=\"text/javascript\">\n",
       "                require([\"plotly\"], function(Plotly) {\n",
       "                    window.PLOTLYENV=window.PLOTLYENV || {};\n",
       "                    \n",
       "                if (document.getElementById(\"5d13dc2c-07e7-4206-bb29-054a3c9253d0\")) {\n",
       "                    Plotly.newPlot(\n",
       "                        '5d13dc2c-07e7-4206-bb29-054a3c9253d0',\n",
       "                        [{\"hoverlabel\": {\"namelength\": 0}, \"hovertemplate\": \"Grocery=%{x}<br>Fresh=%{y}<br>labels_DBSCAN=%{marker.color}\", \"legendgroup\": \"\", \"marker\": {\"color\": [-1, -1, -1, -1, -1, -1, -1, -1, -1, -1, 0, -1, -1, -1, 0, -1, -1, -1, -1, -1, 0, -1, -1, -1, 0, 0, -1, -1, -1, -1, -1, -1, 0, -1, -1, -1, -1, -1, -1, -1, -1, -1, -1, -1, -1, -1, -1, -1, -1, -1, -1, 2, -1, -1, 0, -1, -1, -1, -1, -1, -1, -1, -1, 0, -1, -1, -1, -1, -1, -1, -1, 0, 1, 0, -1, -1, 2, -1, -1, -1, 0, -1, -1, -1, -1, 0, 0, -1, -1, -1, -1, 0, -1, -1, -1, -1, -1, -1, -1, -1, -1, 2, 0, 0, -1, -1, 0, 2, 0, 0, -1, -1, -1, -1, -1, -1, -1, 0, 0, 0, 0, 0, -1, -1, -1, -1, -1, -1, -1, -1, -1, -1, 0, 0, 0, -1, 0, 1, -1, -1, 0, -1, -1, -1, -1, -1, -1, -1, 0, -1, -1, -1, -1, -1, 0, 0, -1, -1, -1, -1, -1, -1, -1, -1, -1, -1, -1, 0, -1, 0, -1, -1, -1, -1, 0, 0, -1, 0, -1, -1, -1, 0, -1, -1, 0, -1, -1, 0, -1, -1, -1, -1, -1, -1, -1, -1, 2, 0, 0, -1, -1, -1, 0, -1, -1, 0, -1, -1, -1, -1, -1, -1, -1, -1, 0, -1, 0, -1, -1, 2, 2, -1, -1, -1, 0, 0, -1, -1, 0, -1, -1, -1, -1, -1, -1, -1, -1, -1, -1, -1, -1, -1, -1, -1, -1, -1, 0, -1, -1, -1, -1, 0, 0, -1, -1, -1, 3, -1, -1, -1, -1, 0, -1, 0, -1, 1, 0, -1, -1, -1, -1, 2, -1, -1, 0, -1, -1, -1, -1, -1, -1, -1, -1, 0, -1, -1, -1, -1, -1, 0, 1, 0, 3, -1, -1, -1, 2, 0, 0, -1, -1, 0, -1, -1, -1, -1, 0, -1, -1, -1, -1, -1, 0, -1, -1, -1, 0, -1, 0, -1, 0, -1, -1, 0, -1, -1, -1, -1, 2, 0, 0, 0, 0, -1, 0, 0, 2, 0, -1, -1, -1, -1, 0, 0, -1, -1, 3, -1, -1, -1, -1, -1, -1, 0, -1, 2, 0, 0, -1, 1, -1, -1, 0, 0, -1, -1, -1, 0, 0, -1, -1, -1, 0, -1, -1, -1, -1, -1, -1, -1, -1, -1, -1, -1, -1, -1, -1, -1, -1, -1, -1, -1, -1, -1, -1, -1, 1, -1, -1, -1, -1, 0], \"coloraxis\": \"coloraxis\", \"symbol\": \"circle\"}, \"mode\": \"markers\", \"name\": \"\", \"showlegend\": false, \"type\": \"scatter\", \"x\": [7561, 9568, 4221, 7198, 5126, 6975, 9426, 6192, 18881, 12974, 4523, 11757, 14982, 12091, 3821, 12121, 2933, 10099, 9464, 4602, 2010, 4469, 13792, 7595, 2861, 3045, 25957, 2609, 11107, 3133, 2886, 7326, 2262, 11091, 5428, 12477, 16709, 902, 4757, 5956, 14961, 23998, 10471, 21531, 21955, 10868, 28921, 1980, 6996, 5876, 11532, 1947, 5005, 10487, 1648, 8040, 7854, 6544, 15775, 3250, 7417, 13462, 3993, 1293, 3202, 2661, 8713, 9794, 3, 6532, 28540, 2067, 3655, 3009, 14403, 11009, 1783, 4814, 4042, 5330, 1638, 2530, 11323, 6252, 8118, 610, 778, 1909, 12144, 16267, 7677, 3445, 3970, 10704, 14886, 6981, 28986, 1694, 17569, 2469, 1733, 2000, 2988, 3355, 5380, 2362, 2147, 3412, 1498, 245, 8814, 2961, 1658, 10685, 3823, 1510, 699, 314, 2479, 1235, 2174, 2591, 7030, 8282, 5034, 3343, 7305, 5189, 8253, 1096, 1988, 34792, 2177, 2707, 542, 1651, 1765, 2022, 3135, 2368, 137, 19460, 14855, 2474, 9618, 14682, 12822, 283, 3810, 26870, 8584, 19858, 9170, 3268, 803, 2155, 13430, 6536, 19805, 5241, 11874, 6536, 4533, 4945, 2500, 8887, 10518, 4710, 1139, 854, 9819, 11687, 11522, 1981, 1381, 2251, 20292, 2974, 5230, 10391, 6824, 2112, 23127, 24708, 2216, 5226, 23596, 950, 6089, 5838, 16767, 1393, 2062, 6861, 11364, 15538, 2046, 1390, 1382, 10646, 2856, 5265, 1499, 4157, 9212, 1563, 572, 2501, 5615, 3828, 3838, 3316, 3833, 2824, 3047, 593, 585, 3779, 7041, 2475, 2914, 5119, 10817, 13916, 1777, 489, 2406, 2070, 1799, 4740, 16966, 4748, 1495, 5249, 1883, 2124, 7336, 2157, 1094, 1677, 6684, 15445, 13699, 22182, 2576, 19847, 1138, 975, 1563, 6869, 1493, 1841, 223, 6964, 2543, 9694, 2431, 6235, 4252, 2013, 3600, 1242, 2828, 1296, 471, 2642, 3261, 4329, 12469, 6550, 5234, 3643, 6986, 9965, 2060, 6360, 20399, 9785, 13829, 24773, 8852, 21570, 2842, 3007, 13567, 8280, 2405, 7647, 11924, 2201, 6114, 3558, 2280, 5167, 3315, 11593, 2464, 1431, 1664, 3389, 4583, 5109, 26839, 1447, 2743, 10790, 1330, 2611, 5332, 9670, 11238, 5923, 1763, 8335, 15541, 12311, 2028, 20521, 1997, 22294, 1533, 21203, 2548, 2012, 218, 22272, 1660, 2109, 2006, 864, 2453, 4438, 1524, 8025, 1664, 534, 2406, 683, 4955, 1939, 1641, 7398, 1668, 1162, 13586, 2648, 1902, 10391, 2146, 1617, 8469, 3450, 15400, 1614, 2857, 1573, 1172, 1422, 1328, 2313, 3600, 3842, 3204, 1263, 9345, 1428, 582, 935, 1238, 5091, 4604, 3444, 1167, 5026, 18683, 6407, 6100, 4563, 3281, 12400, 3417, 8552, 10908, 11055, 18622, 2223, 13227, 9053, 4172, 4657, 12232, 14316, 4910, 3580, 16483, 4754, 1493, 7994, 764, 30243, 2232, 2510], \"xaxis\": \"x\", \"y\": [12669, 7057, 13265, 22615, 9413, 12126, 7579, 5963, 6006, 3366, 13146, 31714, 21217, 24653, 10253, 1020, 5876, 18601, 7780, 17546, 5567, 31276, 22647, 16165, 9898, 14276, 4113, 43088, 18815, 2612, 21632, 29729, 1502, 688, 29955, 15168, 4591, 56159, 24025, 19176, 10850, 630, 9670, 5181, 3103, 11519, 4967, 6269, 3347, 40721, 491, 27329, 5264, 5417, 13779, 6137, 8590, 7823, 9396, 4760, 9, 19913, 2446, 8352, 16705, 4420, 19899, 8190, 20398, 717, 12205, 10766, 1640, 7005, 219, 10362, 20874, 11867, 7864, 24904, 11405, 12754, 5626, 3, 23, 403, 503, 9658, 11594, 1420, 2932, 14100, 15587, 1454, 8797, 1531, 1406, 11818, 12579, 19046, 14438, 18044, 11134, 11173, 6990, 20049, 8258, 17160, 4020, 12212, 11170, 36050, 19219, 21465, 140, 42312, 7149, 2101, 14903, 9434, 7388, 6300, 4625, 3087, 13537, 5387, 17623, 30379, 37036, 10405, 18827, 22039, 7769, 9203, 5924, 31812, 16225, 1289, 18840, 3463, 622, 1989, 3830, 17773, 2861, 355, 1725, 12434, 15177, 5531, 5224, 15615, 4822, 2926, 5809, 5414, 260, 955, 514, 286, 2343, 45640, 12759, 11002, 3157, 12356, 694, 327, 8170, 3009, 2438, 8040, 834, 16936, 13624, 5509, 180, 7107, 17023, 2427, 11686, 9670, 3067, 4484, 583, 1956, 1107, 6373, 2541, 1537, 5550, 18567, 7291, 3317, 2362, 2806, 18044, 4155, 14755, 5396, 5041, 2790, 7274, 12680, 20782, 4042, 1869, 8656, 11072, 2344, 25962, 964, 15603, 1838, 8635, 18692, 7363, 47493, 22096, 24929, 18226, 11210, 6202, 3062, 8885, 13569, 15671, 8040, 3191, 6623, 29526, 10379, 31614, 11092, 8475, 56083, 53205, 9193, 7858, 23257, 2153, 1073, 5909, 572, 20893, 11908, 15218, 4720, 2083, 514, 36817, 894, 680, 27901, 11693, 17360, 3366, 12238, 49063, 25767, 40254, 7149, 15354, 16260, 42786, 2708, 6022, 2838, 3996, 21273, 7588, 19087, 8090, 6758, 444, 16448, 5283, 2886, 2599, 161, 243, 6468, 17327, 6987, 918, 29635, 9784, 10617, 1479, 7127, 1182, 11800, 1774, 9155, 15881, 13360, 25977, 4414, 542, 16933, 5113, 9790, 11223, 22321, 16823, 27082, 13970, 9351, 2617, 381, 2320, 255, 3043, 1198, 2771, 27380, 3428, 5981, 3521, 1210, 608, 117, 14039, 190, 22686, 37, 759, 796, 19746, 4734, 2121, 4627, 2615, 4692, 9561, 3477, 22335, 6211, 39679, 20105, 3884, 15076, 6338, 5841, 3136, 38793, 3225, 4048, 28257, 17770, 34454, 1821, 10683, 11635, 1206, 20918, 9785, 9385, 3352, 2647, 518, 23632, 12377, 9602, 4515, 11535, 11442, 9612, 4446, 26539, 25606, 18073, 6884, 25066, 7362, 8257, 8708, 6633, 2126, 97, 5969, 7842, 4389, 5065, 660, 8861, 4456, 17063, 26400, 17565, 16980, 13134, 3047, 8607, 3097, 21117, 1982, 16731, 39228, 14531, 10290, 2787], \"yaxis\": \"y\"}],\n",
       "                        {\"coloraxis\": {\"colorbar\": {\"title\": {\"text\": \"labels_DBSCAN\"}}, \"colorscale\": [[0.0, \"#0d0887\"], [0.1111111111111111, \"#46039f\"], [0.2222222222222222, \"#7201a8\"], [0.3333333333333333, \"#9c179e\"], [0.4444444444444444, \"#bd3786\"], [0.5555555555555556, \"#d8576b\"], [0.6666666666666666, \"#ed7953\"], [0.7777777777777778, \"#fb9f3a\"], [0.8888888888888888, \"#fdca26\"], [1.0, \"#f0f921\"]]}, \"legend\": {\"tracegroupgap\": 0}, \"margin\": {\"t\": 60}, \"template\": {\"data\": {\"bar\": [{\"error_x\": {\"color\": \"#2a3f5f\"}, \"error_y\": {\"color\": \"#2a3f5f\"}, \"marker\": {\"line\": {\"color\": \"#E5ECF6\", \"width\": 0.5}}, \"type\": \"bar\"}], \"barpolar\": [{\"marker\": {\"line\": {\"color\": \"#E5ECF6\", \"width\": 0.5}}, \"type\": \"barpolar\"}], \"carpet\": [{\"aaxis\": {\"endlinecolor\": \"#2a3f5f\", \"gridcolor\": \"white\", \"linecolor\": \"white\", \"minorgridcolor\": \"white\", \"startlinecolor\": \"#2a3f5f\"}, \"baxis\": {\"endlinecolor\": \"#2a3f5f\", \"gridcolor\": \"white\", \"linecolor\": \"white\", \"minorgridcolor\": \"white\", \"startlinecolor\": \"#2a3f5f\"}, \"type\": \"carpet\"}], \"choropleth\": [{\"colorbar\": {\"outlinewidth\": 0, \"ticks\": \"\"}, \"type\": \"choropleth\"}], \"contour\": [{\"colorbar\": {\"outlinewidth\": 0, \"ticks\": \"\"}, \"colorscale\": [[0.0, \"#0d0887\"], [0.1111111111111111, \"#46039f\"], [0.2222222222222222, \"#7201a8\"], [0.3333333333333333, \"#9c179e\"], [0.4444444444444444, \"#bd3786\"], [0.5555555555555556, \"#d8576b\"], [0.6666666666666666, \"#ed7953\"], [0.7777777777777778, \"#fb9f3a\"], [0.8888888888888888, \"#fdca26\"], [1.0, \"#f0f921\"]], \"type\": \"contour\"}], \"contourcarpet\": [{\"colorbar\": {\"outlinewidth\": 0, \"ticks\": \"\"}, \"type\": \"contourcarpet\"}], \"heatmap\": [{\"colorbar\": {\"outlinewidth\": 0, \"ticks\": \"\"}, \"colorscale\": [[0.0, \"#0d0887\"], [0.1111111111111111, \"#46039f\"], [0.2222222222222222, \"#7201a8\"], [0.3333333333333333, \"#9c179e\"], [0.4444444444444444, \"#bd3786\"], [0.5555555555555556, \"#d8576b\"], [0.6666666666666666, \"#ed7953\"], [0.7777777777777778, \"#fb9f3a\"], [0.8888888888888888, \"#fdca26\"], [1.0, \"#f0f921\"]], \"type\": \"heatmap\"}], \"heatmapgl\": [{\"colorbar\": {\"outlinewidth\": 0, \"ticks\": \"\"}, \"colorscale\": [[0.0, \"#0d0887\"], [0.1111111111111111, \"#46039f\"], [0.2222222222222222, \"#7201a8\"], [0.3333333333333333, \"#9c179e\"], [0.4444444444444444, \"#bd3786\"], [0.5555555555555556, \"#d8576b\"], [0.6666666666666666, \"#ed7953\"], [0.7777777777777778, \"#fb9f3a\"], [0.8888888888888888, \"#fdca26\"], [1.0, \"#f0f921\"]], \"type\": \"heatmapgl\"}], \"histogram\": [{\"marker\": {\"colorbar\": {\"outlinewidth\": 0, \"ticks\": \"\"}}, \"type\": \"histogram\"}], \"histogram2d\": [{\"colorbar\": {\"outlinewidth\": 0, \"ticks\": \"\"}, \"colorscale\": [[0.0, \"#0d0887\"], [0.1111111111111111, \"#46039f\"], [0.2222222222222222, \"#7201a8\"], [0.3333333333333333, \"#9c179e\"], [0.4444444444444444, \"#bd3786\"], [0.5555555555555556, \"#d8576b\"], [0.6666666666666666, \"#ed7953\"], [0.7777777777777778, \"#fb9f3a\"], [0.8888888888888888, \"#fdca26\"], [1.0, \"#f0f921\"]], \"type\": \"histogram2d\"}], \"histogram2dcontour\": [{\"colorbar\": {\"outlinewidth\": 0, \"ticks\": \"\"}, \"colorscale\": [[0.0, \"#0d0887\"], [0.1111111111111111, \"#46039f\"], [0.2222222222222222, \"#7201a8\"], [0.3333333333333333, \"#9c179e\"], [0.4444444444444444, \"#bd3786\"], [0.5555555555555556, \"#d8576b\"], [0.6666666666666666, \"#ed7953\"], [0.7777777777777778, \"#fb9f3a\"], [0.8888888888888888, \"#fdca26\"], [1.0, \"#f0f921\"]], \"type\": \"histogram2dcontour\"}], \"mesh3d\": [{\"colorbar\": {\"outlinewidth\": 0, \"ticks\": \"\"}, \"type\": \"mesh3d\"}], \"parcoords\": [{\"line\": {\"colorbar\": {\"outlinewidth\": 0, \"ticks\": \"\"}}, \"type\": \"parcoords\"}], \"pie\": [{\"automargin\": true, \"type\": \"pie\"}], \"scatter\": [{\"marker\": {\"colorbar\": {\"outlinewidth\": 0, \"ticks\": \"\"}}, \"type\": \"scatter\"}], \"scatter3d\": [{\"line\": {\"colorbar\": {\"outlinewidth\": 0, \"ticks\": \"\"}}, \"marker\": {\"colorbar\": {\"outlinewidth\": 0, \"ticks\": \"\"}}, \"type\": \"scatter3d\"}], \"scattercarpet\": [{\"marker\": {\"colorbar\": {\"outlinewidth\": 0, \"ticks\": \"\"}}, \"type\": \"scattercarpet\"}], \"scattergeo\": [{\"marker\": {\"colorbar\": {\"outlinewidth\": 0, \"ticks\": \"\"}}, \"type\": \"scattergeo\"}], \"scattergl\": [{\"marker\": {\"colorbar\": {\"outlinewidth\": 0, \"ticks\": \"\"}}, \"type\": \"scattergl\"}], \"scattermapbox\": [{\"marker\": {\"colorbar\": {\"outlinewidth\": 0, \"ticks\": \"\"}}, \"type\": \"scattermapbox\"}], \"scatterpolar\": [{\"marker\": {\"colorbar\": {\"outlinewidth\": 0, \"ticks\": \"\"}}, \"type\": \"scatterpolar\"}], \"scatterpolargl\": [{\"marker\": {\"colorbar\": {\"outlinewidth\": 0, \"ticks\": \"\"}}, \"type\": \"scatterpolargl\"}], \"scatterternary\": [{\"marker\": {\"colorbar\": {\"outlinewidth\": 0, \"ticks\": \"\"}}, \"type\": \"scatterternary\"}], \"surface\": [{\"colorbar\": {\"outlinewidth\": 0, \"ticks\": \"\"}, \"colorscale\": [[0.0, \"#0d0887\"], [0.1111111111111111, \"#46039f\"], [0.2222222222222222, \"#7201a8\"], [0.3333333333333333, \"#9c179e\"], [0.4444444444444444, \"#bd3786\"], [0.5555555555555556, \"#d8576b\"], [0.6666666666666666, \"#ed7953\"], [0.7777777777777778, \"#fb9f3a\"], [0.8888888888888888, \"#fdca26\"], [1.0, \"#f0f921\"]], \"type\": \"surface\"}], \"table\": [{\"cells\": {\"fill\": {\"color\": \"#EBF0F8\"}, \"line\": {\"color\": \"white\"}}, \"header\": {\"fill\": {\"color\": \"#C8D4E3\"}, \"line\": {\"color\": \"white\"}}, \"type\": \"table\"}]}, \"layout\": {\"annotationdefaults\": {\"arrowcolor\": \"#2a3f5f\", \"arrowhead\": 0, \"arrowwidth\": 1}, \"coloraxis\": {\"colorbar\": {\"outlinewidth\": 0, \"ticks\": \"\"}}, \"colorscale\": {\"diverging\": [[0, \"#8e0152\"], [0.1, \"#c51b7d\"], [0.2, \"#de77ae\"], [0.3, \"#f1b6da\"], [0.4, \"#fde0ef\"], [0.5, \"#f7f7f7\"], [0.6, \"#e6f5d0\"], [0.7, \"#b8e186\"], [0.8, \"#7fbc41\"], [0.9, \"#4d9221\"], [1, \"#276419\"]], \"sequential\": [[0.0, \"#0d0887\"], [0.1111111111111111, \"#46039f\"], [0.2222222222222222, \"#7201a8\"], [0.3333333333333333, \"#9c179e\"], [0.4444444444444444, \"#bd3786\"], [0.5555555555555556, \"#d8576b\"], [0.6666666666666666, \"#ed7953\"], [0.7777777777777778, \"#fb9f3a\"], [0.8888888888888888, \"#fdca26\"], [1.0, \"#f0f921\"]], \"sequentialminus\": [[0.0, \"#0d0887\"], [0.1111111111111111, \"#46039f\"], [0.2222222222222222, \"#7201a8\"], [0.3333333333333333, \"#9c179e\"], [0.4444444444444444, \"#bd3786\"], [0.5555555555555556, \"#d8576b\"], [0.6666666666666666, \"#ed7953\"], [0.7777777777777778, \"#fb9f3a\"], [0.8888888888888888, \"#fdca26\"], [1.0, \"#f0f921\"]]}, \"colorway\": [\"#636efa\", \"#EF553B\", \"#00cc96\", \"#ab63fa\", \"#FFA15A\", \"#19d3f3\", \"#FF6692\", \"#B6E880\", \"#FF97FF\", \"#FECB52\"], \"font\": {\"color\": \"#2a3f5f\"}, \"geo\": {\"bgcolor\": \"white\", \"lakecolor\": \"white\", \"landcolor\": \"#E5ECF6\", \"showlakes\": true, \"showland\": true, \"subunitcolor\": \"white\"}, \"hoverlabel\": {\"align\": \"left\"}, \"hovermode\": \"closest\", \"mapbox\": {\"style\": \"light\"}, \"paper_bgcolor\": \"white\", \"plot_bgcolor\": \"#E5ECF6\", \"polar\": {\"angularaxis\": {\"gridcolor\": \"white\", \"linecolor\": \"white\", \"ticks\": \"\"}, \"bgcolor\": \"#E5ECF6\", \"radialaxis\": {\"gridcolor\": \"white\", \"linecolor\": \"white\", \"ticks\": \"\"}}, \"scene\": {\"xaxis\": {\"backgroundcolor\": \"#E5ECF6\", \"gridcolor\": \"white\", \"gridwidth\": 2, \"linecolor\": \"white\", \"showbackground\": true, \"ticks\": \"\", \"zerolinecolor\": \"white\"}, \"yaxis\": {\"backgroundcolor\": \"#E5ECF6\", \"gridcolor\": \"white\", \"gridwidth\": 2, \"linecolor\": \"white\", \"showbackground\": true, \"ticks\": \"\", \"zerolinecolor\": \"white\"}, \"zaxis\": {\"backgroundcolor\": \"#E5ECF6\", \"gridcolor\": \"white\", \"gridwidth\": 2, \"linecolor\": \"white\", \"showbackground\": true, \"ticks\": \"\", \"zerolinecolor\": \"white\"}}, \"shapedefaults\": {\"line\": {\"color\": \"#2a3f5f\"}}, \"ternary\": {\"aaxis\": {\"gridcolor\": \"white\", \"linecolor\": \"white\", \"ticks\": \"\"}, \"baxis\": {\"gridcolor\": \"white\", \"linecolor\": \"white\", \"ticks\": \"\"}, \"bgcolor\": \"#E5ECF6\", \"caxis\": {\"gridcolor\": \"white\", \"linecolor\": \"white\", \"ticks\": \"\"}}, \"title\": {\"x\": 0.05}, \"xaxis\": {\"automargin\": true, \"gridcolor\": \"white\", \"linecolor\": \"white\", \"ticks\": \"\", \"title\": {\"standoff\": 15}, \"zerolinecolor\": \"white\", \"zerolinewidth\": 2}, \"yaxis\": {\"automargin\": true, \"gridcolor\": \"white\", \"linecolor\": \"white\", \"ticks\": \"\", \"title\": {\"standoff\": 15}, \"zerolinecolor\": \"white\", \"zerolinewidth\": 2}}}, \"title\": {\"text\": \"Grocery vs Fresh by labels_DBSCAN\"}, \"xaxis\": {\"anchor\": \"y\", \"domain\": [0.0, 1.0], \"title\": {\"text\": \"Grocery\"}}, \"yaxis\": {\"anchor\": \"x\", \"domain\": [0.0, 1.0], \"title\": {\"text\": \"Fresh\"}}},\n",
       "                        {\"responsive\": true}\n",
       "                    ).then(function(){\n",
       "                            \n",
       "var gd = document.getElementById('5d13dc2c-07e7-4206-bb29-054a3c9253d0');\n",
       "var x = new MutationObserver(function (mutations, observer) {{\n",
       "        var display = window.getComputedStyle(gd).display;\n",
       "        if (!display || display === 'none') {{\n",
       "            console.log([gd, 'removed!']);\n",
       "            Plotly.purge(gd);\n",
       "            observer.disconnect();\n",
       "        }}\n",
       "}});\n",
       "\n",
       "// Listen for the removal of the full notebook cells\n",
       "var notebookContainer = gd.closest('#notebook-container');\n",
       "if (notebookContainer) {{\n",
       "    x.observe(notebookContainer, {childList: true});\n",
       "}}\n",
       "\n",
       "// Listen for the clearing of the current output cell\n",
       "var outputEl = gd.closest('.output');\n",
       "if (outputEl) {{\n",
       "    x.observe(outputEl, {childList: true});\n",
       "}}\n",
       "\n",
       "                        })\n",
       "                };\n",
       "                });\n",
       "            </script>\n",
       "        </div>"
      ]
     },
     "metadata": {},
     "output_type": "display_data"
    }
   ],
   "source": [
    "fig_labels = px.scatter(data, x=\"Grocery\", y=\"Fresh\", color=\"labels\")\n",
    "fig_labels.update_layout(title='Grocery vs Fresh by labels')\n",
    "fig_labels.show()\n",
    "\n",
    "fig_labels_DBSCAN= px.scatter(data, x=\"Grocery\", y=\"Fresh\", color=\"labels_DBSCAN\")\n",
    "fig_labels_DBSCAN.update_layout(title='Grocery vs Fresh by labels_DBSCAN')\n",
    "fig_labels_DBSCAN.show()"
   ]
  },
  {
   "cell_type": "markdown",
   "metadata": {},
   "source": [
    "Visualize `Frozen` as X and `Delicassen` as y by `labels` and `labels_DBSCAN` respectively"
   ]
  },
  {
   "cell_type": "code",
   "execution_count": 47,
   "metadata": {},
   "outputs": [
    {
     "data": {
      "application/vnd.plotly.v1+json": {
       "config": {
        "plotlyServerURL": "https://plot.ly"
       },
       "data": [
        {
         "hoverlabel": {
          "namelength": 0
         },
         "hovertemplate": "Frozen=%{x}<br>Delicassen=%{y}<br>labels=%{marker.color}",
         "legendgroup": "",
         "marker": {
          "color": [
           1,
           1,
           2,
           6,
           1,
           3,
           6,
           3,
           4,
           1,
           5,
           6,
           1,
           1,
           3,
           1,
           6,
           6,
           3,
           6,
           3,
           6,
           6,
           5,
           5,
           5,
           7,
           0,
           6,
           3,
           5,
           0,
           3,
           1,
           6,
           1,
           4,
           0,
           6,
           6,
           1,
           4,
           1,
           7,
           4,
           1,
           4,
           5,
           3,
           0,
           1,
           5,
           3,
           1,
           5,
           1,
           3,
           1,
           4,
           3,
           3,
           1,
           6,
           3,
           2,
           2,
           2,
           1,
           5,
           2,
           4,
           5,
           3,
           3,
           1,
           1,
           5,
           3,
           2,
           6,
           5,
           2,
           1,
           3,
           3,
           3,
           3,
           2,
           1,
           1,
           1,
           5,
           5,
           1,
           4,
           1,
           4,
           5,
           4,
           2,
           5,
           5,
           5,
           3,
           3,
           2,
           5,
           5,
           3,
           5,
           1,
           0,
           2,
           6,
           3,
           0,
           2,
           3,
           5,
           3,
           3,
           3,
           1,
           3,
           6,
           3,
           6,
           0,
           0,
           2,
           5,
           4,
           3,
           3,
           3,
           0,
           5,
           3,
           5,
           3,
           3,
           4,
           1,
           5,
           1,
           1,
           1,
           5,
           5,
           4,
           1,
           4,
           6,
           3,
           3,
           3,
           1,
           3,
           4,
           3,
           1,
           0,
           6,
           3,
           2,
           6,
           1,
           3,
           3,
           3,
           2,
           1,
           1,
           2,
           5,
           3,
           1,
           3,
           2,
           1,
           5,
           3,
           4,
           4,
           3,
           3,
           4,
           3,
           1,
           3,
           4,
           5,
           3,
           1,
           1,
           1,
           5,
           3,
           5,
           1,
           2,
           2,
           3,
           5,
           5,
           3,
           3,
           2,
           2,
           3,
           5,
           3,
           6,
           3,
           3,
           5,
           3,
           0,
           2,
           5,
           5,
           6,
           1,
           1,
           3,
           5,
           5,
           2,
           3,
           2,
           1,
           7,
           0,
           3,
           2,
           0,
           0,
           3,
           2,
           5,
           3,
           1,
           7,
           4,
           6,
           1,
           5,
           2,
           3,
           3,
           0,
           3,
           3,
           6,
           2,
           1,
           3,
           6,
           0,
           2,
           0,
           3,
           2,
           5,
           0,
           3,
           3,
           3,
           1,
           5,
           3,
           5,
           3,
           1,
           3,
           6,
           4,
           1,
           1,
           4,
           1,
           4,
           5,
           3,
           4,
           5,
           5,
           5,
           7,
           3,
           3,
           5,
           3,
           5,
           5,
           5,
           5,
           3,
           3,
           2,
           2,
           5,
           4,
           6,
           2,
           6,
           5,
           2,
           2,
           1,
           1,
           1,
           3,
           3,
           1,
           1,
           3,
           4,
           3,
           4,
           3,
           4,
           2,
           3,
           5,
           1,
           7,
           3,
           5,
           3,
           3,
           3,
           3,
           6,
           3,
           3,
           5,
           3,
           0,
           2,
           6,
           6,
           3,
           3,
           1,
           0,
           3,
           3,
           5,
           2,
           6,
           3,
           7,
           5,
           3,
           5,
           3,
           5,
           2,
           3,
           3,
           2,
           5,
           5,
           1,
           2,
           2,
           3,
           3,
           5,
           5,
           5,
           3,
           2,
           4,
           3,
           6,
           3,
           6,
           1,
           2,
           1,
           1,
           1,
           1,
           3,
           1,
           1,
           5,
           5,
           1,
           1,
           3,
           3,
           1,
           5,
           3,
           5,
           0,
           4,
           5,
           3
          ],
          "coloraxis": "coloraxis",
          "symbol": "circle"
         },
         "mode": "markers",
         "name": "",
         "showlegend": false,
         "type": "scatter",
         "x": [
          214,
          1762,
          6404,
          3915,
          666,
          480,
          1669,
          425,
          1159,
          4400,
          1420,
          287,
          3095,
          294,
          397,
          134,
          839,
          2205,
          669,
          1066,
          3383,
          9408,
          2915,
          201,
          3151,
          485,
          1158,
          1200,
          1148,
          2088,
          266,
          6130,
          425,
          833,
          1729,
          1920,
          33,
          10002,
          9510,
          2033,
          188,
          787,
          541,
          1740,
          1668,
          584,
          1798,
          3860,
          239,
          532,
          744,
          2436,
          1057,
          38,
          596,
          129,
          96,
          4154,
          2896,
          3724,
          175,
          1256,
          5870,
          779,
          10643,
          8872,
          8132,
          1285,
          4407,
          7530,
          869,
          2096,
          868,
          430,
          283,
          737,
          2320,
          1178,
          9735,
          3443,
          3347,
          8693,
          206,
          440,
          145,
          774,
          895,
          5639,
          3252,
          1593,
          2561,
          1336,
          910,
          133,
          2471,
          247,
          673,
          2276,
          805,
          8853,
          3220,
          2555,
          2715,
          1517,
          1647,
          5343,
          3896,
          2417,
          2395,
          1991,
          2194,
          4787,
          8195,
          880,
          142,
          1718,
          6316,
          346,
          576,
          436,
          720,
          1170,
          4575,
          661,
          155,
          825,
          2279,
          321,
          2995,
          8425,
          118,
          42,
          926,
          1286,
          4052,
          800,
          853,
          531,
          3001,
          779,
          75,
          233,
          317,
          3378,
          930,
          398,
          824,
          1092,
          2665,
          2367,
          2540,
          4425,
          993,
          405,
          1393,
          2399,
          1116,
          333,
          937,
          2515,
          52,
          7368,
          1752,
          1152,
          4477,
          402,
          443,
          74,
          2181,
          3470,
          6269,
          2758,
          275,
          7332,
          890,
          547,
          959,
          806,
          7888,
          1127,
          3527,
          520,
          3941,
          3549,
          469,
          1383,
          955,
          878,
          2946,
          1859,
          864,
          1801,
          1291,
          1329,
          913,
          1374,
          2532,
          2306,
          1765,
          91,
          7496,
          5612,
          784,
          660,
          1759,
          2286,
          950,
          6845,
          8321,
          1439,
          638,
          937,
          4260,
          1218,
          2312,
          4634,
          1112,
          5243,
          11422,
          2216,
          3752,
          561,
          1183,
          230,
          1777,
          2077,
          559,
          6340,
          1730,
          7683,
          432,
          4686,
          3242,
          453,
          5004,
          6422,
          3012,
          327,
          6818,
          982,
          4324,
          61,
          10155,
          2221,
          3975,
          1069,
          2516,
          5500,
          1120,
          529,
          4802,
          744,
          862,
          4479,
          5845,
          1293,
          977,
          1093,
          5970,
          10303,
          1042,
          1619,
          8366,
          848,
          1388,
          502,
          2507,
          3838,
          902,
          909,
          417,
          3045,
          1455,
          934,
          264,
          824,
          1809,
          364,
          492,
          617,
          799,
          1840,
          1149,
          416,
          1465,
          3046,
          4447,
          1483,
          662,
          2679,
          978,
          2121,
          514,
          2714,
          3703,
          915,
          2369,
          3498,
          414,
          7849,
          5127,
          3570,
          1234,
          2208,
          11559,
          1365,
          650,
          8170,
          9584,
          388,
          767,
          349,
          2234,
          402,
          2693,
          2809,
          1341,
          2005,
          1796,
          1741,
          830,
          228,
          6386,
          245,
          3157,
          137,
          6114,
          340,
          2601,
          1206,
          560,
          191,
          1103,
          1619,
          1173,
          1457,
          2046,
          1089,
          1364,
          8164,
          876,
          1504,
          1492,
          597,
          5641,
          1034,
          282,
          130,
          3881,
          9927,
          2540,
          4006,
          3635,
          2583,
          1945,
          1960,
          1677,
          3019,
          5502,
          907,
          659,
          8620,
          1398,
          2921,
          2644,
          6838,
          5390,
          1601,
          3576,
          220,
          127,
          4324,
          2069,
          9806,
          2854,
          1646,
          2349,
          1389,
          1535,
          98,
          5679,
          1691,
          848,
          364,
          133,
          633,
          25,
          1031,
          830,
          1059,
          874,
          3141,
          2198,
          47,
          575,
          269,
          1541,
          688,
          4510,
          437,
          1038,
          65
         ],
         "xaxis": "x",
         "y": [
          1338,
          1776,
          1788,
          5185,
          1451,
          545,
          2566,
          750,
          2098,
          1744,
          497,
          2931,
          602,
          2168,
          412,
          1080,
          4478,
          3181,
          501,
          2124,
          569,
          4334,
          5778,
          57,
          833,
          518,
          5206,
          823,
          2963,
          985,
          405,
          1083,
          395,
          436,
          4626,
          714,
          433,
          2916,
          5864,
          2802,
          46,
          72,
          65,
          4985,
          1452,
          1476,
          1163,
          2162,
          301,
          1278,
          224,
          1333,
          1130,
          1282,
          436,
          1603,
          225,
          964,
          1295,
          1145,
          27,
          834,
          3095,
          144,
          1365,
          181,
          648,
          1780,
          975,
          894,
          1009,
          167,
          1653,
          529,
          156,
          2342,
          772,
          120,
          46,
          3178,
          360,
          1117,
          244,
          709,
          217,
          63,
          132,
          323,
          3029,
          1838,
          1386,
          548,
          1378,
          1831,
          1438,
          1236,
          3,
          1647,
          1519,
          2708,
          1561,
          1266,
          610,
          222,
          1160,
          933,
          635,
          1136,
          255,
          860,
          143,
          1621,
          483,
          2749,
          3,
          1819,
          911,
          310,
          328,
          396,
          537,
          326,
          1542,
          36,
          3271,
          929,
          2616,
          1450,
          3,
          318,
          201,
          4430,
          520,
          526,
          434,
          1440,
          1067,
          1774,
          184,
          1627,
          8,
          2153,
          3182,
          418,
          1682,
          303,
          2157,
          2233,
          610,
          446,
          238,
          2379,
          3637,
          693,
          429,
          750,
          323,
          707,
          716,
          1442,
          1697,
          230,
          2631,
          395,
          2165,
          2794,
          156,
          11,
          247,
          727,
          3,
          404,
          1856,
          64,
          84,
          409,
          666,
          1142,
          1755,
          1468,
          697,
          347,
          731,
          1681,
          18,
          1328,
          710,
          285,
          120,
          806,
          797,
          2100,
          1775,
          1215,
          791,
          2388,
          1158,
          130,
          749,
          239,
          375,
          1360,
          659,
          786,
          1553,
          689,
          203,
          980,
          2137,
          490,
          834,
          7,
          2563,
          295,
          225,
          1215,
          216,
          2253,
          2564,
          1047,
          578,
          2398,
          1970,
          2784,
          610,
          659,
          572,
          291,
          710,
          1693,
          1391,
          3265,
          615,
          373,
          987,
          3321,
          818,
          548,
          287,
          655,
          411,
          1265,
          3636,
          2563,
          3628,
          698,
          204,
          56,
          1550,
          1040,
          1824,
          1153,
          379,
          2503,
          1409,
          1721,
          1104,
          2079,
          1404,
          1384,
          18,
          128,
          1027,
          258,
          22,
          1522,
          686,
          1060,
          741,
          1854,
          254,
          898,
          531,
          1037,
          259,
          2005,
          172,
          555,
          59,
          2410,
          211,
          1543,
          925,
          656,
          806,
          117,
          297,
          1233,
          3508,
          1059,
          1637,
          51,
          834,
          1113,
          229,
          573,
          1092,
          834,
          522,
          1534,
          739,
          1043,
          1102,
          2602,
          3486,
          2139,
          778,
          868,
          1942,
          1371,
          2158,
          1328,
          379,
          303,
          1115,
          1022,
          665,
          445,
          995,
          3137,
          195,
          1111,
          2341,
          127,
          548,
          110,
          4100,
          776,
          503,
          405,
          712,
          314,
          468,
          3105,
          447,
          342,
          558,
          296,
          2235,
          790,
          4829,
          3113,
          686,
          70,
          1426,
          1242,
          1114,
          179,
          270,
          532,
          2893,
          361,
          5120,
          1068,
          967,
          961,
          406,
          684,
          1000,
          1827,
          654,
          819,
          452,
          290,
          2213,
          743,
          247,
          375,
          1014,
          340,
          288,
          715,
          378,
          960,
          553,
          344,
          5137,
          1892,
          4365,
          62,
          290,
          1874,
          993,
          1063,
          776,
          1521,
          1393,
          1784,
          1218,
          668,
          249,
          1894,
          317,
          2501,
          2080,
          395,
          1449,
          838,
          2346,
          1867,
          2125,
          52
         ],
         "yaxis": "y"
        }
       ],
       "layout": {
        "coloraxis": {
         "colorbar": {
          "title": {
           "text": "labels"
          }
         },
         "colorscale": [
          [
           0,
           "#0d0887"
          ],
          [
           0.1111111111111111,
           "#46039f"
          ],
          [
           0.2222222222222222,
           "#7201a8"
          ],
          [
           0.3333333333333333,
           "#9c179e"
          ],
          [
           0.4444444444444444,
           "#bd3786"
          ],
          [
           0.5555555555555556,
           "#d8576b"
          ],
          [
           0.6666666666666666,
           "#ed7953"
          ],
          [
           0.7777777777777778,
           "#fb9f3a"
          ],
          [
           0.8888888888888888,
           "#fdca26"
          ],
          [
           1,
           "#f0f921"
          ]
         ]
        },
        "legend": {
         "tracegroupgap": 0
        },
        "margin": {
         "t": 60
        },
        "template": {
         "data": {
          "bar": [
           {
            "error_x": {
             "color": "#2a3f5f"
            },
            "error_y": {
             "color": "#2a3f5f"
            },
            "marker": {
             "line": {
              "color": "#E5ECF6",
              "width": 0.5
             }
            },
            "type": "bar"
           }
          ],
          "barpolar": [
           {
            "marker": {
             "line": {
              "color": "#E5ECF6",
              "width": 0.5
             }
            },
            "type": "barpolar"
           }
          ],
          "carpet": [
           {
            "aaxis": {
             "endlinecolor": "#2a3f5f",
             "gridcolor": "white",
             "linecolor": "white",
             "minorgridcolor": "white",
             "startlinecolor": "#2a3f5f"
            },
            "baxis": {
             "endlinecolor": "#2a3f5f",
             "gridcolor": "white",
             "linecolor": "white",
             "minorgridcolor": "white",
             "startlinecolor": "#2a3f5f"
            },
            "type": "carpet"
           }
          ],
          "choropleth": [
           {
            "colorbar": {
             "outlinewidth": 0,
             "ticks": ""
            },
            "type": "choropleth"
           }
          ],
          "contour": [
           {
            "colorbar": {
             "outlinewidth": 0,
             "ticks": ""
            },
            "colorscale": [
             [
              0,
              "#0d0887"
             ],
             [
              0.1111111111111111,
              "#46039f"
             ],
             [
              0.2222222222222222,
              "#7201a8"
             ],
             [
              0.3333333333333333,
              "#9c179e"
             ],
             [
              0.4444444444444444,
              "#bd3786"
             ],
             [
              0.5555555555555556,
              "#d8576b"
             ],
             [
              0.6666666666666666,
              "#ed7953"
             ],
             [
              0.7777777777777778,
              "#fb9f3a"
             ],
             [
              0.8888888888888888,
              "#fdca26"
             ],
             [
              1,
              "#f0f921"
             ]
            ],
            "type": "contour"
           }
          ],
          "contourcarpet": [
           {
            "colorbar": {
             "outlinewidth": 0,
             "ticks": ""
            },
            "type": "contourcarpet"
           }
          ],
          "heatmap": [
           {
            "colorbar": {
             "outlinewidth": 0,
             "ticks": ""
            },
            "colorscale": [
             [
              0,
              "#0d0887"
             ],
             [
              0.1111111111111111,
              "#46039f"
             ],
             [
              0.2222222222222222,
              "#7201a8"
             ],
             [
              0.3333333333333333,
              "#9c179e"
             ],
             [
              0.4444444444444444,
              "#bd3786"
             ],
             [
              0.5555555555555556,
              "#d8576b"
             ],
             [
              0.6666666666666666,
              "#ed7953"
             ],
             [
              0.7777777777777778,
              "#fb9f3a"
             ],
             [
              0.8888888888888888,
              "#fdca26"
             ],
             [
              1,
              "#f0f921"
             ]
            ],
            "type": "heatmap"
           }
          ],
          "heatmapgl": [
           {
            "colorbar": {
             "outlinewidth": 0,
             "ticks": ""
            },
            "colorscale": [
             [
              0,
              "#0d0887"
             ],
             [
              0.1111111111111111,
              "#46039f"
             ],
             [
              0.2222222222222222,
              "#7201a8"
             ],
             [
              0.3333333333333333,
              "#9c179e"
             ],
             [
              0.4444444444444444,
              "#bd3786"
             ],
             [
              0.5555555555555556,
              "#d8576b"
             ],
             [
              0.6666666666666666,
              "#ed7953"
             ],
             [
              0.7777777777777778,
              "#fb9f3a"
             ],
             [
              0.8888888888888888,
              "#fdca26"
             ],
             [
              1,
              "#f0f921"
             ]
            ],
            "type": "heatmapgl"
           }
          ],
          "histogram": [
           {
            "marker": {
             "colorbar": {
              "outlinewidth": 0,
              "ticks": ""
             }
            },
            "type": "histogram"
           }
          ],
          "histogram2d": [
           {
            "colorbar": {
             "outlinewidth": 0,
             "ticks": ""
            },
            "colorscale": [
             [
              0,
              "#0d0887"
             ],
             [
              0.1111111111111111,
              "#46039f"
             ],
             [
              0.2222222222222222,
              "#7201a8"
             ],
             [
              0.3333333333333333,
              "#9c179e"
             ],
             [
              0.4444444444444444,
              "#bd3786"
             ],
             [
              0.5555555555555556,
              "#d8576b"
             ],
             [
              0.6666666666666666,
              "#ed7953"
             ],
             [
              0.7777777777777778,
              "#fb9f3a"
             ],
             [
              0.8888888888888888,
              "#fdca26"
             ],
             [
              1,
              "#f0f921"
             ]
            ],
            "type": "histogram2d"
           }
          ],
          "histogram2dcontour": [
           {
            "colorbar": {
             "outlinewidth": 0,
             "ticks": ""
            },
            "colorscale": [
             [
              0,
              "#0d0887"
             ],
             [
              0.1111111111111111,
              "#46039f"
             ],
             [
              0.2222222222222222,
              "#7201a8"
             ],
             [
              0.3333333333333333,
              "#9c179e"
             ],
             [
              0.4444444444444444,
              "#bd3786"
             ],
             [
              0.5555555555555556,
              "#d8576b"
             ],
             [
              0.6666666666666666,
              "#ed7953"
             ],
             [
              0.7777777777777778,
              "#fb9f3a"
             ],
             [
              0.8888888888888888,
              "#fdca26"
             ],
             [
              1,
              "#f0f921"
             ]
            ],
            "type": "histogram2dcontour"
           }
          ],
          "mesh3d": [
           {
            "colorbar": {
             "outlinewidth": 0,
             "ticks": ""
            },
            "type": "mesh3d"
           }
          ],
          "parcoords": [
           {
            "line": {
             "colorbar": {
              "outlinewidth": 0,
              "ticks": ""
             }
            },
            "type": "parcoords"
           }
          ],
          "pie": [
           {
            "automargin": true,
            "type": "pie"
           }
          ],
          "scatter": [
           {
            "marker": {
             "colorbar": {
              "outlinewidth": 0,
              "ticks": ""
             }
            },
            "type": "scatter"
           }
          ],
          "scatter3d": [
           {
            "line": {
             "colorbar": {
              "outlinewidth": 0,
              "ticks": ""
             }
            },
            "marker": {
             "colorbar": {
              "outlinewidth": 0,
              "ticks": ""
             }
            },
            "type": "scatter3d"
           }
          ],
          "scattercarpet": [
           {
            "marker": {
             "colorbar": {
              "outlinewidth": 0,
              "ticks": ""
             }
            },
            "type": "scattercarpet"
           }
          ],
          "scattergeo": [
           {
            "marker": {
             "colorbar": {
              "outlinewidth": 0,
              "ticks": ""
             }
            },
            "type": "scattergeo"
           }
          ],
          "scattergl": [
           {
            "marker": {
             "colorbar": {
              "outlinewidth": 0,
              "ticks": ""
             }
            },
            "type": "scattergl"
           }
          ],
          "scattermapbox": [
           {
            "marker": {
             "colorbar": {
              "outlinewidth": 0,
              "ticks": ""
             }
            },
            "type": "scattermapbox"
           }
          ],
          "scatterpolar": [
           {
            "marker": {
             "colorbar": {
              "outlinewidth": 0,
              "ticks": ""
             }
            },
            "type": "scatterpolar"
           }
          ],
          "scatterpolargl": [
           {
            "marker": {
             "colorbar": {
              "outlinewidth": 0,
              "ticks": ""
             }
            },
            "type": "scatterpolargl"
           }
          ],
          "scatterternary": [
           {
            "marker": {
             "colorbar": {
              "outlinewidth": 0,
              "ticks": ""
             }
            },
            "type": "scatterternary"
           }
          ],
          "surface": [
           {
            "colorbar": {
             "outlinewidth": 0,
             "ticks": ""
            },
            "colorscale": [
             [
              0,
              "#0d0887"
             ],
             [
              0.1111111111111111,
              "#46039f"
             ],
             [
              0.2222222222222222,
              "#7201a8"
             ],
             [
              0.3333333333333333,
              "#9c179e"
             ],
             [
              0.4444444444444444,
              "#bd3786"
             ],
             [
              0.5555555555555556,
              "#d8576b"
             ],
             [
              0.6666666666666666,
              "#ed7953"
             ],
             [
              0.7777777777777778,
              "#fb9f3a"
             ],
             [
              0.8888888888888888,
              "#fdca26"
             ],
             [
              1,
              "#f0f921"
             ]
            ],
            "type": "surface"
           }
          ],
          "table": [
           {
            "cells": {
             "fill": {
              "color": "#EBF0F8"
             },
             "line": {
              "color": "white"
             }
            },
            "header": {
             "fill": {
              "color": "#C8D4E3"
             },
             "line": {
              "color": "white"
             }
            },
            "type": "table"
           }
          ]
         },
         "layout": {
          "annotationdefaults": {
           "arrowcolor": "#2a3f5f",
           "arrowhead": 0,
           "arrowwidth": 1
          },
          "coloraxis": {
           "colorbar": {
            "outlinewidth": 0,
            "ticks": ""
           }
          },
          "colorscale": {
           "diverging": [
            [
             0,
             "#8e0152"
            ],
            [
             0.1,
             "#c51b7d"
            ],
            [
             0.2,
             "#de77ae"
            ],
            [
             0.3,
             "#f1b6da"
            ],
            [
             0.4,
             "#fde0ef"
            ],
            [
             0.5,
             "#f7f7f7"
            ],
            [
             0.6,
             "#e6f5d0"
            ],
            [
             0.7,
             "#b8e186"
            ],
            [
             0.8,
             "#7fbc41"
            ],
            [
             0.9,
             "#4d9221"
            ],
            [
             1,
             "#276419"
            ]
           ],
           "sequential": [
            [
             0,
             "#0d0887"
            ],
            [
             0.1111111111111111,
             "#46039f"
            ],
            [
             0.2222222222222222,
             "#7201a8"
            ],
            [
             0.3333333333333333,
             "#9c179e"
            ],
            [
             0.4444444444444444,
             "#bd3786"
            ],
            [
             0.5555555555555556,
             "#d8576b"
            ],
            [
             0.6666666666666666,
             "#ed7953"
            ],
            [
             0.7777777777777778,
             "#fb9f3a"
            ],
            [
             0.8888888888888888,
             "#fdca26"
            ],
            [
             1,
             "#f0f921"
            ]
           ],
           "sequentialminus": [
            [
             0,
             "#0d0887"
            ],
            [
             0.1111111111111111,
             "#46039f"
            ],
            [
             0.2222222222222222,
             "#7201a8"
            ],
            [
             0.3333333333333333,
             "#9c179e"
            ],
            [
             0.4444444444444444,
             "#bd3786"
            ],
            [
             0.5555555555555556,
             "#d8576b"
            ],
            [
             0.6666666666666666,
             "#ed7953"
            ],
            [
             0.7777777777777778,
             "#fb9f3a"
            ],
            [
             0.8888888888888888,
             "#fdca26"
            ],
            [
             1,
             "#f0f921"
            ]
           ]
          },
          "colorway": [
           "#636efa",
           "#EF553B",
           "#00cc96",
           "#ab63fa",
           "#FFA15A",
           "#19d3f3",
           "#FF6692",
           "#B6E880",
           "#FF97FF",
           "#FECB52"
          ],
          "font": {
           "color": "#2a3f5f"
          },
          "geo": {
           "bgcolor": "white",
           "lakecolor": "white",
           "landcolor": "#E5ECF6",
           "showlakes": true,
           "showland": true,
           "subunitcolor": "white"
          },
          "hoverlabel": {
           "align": "left"
          },
          "hovermode": "closest",
          "mapbox": {
           "style": "light"
          },
          "paper_bgcolor": "white",
          "plot_bgcolor": "#E5ECF6",
          "polar": {
           "angularaxis": {
            "gridcolor": "white",
            "linecolor": "white",
            "ticks": ""
           },
           "bgcolor": "#E5ECF6",
           "radialaxis": {
            "gridcolor": "white",
            "linecolor": "white",
            "ticks": ""
           }
          },
          "scene": {
           "xaxis": {
            "backgroundcolor": "#E5ECF6",
            "gridcolor": "white",
            "gridwidth": 2,
            "linecolor": "white",
            "showbackground": true,
            "ticks": "",
            "zerolinecolor": "white"
           },
           "yaxis": {
            "backgroundcolor": "#E5ECF6",
            "gridcolor": "white",
            "gridwidth": 2,
            "linecolor": "white",
            "showbackground": true,
            "ticks": "",
            "zerolinecolor": "white"
           },
           "zaxis": {
            "backgroundcolor": "#E5ECF6",
            "gridcolor": "white",
            "gridwidth": 2,
            "linecolor": "white",
            "showbackground": true,
            "ticks": "",
            "zerolinecolor": "white"
           }
          },
          "shapedefaults": {
           "line": {
            "color": "#2a3f5f"
           }
          },
          "ternary": {
           "aaxis": {
            "gridcolor": "white",
            "linecolor": "white",
            "ticks": ""
           },
           "baxis": {
            "gridcolor": "white",
            "linecolor": "white",
            "ticks": ""
           },
           "bgcolor": "#E5ECF6",
           "caxis": {
            "gridcolor": "white",
            "linecolor": "white",
            "ticks": ""
           }
          },
          "title": {
           "x": 0.05
          },
          "xaxis": {
           "automargin": true,
           "gridcolor": "white",
           "linecolor": "white",
           "ticks": "",
           "title": {
            "standoff": 15
           },
           "zerolinecolor": "white",
           "zerolinewidth": 2
          },
          "yaxis": {
           "automargin": true,
           "gridcolor": "white",
           "linecolor": "white",
           "ticks": "",
           "title": {
            "standoff": 15
           },
           "zerolinecolor": "white",
           "zerolinewidth": 2
          }
         }
        },
        "title": {
         "text": "Frozen vs Delicassen by labels"
        },
        "xaxis": {
         "anchor": "y",
         "domain": [
          0,
          1
         ],
         "title": {
          "text": "Frozen"
         }
        },
        "yaxis": {
         "anchor": "x",
         "domain": [
          0,
          1
         ],
         "title": {
          "text": "Delicassen"
         }
        }
       }
      },
      "text/html": [
       "<div>\n",
       "        \n",
       "        \n",
       "            <div id=\"3327601b-bebd-4b53-a15a-782e521f832c\" class=\"plotly-graph-div\" style=\"height:525px; width:100%;\"></div>\n",
       "            <script type=\"text/javascript\">\n",
       "                require([\"plotly\"], function(Plotly) {\n",
       "                    window.PLOTLYENV=window.PLOTLYENV || {};\n",
       "                    \n",
       "                if (document.getElementById(\"3327601b-bebd-4b53-a15a-782e521f832c\")) {\n",
       "                    Plotly.newPlot(\n",
       "                        '3327601b-bebd-4b53-a15a-782e521f832c',\n",
       "                        [{\"hoverlabel\": {\"namelength\": 0}, \"hovertemplate\": \"Frozen=%{x}<br>Delicassen=%{y}<br>labels=%{marker.color}\", \"legendgroup\": \"\", \"marker\": {\"color\": [1, 1, 2, 6, 1, 3, 6, 3, 4, 1, 5, 6, 1, 1, 3, 1, 6, 6, 3, 6, 3, 6, 6, 5, 5, 5, 7, 0, 6, 3, 5, 0, 3, 1, 6, 1, 4, 0, 6, 6, 1, 4, 1, 7, 4, 1, 4, 5, 3, 0, 1, 5, 3, 1, 5, 1, 3, 1, 4, 3, 3, 1, 6, 3, 2, 2, 2, 1, 5, 2, 4, 5, 3, 3, 1, 1, 5, 3, 2, 6, 5, 2, 1, 3, 3, 3, 3, 2, 1, 1, 1, 5, 5, 1, 4, 1, 4, 5, 4, 2, 5, 5, 5, 3, 3, 2, 5, 5, 3, 5, 1, 0, 2, 6, 3, 0, 2, 3, 5, 3, 3, 3, 1, 3, 6, 3, 6, 0, 0, 2, 5, 4, 3, 3, 3, 0, 5, 3, 5, 3, 3, 4, 1, 5, 1, 1, 1, 5, 5, 4, 1, 4, 6, 3, 3, 3, 1, 3, 4, 3, 1, 0, 6, 3, 2, 6, 1, 3, 3, 3, 2, 1, 1, 2, 5, 3, 1, 3, 2, 1, 5, 3, 4, 4, 3, 3, 4, 3, 1, 3, 4, 5, 3, 1, 1, 1, 5, 3, 5, 1, 2, 2, 3, 5, 5, 3, 3, 2, 2, 3, 5, 3, 6, 3, 3, 5, 3, 0, 2, 5, 5, 6, 1, 1, 3, 5, 5, 2, 3, 2, 1, 7, 0, 3, 2, 0, 0, 3, 2, 5, 3, 1, 7, 4, 6, 1, 5, 2, 3, 3, 0, 3, 3, 6, 2, 1, 3, 6, 0, 2, 0, 3, 2, 5, 0, 3, 3, 3, 1, 5, 3, 5, 3, 1, 3, 6, 4, 1, 1, 4, 1, 4, 5, 3, 4, 5, 5, 5, 7, 3, 3, 5, 3, 5, 5, 5, 5, 3, 3, 2, 2, 5, 4, 6, 2, 6, 5, 2, 2, 1, 1, 1, 3, 3, 1, 1, 3, 4, 3, 4, 3, 4, 2, 3, 5, 1, 7, 3, 5, 3, 3, 3, 3, 6, 3, 3, 5, 3, 0, 2, 6, 6, 3, 3, 1, 0, 3, 3, 5, 2, 6, 3, 7, 5, 3, 5, 3, 5, 2, 3, 3, 2, 5, 5, 1, 2, 2, 3, 3, 5, 5, 5, 3, 2, 4, 3, 6, 3, 6, 1, 2, 1, 1, 1, 1, 3, 1, 1, 5, 5, 1, 1, 3, 3, 1, 5, 3, 5, 0, 4, 5, 3], \"coloraxis\": \"coloraxis\", \"symbol\": \"circle\"}, \"mode\": \"markers\", \"name\": \"\", \"showlegend\": false, \"type\": \"scatter\", \"x\": [214, 1762, 6404, 3915, 666, 480, 1669, 425, 1159, 4400, 1420, 287, 3095, 294, 397, 134, 839, 2205, 669, 1066, 3383, 9408, 2915, 201, 3151, 485, 1158, 1200, 1148, 2088, 266, 6130, 425, 833, 1729, 1920, 33, 10002, 9510, 2033, 188, 787, 541, 1740, 1668, 584, 1798, 3860, 239, 532, 744, 2436, 1057, 38, 596, 129, 96, 4154, 2896, 3724, 175, 1256, 5870, 779, 10643, 8872, 8132, 1285, 4407, 7530, 869, 2096, 868, 430, 283, 737, 2320, 1178, 9735, 3443, 3347, 8693, 206, 440, 145, 774, 895, 5639, 3252, 1593, 2561, 1336, 910, 133, 2471, 247, 673, 2276, 805, 8853, 3220, 2555, 2715, 1517, 1647, 5343, 3896, 2417, 2395, 1991, 2194, 4787, 8195, 880, 142, 1718, 6316, 346, 576, 436, 720, 1170, 4575, 661, 155, 825, 2279, 321, 2995, 8425, 118, 42, 926, 1286, 4052, 800, 853, 531, 3001, 779, 75, 233, 317, 3378, 930, 398, 824, 1092, 2665, 2367, 2540, 4425, 993, 405, 1393, 2399, 1116, 333, 937, 2515, 52, 7368, 1752, 1152, 4477, 402, 443, 74, 2181, 3470, 6269, 2758, 275, 7332, 890, 547, 959, 806, 7888, 1127, 3527, 520, 3941, 3549, 469, 1383, 955, 878, 2946, 1859, 864, 1801, 1291, 1329, 913, 1374, 2532, 2306, 1765, 91, 7496, 5612, 784, 660, 1759, 2286, 950, 6845, 8321, 1439, 638, 937, 4260, 1218, 2312, 4634, 1112, 5243, 11422, 2216, 3752, 561, 1183, 230, 1777, 2077, 559, 6340, 1730, 7683, 432, 4686, 3242, 453, 5004, 6422, 3012, 327, 6818, 982, 4324, 61, 10155, 2221, 3975, 1069, 2516, 5500, 1120, 529, 4802, 744, 862, 4479, 5845, 1293, 977, 1093, 5970, 10303, 1042, 1619, 8366, 848, 1388, 502, 2507, 3838, 902, 909, 417, 3045, 1455, 934, 264, 824, 1809, 364, 492, 617, 799, 1840, 1149, 416, 1465, 3046, 4447, 1483, 662, 2679, 978, 2121, 514, 2714, 3703, 915, 2369, 3498, 414, 7849, 5127, 3570, 1234, 2208, 11559, 1365, 650, 8170, 9584, 388, 767, 349, 2234, 402, 2693, 2809, 1341, 2005, 1796, 1741, 830, 228, 6386, 245, 3157, 137, 6114, 340, 2601, 1206, 560, 191, 1103, 1619, 1173, 1457, 2046, 1089, 1364, 8164, 876, 1504, 1492, 597, 5641, 1034, 282, 130, 3881, 9927, 2540, 4006, 3635, 2583, 1945, 1960, 1677, 3019, 5502, 907, 659, 8620, 1398, 2921, 2644, 6838, 5390, 1601, 3576, 220, 127, 4324, 2069, 9806, 2854, 1646, 2349, 1389, 1535, 98, 5679, 1691, 848, 364, 133, 633, 25, 1031, 830, 1059, 874, 3141, 2198, 47, 575, 269, 1541, 688, 4510, 437, 1038, 65], \"xaxis\": \"x\", \"y\": [1338, 1776, 1788, 5185, 1451, 545, 2566, 750, 2098, 1744, 497, 2931, 602, 2168, 412, 1080, 4478, 3181, 501, 2124, 569, 4334, 5778, 57, 833, 518, 5206, 823, 2963, 985, 405, 1083, 395, 436, 4626, 714, 433, 2916, 5864, 2802, 46, 72, 65, 4985, 1452, 1476, 1163, 2162, 301, 1278, 224, 1333, 1130, 1282, 436, 1603, 225, 964, 1295, 1145, 27, 834, 3095, 144, 1365, 181, 648, 1780, 975, 894, 1009, 167, 1653, 529, 156, 2342, 772, 120, 46, 3178, 360, 1117, 244, 709, 217, 63, 132, 323, 3029, 1838, 1386, 548, 1378, 1831, 1438, 1236, 3, 1647, 1519, 2708, 1561, 1266, 610, 222, 1160, 933, 635, 1136, 255, 860, 143, 1621, 483, 2749, 3, 1819, 911, 310, 328, 396, 537, 326, 1542, 36, 3271, 929, 2616, 1450, 3, 318, 201, 4430, 520, 526, 434, 1440, 1067, 1774, 184, 1627, 8, 2153, 3182, 418, 1682, 303, 2157, 2233, 610, 446, 238, 2379, 3637, 693, 429, 750, 323, 707, 716, 1442, 1697, 230, 2631, 395, 2165, 2794, 156, 11, 247, 727, 3, 404, 1856, 64, 84, 409, 666, 1142, 1755, 1468, 697, 347, 731, 1681, 18, 1328, 710, 285, 120, 806, 797, 2100, 1775, 1215, 791, 2388, 1158, 130, 749, 239, 375, 1360, 659, 786, 1553, 689, 203, 980, 2137, 490, 834, 7, 2563, 295, 225, 1215, 216, 2253, 2564, 1047, 578, 2398, 1970, 2784, 610, 659, 572, 291, 710, 1693, 1391, 3265, 615, 373, 987, 3321, 818, 548, 287, 655, 411, 1265, 3636, 2563, 3628, 698, 204, 56, 1550, 1040, 1824, 1153, 379, 2503, 1409, 1721, 1104, 2079, 1404, 1384, 18, 128, 1027, 258, 22, 1522, 686, 1060, 741, 1854, 254, 898, 531, 1037, 259, 2005, 172, 555, 59, 2410, 211, 1543, 925, 656, 806, 117, 297, 1233, 3508, 1059, 1637, 51, 834, 1113, 229, 573, 1092, 834, 522, 1534, 739, 1043, 1102, 2602, 3486, 2139, 778, 868, 1942, 1371, 2158, 1328, 379, 303, 1115, 1022, 665, 445, 995, 3137, 195, 1111, 2341, 127, 548, 110, 4100, 776, 503, 405, 712, 314, 468, 3105, 447, 342, 558, 296, 2235, 790, 4829, 3113, 686, 70, 1426, 1242, 1114, 179, 270, 532, 2893, 361, 5120, 1068, 967, 961, 406, 684, 1000, 1827, 654, 819, 452, 290, 2213, 743, 247, 375, 1014, 340, 288, 715, 378, 960, 553, 344, 5137, 1892, 4365, 62, 290, 1874, 993, 1063, 776, 1521, 1393, 1784, 1218, 668, 249, 1894, 317, 2501, 2080, 395, 1449, 838, 2346, 1867, 2125, 52], \"yaxis\": \"y\"}],\n",
       "                        {\"coloraxis\": {\"colorbar\": {\"title\": {\"text\": \"labels\"}}, \"colorscale\": [[0.0, \"#0d0887\"], [0.1111111111111111, \"#46039f\"], [0.2222222222222222, \"#7201a8\"], [0.3333333333333333, \"#9c179e\"], [0.4444444444444444, \"#bd3786\"], [0.5555555555555556, \"#d8576b\"], [0.6666666666666666, \"#ed7953\"], [0.7777777777777778, \"#fb9f3a\"], [0.8888888888888888, \"#fdca26\"], [1.0, \"#f0f921\"]]}, \"legend\": {\"tracegroupgap\": 0}, \"margin\": {\"t\": 60}, \"template\": {\"data\": {\"bar\": [{\"error_x\": {\"color\": \"#2a3f5f\"}, \"error_y\": {\"color\": \"#2a3f5f\"}, \"marker\": {\"line\": {\"color\": \"#E5ECF6\", \"width\": 0.5}}, \"type\": \"bar\"}], \"barpolar\": [{\"marker\": {\"line\": {\"color\": \"#E5ECF6\", \"width\": 0.5}}, \"type\": \"barpolar\"}], \"carpet\": [{\"aaxis\": {\"endlinecolor\": \"#2a3f5f\", \"gridcolor\": \"white\", \"linecolor\": \"white\", \"minorgridcolor\": \"white\", \"startlinecolor\": \"#2a3f5f\"}, \"baxis\": {\"endlinecolor\": \"#2a3f5f\", \"gridcolor\": \"white\", \"linecolor\": \"white\", \"minorgridcolor\": \"white\", \"startlinecolor\": \"#2a3f5f\"}, \"type\": \"carpet\"}], \"choropleth\": [{\"colorbar\": {\"outlinewidth\": 0, \"ticks\": \"\"}, \"type\": \"choropleth\"}], \"contour\": [{\"colorbar\": {\"outlinewidth\": 0, \"ticks\": \"\"}, \"colorscale\": [[0.0, \"#0d0887\"], [0.1111111111111111, \"#46039f\"], [0.2222222222222222, \"#7201a8\"], [0.3333333333333333, \"#9c179e\"], [0.4444444444444444, \"#bd3786\"], [0.5555555555555556, \"#d8576b\"], [0.6666666666666666, \"#ed7953\"], [0.7777777777777778, \"#fb9f3a\"], [0.8888888888888888, \"#fdca26\"], [1.0, \"#f0f921\"]], \"type\": \"contour\"}], \"contourcarpet\": [{\"colorbar\": {\"outlinewidth\": 0, \"ticks\": \"\"}, \"type\": \"contourcarpet\"}], \"heatmap\": [{\"colorbar\": {\"outlinewidth\": 0, \"ticks\": \"\"}, \"colorscale\": [[0.0, \"#0d0887\"], [0.1111111111111111, \"#46039f\"], [0.2222222222222222, \"#7201a8\"], [0.3333333333333333, \"#9c179e\"], [0.4444444444444444, \"#bd3786\"], [0.5555555555555556, \"#d8576b\"], [0.6666666666666666, \"#ed7953\"], [0.7777777777777778, \"#fb9f3a\"], [0.8888888888888888, \"#fdca26\"], [1.0, \"#f0f921\"]], \"type\": \"heatmap\"}], \"heatmapgl\": [{\"colorbar\": {\"outlinewidth\": 0, \"ticks\": \"\"}, \"colorscale\": [[0.0, \"#0d0887\"], [0.1111111111111111, \"#46039f\"], [0.2222222222222222, \"#7201a8\"], [0.3333333333333333, \"#9c179e\"], [0.4444444444444444, \"#bd3786\"], [0.5555555555555556, \"#d8576b\"], [0.6666666666666666, \"#ed7953\"], [0.7777777777777778, \"#fb9f3a\"], [0.8888888888888888, \"#fdca26\"], [1.0, \"#f0f921\"]], \"type\": \"heatmapgl\"}], \"histogram\": [{\"marker\": {\"colorbar\": {\"outlinewidth\": 0, \"ticks\": \"\"}}, \"type\": \"histogram\"}], \"histogram2d\": [{\"colorbar\": {\"outlinewidth\": 0, \"ticks\": \"\"}, \"colorscale\": [[0.0, \"#0d0887\"], [0.1111111111111111, \"#46039f\"], [0.2222222222222222, \"#7201a8\"], [0.3333333333333333, \"#9c179e\"], [0.4444444444444444, \"#bd3786\"], [0.5555555555555556, \"#d8576b\"], [0.6666666666666666, \"#ed7953\"], [0.7777777777777778, \"#fb9f3a\"], [0.8888888888888888, \"#fdca26\"], [1.0, \"#f0f921\"]], \"type\": \"histogram2d\"}], \"histogram2dcontour\": [{\"colorbar\": {\"outlinewidth\": 0, \"ticks\": \"\"}, \"colorscale\": [[0.0, \"#0d0887\"], [0.1111111111111111, \"#46039f\"], [0.2222222222222222, \"#7201a8\"], [0.3333333333333333, \"#9c179e\"], [0.4444444444444444, \"#bd3786\"], [0.5555555555555556, \"#d8576b\"], [0.6666666666666666, \"#ed7953\"], [0.7777777777777778, \"#fb9f3a\"], [0.8888888888888888, \"#fdca26\"], [1.0, \"#f0f921\"]], \"type\": \"histogram2dcontour\"}], \"mesh3d\": [{\"colorbar\": {\"outlinewidth\": 0, \"ticks\": \"\"}, \"type\": \"mesh3d\"}], \"parcoords\": [{\"line\": {\"colorbar\": {\"outlinewidth\": 0, \"ticks\": \"\"}}, \"type\": \"parcoords\"}], \"pie\": [{\"automargin\": true, \"type\": \"pie\"}], \"scatter\": [{\"marker\": {\"colorbar\": {\"outlinewidth\": 0, \"ticks\": \"\"}}, \"type\": \"scatter\"}], \"scatter3d\": [{\"line\": {\"colorbar\": {\"outlinewidth\": 0, \"ticks\": \"\"}}, \"marker\": {\"colorbar\": {\"outlinewidth\": 0, \"ticks\": \"\"}}, \"type\": \"scatter3d\"}], \"scattercarpet\": [{\"marker\": {\"colorbar\": {\"outlinewidth\": 0, \"ticks\": \"\"}}, \"type\": \"scattercarpet\"}], \"scattergeo\": [{\"marker\": {\"colorbar\": {\"outlinewidth\": 0, \"ticks\": \"\"}}, \"type\": \"scattergeo\"}], \"scattergl\": [{\"marker\": {\"colorbar\": {\"outlinewidth\": 0, \"ticks\": \"\"}}, \"type\": \"scattergl\"}], \"scattermapbox\": [{\"marker\": {\"colorbar\": {\"outlinewidth\": 0, \"ticks\": \"\"}}, \"type\": \"scattermapbox\"}], \"scatterpolar\": [{\"marker\": {\"colorbar\": {\"outlinewidth\": 0, \"ticks\": \"\"}}, \"type\": \"scatterpolar\"}], \"scatterpolargl\": [{\"marker\": {\"colorbar\": {\"outlinewidth\": 0, \"ticks\": \"\"}}, \"type\": \"scatterpolargl\"}], \"scatterternary\": [{\"marker\": {\"colorbar\": {\"outlinewidth\": 0, \"ticks\": \"\"}}, \"type\": \"scatterternary\"}], \"surface\": [{\"colorbar\": {\"outlinewidth\": 0, \"ticks\": \"\"}, \"colorscale\": [[0.0, \"#0d0887\"], [0.1111111111111111, \"#46039f\"], [0.2222222222222222, \"#7201a8\"], [0.3333333333333333, \"#9c179e\"], [0.4444444444444444, \"#bd3786\"], [0.5555555555555556, \"#d8576b\"], [0.6666666666666666, \"#ed7953\"], [0.7777777777777778, \"#fb9f3a\"], [0.8888888888888888, \"#fdca26\"], [1.0, \"#f0f921\"]], \"type\": \"surface\"}], \"table\": [{\"cells\": {\"fill\": {\"color\": \"#EBF0F8\"}, \"line\": {\"color\": \"white\"}}, \"header\": {\"fill\": {\"color\": \"#C8D4E3\"}, \"line\": {\"color\": \"white\"}}, \"type\": \"table\"}]}, \"layout\": {\"annotationdefaults\": {\"arrowcolor\": \"#2a3f5f\", \"arrowhead\": 0, \"arrowwidth\": 1}, \"coloraxis\": {\"colorbar\": {\"outlinewidth\": 0, \"ticks\": \"\"}}, \"colorscale\": {\"diverging\": [[0, \"#8e0152\"], [0.1, \"#c51b7d\"], [0.2, \"#de77ae\"], [0.3, \"#f1b6da\"], [0.4, \"#fde0ef\"], [0.5, \"#f7f7f7\"], [0.6, \"#e6f5d0\"], [0.7, \"#b8e186\"], [0.8, \"#7fbc41\"], [0.9, \"#4d9221\"], [1, \"#276419\"]], \"sequential\": [[0.0, \"#0d0887\"], [0.1111111111111111, \"#46039f\"], [0.2222222222222222, \"#7201a8\"], [0.3333333333333333, \"#9c179e\"], [0.4444444444444444, \"#bd3786\"], [0.5555555555555556, \"#d8576b\"], [0.6666666666666666, \"#ed7953\"], [0.7777777777777778, \"#fb9f3a\"], [0.8888888888888888, \"#fdca26\"], [1.0, \"#f0f921\"]], \"sequentialminus\": [[0.0, \"#0d0887\"], [0.1111111111111111, \"#46039f\"], [0.2222222222222222, \"#7201a8\"], [0.3333333333333333, \"#9c179e\"], [0.4444444444444444, \"#bd3786\"], [0.5555555555555556, \"#d8576b\"], [0.6666666666666666, \"#ed7953\"], [0.7777777777777778, \"#fb9f3a\"], [0.8888888888888888, \"#fdca26\"], [1.0, \"#f0f921\"]]}, \"colorway\": [\"#636efa\", \"#EF553B\", \"#00cc96\", \"#ab63fa\", \"#FFA15A\", \"#19d3f3\", \"#FF6692\", \"#B6E880\", \"#FF97FF\", \"#FECB52\"], \"font\": {\"color\": \"#2a3f5f\"}, \"geo\": {\"bgcolor\": \"white\", \"lakecolor\": \"white\", \"landcolor\": \"#E5ECF6\", \"showlakes\": true, \"showland\": true, \"subunitcolor\": \"white\"}, \"hoverlabel\": {\"align\": \"left\"}, \"hovermode\": \"closest\", \"mapbox\": {\"style\": \"light\"}, \"paper_bgcolor\": \"white\", \"plot_bgcolor\": \"#E5ECF6\", \"polar\": {\"angularaxis\": {\"gridcolor\": \"white\", \"linecolor\": \"white\", \"ticks\": \"\"}, \"bgcolor\": \"#E5ECF6\", \"radialaxis\": {\"gridcolor\": \"white\", \"linecolor\": \"white\", \"ticks\": \"\"}}, \"scene\": {\"xaxis\": {\"backgroundcolor\": \"#E5ECF6\", \"gridcolor\": \"white\", \"gridwidth\": 2, \"linecolor\": \"white\", \"showbackground\": true, \"ticks\": \"\", \"zerolinecolor\": \"white\"}, \"yaxis\": {\"backgroundcolor\": \"#E5ECF6\", \"gridcolor\": \"white\", \"gridwidth\": 2, \"linecolor\": \"white\", \"showbackground\": true, \"ticks\": \"\", \"zerolinecolor\": \"white\"}, \"zaxis\": {\"backgroundcolor\": \"#E5ECF6\", \"gridcolor\": \"white\", \"gridwidth\": 2, \"linecolor\": \"white\", \"showbackground\": true, \"ticks\": \"\", \"zerolinecolor\": \"white\"}}, \"shapedefaults\": {\"line\": {\"color\": \"#2a3f5f\"}}, \"ternary\": {\"aaxis\": {\"gridcolor\": \"white\", \"linecolor\": \"white\", \"ticks\": \"\"}, \"baxis\": {\"gridcolor\": \"white\", \"linecolor\": \"white\", \"ticks\": \"\"}, \"bgcolor\": \"#E5ECF6\", \"caxis\": {\"gridcolor\": \"white\", \"linecolor\": \"white\", \"ticks\": \"\"}}, \"title\": {\"x\": 0.05}, \"xaxis\": {\"automargin\": true, \"gridcolor\": \"white\", \"linecolor\": \"white\", \"ticks\": \"\", \"title\": {\"standoff\": 15}, \"zerolinecolor\": \"white\", \"zerolinewidth\": 2}, \"yaxis\": {\"automargin\": true, \"gridcolor\": \"white\", \"linecolor\": \"white\", \"ticks\": \"\", \"title\": {\"standoff\": 15}, \"zerolinecolor\": \"white\", \"zerolinewidth\": 2}}}, \"title\": {\"text\": \"Frozen vs Delicassen by labels\"}, \"xaxis\": {\"anchor\": \"y\", \"domain\": [0.0, 1.0], \"title\": {\"text\": \"Frozen\"}}, \"yaxis\": {\"anchor\": \"x\", \"domain\": [0.0, 1.0], \"title\": {\"text\": \"Delicassen\"}}},\n",
       "                        {\"responsive\": true}\n",
       "                    ).then(function(){\n",
       "                            \n",
       "var gd = document.getElementById('3327601b-bebd-4b53-a15a-782e521f832c');\n",
       "var x = new MutationObserver(function (mutations, observer) {{\n",
       "        var display = window.getComputedStyle(gd).display;\n",
       "        if (!display || display === 'none') {{\n",
       "            console.log([gd, 'removed!']);\n",
       "            Plotly.purge(gd);\n",
       "            observer.disconnect();\n",
       "        }}\n",
       "}});\n",
       "\n",
       "// Listen for the removal of the full notebook cells\n",
       "var notebookContainer = gd.closest('#notebook-container');\n",
       "if (notebookContainer) {{\n",
       "    x.observe(notebookContainer, {childList: true});\n",
       "}}\n",
       "\n",
       "// Listen for the clearing of the current output cell\n",
       "var outputEl = gd.closest('.output');\n",
       "if (outputEl) {{\n",
       "    x.observe(outputEl, {childList: true});\n",
       "}}\n",
       "\n",
       "                        })\n",
       "                };\n",
       "                });\n",
       "            </script>\n",
       "        </div>"
      ]
     },
     "metadata": {},
     "output_type": "display_data"
    },
    {
     "data": {
      "application/vnd.plotly.v1+json": {
       "config": {
        "plotlyServerURL": "https://plot.ly"
       },
       "data": [
        {
         "hoverlabel": {
          "namelength": 0
         },
         "hovertemplate": "Frozen=%{x}<br>Delicassen=%{y}<br>labels_DBSCAN=%{marker.color}",
         "legendgroup": "",
         "marker": {
          "color": [
           -1,
           -1,
           -1,
           -1,
           -1,
           -1,
           -1,
           -1,
           -1,
           -1,
           0,
           -1,
           -1,
           -1,
           0,
           -1,
           -1,
           -1,
           -1,
           -1,
           0,
           -1,
           -1,
           -1,
           0,
           0,
           -1,
           -1,
           -1,
           -1,
           -1,
           -1,
           0,
           -1,
           -1,
           -1,
           -1,
           -1,
           -1,
           -1,
           -1,
           -1,
           -1,
           -1,
           -1,
           -1,
           -1,
           -1,
           -1,
           -1,
           -1,
           2,
           -1,
           -1,
           0,
           -1,
           -1,
           -1,
           -1,
           -1,
           -1,
           -1,
           -1,
           0,
           -1,
           -1,
           -1,
           -1,
           -1,
           -1,
           -1,
           0,
           1,
           0,
           -1,
           -1,
           2,
           -1,
           -1,
           -1,
           0,
           -1,
           -1,
           -1,
           -1,
           0,
           0,
           -1,
           -1,
           -1,
           -1,
           0,
           -1,
           -1,
           -1,
           -1,
           -1,
           -1,
           -1,
           -1,
           -1,
           2,
           0,
           0,
           -1,
           -1,
           0,
           2,
           0,
           0,
           -1,
           -1,
           -1,
           -1,
           -1,
           -1,
           -1,
           0,
           0,
           0,
           0,
           0,
           -1,
           -1,
           -1,
           -1,
           -1,
           -1,
           -1,
           -1,
           -1,
           -1,
           0,
           0,
           0,
           -1,
           0,
           1,
           -1,
           -1,
           0,
           -1,
           -1,
           -1,
           -1,
           -1,
           -1,
           -1,
           0,
           -1,
           -1,
           -1,
           -1,
           -1,
           0,
           0,
           -1,
           -1,
           -1,
           -1,
           -1,
           -1,
           -1,
           -1,
           -1,
           -1,
           -1,
           0,
           -1,
           0,
           -1,
           -1,
           -1,
           -1,
           0,
           0,
           -1,
           0,
           -1,
           -1,
           -1,
           0,
           -1,
           -1,
           0,
           -1,
           -1,
           0,
           -1,
           -1,
           -1,
           -1,
           -1,
           -1,
           -1,
           -1,
           2,
           0,
           0,
           -1,
           -1,
           -1,
           0,
           -1,
           -1,
           0,
           -1,
           -1,
           -1,
           -1,
           -1,
           -1,
           -1,
           -1,
           0,
           -1,
           0,
           -1,
           -1,
           2,
           2,
           -1,
           -1,
           -1,
           0,
           0,
           -1,
           -1,
           0,
           -1,
           -1,
           -1,
           -1,
           -1,
           -1,
           -1,
           -1,
           -1,
           -1,
           -1,
           -1,
           -1,
           -1,
           -1,
           -1,
           -1,
           0,
           -1,
           -1,
           -1,
           -1,
           0,
           0,
           -1,
           -1,
           -1,
           3,
           -1,
           -1,
           -1,
           -1,
           0,
           -1,
           0,
           -1,
           1,
           0,
           -1,
           -1,
           -1,
           -1,
           2,
           -1,
           -1,
           0,
           -1,
           -1,
           -1,
           -1,
           -1,
           -1,
           -1,
           -1,
           0,
           -1,
           -1,
           -1,
           -1,
           -1,
           0,
           1,
           0,
           3,
           -1,
           -1,
           -1,
           2,
           0,
           0,
           -1,
           -1,
           0,
           -1,
           -1,
           -1,
           -1,
           0,
           -1,
           -1,
           -1,
           -1,
           -1,
           0,
           -1,
           -1,
           -1,
           0,
           -1,
           0,
           -1,
           0,
           -1,
           -1,
           0,
           -1,
           -1,
           -1,
           -1,
           2,
           0,
           0,
           0,
           0,
           -1,
           0,
           0,
           2,
           0,
           -1,
           -1,
           -1,
           -1,
           0,
           0,
           -1,
           -1,
           3,
           -1,
           -1,
           -1,
           -1,
           -1,
           -1,
           0,
           -1,
           2,
           0,
           0,
           -1,
           1,
           -1,
           -1,
           0,
           0,
           -1,
           -1,
           -1,
           0,
           0,
           -1,
           -1,
           -1,
           0,
           -1,
           -1,
           -1,
           -1,
           -1,
           -1,
           -1,
           -1,
           -1,
           -1,
           -1,
           -1,
           -1,
           -1,
           -1,
           -1,
           -1,
           -1,
           -1,
           -1,
           -1,
           -1,
           -1,
           1,
           -1,
           -1,
           -1,
           -1,
           0
          ],
          "coloraxis": "coloraxis",
          "symbol": "circle"
         },
         "mode": "markers",
         "name": "",
         "showlegend": false,
         "type": "scatter",
         "x": [
          214,
          1762,
          6404,
          3915,
          666,
          480,
          1669,
          425,
          1159,
          4400,
          1420,
          287,
          3095,
          294,
          397,
          134,
          839,
          2205,
          669,
          1066,
          3383,
          9408,
          2915,
          201,
          3151,
          485,
          1158,
          1200,
          1148,
          2088,
          266,
          6130,
          425,
          833,
          1729,
          1920,
          33,
          10002,
          9510,
          2033,
          188,
          787,
          541,
          1740,
          1668,
          584,
          1798,
          3860,
          239,
          532,
          744,
          2436,
          1057,
          38,
          596,
          129,
          96,
          4154,
          2896,
          3724,
          175,
          1256,
          5870,
          779,
          10643,
          8872,
          8132,
          1285,
          4407,
          7530,
          869,
          2096,
          868,
          430,
          283,
          737,
          2320,
          1178,
          9735,
          3443,
          3347,
          8693,
          206,
          440,
          145,
          774,
          895,
          5639,
          3252,
          1593,
          2561,
          1336,
          910,
          133,
          2471,
          247,
          673,
          2276,
          805,
          8853,
          3220,
          2555,
          2715,
          1517,
          1647,
          5343,
          3896,
          2417,
          2395,
          1991,
          2194,
          4787,
          8195,
          880,
          142,
          1718,
          6316,
          346,
          576,
          436,
          720,
          1170,
          4575,
          661,
          155,
          825,
          2279,
          321,
          2995,
          8425,
          118,
          42,
          926,
          1286,
          4052,
          800,
          853,
          531,
          3001,
          779,
          75,
          233,
          317,
          3378,
          930,
          398,
          824,
          1092,
          2665,
          2367,
          2540,
          4425,
          993,
          405,
          1393,
          2399,
          1116,
          333,
          937,
          2515,
          52,
          7368,
          1752,
          1152,
          4477,
          402,
          443,
          74,
          2181,
          3470,
          6269,
          2758,
          275,
          7332,
          890,
          547,
          959,
          806,
          7888,
          1127,
          3527,
          520,
          3941,
          3549,
          469,
          1383,
          955,
          878,
          2946,
          1859,
          864,
          1801,
          1291,
          1329,
          913,
          1374,
          2532,
          2306,
          1765,
          91,
          7496,
          5612,
          784,
          660,
          1759,
          2286,
          950,
          6845,
          8321,
          1439,
          638,
          937,
          4260,
          1218,
          2312,
          4634,
          1112,
          5243,
          11422,
          2216,
          3752,
          561,
          1183,
          230,
          1777,
          2077,
          559,
          6340,
          1730,
          7683,
          432,
          4686,
          3242,
          453,
          5004,
          6422,
          3012,
          327,
          6818,
          982,
          4324,
          61,
          10155,
          2221,
          3975,
          1069,
          2516,
          5500,
          1120,
          529,
          4802,
          744,
          862,
          4479,
          5845,
          1293,
          977,
          1093,
          5970,
          10303,
          1042,
          1619,
          8366,
          848,
          1388,
          502,
          2507,
          3838,
          902,
          909,
          417,
          3045,
          1455,
          934,
          264,
          824,
          1809,
          364,
          492,
          617,
          799,
          1840,
          1149,
          416,
          1465,
          3046,
          4447,
          1483,
          662,
          2679,
          978,
          2121,
          514,
          2714,
          3703,
          915,
          2369,
          3498,
          414,
          7849,
          5127,
          3570,
          1234,
          2208,
          11559,
          1365,
          650,
          8170,
          9584,
          388,
          767,
          349,
          2234,
          402,
          2693,
          2809,
          1341,
          2005,
          1796,
          1741,
          830,
          228,
          6386,
          245,
          3157,
          137,
          6114,
          340,
          2601,
          1206,
          560,
          191,
          1103,
          1619,
          1173,
          1457,
          2046,
          1089,
          1364,
          8164,
          876,
          1504,
          1492,
          597,
          5641,
          1034,
          282,
          130,
          3881,
          9927,
          2540,
          4006,
          3635,
          2583,
          1945,
          1960,
          1677,
          3019,
          5502,
          907,
          659,
          8620,
          1398,
          2921,
          2644,
          6838,
          5390,
          1601,
          3576,
          220,
          127,
          4324,
          2069,
          9806,
          2854,
          1646,
          2349,
          1389,
          1535,
          98,
          5679,
          1691,
          848,
          364,
          133,
          633,
          25,
          1031,
          830,
          1059,
          874,
          3141,
          2198,
          47,
          575,
          269,
          1541,
          688,
          4510,
          437,
          1038,
          65
         ],
         "xaxis": "x",
         "y": [
          1338,
          1776,
          1788,
          5185,
          1451,
          545,
          2566,
          750,
          2098,
          1744,
          497,
          2931,
          602,
          2168,
          412,
          1080,
          4478,
          3181,
          501,
          2124,
          569,
          4334,
          5778,
          57,
          833,
          518,
          5206,
          823,
          2963,
          985,
          405,
          1083,
          395,
          436,
          4626,
          714,
          433,
          2916,
          5864,
          2802,
          46,
          72,
          65,
          4985,
          1452,
          1476,
          1163,
          2162,
          301,
          1278,
          224,
          1333,
          1130,
          1282,
          436,
          1603,
          225,
          964,
          1295,
          1145,
          27,
          834,
          3095,
          144,
          1365,
          181,
          648,
          1780,
          975,
          894,
          1009,
          167,
          1653,
          529,
          156,
          2342,
          772,
          120,
          46,
          3178,
          360,
          1117,
          244,
          709,
          217,
          63,
          132,
          323,
          3029,
          1838,
          1386,
          548,
          1378,
          1831,
          1438,
          1236,
          3,
          1647,
          1519,
          2708,
          1561,
          1266,
          610,
          222,
          1160,
          933,
          635,
          1136,
          255,
          860,
          143,
          1621,
          483,
          2749,
          3,
          1819,
          911,
          310,
          328,
          396,
          537,
          326,
          1542,
          36,
          3271,
          929,
          2616,
          1450,
          3,
          318,
          201,
          4430,
          520,
          526,
          434,
          1440,
          1067,
          1774,
          184,
          1627,
          8,
          2153,
          3182,
          418,
          1682,
          303,
          2157,
          2233,
          610,
          446,
          238,
          2379,
          3637,
          693,
          429,
          750,
          323,
          707,
          716,
          1442,
          1697,
          230,
          2631,
          395,
          2165,
          2794,
          156,
          11,
          247,
          727,
          3,
          404,
          1856,
          64,
          84,
          409,
          666,
          1142,
          1755,
          1468,
          697,
          347,
          731,
          1681,
          18,
          1328,
          710,
          285,
          120,
          806,
          797,
          2100,
          1775,
          1215,
          791,
          2388,
          1158,
          130,
          749,
          239,
          375,
          1360,
          659,
          786,
          1553,
          689,
          203,
          980,
          2137,
          490,
          834,
          7,
          2563,
          295,
          225,
          1215,
          216,
          2253,
          2564,
          1047,
          578,
          2398,
          1970,
          2784,
          610,
          659,
          572,
          291,
          710,
          1693,
          1391,
          3265,
          615,
          373,
          987,
          3321,
          818,
          548,
          287,
          655,
          411,
          1265,
          3636,
          2563,
          3628,
          698,
          204,
          56,
          1550,
          1040,
          1824,
          1153,
          379,
          2503,
          1409,
          1721,
          1104,
          2079,
          1404,
          1384,
          18,
          128,
          1027,
          258,
          22,
          1522,
          686,
          1060,
          741,
          1854,
          254,
          898,
          531,
          1037,
          259,
          2005,
          172,
          555,
          59,
          2410,
          211,
          1543,
          925,
          656,
          806,
          117,
          297,
          1233,
          3508,
          1059,
          1637,
          51,
          834,
          1113,
          229,
          573,
          1092,
          834,
          522,
          1534,
          739,
          1043,
          1102,
          2602,
          3486,
          2139,
          778,
          868,
          1942,
          1371,
          2158,
          1328,
          379,
          303,
          1115,
          1022,
          665,
          445,
          995,
          3137,
          195,
          1111,
          2341,
          127,
          548,
          110,
          4100,
          776,
          503,
          405,
          712,
          314,
          468,
          3105,
          447,
          342,
          558,
          296,
          2235,
          790,
          4829,
          3113,
          686,
          70,
          1426,
          1242,
          1114,
          179,
          270,
          532,
          2893,
          361,
          5120,
          1068,
          967,
          961,
          406,
          684,
          1000,
          1827,
          654,
          819,
          452,
          290,
          2213,
          743,
          247,
          375,
          1014,
          340,
          288,
          715,
          378,
          960,
          553,
          344,
          5137,
          1892,
          4365,
          62,
          290,
          1874,
          993,
          1063,
          776,
          1521,
          1393,
          1784,
          1218,
          668,
          249,
          1894,
          317,
          2501,
          2080,
          395,
          1449,
          838,
          2346,
          1867,
          2125,
          52
         ],
         "yaxis": "y"
        }
       ],
       "layout": {
        "coloraxis": {
         "colorbar": {
          "title": {
           "text": "labels_DBSCAN"
          }
         },
         "colorscale": [
          [
           0,
           "#0d0887"
          ],
          [
           0.1111111111111111,
           "#46039f"
          ],
          [
           0.2222222222222222,
           "#7201a8"
          ],
          [
           0.3333333333333333,
           "#9c179e"
          ],
          [
           0.4444444444444444,
           "#bd3786"
          ],
          [
           0.5555555555555556,
           "#d8576b"
          ],
          [
           0.6666666666666666,
           "#ed7953"
          ],
          [
           0.7777777777777778,
           "#fb9f3a"
          ],
          [
           0.8888888888888888,
           "#fdca26"
          ],
          [
           1,
           "#f0f921"
          ]
         ]
        },
        "legend": {
         "tracegroupgap": 0
        },
        "margin": {
         "t": 60
        },
        "template": {
         "data": {
          "bar": [
           {
            "error_x": {
             "color": "#2a3f5f"
            },
            "error_y": {
             "color": "#2a3f5f"
            },
            "marker": {
             "line": {
              "color": "#E5ECF6",
              "width": 0.5
             }
            },
            "type": "bar"
           }
          ],
          "barpolar": [
           {
            "marker": {
             "line": {
              "color": "#E5ECF6",
              "width": 0.5
             }
            },
            "type": "barpolar"
           }
          ],
          "carpet": [
           {
            "aaxis": {
             "endlinecolor": "#2a3f5f",
             "gridcolor": "white",
             "linecolor": "white",
             "minorgridcolor": "white",
             "startlinecolor": "#2a3f5f"
            },
            "baxis": {
             "endlinecolor": "#2a3f5f",
             "gridcolor": "white",
             "linecolor": "white",
             "minorgridcolor": "white",
             "startlinecolor": "#2a3f5f"
            },
            "type": "carpet"
           }
          ],
          "choropleth": [
           {
            "colorbar": {
             "outlinewidth": 0,
             "ticks": ""
            },
            "type": "choropleth"
           }
          ],
          "contour": [
           {
            "colorbar": {
             "outlinewidth": 0,
             "ticks": ""
            },
            "colorscale": [
             [
              0,
              "#0d0887"
             ],
             [
              0.1111111111111111,
              "#46039f"
             ],
             [
              0.2222222222222222,
              "#7201a8"
             ],
             [
              0.3333333333333333,
              "#9c179e"
             ],
             [
              0.4444444444444444,
              "#bd3786"
             ],
             [
              0.5555555555555556,
              "#d8576b"
             ],
             [
              0.6666666666666666,
              "#ed7953"
             ],
             [
              0.7777777777777778,
              "#fb9f3a"
             ],
             [
              0.8888888888888888,
              "#fdca26"
             ],
             [
              1,
              "#f0f921"
             ]
            ],
            "type": "contour"
           }
          ],
          "contourcarpet": [
           {
            "colorbar": {
             "outlinewidth": 0,
             "ticks": ""
            },
            "type": "contourcarpet"
           }
          ],
          "heatmap": [
           {
            "colorbar": {
             "outlinewidth": 0,
             "ticks": ""
            },
            "colorscale": [
             [
              0,
              "#0d0887"
             ],
             [
              0.1111111111111111,
              "#46039f"
             ],
             [
              0.2222222222222222,
              "#7201a8"
             ],
             [
              0.3333333333333333,
              "#9c179e"
             ],
             [
              0.4444444444444444,
              "#bd3786"
             ],
             [
              0.5555555555555556,
              "#d8576b"
             ],
             [
              0.6666666666666666,
              "#ed7953"
             ],
             [
              0.7777777777777778,
              "#fb9f3a"
             ],
             [
              0.8888888888888888,
              "#fdca26"
             ],
             [
              1,
              "#f0f921"
             ]
            ],
            "type": "heatmap"
           }
          ],
          "heatmapgl": [
           {
            "colorbar": {
             "outlinewidth": 0,
             "ticks": ""
            },
            "colorscale": [
             [
              0,
              "#0d0887"
             ],
             [
              0.1111111111111111,
              "#46039f"
             ],
             [
              0.2222222222222222,
              "#7201a8"
             ],
             [
              0.3333333333333333,
              "#9c179e"
             ],
             [
              0.4444444444444444,
              "#bd3786"
             ],
             [
              0.5555555555555556,
              "#d8576b"
             ],
             [
              0.6666666666666666,
              "#ed7953"
             ],
             [
              0.7777777777777778,
              "#fb9f3a"
             ],
             [
              0.8888888888888888,
              "#fdca26"
             ],
             [
              1,
              "#f0f921"
             ]
            ],
            "type": "heatmapgl"
           }
          ],
          "histogram": [
           {
            "marker": {
             "colorbar": {
              "outlinewidth": 0,
              "ticks": ""
             }
            },
            "type": "histogram"
           }
          ],
          "histogram2d": [
           {
            "colorbar": {
             "outlinewidth": 0,
             "ticks": ""
            },
            "colorscale": [
             [
              0,
              "#0d0887"
             ],
             [
              0.1111111111111111,
              "#46039f"
             ],
             [
              0.2222222222222222,
              "#7201a8"
             ],
             [
              0.3333333333333333,
              "#9c179e"
             ],
             [
              0.4444444444444444,
              "#bd3786"
             ],
             [
              0.5555555555555556,
              "#d8576b"
             ],
             [
              0.6666666666666666,
              "#ed7953"
             ],
             [
              0.7777777777777778,
              "#fb9f3a"
             ],
             [
              0.8888888888888888,
              "#fdca26"
             ],
             [
              1,
              "#f0f921"
             ]
            ],
            "type": "histogram2d"
           }
          ],
          "histogram2dcontour": [
           {
            "colorbar": {
             "outlinewidth": 0,
             "ticks": ""
            },
            "colorscale": [
             [
              0,
              "#0d0887"
             ],
             [
              0.1111111111111111,
              "#46039f"
             ],
             [
              0.2222222222222222,
              "#7201a8"
             ],
             [
              0.3333333333333333,
              "#9c179e"
             ],
             [
              0.4444444444444444,
              "#bd3786"
             ],
             [
              0.5555555555555556,
              "#d8576b"
             ],
             [
              0.6666666666666666,
              "#ed7953"
             ],
             [
              0.7777777777777778,
              "#fb9f3a"
             ],
             [
              0.8888888888888888,
              "#fdca26"
             ],
             [
              1,
              "#f0f921"
             ]
            ],
            "type": "histogram2dcontour"
           }
          ],
          "mesh3d": [
           {
            "colorbar": {
             "outlinewidth": 0,
             "ticks": ""
            },
            "type": "mesh3d"
           }
          ],
          "parcoords": [
           {
            "line": {
             "colorbar": {
              "outlinewidth": 0,
              "ticks": ""
             }
            },
            "type": "parcoords"
           }
          ],
          "pie": [
           {
            "automargin": true,
            "type": "pie"
           }
          ],
          "scatter": [
           {
            "marker": {
             "colorbar": {
              "outlinewidth": 0,
              "ticks": ""
             }
            },
            "type": "scatter"
           }
          ],
          "scatter3d": [
           {
            "line": {
             "colorbar": {
              "outlinewidth": 0,
              "ticks": ""
             }
            },
            "marker": {
             "colorbar": {
              "outlinewidth": 0,
              "ticks": ""
             }
            },
            "type": "scatter3d"
           }
          ],
          "scattercarpet": [
           {
            "marker": {
             "colorbar": {
              "outlinewidth": 0,
              "ticks": ""
             }
            },
            "type": "scattercarpet"
           }
          ],
          "scattergeo": [
           {
            "marker": {
             "colorbar": {
              "outlinewidth": 0,
              "ticks": ""
             }
            },
            "type": "scattergeo"
           }
          ],
          "scattergl": [
           {
            "marker": {
             "colorbar": {
              "outlinewidth": 0,
              "ticks": ""
             }
            },
            "type": "scattergl"
           }
          ],
          "scattermapbox": [
           {
            "marker": {
             "colorbar": {
              "outlinewidth": 0,
              "ticks": ""
             }
            },
            "type": "scattermapbox"
           }
          ],
          "scatterpolar": [
           {
            "marker": {
             "colorbar": {
              "outlinewidth": 0,
              "ticks": ""
             }
            },
            "type": "scatterpolar"
           }
          ],
          "scatterpolargl": [
           {
            "marker": {
             "colorbar": {
              "outlinewidth": 0,
              "ticks": ""
             }
            },
            "type": "scatterpolargl"
           }
          ],
          "scatterternary": [
           {
            "marker": {
             "colorbar": {
              "outlinewidth": 0,
              "ticks": ""
             }
            },
            "type": "scatterternary"
           }
          ],
          "surface": [
           {
            "colorbar": {
             "outlinewidth": 0,
             "ticks": ""
            },
            "colorscale": [
             [
              0,
              "#0d0887"
             ],
             [
              0.1111111111111111,
              "#46039f"
             ],
             [
              0.2222222222222222,
              "#7201a8"
             ],
             [
              0.3333333333333333,
              "#9c179e"
             ],
             [
              0.4444444444444444,
              "#bd3786"
             ],
             [
              0.5555555555555556,
              "#d8576b"
             ],
             [
              0.6666666666666666,
              "#ed7953"
             ],
             [
              0.7777777777777778,
              "#fb9f3a"
             ],
             [
              0.8888888888888888,
              "#fdca26"
             ],
             [
              1,
              "#f0f921"
             ]
            ],
            "type": "surface"
           }
          ],
          "table": [
           {
            "cells": {
             "fill": {
              "color": "#EBF0F8"
             },
             "line": {
              "color": "white"
             }
            },
            "header": {
             "fill": {
              "color": "#C8D4E3"
             },
             "line": {
              "color": "white"
             }
            },
            "type": "table"
           }
          ]
         },
         "layout": {
          "annotationdefaults": {
           "arrowcolor": "#2a3f5f",
           "arrowhead": 0,
           "arrowwidth": 1
          },
          "coloraxis": {
           "colorbar": {
            "outlinewidth": 0,
            "ticks": ""
           }
          },
          "colorscale": {
           "diverging": [
            [
             0,
             "#8e0152"
            ],
            [
             0.1,
             "#c51b7d"
            ],
            [
             0.2,
             "#de77ae"
            ],
            [
             0.3,
             "#f1b6da"
            ],
            [
             0.4,
             "#fde0ef"
            ],
            [
             0.5,
             "#f7f7f7"
            ],
            [
             0.6,
             "#e6f5d0"
            ],
            [
             0.7,
             "#b8e186"
            ],
            [
             0.8,
             "#7fbc41"
            ],
            [
             0.9,
             "#4d9221"
            ],
            [
             1,
             "#276419"
            ]
           ],
           "sequential": [
            [
             0,
             "#0d0887"
            ],
            [
             0.1111111111111111,
             "#46039f"
            ],
            [
             0.2222222222222222,
             "#7201a8"
            ],
            [
             0.3333333333333333,
             "#9c179e"
            ],
            [
             0.4444444444444444,
             "#bd3786"
            ],
            [
             0.5555555555555556,
             "#d8576b"
            ],
            [
             0.6666666666666666,
             "#ed7953"
            ],
            [
             0.7777777777777778,
             "#fb9f3a"
            ],
            [
             0.8888888888888888,
             "#fdca26"
            ],
            [
             1,
             "#f0f921"
            ]
           ],
           "sequentialminus": [
            [
             0,
             "#0d0887"
            ],
            [
             0.1111111111111111,
             "#46039f"
            ],
            [
             0.2222222222222222,
             "#7201a8"
            ],
            [
             0.3333333333333333,
             "#9c179e"
            ],
            [
             0.4444444444444444,
             "#bd3786"
            ],
            [
             0.5555555555555556,
             "#d8576b"
            ],
            [
             0.6666666666666666,
             "#ed7953"
            ],
            [
             0.7777777777777778,
             "#fb9f3a"
            ],
            [
             0.8888888888888888,
             "#fdca26"
            ],
            [
             1,
             "#f0f921"
            ]
           ]
          },
          "colorway": [
           "#636efa",
           "#EF553B",
           "#00cc96",
           "#ab63fa",
           "#FFA15A",
           "#19d3f3",
           "#FF6692",
           "#B6E880",
           "#FF97FF",
           "#FECB52"
          ],
          "font": {
           "color": "#2a3f5f"
          },
          "geo": {
           "bgcolor": "white",
           "lakecolor": "white",
           "landcolor": "#E5ECF6",
           "showlakes": true,
           "showland": true,
           "subunitcolor": "white"
          },
          "hoverlabel": {
           "align": "left"
          },
          "hovermode": "closest",
          "mapbox": {
           "style": "light"
          },
          "paper_bgcolor": "white",
          "plot_bgcolor": "#E5ECF6",
          "polar": {
           "angularaxis": {
            "gridcolor": "white",
            "linecolor": "white",
            "ticks": ""
           },
           "bgcolor": "#E5ECF6",
           "radialaxis": {
            "gridcolor": "white",
            "linecolor": "white",
            "ticks": ""
           }
          },
          "scene": {
           "xaxis": {
            "backgroundcolor": "#E5ECF6",
            "gridcolor": "white",
            "gridwidth": 2,
            "linecolor": "white",
            "showbackground": true,
            "ticks": "",
            "zerolinecolor": "white"
           },
           "yaxis": {
            "backgroundcolor": "#E5ECF6",
            "gridcolor": "white",
            "gridwidth": 2,
            "linecolor": "white",
            "showbackground": true,
            "ticks": "",
            "zerolinecolor": "white"
           },
           "zaxis": {
            "backgroundcolor": "#E5ECF6",
            "gridcolor": "white",
            "gridwidth": 2,
            "linecolor": "white",
            "showbackground": true,
            "ticks": "",
            "zerolinecolor": "white"
           }
          },
          "shapedefaults": {
           "line": {
            "color": "#2a3f5f"
           }
          },
          "ternary": {
           "aaxis": {
            "gridcolor": "white",
            "linecolor": "white",
            "ticks": ""
           },
           "baxis": {
            "gridcolor": "white",
            "linecolor": "white",
            "ticks": ""
           },
           "bgcolor": "#E5ECF6",
           "caxis": {
            "gridcolor": "white",
            "linecolor": "white",
            "ticks": ""
           }
          },
          "title": {
           "x": 0.05
          },
          "xaxis": {
           "automargin": true,
           "gridcolor": "white",
           "linecolor": "white",
           "ticks": "",
           "title": {
            "standoff": 15
           },
           "zerolinecolor": "white",
           "zerolinewidth": 2
          },
          "yaxis": {
           "automargin": true,
           "gridcolor": "white",
           "linecolor": "white",
           "ticks": "",
           "title": {
            "standoff": 15
           },
           "zerolinecolor": "white",
           "zerolinewidth": 2
          }
         }
        },
        "title": {
         "text": "Frozen vs Delicassen by labels_DBSCAN"
        },
        "xaxis": {
         "anchor": "y",
         "domain": [
          0,
          1
         ],
         "title": {
          "text": "Frozen"
         }
        },
        "yaxis": {
         "anchor": "x",
         "domain": [
          0,
          1
         ],
         "title": {
          "text": "Delicassen"
         }
        }
       }
      },
      "text/html": [
       "<div>\n",
       "        \n",
       "        \n",
       "            <div id=\"fcd3ddba-8f84-4a10-b525-0419fe3e57b0\" class=\"plotly-graph-div\" style=\"height:525px; width:100%;\"></div>\n",
       "            <script type=\"text/javascript\">\n",
       "                require([\"plotly\"], function(Plotly) {\n",
       "                    window.PLOTLYENV=window.PLOTLYENV || {};\n",
       "                    \n",
       "                if (document.getElementById(\"fcd3ddba-8f84-4a10-b525-0419fe3e57b0\")) {\n",
       "                    Plotly.newPlot(\n",
       "                        'fcd3ddba-8f84-4a10-b525-0419fe3e57b0',\n",
       "                        [{\"hoverlabel\": {\"namelength\": 0}, \"hovertemplate\": \"Frozen=%{x}<br>Delicassen=%{y}<br>labels_DBSCAN=%{marker.color}\", \"legendgroup\": \"\", \"marker\": {\"color\": [-1, -1, -1, -1, -1, -1, -1, -1, -1, -1, 0, -1, -1, -1, 0, -1, -1, -1, -1, -1, 0, -1, -1, -1, 0, 0, -1, -1, -1, -1, -1, -1, 0, -1, -1, -1, -1, -1, -1, -1, -1, -1, -1, -1, -1, -1, -1, -1, -1, -1, -1, 2, -1, -1, 0, -1, -1, -1, -1, -1, -1, -1, -1, 0, -1, -1, -1, -1, -1, -1, -1, 0, 1, 0, -1, -1, 2, -1, -1, -1, 0, -1, -1, -1, -1, 0, 0, -1, -1, -1, -1, 0, -1, -1, -1, -1, -1, -1, -1, -1, -1, 2, 0, 0, -1, -1, 0, 2, 0, 0, -1, -1, -1, -1, -1, -1, -1, 0, 0, 0, 0, 0, -1, -1, -1, -1, -1, -1, -1, -1, -1, -1, 0, 0, 0, -1, 0, 1, -1, -1, 0, -1, -1, -1, -1, -1, -1, -1, 0, -1, -1, -1, -1, -1, 0, 0, -1, -1, -1, -1, -1, -1, -1, -1, -1, -1, -1, 0, -1, 0, -1, -1, -1, -1, 0, 0, -1, 0, -1, -1, -1, 0, -1, -1, 0, -1, -1, 0, -1, -1, -1, -1, -1, -1, -1, -1, 2, 0, 0, -1, -1, -1, 0, -1, -1, 0, -1, -1, -1, -1, -1, -1, -1, -1, 0, -1, 0, -1, -1, 2, 2, -1, -1, -1, 0, 0, -1, -1, 0, -1, -1, -1, -1, -1, -1, -1, -1, -1, -1, -1, -1, -1, -1, -1, -1, -1, 0, -1, -1, -1, -1, 0, 0, -1, -1, -1, 3, -1, -1, -1, -1, 0, -1, 0, -1, 1, 0, -1, -1, -1, -1, 2, -1, -1, 0, -1, -1, -1, -1, -1, -1, -1, -1, 0, -1, -1, -1, -1, -1, 0, 1, 0, 3, -1, -1, -1, 2, 0, 0, -1, -1, 0, -1, -1, -1, -1, 0, -1, -1, -1, -1, -1, 0, -1, -1, -1, 0, -1, 0, -1, 0, -1, -1, 0, -1, -1, -1, -1, 2, 0, 0, 0, 0, -1, 0, 0, 2, 0, -1, -1, -1, -1, 0, 0, -1, -1, 3, -1, -1, -1, -1, -1, -1, 0, -1, 2, 0, 0, -1, 1, -1, -1, 0, 0, -1, -1, -1, 0, 0, -1, -1, -1, 0, -1, -1, -1, -1, -1, -1, -1, -1, -1, -1, -1, -1, -1, -1, -1, -1, -1, -1, -1, -1, -1, -1, -1, 1, -1, -1, -1, -1, 0], \"coloraxis\": \"coloraxis\", \"symbol\": \"circle\"}, \"mode\": \"markers\", \"name\": \"\", \"showlegend\": false, \"type\": \"scatter\", \"x\": [214, 1762, 6404, 3915, 666, 480, 1669, 425, 1159, 4400, 1420, 287, 3095, 294, 397, 134, 839, 2205, 669, 1066, 3383, 9408, 2915, 201, 3151, 485, 1158, 1200, 1148, 2088, 266, 6130, 425, 833, 1729, 1920, 33, 10002, 9510, 2033, 188, 787, 541, 1740, 1668, 584, 1798, 3860, 239, 532, 744, 2436, 1057, 38, 596, 129, 96, 4154, 2896, 3724, 175, 1256, 5870, 779, 10643, 8872, 8132, 1285, 4407, 7530, 869, 2096, 868, 430, 283, 737, 2320, 1178, 9735, 3443, 3347, 8693, 206, 440, 145, 774, 895, 5639, 3252, 1593, 2561, 1336, 910, 133, 2471, 247, 673, 2276, 805, 8853, 3220, 2555, 2715, 1517, 1647, 5343, 3896, 2417, 2395, 1991, 2194, 4787, 8195, 880, 142, 1718, 6316, 346, 576, 436, 720, 1170, 4575, 661, 155, 825, 2279, 321, 2995, 8425, 118, 42, 926, 1286, 4052, 800, 853, 531, 3001, 779, 75, 233, 317, 3378, 930, 398, 824, 1092, 2665, 2367, 2540, 4425, 993, 405, 1393, 2399, 1116, 333, 937, 2515, 52, 7368, 1752, 1152, 4477, 402, 443, 74, 2181, 3470, 6269, 2758, 275, 7332, 890, 547, 959, 806, 7888, 1127, 3527, 520, 3941, 3549, 469, 1383, 955, 878, 2946, 1859, 864, 1801, 1291, 1329, 913, 1374, 2532, 2306, 1765, 91, 7496, 5612, 784, 660, 1759, 2286, 950, 6845, 8321, 1439, 638, 937, 4260, 1218, 2312, 4634, 1112, 5243, 11422, 2216, 3752, 561, 1183, 230, 1777, 2077, 559, 6340, 1730, 7683, 432, 4686, 3242, 453, 5004, 6422, 3012, 327, 6818, 982, 4324, 61, 10155, 2221, 3975, 1069, 2516, 5500, 1120, 529, 4802, 744, 862, 4479, 5845, 1293, 977, 1093, 5970, 10303, 1042, 1619, 8366, 848, 1388, 502, 2507, 3838, 902, 909, 417, 3045, 1455, 934, 264, 824, 1809, 364, 492, 617, 799, 1840, 1149, 416, 1465, 3046, 4447, 1483, 662, 2679, 978, 2121, 514, 2714, 3703, 915, 2369, 3498, 414, 7849, 5127, 3570, 1234, 2208, 11559, 1365, 650, 8170, 9584, 388, 767, 349, 2234, 402, 2693, 2809, 1341, 2005, 1796, 1741, 830, 228, 6386, 245, 3157, 137, 6114, 340, 2601, 1206, 560, 191, 1103, 1619, 1173, 1457, 2046, 1089, 1364, 8164, 876, 1504, 1492, 597, 5641, 1034, 282, 130, 3881, 9927, 2540, 4006, 3635, 2583, 1945, 1960, 1677, 3019, 5502, 907, 659, 8620, 1398, 2921, 2644, 6838, 5390, 1601, 3576, 220, 127, 4324, 2069, 9806, 2854, 1646, 2349, 1389, 1535, 98, 5679, 1691, 848, 364, 133, 633, 25, 1031, 830, 1059, 874, 3141, 2198, 47, 575, 269, 1541, 688, 4510, 437, 1038, 65], \"xaxis\": \"x\", \"y\": [1338, 1776, 1788, 5185, 1451, 545, 2566, 750, 2098, 1744, 497, 2931, 602, 2168, 412, 1080, 4478, 3181, 501, 2124, 569, 4334, 5778, 57, 833, 518, 5206, 823, 2963, 985, 405, 1083, 395, 436, 4626, 714, 433, 2916, 5864, 2802, 46, 72, 65, 4985, 1452, 1476, 1163, 2162, 301, 1278, 224, 1333, 1130, 1282, 436, 1603, 225, 964, 1295, 1145, 27, 834, 3095, 144, 1365, 181, 648, 1780, 975, 894, 1009, 167, 1653, 529, 156, 2342, 772, 120, 46, 3178, 360, 1117, 244, 709, 217, 63, 132, 323, 3029, 1838, 1386, 548, 1378, 1831, 1438, 1236, 3, 1647, 1519, 2708, 1561, 1266, 610, 222, 1160, 933, 635, 1136, 255, 860, 143, 1621, 483, 2749, 3, 1819, 911, 310, 328, 396, 537, 326, 1542, 36, 3271, 929, 2616, 1450, 3, 318, 201, 4430, 520, 526, 434, 1440, 1067, 1774, 184, 1627, 8, 2153, 3182, 418, 1682, 303, 2157, 2233, 610, 446, 238, 2379, 3637, 693, 429, 750, 323, 707, 716, 1442, 1697, 230, 2631, 395, 2165, 2794, 156, 11, 247, 727, 3, 404, 1856, 64, 84, 409, 666, 1142, 1755, 1468, 697, 347, 731, 1681, 18, 1328, 710, 285, 120, 806, 797, 2100, 1775, 1215, 791, 2388, 1158, 130, 749, 239, 375, 1360, 659, 786, 1553, 689, 203, 980, 2137, 490, 834, 7, 2563, 295, 225, 1215, 216, 2253, 2564, 1047, 578, 2398, 1970, 2784, 610, 659, 572, 291, 710, 1693, 1391, 3265, 615, 373, 987, 3321, 818, 548, 287, 655, 411, 1265, 3636, 2563, 3628, 698, 204, 56, 1550, 1040, 1824, 1153, 379, 2503, 1409, 1721, 1104, 2079, 1404, 1384, 18, 128, 1027, 258, 22, 1522, 686, 1060, 741, 1854, 254, 898, 531, 1037, 259, 2005, 172, 555, 59, 2410, 211, 1543, 925, 656, 806, 117, 297, 1233, 3508, 1059, 1637, 51, 834, 1113, 229, 573, 1092, 834, 522, 1534, 739, 1043, 1102, 2602, 3486, 2139, 778, 868, 1942, 1371, 2158, 1328, 379, 303, 1115, 1022, 665, 445, 995, 3137, 195, 1111, 2341, 127, 548, 110, 4100, 776, 503, 405, 712, 314, 468, 3105, 447, 342, 558, 296, 2235, 790, 4829, 3113, 686, 70, 1426, 1242, 1114, 179, 270, 532, 2893, 361, 5120, 1068, 967, 961, 406, 684, 1000, 1827, 654, 819, 452, 290, 2213, 743, 247, 375, 1014, 340, 288, 715, 378, 960, 553, 344, 5137, 1892, 4365, 62, 290, 1874, 993, 1063, 776, 1521, 1393, 1784, 1218, 668, 249, 1894, 317, 2501, 2080, 395, 1449, 838, 2346, 1867, 2125, 52], \"yaxis\": \"y\"}],\n",
       "                        {\"coloraxis\": {\"colorbar\": {\"title\": {\"text\": \"labels_DBSCAN\"}}, \"colorscale\": [[0.0, \"#0d0887\"], [0.1111111111111111, \"#46039f\"], [0.2222222222222222, \"#7201a8\"], [0.3333333333333333, \"#9c179e\"], [0.4444444444444444, \"#bd3786\"], [0.5555555555555556, \"#d8576b\"], [0.6666666666666666, \"#ed7953\"], [0.7777777777777778, \"#fb9f3a\"], [0.8888888888888888, \"#fdca26\"], [1.0, \"#f0f921\"]]}, \"legend\": {\"tracegroupgap\": 0}, \"margin\": {\"t\": 60}, \"template\": {\"data\": {\"bar\": [{\"error_x\": {\"color\": \"#2a3f5f\"}, \"error_y\": {\"color\": \"#2a3f5f\"}, \"marker\": {\"line\": {\"color\": \"#E5ECF6\", \"width\": 0.5}}, \"type\": \"bar\"}], \"barpolar\": [{\"marker\": {\"line\": {\"color\": \"#E5ECF6\", \"width\": 0.5}}, \"type\": \"barpolar\"}], \"carpet\": [{\"aaxis\": {\"endlinecolor\": \"#2a3f5f\", \"gridcolor\": \"white\", \"linecolor\": \"white\", \"minorgridcolor\": \"white\", \"startlinecolor\": \"#2a3f5f\"}, \"baxis\": {\"endlinecolor\": \"#2a3f5f\", \"gridcolor\": \"white\", \"linecolor\": \"white\", \"minorgridcolor\": \"white\", \"startlinecolor\": \"#2a3f5f\"}, \"type\": \"carpet\"}], \"choropleth\": [{\"colorbar\": {\"outlinewidth\": 0, \"ticks\": \"\"}, \"type\": \"choropleth\"}], \"contour\": [{\"colorbar\": {\"outlinewidth\": 0, \"ticks\": \"\"}, \"colorscale\": [[0.0, \"#0d0887\"], [0.1111111111111111, \"#46039f\"], [0.2222222222222222, \"#7201a8\"], [0.3333333333333333, \"#9c179e\"], [0.4444444444444444, \"#bd3786\"], [0.5555555555555556, \"#d8576b\"], [0.6666666666666666, \"#ed7953\"], [0.7777777777777778, \"#fb9f3a\"], [0.8888888888888888, \"#fdca26\"], [1.0, \"#f0f921\"]], \"type\": \"contour\"}], \"contourcarpet\": [{\"colorbar\": {\"outlinewidth\": 0, \"ticks\": \"\"}, \"type\": \"contourcarpet\"}], \"heatmap\": [{\"colorbar\": {\"outlinewidth\": 0, \"ticks\": \"\"}, \"colorscale\": [[0.0, \"#0d0887\"], [0.1111111111111111, \"#46039f\"], [0.2222222222222222, \"#7201a8\"], [0.3333333333333333, \"#9c179e\"], [0.4444444444444444, \"#bd3786\"], [0.5555555555555556, \"#d8576b\"], [0.6666666666666666, \"#ed7953\"], [0.7777777777777778, \"#fb9f3a\"], [0.8888888888888888, \"#fdca26\"], [1.0, \"#f0f921\"]], \"type\": \"heatmap\"}], \"heatmapgl\": [{\"colorbar\": {\"outlinewidth\": 0, \"ticks\": \"\"}, \"colorscale\": [[0.0, \"#0d0887\"], [0.1111111111111111, \"#46039f\"], [0.2222222222222222, \"#7201a8\"], [0.3333333333333333, \"#9c179e\"], [0.4444444444444444, \"#bd3786\"], [0.5555555555555556, \"#d8576b\"], [0.6666666666666666, \"#ed7953\"], [0.7777777777777778, \"#fb9f3a\"], [0.8888888888888888, \"#fdca26\"], [1.0, \"#f0f921\"]], \"type\": \"heatmapgl\"}], \"histogram\": [{\"marker\": {\"colorbar\": {\"outlinewidth\": 0, \"ticks\": \"\"}}, \"type\": \"histogram\"}], \"histogram2d\": [{\"colorbar\": {\"outlinewidth\": 0, \"ticks\": \"\"}, \"colorscale\": [[0.0, \"#0d0887\"], [0.1111111111111111, \"#46039f\"], [0.2222222222222222, \"#7201a8\"], [0.3333333333333333, \"#9c179e\"], [0.4444444444444444, \"#bd3786\"], [0.5555555555555556, \"#d8576b\"], [0.6666666666666666, \"#ed7953\"], [0.7777777777777778, \"#fb9f3a\"], [0.8888888888888888, \"#fdca26\"], [1.0, \"#f0f921\"]], \"type\": \"histogram2d\"}], \"histogram2dcontour\": [{\"colorbar\": {\"outlinewidth\": 0, \"ticks\": \"\"}, \"colorscale\": [[0.0, \"#0d0887\"], [0.1111111111111111, \"#46039f\"], [0.2222222222222222, \"#7201a8\"], [0.3333333333333333, \"#9c179e\"], [0.4444444444444444, \"#bd3786\"], [0.5555555555555556, \"#d8576b\"], [0.6666666666666666, \"#ed7953\"], [0.7777777777777778, \"#fb9f3a\"], [0.8888888888888888, \"#fdca26\"], [1.0, \"#f0f921\"]], \"type\": \"histogram2dcontour\"}], \"mesh3d\": [{\"colorbar\": {\"outlinewidth\": 0, \"ticks\": \"\"}, \"type\": \"mesh3d\"}], \"parcoords\": [{\"line\": {\"colorbar\": {\"outlinewidth\": 0, \"ticks\": \"\"}}, \"type\": \"parcoords\"}], \"pie\": [{\"automargin\": true, \"type\": \"pie\"}], \"scatter\": [{\"marker\": {\"colorbar\": {\"outlinewidth\": 0, \"ticks\": \"\"}}, \"type\": \"scatter\"}], \"scatter3d\": [{\"line\": {\"colorbar\": {\"outlinewidth\": 0, \"ticks\": \"\"}}, \"marker\": {\"colorbar\": {\"outlinewidth\": 0, \"ticks\": \"\"}}, \"type\": \"scatter3d\"}], \"scattercarpet\": [{\"marker\": {\"colorbar\": {\"outlinewidth\": 0, \"ticks\": \"\"}}, \"type\": \"scattercarpet\"}], \"scattergeo\": [{\"marker\": {\"colorbar\": {\"outlinewidth\": 0, \"ticks\": \"\"}}, \"type\": \"scattergeo\"}], \"scattergl\": [{\"marker\": {\"colorbar\": {\"outlinewidth\": 0, \"ticks\": \"\"}}, \"type\": \"scattergl\"}], \"scattermapbox\": [{\"marker\": {\"colorbar\": {\"outlinewidth\": 0, \"ticks\": \"\"}}, \"type\": \"scattermapbox\"}], \"scatterpolar\": [{\"marker\": {\"colorbar\": {\"outlinewidth\": 0, \"ticks\": \"\"}}, \"type\": \"scatterpolar\"}], \"scatterpolargl\": [{\"marker\": {\"colorbar\": {\"outlinewidth\": 0, \"ticks\": \"\"}}, \"type\": \"scatterpolargl\"}], \"scatterternary\": [{\"marker\": {\"colorbar\": {\"outlinewidth\": 0, \"ticks\": \"\"}}, \"type\": \"scatterternary\"}], \"surface\": [{\"colorbar\": {\"outlinewidth\": 0, \"ticks\": \"\"}, \"colorscale\": [[0.0, \"#0d0887\"], [0.1111111111111111, \"#46039f\"], [0.2222222222222222, \"#7201a8\"], [0.3333333333333333, \"#9c179e\"], [0.4444444444444444, \"#bd3786\"], [0.5555555555555556, \"#d8576b\"], [0.6666666666666666, \"#ed7953\"], [0.7777777777777778, \"#fb9f3a\"], [0.8888888888888888, \"#fdca26\"], [1.0, \"#f0f921\"]], \"type\": \"surface\"}], \"table\": [{\"cells\": {\"fill\": {\"color\": \"#EBF0F8\"}, \"line\": {\"color\": \"white\"}}, \"header\": {\"fill\": {\"color\": \"#C8D4E3\"}, \"line\": {\"color\": \"white\"}}, \"type\": \"table\"}]}, \"layout\": {\"annotationdefaults\": {\"arrowcolor\": \"#2a3f5f\", \"arrowhead\": 0, \"arrowwidth\": 1}, \"coloraxis\": {\"colorbar\": {\"outlinewidth\": 0, \"ticks\": \"\"}}, \"colorscale\": {\"diverging\": [[0, \"#8e0152\"], [0.1, \"#c51b7d\"], [0.2, \"#de77ae\"], [0.3, \"#f1b6da\"], [0.4, \"#fde0ef\"], [0.5, \"#f7f7f7\"], [0.6, \"#e6f5d0\"], [0.7, \"#b8e186\"], [0.8, \"#7fbc41\"], [0.9, \"#4d9221\"], [1, \"#276419\"]], \"sequential\": [[0.0, \"#0d0887\"], [0.1111111111111111, \"#46039f\"], [0.2222222222222222, \"#7201a8\"], [0.3333333333333333, \"#9c179e\"], [0.4444444444444444, \"#bd3786\"], [0.5555555555555556, \"#d8576b\"], [0.6666666666666666, \"#ed7953\"], [0.7777777777777778, \"#fb9f3a\"], [0.8888888888888888, \"#fdca26\"], [1.0, \"#f0f921\"]], \"sequentialminus\": [[0.0, \"#0d0887\"], [0.1111111111111111, \"#46039f\"], [0.2222222222222222, \"#7201a8\"], [0.3333333333333333, \"#9c179e\"], [0.4444444444444444, \"#bd3786\"], [0.5555555555555556, \"#d8576b\"], [0.6666666666666666, \"#ed7953\"], [0.7777777777777778, \"#fb9f3a\"], [0.8888888888888888, \"#fdca26\"], [1.0, \"#f0f921\"]]}, \"colorway\": [\"#636efa\", \"#EF553B\", \"#00cc96\", \"#ab63fa\", \"#FFA15A\", \"#19d3f3\", \"#FF6692\", \"#B6E880\", \"#FF97FF\", \"#FECB52\"], \"font\": {\"color\": \"#2a3f5f\"}, \"geo\": {\"bgcolor\": \"white\", \"lakecolor\": \"white\", \"landcolor\": \"#E5ECF6\", \"showlakes\": true, \"showland\": true, \"subunitcolor\": \"white\"}, \"hoverlabel\": {\"align\": \"left\"}, \"hovermode\": \"closest\", \"mapbox\": {\"style\": \"light\"}, \"paper_bgcolor\": \"white\", \"plot_bgcolor\": \"#E5ECF6\", \"polar\": {\"angularaxis\": {\"gridcolor\": \"white\", \"linecolor\": \"white\", \"ticks\": \"\"}, \"bgcolor\": \"#E5ECF6\", \"radialaxis\": {\"gridcolor\": \"white\", \"linecolor\": \"white\", \"ticks\": \"\"}}, \"scene\": {\"xaxis\": {\"backgroundcolor\": \"#E5ECF6\", \"gridcolor\": \"white\", \"gridwidth\": 2, \"linecolor\": \"white\", \"showbackground\": true, \"ticks\": \"\", \"zerolinecolor\": \"white\"}, \"yaxis\": {\"backgroundcolor\": \"#E5ECF6\", \"gridcolor\": \"white\", \"gridwidth\": 2, \"linecolor\": \"white\", \"showbackground\": true, \"ticks\": \"\", \"zerolinecolor\": \"white\"}, \"zaxis\": {\"backgroundcolor\": \"#E5ECF6\", \"gridcolor\": \"white\", \"gridwidth\": 2, \"linecolor\": \"white\", \"showbackground\": true, \"ticks\": \"\", \"zerolinecolor\": \"white\"}}, \"shapedefaults\": {\"line\": {\"color\": \"#2a3f5f\"}}, \"ternary\": {\"aaxis\": {\"gridcolor\": \"white\", \"linecolor\": \"white\", \"ticks\": \"\"}, \"baxis\": {\"gridcolor\": \"white\", \"linecolor\": \"white\", \"ticks\": \"\"}, \"bgcolor\": \"#E5ECF6\", \"caxis\": {\"gridcolor\": \"white\", \"linecolor\": \"white\", \"ticks\": \"\"}}, \"title\": {\"x\": 0.05}, \"xaxis\": {\"automargin\": true, \"gridcolor\": \"white\", \"linecolor\": \"white\", \"ticks\": \"\", \"title\": {\"standoff\": 15}, \"zerolinecolor\": \"white\", \"zerolinewidth\": 2}, \"yaxis\": {\"automargin\": true, \"gridcolor\": \"white\", \"linecolor\": \"white\", \"ticks\": \"\", \"title\": {\"standoff\": 15}, \"zerolinecolor\": \"white\", \"zerolinewidth\": 2}}}, \"title\": {\"text\": \"Frozen vs Delicassen by labels_DBSCAN\"}, \"xaxis\": {\"anchor\": \"y\", \"domain\": [0.0, 1.0], \"title\": {\"text\": \"Frozen\"}}, \"yaxis\": {\"anchor\": \"x\", \"domain\": [0.0, 1.0], \"title\": {\"text\": \"Delicassen\"}}},\n",
       "                        {\"responsive\": true}\n",
       "                    ).then(function(){\n",
       "                            \n",
       "var gd = document.getElementById('fcd3ddba-8f84-4a10-b525-0419fe3e57b0');\n",
       "var x = new MutationObserver(function (mutations, observer) {{\n",
       "        var display = window.getComputedStyle(gd).display;\n",
       "        if (!display || display === 'none') {{\n",
       "            console.log([gd, 'removed!']);\n",
       "            Plotly.purge(gd);\n",
       "            observer.disconnect();\n",
       "        }}\n",
       "}});\n",
       "\n",
       "// Listen for the removal of the full notebook cells\n",
       "var notebookContainer = gd.closest('#notebook-container');\n",
       "if (notebookContainer) {{\n",
       "    x.observe(notebookContainer, {childList: true});\n",
       "}}\n",
       "\n",
       "// Listen for the clearing of the current output cell\n",
       "var outputEl = gd.closest('.output');\n",
       "if (outputEl) {{\n",
       "    x.observe(outputEl, {childList: true});\n",
       "}}\n",
       "\n",
       "                        })\n",
       "                };\n",
       "                });\n",
       "            </script>\n",
       "        </div>"
      ]
     },
     "metadata": {},
     "output_type": "display_data"
    }
   ],
   "source": [
    "fig_labels = px.scatter(data, x=\"Frozen\", y=\"Delicassen\", color=\"labels\")\n",
    "fig_labels.update_layout(title='Frozen vs Delicassen by labels')\n",
    "fig_labels.show()\n",
    "\n",
    "fig_labels_DBSCAN= px.scatter(data, x=\"Frozen\", y=\"Delicassen\", color=\"labels_DBSCAN\")\n",
    "fig_labels_DBSCAN.update_layout(title='Frozen vs Delicassen by labels_DBSCAN')\n",
    "fig_labels_DBSCAN.show()"
   ]
  },
  {
   "cell_type": "markdown",
   "metadata": {},
   "source": [
    "Let's use a groupby to see how the mean differs between the groups. Group `customers` by `labels` and `labels_DBSCAN` respectively and compute the means for all columns."
   ]
  },
  {
   "cell_type": "code",
   "execution_count": 48,
   "metadata": {},
   "outputs": [
    {
     "data": {
      "text/html": [
       "<div>\n",
       "<style scoped>\n",
       "    .dataframe tbody tr th:only-of-type {\n",
       "        vertical-align: middle;\n",
       "    }\n",
       "\n",
       "    .dataframe tbody tr th {\n",
       "        vertical-align: top;\n",
       "    }\n",
       "\n",
       "    .dataframe thead th {\n",
       "        text-align: right;\n",
       "    }\n",
       "</style>\n",
       "<table border=\"1\" class=\"dataframe\">\n",
       "  <thead>\n",
       "    <tr style=\"text-align: right;\">\n",
       "      <th></th>\n",
       "      <th>Channel</th>\n",
       "      <th>Region</th>\n",
       "      <th>Fresh</th>\n",
       "      <th>Milk</th>\n",
       "      <th>Grocery</th>\n",
       "      <th>Frozen</th>\n",
       "      <th>Detergents_Paper</th>\n",
       "      <th>Delicassen</th>\n",
       "      <th>labels_DBSCAN</th>\n",
       "    </tr>\n",
       "    <tr>\n",
       "      <th>labels</th>\n",
       "      <th></th>\n",
       "      <th></th>\n",
       "      <th></th>\n",
       "      <th></th>\n",
       "      <th></th>\n",
       "      <th></th>\n",
       "      <th></th>\n",
       "      <th></th>\n",
       "      <th></th>\n",
       "    </tr>\n",
       "  </thead>\n",
       "  <tbody>\n",
       "    <tr>\n",
       "      <td>0</td>\n",
       "      <td>1.095238</td>\n",
       "      <td>2.619048</td>\n",
       "      <td>41330.523810</td>\n",
       "      <td>3417.285714</td>\n",
       "      <td>3606.190476</td>\n",
       "      <td>3518.190476</td>\n",
       "      <td>569.523810</td>\n",
       "      <td>1369.571429</td>\n",
       "      <td>-1.000000</td>\n",
       "    </tr>\n",
       "    <tr>\n",
       "      <td>1</td>\n",
       "      <td>1.810811</td>\n",
       "      <td>2.635135</td>\n",
       "      <td>6359.189189</td>\n",
       "      <td>7399.972973</td>\n",
       "      <td>11751.270270</td>\n",
       "      <td>1194.283784</td>\n",
       "      <td>4996.040541</td>\n",
       "      <td>1183.216216</td>\n",
       "      <td>-1.000000</td>\n",
       "    </tr>\n",
       "    <tr>\n",
       "      <td>2</td>\n",
       "      <td>1.090909</td>\n",
       "      <td>2.431818</td>\n",
       "      <td>11878.090909</td>\n",
       "      <td>2952.977273</td>\n",
       "      <td>3259.840909</td>\n",
       "      <td>7565.954545</td>\n",
       "      <td>609.954545</td>\n",
       "      <td>1057.795455</td>\n",
       "      <td>-1.000000</td>\n",
       "    </tr>\n",
       "    <tr>\n",
       "      <td>3</td>\n",
       "      <td>1.067797</td>\n",
       "      <td>2.550847</td>\n",
       "      <td>4575.067797</td>\n",
       "      <td>2570.483051</td>\n",
       "      <td>3129.508475</td>\n",
       "      <td>1216.652542</td>\n",
       "      <td>827.906780</td>\n",
       "      <td>630.771186</td>\n",
       "      <td>-0.279661</td>\n",
       "    </tr>\n",
       "    <tr>\n",
       "      <td>4</td>\n",
       "      <td>2.000000</td>\n",
       "      <td>2.500000</td>\n",
       "      <td>5913.400000</td>\n",
       "      <td>12720.566667</td>\n",
       "      <td>22249.233333</td>\n",
       "      <td>1564.100000</td>\n",
       "      <td>9555.466667</td>\n",
       "      <td>1341.133333</td>\n",
       "      <td>-1.000000</td>\n",
       "    </tr>\n",
       "    <tr>\n",
       "      <td>5</td>\n",
       "      <td>1.054054</td>\n",
       "      <td>2.445946</td>\n",
       "      <td>16644.689189</td>\n",
       "      <td>1930.594595</td>\n",
       "      <td>3100.918919</td>\n",
       "      <td>2040.297297</td>\n",
       "      <td>545.945946</td>\n",
       "      <td>790.135135</td>\n",
       "      <td>-0.175676</td>\n",
       "    </tr>\n",
       "    <tr>\n",
       "      <td>6</td>\n",
       "      <td>1.382353</td>\n",
       "      <td>2.735294</td>\n",
       "      <td>17128.617647</td>\n",
       "      <td>5261.500000</td>\n",
       "      <td>6608.794118</td>\n",
       "      <td>2402.529412</td>\n",
       "      <td>1843.794118</td>\n",
       "      <td>3357.705882</td>\n",
       "      <td>-1.000000</td>\n",
       "    </tr>\n",
       "    <tr>\n",
       "      <td>7</td>\n",
       "      <td>1.428571</td>\n",
       "      <td>2.285714</td>\n",
       "      <td>5500.428571</td>\n",
       "      <td>19933.000000</td>\n",
       "      <td>13559.857143</td>\n",
       "      <td>4021.428571</td>\n",
       "      <td>3291.857143</td>\n",
       "      <td>4260.000000</td>\n",
       "      <td>-1.000000</td>\n",
       "    </tr>\n",
       "  </tbody>\n",
       "</table>\n",
       "</div>"
      ],
      "text/plain": [
       "         Channel    Region         Fresh          Milk       Grocery  \\\n",
       "labels                                                                 \n",
       "0       1.095238  2.619048  41330.523810   3417.285714   3606.190476   \n",
       "1       1.810811  2.635135   6359.189189   7399.972973  11751.270270   \n",
       "2       1.090909  2.431818  11878.090909   2952.977273   3259.840909   \n",
       "3       1.067797  2.550847   4575.067797   2570.483051   3129.508475   \n",
       "4       2.000000  2.500000   5913.400000  12720.566667  22249.233333   \n",
       "5       1.054054  2.445946  16644.689189   1930.594595   3100.918919   \n",
       "6       1.382353  2.735294  17128.617647   5261.500000   6608.794118   \n",
       "7       1.428571  2.285714   5500.428571  19933.000000  13559.857143   \n",
       "\n",
       "             Frozen  Detergents_Paper   Delicassen  labels_DBSCAN  \n",
       "labels                                                             \n",
       "0       3518.190476        569.523810  1369.571429      -1.000000  \n",
       "1       1194.283784       4996.040541  1183.216216      -1.000000  \n",
       "2       7565.954545        609.954545  1057.795455      -1.000000  \n",
       "3       1216.652542        827.906780   630.771186      -0.279661  \n",
       "4       1564.100000       9555.466667  1341.133333      -1.000000  \n",
       "5       2040.297297        545.945946   790.135135      -0.175676  \n",
       "6       2402.529412       1843.794118  3357.705882      -1.000000  \n",
       "7       4021.428571       3291.857143  4260.000000      -1.000000  "
      ]
     },
     "execution_count": 48,
     "metadata": {},
     "output_type": "execute_result"
    }
   ],
   "source": [
    "data.groupby('labels').mean()\n"
   ]
  },
  {
   "cell_type": "code",
   "execution_count": 49,
   "metadata": {},
   "outputs": [
    {
     "data": {
      "text/html": [
       "<div>\n",
       "<style scoped>\n",
       "    .dataframe tbody tr th:only-of-type {\n",
       "        vertical-align: middle;\n",
       "    }\n",
       "\n",
       "    .dataframe tbody tr th {\n",
       "        vertical-align: top;\n",
       "    }\n",
       "\n",
       "    .dataframe thead th {\n",
       "        text-align: right;\n",
       "    }\n",
       "</style>\n",
       "<table border=\"1\" class=\"dataframe\">\n",
       "  <thead>\n",
       "    <tr style=\"text-align: right;\">\n",
       "      <th></th>\n",
       "      <th>Channel</th>\n",
       "      <th>Region</th>\n",
       "      <th>Fresh</th>\n",
       "      <th>Milk</th>\n",
       "      <th>Grocery</th>\n",
       "      <th>Frozen</th>\n",
       "      <th>Detergents_Paper</th>\n",
       "      <th>Delicassen</th>\n",
       "      <th>labels</th>\n",
       "    </tr>\n",
       "    <tr>\n",
       "      <th>labels_DBSCAN</th>\n",
       "      <th></th>\n",
       "      <th></th>\n",
       "      <th></th>\n",
       "      <th></th>\n",
       "      <th></th>\n",
       "      <th></th>\n",
       "      <th></th>\n",
       "      <th></th>\n",
       "      <th></th>\n",
       "    </tr>\n",
       "  </thead>\n",
       "  <tbody>\n",
       "    <tr>\n",
       "      <td>-1</td>\n",
       "      <td>1.416949</td>\n",
       "      <td>2.528814</td>\n",
       "      <td>11973.901695</td>\n",
       "      <td>5887.050847</td>\n",
       "      <td>8324.613559</td>\n",
       "      <td>2642.233898</td>\n",
       "      <td>2986.766102</td>\n",
       "      <td>1406.227119</td>\n",
       "      <td>2.928814</td>\n",
       "    </tr>\n",
       "    <tr>\n",
       "      <td>0</td>\n",
       "      <td>1.011628</td>\n",
       "      <td>2.604651</td>\n",
       "      <td>7281.593023</td>\n",
       "      <td>1291.186047</td>\n",
       "      <td>1922.325581</td>\n",
       "      <td>1507.662791</td>\n",
       "      <td>347.325581</td>\n",
       "      <td>475.883721</td>\n",
       "      <td>3.581395</td>\n",
       "    </tr>\n",
       "    <tr>\n",
       "      <td>1</td>\n",
       "      <td>1.000000</td>\n",
       "      <td>2.833333</td>\n",
       "      <td>1908.000000</td>\n",
       "      <td>2969.000000</td>\n",
       "      <td>3039.833333</td>\n",
       "      <td>887.833333</td>\n",
       "      <td>615.666667</td>\n",
       "      <td>1643.666667</td>\n",
       "      <td>3.000000</td>\n",
       "    </tr>\n",
       "    <tr>\n",
       "      <td>2</td>\n",
       "      <td>1.000000</td>\n",
       "      <td>2.333333</td>\n",
       "      <td>21055.750000</td>\n",
       "      <td>1675.166667</td>\n",
       "      <td>2389.083333</td>\n",
       "      <td>2520.750000</td>\n",
       "      <td>318.666667</td>\n",
       "      <td>941.833333</td>\n",
       "      <td>5.000000</td>\n",
       "    </tr>\n",
       "    <tr>\n",
       "      <td>3</td>\n",
       "      <td>1.000000</td>\n",
       "      <td>2.666667</td>\n",
       "      <td>2788.333333</td>\n",
       "      <td>3291.333333</td>\n",
       "      <td>2204.333333</td>\n",
       "      <td>591.000000</td>\n",
       "      <td>170.000000</td>\n",
       "      <td>1017.333333</td>\n",
       "      <td>3.000000</td>\n",
       "    </tr>\n",
       "  </tbody>\n",
       "</table>\n",
       "</div>"
      ],
      "text/plain": [
       "                Channel    Region         Fresh         Milk      Grocery  \\\n",
       "labels_DBSCAN                                                               \n",
       "-1             1.416949  2.528814  11973.901695  5887.050847  8324.613559   \n",
       " 0             1.011628  2.604651   7281.593023  1291.186047  1922.325581   \n",
       " 1             1.000000  2.833333   1908.000000  2969.000000  3039.833333   \n",
       " 2             1.000000  2.333333  21055.750000  1675.166667  2389.083333   \n",
       " 3             1.000000  2.666667   2788.333333  3291.333333  2204.333333   \n",
       "\n",
       "                    Frozen  Detergents_Paper   Delicassen    labels  \n",
       "labels_DBSCAN                                                        \n",
       "-1             2642.233898       2986.766102  1406.227119  2.928814  \n",
       " 0             1507.662791        347.325581   475.883721  3.581395  \n",
       " 1              887.833333        615.666667  1643.666667  3.000000  \n",
       " 2             2520.750000        318.666667   941.833333  5.000000  \n",
       " 3              591.000000        170.000000  1017.333333  3.000000  "
      ]
     },
     "execution_count": 49,
     "metadata": {},
     "output_type": "execute_result"
    }
   ],
   "source": [
    "data.groupby('labels_DBSCAN').mean()\n"
   ]
  },
  {
   "cell_type": "markdown",
   "metadata": {},
   "source": [
    "Which algorithm appears to perform better?"
   ]
  },
  {
   "cell_type": "code",
   "execution_count": 32,
   "metadata": {},
   "outputs": [],
   "source": [
    "# Your observations here"
   ]
  },
  {
   "cell_type": "markdown",
   "metadata": {},
   "source": [
    "# Bonus Challenge 2 - Changing K-Means Number of Clusters\n",
    "\n",
    "As we mentioned earlier, we don't need to worry about the number of clusters with DBSCAN because it automatically decides that based on the parameters we send to it. But with K-Means, we have to supply the `n_clusters` param (if you don't supply `n_clusters`, the algorithm will use `8` by default). You need to know that the optimal number of clusters differs case by case based on the dataset. K-Means can perform badly if the wrong number of clusters is used.\n",
    "\n",
    "In advanced machine learning, data scientists try different numbers of clusters and evaluate the results with statistical measures (read [here](https://en.wikipedia.org/wiki/Cluster_analysis#External_evaluation)). We are not using statistical measures today but we'll use our eyes instead. In the cells below, experiment with different number of clusters and visualize with scatter plots. What number of clusters seems to work best for K-Means?"
   ]
  },
  {
   "cell_type": "code",
   "execution_count": 33,
   "metadata": {},
   "outputs": [],
   "source": [
    "# Your code here"
   ]
  },
  {
   "cell_type": "code",
   "execution_count": 34,
   "metadata": {},
   "outputs": [],
   "source": [
    "# Your comment here"
   ]
  },
  {
   "cell_type": "markdown",
   "metadata": {},
   "source": [
    "# Bonus Challenge 3 - Changing DBSCAN `eps` and `min_samples`\n",
    "\n",
    "Experiment changing the `eps` and `min_samples` params for DBSCAN. See how the results differ with scatter plot visualization."
   ]
  },
  {
   "cell_type": "code",
   "execution_count": 35,
   "metadata": {},
   "outputs": [],
   "source": [
    "# Your code here"
   ]
  },
  {
   "cell_type": "code",
   "execution_count": 36,
   "metadata": {},
   "outputs": [],
   "source": [
    "# Your comment here"
   ]
  }
 ],
 "metadata": {
  "kernelspec": {
   "display_name": "Python 3",
   "language": "python",
   "name": "python3"
  },
  "language_info": {
   "codemirror_mode": {
    "name": "ipython",
    "version": 3
   },
   "file_extension": ".py",
   "mimetype": "text/x-python",
   "name": "python",
   "nbconvert_exporter": "python",
   "pygments_lexer": "ipython3",
   "version": "3.7.4"
  }
 },
 "nbformat": 4,
 "nbformat_minor": 2
}

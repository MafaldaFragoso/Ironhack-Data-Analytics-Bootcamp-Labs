{
 "cells": [
  {
   "cell_type": "markdown",
   "metadata": {},
   "source": [
    "## Challenge 1: Tuples\n",
    "\n",
    "#### Do you know you can create tuples with only one element?\n",
    "\n",
    "**In the cell below, define a variable `tup` with a single element `\"I\"`.**\n",
    "\n",
    "*Hint: you need to add a comma (`,`) after the single element.*"
   ]
  },
  {
   "cell_type": "code",
   "execution_count": 1,
   "metadata": {},
   "outputs": [
    {
     "name": "stdout",
     "output_type": "stream",
     "text": [
      "('I',)\n"
     ]
    }
   ],
   "source": [
    "tup = (\"I\",)\n",
    "\n",
    "print(tup)\n"
   ]
  },
  {
   "cell_type": "markdown",
   "metadata": {},
   "source": [
    "#### Print the type of `tup`. \n",
    "\n",
    "Make sure its type is correct (i.e. *tuple* instead of *str*)."
   ]
  },
  {
   "cell_type": "code",
   "execution_count": 2,
   "metadata": {},
   "outputs": [
    {
     "name": "stdout",
     "output_type": "stream",
     "text": [
      "<class 'tuple'>\n",
      "True\n"
     ]
    }
   ],
   "source": [
    "print(type(tup))\n",
    "\n",
    "x = isinstance(tup, tuple)\n",
    "print (x)\n"
   ]
  },
  {
   "cell_type": "markdown",
   "metadata": {},
   "source": [
    "#### Now try to append the following elements to `tup`. \n",
    "\n",
    "Are you able to do it? Explain.\n",
    "\n",
    "```\n",
    "\"r\", \"o\", \"n\", \"h\", \"a\", \"c\", \"k',\n",
    "```"
   ]
  },
  {
   "cell_type": "code",
   "execution_count": 3,
   "metadata": {},
   "outputs": [
    {
     "ename": "AttributeError",
     "evalue": "'tuple' object has no attribute 'append'",
     "output_type": "error",
     "traceback": [
      "\u001b[1;31m---------------------------------------------------------------------------\u001b[0m",
      "\u001b[1;31mAttributeError\u001b[0m                            Traceback (most recent call last)",
      "\u001b[1;32m<ipython-input-3-f82ea83e7e7c>\u001b[0m in \u001b[0;36m<module>\u001b[1;34m\u001b[0m\n\u001b[1;32m----> 1\u001b[1;33m \u001b[0mtup\u001b[0m\u001b[1;33m.\u001b[0m\u001b[0mappend\u001b[0m\u001b[1;33m(\u001b[0m\u001b[1;34m\"r\"\u001b[0m\u001b[1;33m,\u001b[0m \u001b[1;34m\"o\"\u001b[0m\u001b[1;33m,\u001b[0m \u001b[1;34m\"n\"\u001b[0m\u001b[1;33m,\u001b[0m \u001b[1;34m\"h\"\u001b[0m\u001b[1;33m,\u001b[0m \u001b[1;34m\"a\"\u001b[0m\u001b[1;33m,\u001b[0m \u001b[1;34m\"c\"\u001b[0m\u001b[1;33m,\u001b[0m \u001b[1;34m\"k\"\u001b[0m\u001b[1;33m)\u001b[0m\u001b[1;33m\u001b[0m\u001b[1;33m\u001b[0m\u001b[0m\n\u001b[0m\u001b[0;32m      2\u001b[0m \u001b[0mprint\u001b[0m\u001b[1;33m(\u001b[0m\u001b[0mtup\u001b[0m\u001b[1;33m)\u001b[0m\u001b[1;33m\u001b[0m\u001b[1;33m\u001b[0m\u001b[0m\n\u001b[0;32m      3\u001b[0m \u001b[1;33m\u001b[0m\u001b[0m\n\u001b[0;32m      4\u001b[0m \u001b[1;31m# I'm not able to append elements to tup because it is a tuple which is immutable\u001b[0m\u001b[1;33m\u001b[0m\u001b[1;33m\u001b[0m\u001b[1;33m\u001b[0m\u001b[0m\n",
      "\u001b[1;31mAttributeError\u001b[0m: 'tuple' object has no attribute 'append'"
     ]
    }
   ],
   "source": [
    "tup.append(\"r\", \"o\", \"n\", \"h\", \"a\", \"c\", \"k\")\n",
    "print(tup)\n",
    "\n",
    "# I'm not able to append elements to tup because it is a tuple which is immutable"
   ]
  },
  {
   "cell_type": "markdown",
   "metadata": {},
   "source": [
    "#### How about re-assign a new value to an existing tuple?\n",
    "\n",
    "Re-assign the following elements to `tup`. Are you able to do it? Explain.\n",
    "\n",
    "```\n",
    "\"I\", \"r\", \"o\", \"n\", \"h\", \"a\", \"c\", \"k\"\n",
    "```"
   ]
  },
  {
   "cell_type": "code",
   "execution_count": 4,
   "metadata": {},
   "outputs": [
    {
     "name": "stdout",
     "output_type": "stream",
     "text": [
      "['I', 'r', 'o', 'n', 'h', 'a', 'c', 'k']\n"
     ]
    }
   ],
   "source": [
    "tup = [\"I\", \"r\", \"o\", \"n\", \"h\", \"a\", \"c\", \"k\"]\n",
    "\n",
    "print(tup)\n",
    "\n",
    "#I'm able to re-assign because I'm creating a new tuple with the name tup\n"
   ]
  },
  {
   "cell_type": "markdown",
   "metadata": {},
   "source": [
    "#### Split `tup` into `tup1` and `tup2` with 4 elements in each. \n",
    "\n",
    "`tup1` should be `(\"I\", \"r\", \"o\", \"n\")` and `tup2` should be `(\"h\", \"a\", \"c\", \"k\")`.\n",
    "\n",
    "*Hint: use positive index numbers for `tup1` assignment and use negative index numbers for `tup2` assignment. Positive index numbers count from the beginning whereas negative index numbers count from the end of the sequence.*\n",
    "\n",
    "Also print `tup1` and `tup2`."
   ]
  },
  {
   "cell_type": "code",
   "execution_count": 5,
   "metadata": {},
   "outputs": [
    {
     "name": "stdout",
     "output_type": "stream",
     "text": [
      "tup1: ['I', 'r', 'o', 'n']\n",
      "tup2: ['h', 'a', 'c', 'k']\n"
     ]
    }
   ],
   "source": [
    "tup1 = (tup[:4])\n",
    "print(\"tup1:\", tup1)\n",
    "\n",
    "tup2 = (tup[-4:])\n",
    "print(\"tup2:\", tup2)\n"
   ]
  },
  {
   "cell_type": "markdown",
   "metadata": {},
   "source": [
    "#### Add `tup1` and `tup2` into `tup3` using the `+` operator.\n",
    "\n",
    "Then print `tup3` and check if `tup3` equals to `tup`."
   ]
  },
  {
   "cell_type": "code",
   "execution_count": 6,
   "metadata": {},
   "outputs": [
    {
     "name": "stdout",
     "output_type": "stream",
     "text": [
      "tup 3 is equal to: ['I', 'r', 'o', 'n', 'h', 'a', 'c', 'k']\n",
      "tup3 is equal to tup\n"
     ]
    }
   ],
   "source": [
    "tup3 = tup1 + tup2\n",
    "\n",
    "print(\"tup 3 is equal to:\", tup3)\n",
    "\n",
    "if tup3 == tup:\n",
    "    print(\"tup3 is equal to tup\")\n",
    "else:\n",
    "    print(\"tup3 is not equal to tup\")\n"
   ]
  },
  {
   "cell_type": "markdown",
   "metadata": {},
   "source": [
    "#### Count the number of elements in `tup1` and `tup2`. Then add the two counts together and check if the sum is the same as the number of elements in `tup3`."
   ]
  },
  {
   "cell_type": "code",
   "execution_count": 7,
   "metadata": {},
   "outputs": [
    {
     "name": "stdout",
     "output_type": "stream",
     "text": [
      "Number of elements un tup1 is: 4\n",
      "Number of elements un tup1 is: 4\n",
      "The sum is the same as the number of elements in tup3\n"
     ]
    }
   ],
   "source": [
    "print(\"Number of elements un tup1 is:\", len(tup1))\n",
    "print(\"Number of elements un tup1 is:\", len(tup2))\n",
    "\n",
    "check_count = len(tup1) + len(tup2)\n",
    "\n",
    "if (check_count) == len(tup3):\n",
    "    print(\"The sum is the same as the number of elements in tup3\")\n",
    "else:\n",
    "    print(\"The sum is not the same as the number of elements in tup3\")\n"
   ]
  },
  {
   "cell_type": "markdown",
   "metadata": {},
   "source": [
    "#### What is the index number of `\"h\"` in `tup3`?"
   ]
  },
  {
   "cell_type": "code",
   "execution_count": 8,
   "metadata": {},
   "outputs": [
    {
     "name": "stdout",
     "output_type": "stream",
     "text": [
      "Index number of 'h' is: 4\n"
     ]
    }
   ],
   "source": [
    "print(\"Index number of 'h' is:\", tup.index(\"h\"))\n"
   ]
  },
  {
   "cell_type": "markdown",
   "metadata": {},
   "source": [
    "#### Now, use a FOR loop to check whether each letter in the following list is present in `tup3`:\n",
    "\n",
    "```\n",
    "letters = [\"a\", \"b\", \"c\", \"d\", \"e\"]\n",
    "```\n",
    "\n",
    "For each letter you check, print `True` if it is present in `tup3` otherwise print `False`.\n",
    "\n",
    "*Hint: you only need to loop `letters`. You don't need to loop `tup3` because there is a Python operator `in` you can use. See [reference](https://stackoverflow.com/questions/17920147/how-to-check-if-a-tuple-contains-an-element-in-python).*"
   ]
  },
  {
   "cell_type": "code",
   "execution_count": 9,
   "metadata": {},
   "outputs": [
    {
     "name": "stdout",
     "output_type": "stream",
     "text": [
      "Letter a : true\n",
      "Letter b : false\n",
      "Letter c : true\n",
      "Letter d : false\n",
      "Letter e : false\n"
     ]
    }
   ],
   "source": [
    "letters = [\"a\", \"b\", \"c\", \"d\", \"e\"]\n",
    "\n",
    "for x in letters:\n",
    "    if x in tup3:\n",
    "        print(\"Letter\", x, \": true\")\n",
    "    else:\n",
    "        print(\"Letter\", x, \": false\")\n"
   ]
  },
  {
   "cell_type": "markdown",
   "metadata": {},
   "source": [
    "#### How many times does each letter in `letters` appear in `tup3`?\n",
    "\n",
    "Print out the number of occurrence of each letter."
   ]
  },
  {
   "cell_type": "code",
   "execution_count": 10,
   "metadata": {},
   "outputs": [
    {
     "name": "stdout",
     "output_type": "stream",
     "text": [
      "Letter a appears 1 time\n",
      "Letter b does not appear\n",
      "Letter c appears 1 time\n",
      "Letter d does not appear\n",
      "Letter e does not appear\n"
     ]
    }
   ],
   "source": [
    "number_occu = tup3.count(\"a\")\n",
    "\n",
    "\n",
    "for x in letters:\n",
    "    if x in tup3:\n",
    "        print(\"Letter\", x, \"appears %d time\" %(number_occu))\n",
    "    else:\n",
    "        print(\"Letter\", x, \"does not appear\")\n"
   ]
  }
 ],
 "metadata": {
  "kernelspec": {
   "display_name": "Python 3",
   "language": "python",
   "name": "python3"
  },
  "language_info": {
   "codemirror_mode": {
    "name": "ipython",
    "version": 3
   },
   "file_extension": ".py",
   "mimetype": "text/x-python",
   "name": "python",
   "nbconvert_exporter": "python",
   "pygments_lexer": "ipython3",
   "version": "3.7.4"
  }
 },
 "nbformat": 4,
 "nbformat_minor": 2
}

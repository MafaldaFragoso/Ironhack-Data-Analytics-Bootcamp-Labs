{
 "cells": [
  {
   "cell_type": "markdown",
   "metadata": {},
   "source": [
    "Challenge 1"
   ]
  },
  {
   "cell_type": "code",
   "execution_count": 13,
   "metadata": {},
   "outputs": [
    {
     "name": "stdout",
     "output_type": "stream",
     "text": [
      "Welcome to this calculator!\n",
      "It can add and subtract whole numbers from zero to five\n",
      "Please choose your first number (zero to five): one\n",
      "What do you want to do? plus or minus: plus\n",
      "Please choose your second number (zero to five): two\n",
      "one plus two equals three\n"
     ]
    }
   ],
   "source": [
    "print('Welcome to this calculator!')\n",
    "print('It can add and subtract whole numbers from zero to five')\n",
    "a = input('Please choose your first number (zero to five): ')\n",
    "b = input('What do you want to do? plus or minus: ')\n",
    "c = input('Please choose your second number (zero to five): ')\n",
    "\n",
    "\n",
    "numbers = {'zero': 0, 'one': 1, 'two': 2, 'three': 3, 'four': 4, 'five':5}\n",
    "\n",
    "def number_to_word(x):\n",
    "    #This function transform the number to the equivalent word. Example: input: 1; output: \"one\"\n",
    "    \n",
    "    return list(numbers.keys())[list(numbers.values()).index(x)]\n",
    "  \n",
    "\n",
    "def operation():\n",
    "     \n",
    "    if b == \"plus\":\n",
    "        print (\"%s plus %s equals %s\" %(number_to_word(numbers[a]), number_to_word(numbers[c]), number_to_word(numbers[a]+numbers[c])))\n",
    "    elif b == \"minus\":\n",
    "        print (\"%s minus %s equals %s\" %(number_to_word(numbers[a]), number_to_word(numbers[c]), number_to_word(numbers[a]-numbers[c])))\n",
    "    else:\n",
    "        print(\"I am not able to answer this question. Check your input.\")\n",
    "\n",
    "operation()"
   ]
  },
  {
   "cell_type": "markdown",
   "metadata": {},
   "source": [
    "Challenge 2"
   ]
  },
  {
   "cell_type": "code",
   "execution_count": 7,
   "metadata": {},
   "outputs": [
    {
     "name": "stdout",
     "output_type": "stream",
     "text": [
      "Enter minimum string length: 5\n",
      "Enter maximum string length: 10\n",
      "How many random strings to generate? 3\n",
      "['7xit4b', 'y7gseg49n', 'fad70rz01']\n"
     ]
    }
   ],
   "source": [
    "from random import choice\n",
    "\n",
    "def random_string_generator(l=12, a=['a','b','c','d','e','f','g','h','i','j','k','l','m','n','o','p','q','r','s','t','u','v','w','x','y','z','0','1','2','3','4','5','6','7','8','9']):\n",
    "    string = ''\n",
    "    while len(string) < l:\n",
    "        string += choice(a)\n",
    "    return string\n",
    "\n",
    "def batch_string_generator(n, a=8, b=12):\n",
    "    r = []\n",
    "    for i in range(n):\n",
    "        if a < b:\n",
    "            string_length = choice(range(a, b))\n",
    "        elif a == b:\n",
    "            string_length = a\n",
    "        else:\n",
    "            exit('Incorrect min and max string lengths. Try again.')\n",
    "        r.append(random_string_generator(string_length))\n",
    "    return r\n",
    "\n",
    "min_len = input('Enter minimum string length: ')\n",
    "max_len = input('Enter maximum string length: ')\n",
    "total_str = input('How many random strings to generate? ')\n",
    "print(batch_string_generator(int(total_str), int(min_len), int(max_len)))"
   ]
  },
  {
   "cell_type": "markdown",
   "metadata": {},
   "source": [
    "Challenge 3"
   ]
  },
  {
   "cell_type": "code",
   "execution_count": 6,
   "metadata": {},
   "outputs": [
    {
     "name": "stdout",
     "output_type": "stream",
     "text": [
      "What is the maximal length of the triangle side? Enter a number: 29\n",
      "The longest side possible is  26\n"
     ]
    }
   ],
   "source": [
    "def get_longest_side(side_max):\n",
    "    \n",
    "    # Instead of doing 3 for loops I will do a list comprehension\n",
    "    \n",
    "    solutions = [[x,y,z] for x in range(5, side_max) for y in range(4, side_max) for z in range(3, side_max) if x**2==y**2+z**2]\n",
    "        \n",
    "    m = 0\n",
    "    for solution in solutions:\n",
    "        if m < max(solution):\n",
    "            m = max(solution)\n",
    "    return m\n",
    "\n",
    "side_max = int(input(\"What is the maximal length of the triangle side? Enter a number: \"))\n",
    "\n",
    "print(\"The longest side possible is \", (get_longest_side(int(side_max))))"
   ]
  }
 ],
 "metadata": {
  "kernelspec": {
   "display_name": "Python 3",
   "language": "python",
   "name": "python3"
  },
  "language_info": {
   "codemirror_mode": {
    "name": "ipython",
    "version": 3
   },
   "file_extension": ".py",
   "mimetype": "text/x-python",
   "name": "python",
   "nbconvert_exporter": "python",
   "pygments_lexer": "ipython3",
   "version": "3.7.4"
  }
 },
 "nbformat": 4,
 "nbformat_minor": 2
}

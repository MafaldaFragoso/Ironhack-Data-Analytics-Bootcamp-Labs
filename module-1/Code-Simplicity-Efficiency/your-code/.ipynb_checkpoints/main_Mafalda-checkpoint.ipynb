{
 "cells": [
  {
   "cell_type": "markdown",
   "metadata": {},
   "source": [
    "Challenge 1"
   ]
  },
  {
   "cell_type": "code",
   "execution_count": 13,
   "metadata": {},
   "outputs": [
    {
     "name": "stdout",
     "output_type": "stream",
     "text": [
      "Welcome to this calculator!\n",
      "It can add and subtract whole numbers from zero to five\n",
      "Please choose your first number (zero to five): one\n",
      "What do you want to do? plus or minus: plus\n",
      "Please choose your second number (zero to five): two\n",
      "one plus two equals three\n"
     ]
    }
   ],
   "source": [
    "print('Welcome to this calculator!')\n",
    "print('It can add and subtract whole numbers from zero to five')\n",
    "a = input('Please choose your first number (zero to five): ')\n",
    "b = input('What do you want to do? plus or minus: ')\n",
    "c = input('Please choose your second number (zero to five): ')\n",
    "\n",
    "\n",
    "numbers = {'zero': 0, 'one': 1, 'two': 2, 'three': 3, 'four': 4, 'five':5}\n",
    "\n",
    "def number_to_word(x):\n",
    "    #This function transform the number to the equivalent word. Example: input: 1; output: \"one\"\n",
    "    \n",
    "    return list(numbers.keys())[list(numbers.values()).index(x)]\n",
    "  \n",
    "\n",
    "def operation():\n",
    "     \n",
    "    if b == \"plus\":\n",
    "        print (\"%s plus %s equals %s\" %(number_to_word(numbers[a]), number_to_word(numbers[c]), number_to_word(numbers[a]+numbers[c])))\n",
    "    elif b == \"minus\":\n",
    "        print (\"%s minus %s equals %s\" %(number_to_word(numbers[a]), number_to_word(numbers[c]), number_to_word(numbers[a]-numbers[c])))\n",
    "    else:\n",
    "        print(\"I am not able to answer this question. Check your input.\")\n",
    "\n",
    "operation()"
   ]
  },
  {
   "cell_type": "markdown",
   "metadata": {},
   "source": [
    "Challenge 2"
   ]
  },
  {
   "cell_type": "code",
   "execution_count": 4,
   "metadata": {},
   "outputs": [],
   "source": [
    "# work in progress"
   ]
  },
  {
   "cell_type": "markdown",
   "metadata": {},
   "source": [
    "Challenge 3"
   ]
  },
  {
   "cell_type": "code",
   "execution_count": 6,
   "metadata": {},
   "outputs": [
    {
     "name": "stdout",
     "output_type": "stream",
     "text": [
      "What is the maximal length of the triangle side? Enter a number: 29\n",
      "The longest side possible is  26\n"
     ]
    }
   ],
   "source": [
    "def get_longest_side(side_max):\n",
    "    \n",
    "    # Instead of doing 3 for loops I will do a list comprehension\n",
    "    \n",
    "    solutions = [[x,y,z] for x in range(5, side_max) for y in range(4, side_max) for z in range(3, side_max) if x**2==y**2+z**2]\n",
    "        \n",
    "    m = 0\n",
    "    for solution in solutions:\n",
    "        if m < max(solution):\n",
    "            m = max(solution)\n",
    "    return m\n",
    "\n",
    "side_max = int(input(\"What is the maximal length of the triangle side? Enter a number: \"))\n",
    "\n",
    "print(\"The longest side possible is \", (get_longest_side(int(side_max))))"
   ]
  }
 ],
 "metadata": {
  "kernelspec": {
   "display_name": "Python 3",
   "language": "python",
   "name": "python3"
  },
  "language_info": {
   "codemirror_mode": {
    "name": "ipython",
    "version": 3
   },
   "file_extension": ".py",
   "mimetype": "text/x-python",
   "name": "python",
   "nbconvert_exporter": "python",
   "pygments_lexer": "ipython3",
   "version": "3.7.4"
  }
 },
 "nbformat": 4,
 "nbformat_minor": 2
}

{
 "cells": [
  {
   "cell_type": "markdown",
   "metadata": {},
   "source": [
    "In the cell below, create a Python function that wraps your previous solution for the Bag of Words lab.\n",
    "\n",
    "Requirements:\n",
    "\n",
    "1. Your function should accept the following parameters:\n",
    "    * `docs` [REQUIRED] - array of document paths.\n",
    "    * `stop_words` [OPTIONAL] - array of stop words. The default value is an empty array.\n",
    "\n",
    "1. Your function should return a Python object that contains the following:\n",
    "    * `bag_of_words` - array of strings of normalized unique words in the corpus.\n",
    "    * `term_freq` - array of the term-frequency vectors."
   ]
  },
  {
   "cell_type": "code",
   "execution_count": 1,
   "metadata": {},
   "outputs": [],
   "source": [
    "# Import required libraries\n",
    "\n",
    "# Define function\n",
    "def get_bow_from_docs(docs, stop_words=[]):\n",
    "    \n",
    "    # In the function, first define the variables you will use such as `corpus`, `bag_of_words`, and `term_freq`.\n",
    "    \n",
    "    \n",
    "    \n",
    "    \"\"\"\n",
    "    Loop `docs` and read the content of each doc into a string in `corpus`.\n",
    "    Remember to convert the doc content to lowercases and remove punctuation.\n",
    "    \"\"\"\n",
    "\n",
    "    \n",
    "    \n",
    "    \"\"\"\n",
    "    Loop `corpus`. Append the terms in each doc into the `bag_of_words` array. The terms in `bag_of_words` \n",
    "    should be unique which means before adding each term you need to check if it's already added to the array.\n",
    "    In addition, check if each term is in the `stop_words` array. Only append the term to `bag_of_words`\n",
    "    if it is not a stop word.\n",
    "    \"\"\"\n",
    "\n",
    "    \n",
    "    \n",
    "    \n",
    "    \"\"\"\n",
    "    Loop `corpus` again. For each doc string, count the number of occurrences of each term in `bag_of_words`. \n",
    "    Create an array for each doc's term frequency and append it to `term_freq`.\n",
    "    \"\"\"\n",
    "\n",
    "    \n",
    "    \n",
    "    # Now return your output as an object\n",
    "    return {\n",
    "        \"bag_of_words\": bag_of_words,\n",
    "        \"term_freq\": term_freq\n",
    "    }\n",
    "    "
   ]
  },
  {
   "cell_type": "markdown",
   "metadata": {},
   "source": [
    "Test your function without stop words. You should see the output like below:\n",
    "\n",
    "```{'bag_of_words': ['ironhack', 'is', 'cool', 'i', 'love', 'am', 'a', 'student', 'at'], 'term_freq': [[1, 1, 1, 0, 0, 0, 0, 0, 0], [1, 0, 0, 1, 1, 0, 0, 0, 0], [1, 0, 0, 1, 0, 1, 1, 1, 1]]}```"
   ]
  },
  {
   "cell_type": "code",
   "execution_count": 3,
   "metadata": {},
   "outputs": [
    {
     "name": "stdout",
     "output_type": "stream",
     "text": [
      "{'bag_of_words': ['a', 'cool', 'ironhack', 'student', 'at', 'love', 'is', 'i', 'am'], 'term_freq': [[0, 1, 1, 0, 0, 0, 1, 0, 0], [0, 0, 1, 0, 0, 1, 0, 1, 0], [1, 0, 1, 1, 1, 0, 0, 1, 1]]}\n"
     ]
    }
   ],
   "source": [
    "import re\n",
    "\n",
    "doc1 = \"Ironhack is cool.\"\n",
    "doc2 = \"I love Ironhack.\"\n",
    "doc3 = \"I am a student at Ironhack.\"\n",
    "\n",
    "docs = [doc1, doc2, doc3]\n",
    "\n",
    "def get_bow_from_docs(docs, stop_words=[]):\n",
    "    \n",
    "    corpus = re.sub('[\\W]',\" \",\" \".join(docs)).lower()\n",
    "    \n",
    "    bag_of_words = []\n",
    "\n",
    "    unique_words = set(corpus.split())\n",
    "    \n",
    "    for x in unique_words:\n",
    "        if x not in stop_words:\n",
    "            bag_of_words.append(x)\n",
    "        \n",
    "    term_freq = []\n",
    "            \n",
    "    for d in docs:\n",
    "        clean_words = re.sub('[\\W]',\" \",d).lower().split() \n",
    "        count_words = []\n",
    "        for w in bag_of_words:\n",
    "            if w in clean_words:\n",
    "                count_words.append(1)\n",
    "            else:\n",
    "                count_words.append(0)\n",
    "     \n",
    "        term_freq.append(count_words)\n",
    "            \n",
    "    return {\n",
    "        \"bag_of_words\": bag_of_words,\n",
    "        \"term_freq\": term_freq\n",
    "        }\n",
    "\n",
    "\n",
    "bow = get_bow_from_docs(docs, stop_words=[])\n",
    "\n",
    "print(bow)"
   ]
  },
  {
   "cell_type": "markdown",
   "metadata": {},
   "source": [
    "If your attempt above is successful, nice work done!\n",
    "\n",
    "Now test your function again with the stop words. In the previous lab we defined the stop words in a large array. In this lab, we'll import the stop words from Scikit-Learn."
   ]
  },
  {
   "cell_type": "code",
   "execution_count": 4,
   "metadata": {},
   "outputs": [
    {
     "name": "stdout",
     "output_type": "stream",
     "text": [
      "frozenset({'everyone', 'though', 'upon', 'yourself', 'amount', 'cant', 'if', 'one', 'keep', 'themselves', 'latter', 'it', 'towards', 'thereupon', 'give', 'via', 'an', 'least', 'during', 'moreover', 'whither', 'describe', 'eight', 'who', 'out', 'mostly', 'same', 'inc', 'only', 'could', 'perhaps', 'now', 'among', 'sincere', 'next', 'rather', 'serious', 'interest', 'whose', 'per', 'elsewhere', 'onto', 'front', 'none', 'be', 'thin', 'take', 'last', 'fill', 'had', 'due', 'call', 'that', 'i', 'off', 'you', 'wherein', 'somehow', 'thereafter', 'other', 'go', 'seeming', 'un', 'namely', 'while', 'hasnt', 'find', 'hence', 'such', 'always', 'bottom', 'also', 'against', 'five', 'few', 'ever', 'his', 'everything', 'further', 'noone', 'as', 'here', 'four', 'almost', 'mill', 'how', 'us', 'once', 'twenty', 'enough', 'well', 'con', 'anyhow', 'whom', 'around', 'after', 'within', 'except', 'top', 'de', 'thereby', 'ourselves', 'of', 'since', 'several', 'part', 'another', 'before', 'are', 'alone', 'nowhere', 'become', 'however', 'side', 'must', 'most', 'seemed', 'then', 'too', 'bill', 'becomes', 'very', 'myself', 'nothing', 'hers', 'move', 'their', 'with', 'at', 'between', 'these', 'whereupon', 'whole', 'what', 'above', 'whether', 'up', 'empty', 'name', 'much', 'which', 'no', 'herein', 'get', 'already', 'have', 'do', 'became', 'each', 'was', 'fire', 'two', 'is', 'along', 'may', 'them', 'throughout', 'otherwise', 'not', 'whatever', 'from', 'so', 'again', 'all', 'even', 'please', 'through', 'third', 'the', 'see', 'cry', 'therefore', 'anything', 'show', 'but', 'becoming', 'formerly', 'because', 'beforehand', 'your', 'himself', 'were', 'being', 'found', 'itself', 'anyway', 'put', 'beyond', 'might', 're', 'my', 'until', 'into', 'hereupon', 'whoever', 'there', 'she', 'or', 'although', 'over', 'our', 'else', 'less', 'fifty', 'those', 'for', 'former', 'meanwhile', 'both', 'this', 'couldnt', 'some', 'thus', 'amongst', 'back', 'co', 'six', 'either', 'yet', 'its', 'many', 'sometime', 'amoungst', 'forty', 'herself', 'about', 'often', 'seem', 'whereas', 'fifteen', 'ours', 'me', 'full', 'by', 'thick', 'across', 'her', 'down', 'every', 'sixty', 'latterly', 'someone', 'more', 'detail', 'why', 'been', 'below', 'yours', 'somewhere', 'nor', 'indeed', 'nobody', 'he', 'whereby', 'everywhere', 'never', 'anyone', 'whereafter', 'they', 'any', 'sometimes', 'mine', 'three', 'yourselves', 'to', 'we', 'thru', 'seems', 'hundred', 'behind', 'wherever', 'own', 'together', 'under', 'has', 'ten', 'a', 'eg', 'whence', 'when', 'still', 'toward', 'ie', 'without', 'anywhere', 'cannot', 'where', 'therein', 'whenever', 'beside', 'besides', 'nevertheless', 'eleven', 'neither', 'in', 'made', 'him', 'and', 'something', 'done', 'hereafter', 'system', 'will', 'etc', 'others', 'nine', 'on', 'am', 'afterwards', 'can', 'would', 'ltd', 'thence', 'hereby', 'twelve', 'than', 'should', 'first'})\n"
     ]
    }
   ],
   "source": [
    "from sklearn.feature_extraction import stop_words\n",
    "print(stop_words.ENGLISH_STOP_WORDS)"
   ]
  },
  {
   "cell_type": "markdown",
   "metadata": {},
   "source": [
    "You should have seen a large list of words that looks like:\n",
    "\n",
    "```frozenset({'across', 'mine', 'cannot', ...})```\n",
    "\n",
    "`frozenset` is a type of Python object that is immutable. In this lab you can use it just like an array without conversion."
   ]
  },
  {
   "cell_type": "markdown",
   "metadata": {},
   "source": [
    "Next, test your function with supplying `stop_words.ENGLISH_STOP_WORDS` as the second parameter."
   ]
  },
  {
   "cell_type": "code",
   "execution_count": 5,
   "metadata": {},
   "outputs": [
    {
     "name": "stdout",
     "output_type": "stream",
     "text": [
      "{'bag_of_words': ['cool', 'ironhack', 'student', 'love'], 'term_freq': [[1, 1, 0, 0], [0, 1, 0, 1], [0, 1, 1, 0]]}\n"
     ]
    }
   ],
   "source": [
    "bow = get_bow_from_docs(docs, stop_words.ENGLISH_STOP_WORDS)\n",
    "\n",
    "print(bow)"
   ]
  },
  {
   "cell_type": "markdown",
   "metadata": {},
   "source": [
    "You should have seen:\n",
    "\n",
    "```{'bag_of_words': ['ironhack', 'cool', 'love', 'student'], 'term_freq': [[1, 1, 0, 0], [1, 0, 1, 0], [1, 0, 0, 1]]}```"
   ]
  },
  {
   "cell_type": "code",
   "execution_count": null,
   "metadata": {},
   "outputs": [],
   "source": []
  }
 ],
 "metadata": {
  "kernelspec": {
   "display_name": "Python 3",
   "language": "python",
   "name": "python3"
  },
  "language_info": {
   "codemirror_mode": {
    "name": "ipython",
    "version": 3
   },
   "file_extension": ".py",
   "mimetype": "text/x-python",
   "name": "python",
   "nbconvert_exporter": "python",
   "pygments_lexer": "ipython3",
   "version": "3.7.4"
  }
 },
 "nbformat": 4,
 "nbformat_minor": 2
}

{
 "cells": [
  {
   "cell_type": "markdown",
   "metadata": {},
   "source": [
    "In the cell below, create a Python function that wraps your previous solution for the Bag of Words lab.\n",
    "\n",
    "Requirements:\n",
    "\n",
    "1. Your function should accept the following parameters:\n",
    "    * `docs` [REQUIRED] - array of document paths.\n",
    "    * `stop_words` [OPTIONAL] - array of stop words. The default value is an empty array.\n",
    "\n",
    "1. Your function should return a Python object that contains the following:\n",
    "    * `bag_of_words` - array of strings of normalized unique words in the corpus.\n",
    "    * `term_freq` - array of the term-frequency vectors."
   ]
  },
  {
   "cell_type": "code",
   "execution_count": 1,
   "metadata": {},
   "outputs": [],
   "source": [
    "# Import required libraries\n",
    "\n",
    "# Define function\n",
    "def get_bow_from_docs(docs, stop_words=[]):\n",
    "    \n",
    "    # In the function, first define the variables you will use such as `corpus`, `bag_of_words`, and `term_freq`.\n",
    "    \n",
    "    \n",
    "    \n",
    "    \"\"\"\n",
    "    Loop `docs` and read the content of each doc into a string in `corpus`.\n",
    "    Remember to convert the doc content to lowercases and remove punctuation.\n",
    "    \"\"\"\n",
    "\n",
    "    \n",
    "    \n",
    "    \"\"\"\n",
    "    Loop `corpus`. Append the terms in each doc into the `bag_of_words` array. The terms in `bag_of_words` \n",
    "    should be unique which means before adding each term you need to check if it's already added to the array.\n",
    "    In addition, check if each term is in the `stop_words` array. Only append the term to `bag_of_words`\n",
    "    if it is not a stop word.\n",
    "    \"\"\"\n",
    "\n",
    "    \n",
    "    \n",
    "    \n",
    "    \"\"\"\n",
    "    Loop `corpus` again. For each doc string, count the number of occurrences of each term in `bag_of_words`. \n",
    "    Create an array for each doc's term frequency and append it to `term_freq`.\n",
    "    \"\"\"\n",
    "\n",
    "    \n",
    "    \n",
    "    # Now return your output as an object\n",
    "    return {\n",
    "        \"bag_of_words\": bag_of_words,\n",
    "        \"term_freq\": term_freq\n",
    "    }\n",
    "    "
   ]
  },
  {
   "cell_type": "markdown",
   "metadata": {},
   "source": [
    "Test your function without stop words. You should see the output like below:\n",
    "\n",
    "```{'bag_of_words': ['ironhack', 'is', 'cool', 'i', 'love', 'am', 'a', 'student', 'at'], 'term_freq': [[1, 1, 1, 0, 0, 0, 0, 0, 0], [1, 0, 0, 1, 1, 0, 0, 0, 0], [1, 0, 0, 1, 0, 1, 1, 1, 1]]}```"
   ]
  },
  {
   "cell_type": "code",
   "execution_count": 1,
   "metadata": {},
   "outputs": [
    {
     "name": "stdout",
     "output_type": "stream",
     "text": [
      "{'bag_of_words': ['i', 'student', 'love', 'is', 'ironhack', 'at', 'am', 'a', 'cool'], 'term_freq': [[0, 0, 0, 1, 1, 0, 0, 0, 1], [1, 0, 1, 0, 1, 0, 0, 0, 0], [1, 1, 0, 0, 1, 1, 1, 1, 0]]}\n"
     ]
    }
   ],
   "source": [
    "import re\n",
    "\n",
    "doc1 = \"Ironhack is cool.\"\n",
    "doc2 = \"I love Ironhack.\"\n",
    "doc3 = \"I am a student at Ironhack.\"\n",
    "\n",
    "docs = [doc1, doc2, doc3]\n",
    "\n",
    "def get_bow_from_docs(docs, stop_words=[]):\n",
    "    \n",
    "    corpus = re.sub('[\\W]',\" \",\" \".join(docs)).lower()\n",
    "    \n",
    "    bag_of_words = []\n",
    "\n",
    "    unique_words = set(corpus.split())\n",
    "    \n",
    "    for x in unique_words:\n",
    "        if x not in stop_words:\n",
    "            bag_of_words.append(x)\n",
    "        \n",
    "    term_freq = []\n",
    "            \n",
    "    for d in docs:\n",
    "        clean_words = re.sub('[\\W]',\" \",d).lower().split() \n",
    "        count_words = []\n",
    "        for w in bag_of_words:\n",
    "            if w in clean_words:\n",
    "                count_words.append(1)\n",
    "            else:\n",
    "                count_words.append(0)\n",
    "     \n",
    "        term_freq.append(count_words)\n",
    "            \n",
    "    return {\n",
    "        \"bag_of_words\": bag_of_words,\n",
    "        \"term_freq\": term_freq\n",
    "        }\n",
    "\n",
    "\n",
    "bow = get_bow_from_docs(docs, stop_words=[])\n",
    "\n",
    "print(bow)"
   ]
  },
  {
   "cell_type": "markdown",
   "metadata": {},
   "source": [
    "If your attempt above is successful, nice work done!\n",
    "\n",
    "Now test your function again with the stop words. In the previous lab we defined the stop words in a large array. In this lab, we'll import the stop words from Scikit-Learn."
   ]
  },
  {
   "cell_type": "code",
   "execution_count": 3,
   "metadata": {},
   "outputs": [
    {
     "name": "stdout",
     "output_type": "stream",
     "text": [
      "frozenset({'perhaps', 'behind', 'whereafter', 'which', 'anything', 'somehow', 'via', 'your', 'become', 'elsewhere', 'ie', 'no', 'whereupon', 'therefore', 'ourselves', 'noone', 'once', 'none', 'them', 'there', 'beforehand', 'could', 'because', 'thus', 'seeming', 'between', 'less', 'beyond', 'twelve', 'somewhere', 'up', 'to', 'myself', 'several', 'find', 'beside', 'please', 'were', 'others', 'namely', 'last', 'so', 'anyhow', 'ever', 'something', 'the', 'describe', 'how', 'many', 'yet', 'nothing', 'six', 'otherwise', 'mine', 'cannot', 'inc', 'still', 'whom', 'herein', 'my', 'any', 'where', 'you', 'hasnt', 'another', 'nobody', 'hers', 'itself', 'enough', 'interest', 'along', 'be', 'herself', 'hereby', 'their', 'eight', 'seems', 'empty', 'they', 'should', 'thin', 'that', 'being', 'when', 'fill', 'anyway', 'next', 'against', 'always', 'cry', 'since', 'latterly', 'are', 'three', 'forty', 'nowhere', 'seemed', 'thereafter', 'then', 'further', 'side', 'us', 'moreover', 'most', 'full', 'out', 'our', 'than', 'himself', 'of', 'sometime', 'again', 'everything', 'bottom', 'due', 'yours', 'go', 'whoever', 'those', 'someone', 'he', 'formerly', 'under', 'during', 'seem', 'former', 'detail', 'four', 'never', 'such', 'every', 'wherever', 'with', 'one', 'move', 'his', 'part', 'co', 'rather', 'within', 'other', 'even', 'system', 'becoming', 'five', 'me', 'first', 'two', 'who', 'from', 'per', 'etc', 'anywhere', 'call', 'without', 'whither', 'except', 'towards', 'below', 'whereby', 'here', 'all', 'everywhere', 'whatever', 'down', 'hereupon', 'hereafter', 'also', 'him', 'already', 'least', 'show', 'made', 'found', 'each', 'into', 'her', 'on', 'mill', 'hundred', 'thence', 'more', 'however', 'toward', 'off', 'fire', 'whose', 'may', 'fifteen', 'she', 'too', 'sincere', 'is', 'nevertheless', 'afterwards', 'therein', 'onto', 'i', 'front', 'together', 'con', 'until', 'at', 'back', 'fifty', 'has', 'whenever', 'and', 'thick', 'take', 'around', 'becomes', 'nine', 'have', 'will', 'in', 'serious', 'thereupon', 'meanwhile', 'must', 'why', 'only', 'yourselves', 'or', 'eleven', 'mostly', 'eg', 'before', 'un', 'became', 'same', 'if', 'alone', 'give', 'as', 'after', 'both', 'cant', 'now', 'across', 'it', 'put', 'sixty', 'yourself', 'couldnt', 'ten', 'am', 'upon', 'besides', 'an', 'almost', 'by', 'over', 'well', 'few', 'bill', 'latter', 'wherein', 'see', 'through', 'we', 'about', 'do', 'everyone', 'these', 'twenty', 'own', 'else', 'whereas', 'indeed', 'sometimes', 'thru', 'this', 'amoungst', 'though', 'keep', 'neither', 'some', 'for', 'not', 'thereby', 'above', 'while', 'de', 'was', 'what', 'done', 'ltd', 'third', 'throughout', 'among', 'whether', 'had', 'but', 'amount', 'would', 'been', 'name', 'top', 'whence', 'a', 'either', 'very', 'often', 'might', 'can', 'hence', 'amongst', 'nor', 'whole', 'ours', 're', 'its', 'themselves', 'get', 'much', 'although', 'anyone'})\n"
     ]
    }
   ],
   "source": [
    "from sklearn.feature_extraction import stop_words\n",
    "print(stop_words.ENGLISH_STOP_WORDS)"
   ]
  },
  {
   "cell_type": "markdown",
   "metadata": {},
   "source": [
    "You should have seen a large list of words that looks like:\n",
    "\n",
    "```frozenset({'across', 'mine', 'cannot', ...})```\n",
    "\n",
    "`frozenset` is a type of Python object that is immutable. In this lab you can use it just like an array without conversion."
   ]
  },
  {
   "cell_type": "markdown",
   "metadata": {},
   "source": [
    "Next, test your function with supplying `stop_words.ENGLISH_STOP_WORDS` as the second parameter."
   ]
  },
  {
   "cell_type": "code",
   "execution_count": 4,
   "metadata": {},
   "outputs": [
    {
     "name": "stdout",
     "output_type": "stream",
     "text": [
      "{'bag_of_words': ['student', 'love', 'ironhack', 'cool'], 'term_freq': [[0, 0, 1, 1], [0, 1, 1, 0], [1, 0, 1, 0]]}\n"
     ]
    }
   ],
   "source": [
    "bow = get_bow_from_docs(docs, stop_words.ENGLISH_STOP_WORDS)\n",
    "\n",
    "print(bow)"
   ]
  },
  {
   "cell_type": "markdown",
   "metadata": {},
   "source": [
    "You should have seen:\n",
    "\n",
    "```{'bag_of_words': ['ironhack', 'cool', 'love', 'student'], 'term_freq': [[1, 1, 0, 0], [1, 0, 1, 0], [1, 0, 0, 1]]}```"
   ]
  },
  {
   "cell_type": "code",
   "execution_count": null,
   "metadata": {},
   "outputs": [],
   "source": []
  }
 ],
 "metadata": {
  "kernelspec": {
   "display_name": "Python 3",
   "language": "python",
   "name": "python3"
  },
  "language_info": {
   "codemirror_mode": {
    "name": "ipython",
    "version": 3
   },
   "file_extension": ".py",
   "mimetype": "text/x-python",
   "name": "python",
   "nbconvert_exporter": "python",
   "pygments_lexer": "ipython3",
   "version": "3.7.4"
  }
 },
 "nbformat": 4,
 "nbformat_minor": 2
}

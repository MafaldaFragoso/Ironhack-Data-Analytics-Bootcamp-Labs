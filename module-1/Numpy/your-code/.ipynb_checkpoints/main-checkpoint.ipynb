{
 "cells": [
  {
   "cell_type": "markdown",
   "metadata": {},
   "source": [
    "# Intrduction to NumPy\n",
    "\n",
    "\n",
    "#### 1. Import NumPy under the name np."
   ]
  },
  {
   "cell_type": "code",
   "execution_count": 1,
   "metadata": {},
   "outputs": [],
   "source": [
    "import numpy as np"
   ]
  },
  {
   "cell_type": "markdown",
   "metadata": {},
   "source": [
    "#### 2. Print your NumPy version."
   ]
  },
  {
   "cell_type": "code",
   "execution_count": 2,
   "metadata": {},
   "outputs": [
    {
     "name": "stdout",
     "output_type": "stream",
     "text": [
      "1.16.5\n"
     ]
    }
   ],
   "source": [
    "print(np.version.version)"
   ]
  },
  {
   "cell_type": "markdown",
   "metadata": {},
   "source": [
    "#### 3. Generate a 2x3x5 3-dimensional array with random values. Assign the array to variable *a*.\n",
    "**Challenge**: there are at least three easy ways that use numpy to generate random arrays. How many ways can you find?"
   ]
  },
  {
   "cell_type": "code",
   "execution_count": 3,
   "metadata": {},
   "outputs": [],
   "source": [
    "a = np.random.rand(2,3,5)"
   ]
  },
  {
   "cell_type": "code",
   "execution_count": 4,
   "metadata": {},
   "outputs": [],
   "source": [
    "a = np.random.randint(0, 1, size = (2,3,5))"
   ]
  },
  {
   "cell_type": "code",
   "execution_count": 5,
   "metadata": {},
   "outputs": [],
   "source": [
    "a = np.random.random((2,3,5))"
   ]
  },
  {
   "cell_type": "markdown",
   "metadata": {},
   "source": [
    "#### 4. Print *a*.\n"
   ]
  },
  {
   "cell_type": "code",
   "execution_count": 6,
   "metadata": {},
   "outputs": [
    {
     "name": "stdout",
     "output_type": "stream",
     "text": [
      "[[[0.31579282 0.0488596  0.00295556 0.80557328 0.64193103]\n",
      "  [0.00574039 0.02734057 0.35422852 0.87297821 0.84913062]\n",
      "  [0.48491497 0.19775416 0.22139585 0.9961253  0.56874657]]\n",
      "\n",
      " [[0.23197422 0.93274562 0.41061006 0.11976732 0.09925025]\n",
      "  [0.97621531 0.53281169 0.68795863 0.08355526 0.9151634 ]\n",
      "  [0.158808   0.3639655  0.45106535 0.47158455 0.67557959]]]\n"
     ]
    }
   ],
   "source": [
    "print(a)"
   ]
  },
  {
   "cell_type": "markdown",
   "metadata": {},
   "source": [
    "#### 5. Create a 5x2x3 3-dimensional array with all values equaling 1. Assign the array to variable *b*."
   ]
  },
  {
   "cell_type": "code",
   "execution_count": 7,
   "metadata": {},
   "outputs": [],
   "source": [
    "b = np.ones((5,2,3))"
   ]
  },
  {
   "cell_type": "markdown",
   "metadata": {},
   "source": [
    "#### 6. Print *b*.\n"
   ]
  },
  {
   "cell_type": "code",
   "execution_count": 8,
   "metadata": {},
   "outputs": [
    {
     "name": "stdout",
     "output_type": "stream",
     "text": [
      "[[[1. 1. 1.]\n",
      "  [1. 1. 1.]]\n",
      "\n",
      " [[1. 1. 1.]\n",
      "  [1. 1. 1.]]\n",
      "\n",
      " [[1. 1. 1.]\n",
      "  [1. 1. 1.]]\n",
      "\n",
      " [[1. 1. 1.]\n",
      "  [1. 1. 1.]]\n",
      "\n",
      " [[1. 1. 1.]\n",
      "  [1. 1. 1.]]]\n"
     ]
    }
   ],
   "source": [
    "print(b)"
   ]
  },
  {
   "cell_type": "markdown",
   "metadata": {},
   "source": [
    "#### 7. Do *a* and *b* have the same size? How do you prove that in Python code?"
   ]
  },
  {
   "cell_type": "code",
   "execution_count": 9,
   "metadata": {},
   "outputs": [
    {
     "name": "stdout",
     "output_type": "stream",
     "text": [
      "Size of a:  30\n",
      "Size of b:  30\n",
      "a and b have the same size\n"
     ]
    }
   ],
   "source": [
    "print(\"Size of a: \", a.size)\n",
    "print(\"Size of b: \", b.size)\n",
    "\n",
    "if a.size == b.size:\n",
    "    print(\"a and b have the same size\")\n",
    "else:\n",
    "    print(\"a and b do not have the same size\")"
   ]
  },
  {
   "cell_type": "markdown",
   "metadata": {},
   "source": [
    "#### 8. Are you able to add *a* and *b*? Why or why not?\n"
   ]
  },
  {
   "cell_type": "code",
   "execution_count": 10,
   "metadata": {},
   "outputs": [
    {
     "ename": "ValueError",
     "evalue": "operands could not be broadcast together with shapes (2,3,5) (5,2,3) ",
     "output_type": "error",
     "traceback": [
      "\u001b[1;31m---------------------------------------------------------------------------\u001b[0m",
      "\u001b[1;31mValueError\u001b[0m                                Traceback (most recent call last)",
      "\u001b[1;32m<ipython-input-10-165d9678f96d>\u001b[0m in \u001b[0;36m<module>\u001b[1;34m\u001b[0m\n\u001b[1;32m----> 1\u001b[1;33m \u001b[0mprint\u001b[0m\u001b[1;33m(\u001b[0m\u001b[0mnp\u001b[0m\u001b[1;33m.\u001b[0m\u001b[0madd\u001b[0m\u001b[1;33m(\u001b[0m\u001b[0ma\u001b[0m\u001b[1;33m,\u001b[0m\u001b[0mb\u001b[0m\u001b[1;33m)\u001b[0m\u001b[1;33m)\u001b[0m\u001b[1;33m\u001b[0m\u001b[1;33m\u001b[0m\u001b[0m\n\u001b[0m\u001b[0;32m      2\u001b[0m \u001b[1;33m\u001b[0m\u001b[0m\n\u001b[0;32m      3\u001b[0m \u001b[1;31m#I'm not able to add a and b because they don't have the same shape\u001b[0m\u001b[1;33m\u001b[0m\u001b[1;33m\u001b[0m\u001b[1;33m\u001b[0m\u001b[0m\n",
      "\u001b[1;31mValueError\u001b[0m: operands could not be broadcast together with shapes (2,3,5) (5,2,3) "
     ]
    }
   ],
   "source": [
    "print(np.add(a,b))\n",
    "\n",
    "#I'm not able to add a and b because they don't have the same shape"
   ]
  },
  {
   "cell_type": "markdown",
   "metadata": {},
   "source": [
    "#### 9. Transpose *b* so that it has the same structure of *a* (i.e. become a 2x3x5 array). Assign the transposed array to variable *c*."
   ]
  },
  {
   "cell_type": "code",
   "execution_count": 11,
   "metadata": {},
   "outputs": [
    {
     "name": "stdout",
     "output_type": "stream",
     "text": [
      "[[[1. 1. 1. 1. 1.]\n",
      "  [1. 1. 1. 1. 1.]\n",
      "  [1. 1. 1. 1. 1.]]\n",
      "\n",
      " [[1. 1. 1. 1. 1.]\n",
      "  [1. 1. 1. 1. 1.]\n",
      "  [1. 1. 1. 1. 1.]]]\n"
     ]
    }
   ],
   "source": [
    "c = b.reshape((2,3,5))\n",
    "\n",
    "print(c)"
   ]
  },
  {
   "cell_type": "markdown",
   "metadata": {},
   "source": [
    "#### 10. Try to add *a* and *c*. Now it should work. Assign the sum to variable *d*. But why does it work now?"
   ]
  },
  {
   "cell_type": "code",
   "execution_count": 12,
   "metadata": {},
   "outputs": [
    {
     "name": "stdout",
     "output_type": "stream",
     "text": [
      "[[[1.31579282 1.0488596  1.00295556 1.80557328 1.64193103]\n",
      "  [1.00574039 1.02734057 1.35422852 1.87297821 1.84913062]\n",
      "  [1.48491497 1.19775416 1.22139585 1.9961253  1.56874657]]\n",
      "\n",
      " [[1.23197422 1.93274562 1.41061006 1.11976732 1.09925025]\n",
      "  [1.97621531 1.53281169 1.68795863 1.08355526 1.9151634 ]\n",
      "  [1.158808   1.3639655  1.45106535 1.47158455 1.67557959]]]\n"
     ]
    }
   ],
   "source": [
    "d = np.add(a,c)\n",
    "print(d)\n",
    "\n",
    "#It works because a and c have the same shape"
   ]
  },
  {
   "cell_type": "markdown",
   "metadata": {},
   "source": [
    "#### 11. Print *a* and *d*. Notice the difference and relation of the two array in terms of the values? Explain."
   ]
  },
  {
   "cell_type": "code",
   "execution_count": 13,
   "metadata": {},
   "outputs": [
    {
     "name": "stdout",
     "output_type": "stream",
     "text": [
      "[[[0.31579282 0.0488596  0.00295556 0.80557328 0.64193103]\n",
      "  [0.00574039 0.02734057 0.35422852 0.87297821 0.84913062]\n",
      "  [0.48491497 0.19775416 0.22139585 0.9961253  0.56874657]]\n",
      "\n",
      " [[0.23197422 0.93274562 0.41061006 0.11976732 0.09925025]\n",
      "  [0.97621531 0.53281169 0.68795863 0.08355526 0.9151634 ]\n",
      "  [0.158808   0.3639655  0.45106535 0.47158455 0.67557959]]]\n",
      "Line in between\n",
      "[[[1.31579282 1.0488596  1.00295556 1.80557328 1.64193103]\n",
      "  [1.00574039 1.02734057 1.35422852 1.87297821 1.84913062]\n",
      "  [1.48491497 1.19775416 1.22139585 1.9961253  1.56874657]]\n",
      "\n",
      " [[1.23197422 1.93274562 1.41061006 1.11976732 1.09925025]\n",
      "  [1.97621531 1.53281169 1.68795863 1.08355526 1.9151634 ]\n",
      "  [1.158808   1.3639655  1.45106535 1.47158455 1.67557959]]]\n",
      "[[[1. 1. 1. 1. 1.]\n",
      "  [1. 1. 1. 1. 1.]\n",
      "  [1. 1. 1. 1. 1.]]\n",
      "\n",
      " [[1. 1. 1. 1. 1.]\n",
      "  [1. 1. 1. 1. 1.]\n",
      "  [1. 1. 1. 1. 1.]]]\n",
      "The difference between the two arraws is arraw c because d=a+c\n"
     ]
    }
   ],
   "source": [
    "print(a)\n",
    "print(\"Line in between\")\n",
    "print(d)\n",
    "\n",
    "print(np.subtract(d, a))\n",
    "\n",
    "print(\"The difference between the two arraws is arraw c because d=a+c\")"
   ]
  },
  {
   "cell_type": "markdown",
   "metadata": {},
   "source": [
    "#### 12. Multiply *a* and *c*. Assign the result to *e*."
   ]
  },
  {
   "cell_type": "code",
   "execution_count": 14,
   "metadata": {},
   "outputs": [
    {
     "name": "stdout",
     "output_type": "stream",
     "text": [
      "[[[0.31579282 0.0488596  0.00295556 0.80557328 0.64193103]\n",
      "  [0.00574039 0.02734057 0.35422852 0.87297821 0.84913062]\n",
      "  [0.48491497 0.19775416 0.22139585 0.9961253  0.56874657]]\n",
      "\n",
      " [[0.23197422 0.93274562 0.41061006 0.11976732 0.09925025]\n",
      "  [0.97621531 0.53281169 0.68795863 0.08355526 0.9151634 ]\n",
      "  [0.158808   0.3639655  0.45106535 0.47158455 0.67557959]]]\n"
     ]
    }
   ],
   "source": [
    "e = np.multiply(a, c)\n",
    "\n",
    "print(e)"
   ]
  },
  {
   "cell_type": "markdown",
   "metadata": {},
   "source": [
    "#### 13. Does *e* equal to *a*? Why or why not?\n"
   ]
  },
  {
   "cell_type": "code",
   "execution_count": 15,
   "metadata": {},
   "outputs": [
    {
     "name": "stdout",
     "output_type": "stream",
     "text": [
      "True\n"
     ]
    }
   ],
   "source": [
    "print(np.array_equal(np.array(e), np.array(a)))"
   ]
  },
  {
   "cell_type": "markdown",
   "metadata": {},
   "source": [
    "#### 14. Identify the max, min, and mean values in *d*. Assign those values to variables *d_max*, *d_min* and *d_mean*."
   ]
  },
  {
   "cell_type": "code",
   "execution_count": 16,
   "metadata": {},
   "outputs": [
    {
     "name": "stdout",
     "output_type": "stream",
     "text": [
      "[[[1.31579282 1.0488596  1.00295556 1.80557328 1.64193103]\n",
      "  [1.00574039 1.02734057 1.35422852 1.87297821 1.84913062]\n",
      "  [1.48491497 1.19775416 1.22139585 1.9961253  1.56874657]]\n",
      "\n",
      " [[1.23197422 1.93274562 1.41061006 1.11976732 1.09925025]\n",
      "  [1.97621531 1.53281169 1.68795863 1.08355526 1.9151634 ]\n",
      "  [1.158808   1.3639655  1.45106535 1.47158455 1.67557959]]]\n",
      "max of d:  1.996125303500858\n",
      "min of d:  1.002955559287852\n",
      "mean of d:  1.450150739235899\n"
     ]
    }
   ],
   "source": [
    "print(d)\n",
    "\n",
    "d_max = np.max(d)\n",
    "print(\"max of d: \", d_max)\n",
    "\n",
    "d_min = np.min(d)\n",
    "print(\"min of d: \", d_min)\n",
    "\n",
    "d_mean = np.mean(d)\n",
    "print(\"mean of d: \", d_mean)"
   ]
  },
  {
   "cell_type": "markdown",
   "metadata": {},
   "source": [
    "#### 15. Now we want to label the values in *d*. First create an empty array *f* with the same shape (i.e. 2x3x5) as *d* using `np.empty`.\n"
   ]
  },
  {
   "cell_type": "code",
   "execution_count": 17,
   "metadata": {},
   "outputs": [
    {
     "name": "stdout",
     "output_type": "stream",
     "text": [
      "[[[1.31579282 1.0488596  1.00295556 1.80557328 1.64193103]\n",
      "  [1.00574039 1.02734057 1.35422852 1.87297821 1.84913062]\n",
      "  [1.48491497 1.19775416 1.22139585 1.9961253  1.56874657]]\n",
      "\n",
      " [[1.23197422 1.93274562 1.41061006 1.11976732 1.09925025]\n",
      "  [1.97621531 1.53281169 1.68795863 1.08355526 1.9151634 ]\n",
      "  [1.158808   1.3639655  1.45106535 1.47158455 1.67557959]]]\n"
     ]
    }
   ],
   "source": [
    "f = np.empty((2,3,5))\n",
    "\n",
    "print(f)"
   ]
  },
  {
   "cell_type": "markdown",
   "metadata": {},
   "source": [
    "#### 16. Populate the values in *f*. \n",
    "\n",
    "For each value in *d*, if it's larger than *d_min* but smaller than *d_mean*, assign 25 to the corresponding value in *f*. If a value in *d* is larger than *d_mean* but smaller than *d_max*, assign 75 to the corresponding value in *f*. If a value equals to *d_mean*, assign 50 to the corresponding value in *f*. Assign 0 to the corresponding value(s) in *f* for *d_min* in *d*. Assign 100 to the corresponding value(s) in *f* for *d_max* in *d*. In the end, f should have only the following values: 0, 25, 50, 75, and 100.\n",
    "\n",
    "**Note**: you don't have to use Numpy in this question."
   ]
  },
  {
   "cell_type": "code",
   "execution_count": 18,
   "metadata": {},
   "outputs": [],
   "source": [
    "for i in range(2):\n",
    "    for j in range(3):\n",
    "        for k in range(5):\n",
    "            if d[i,j,k] > d_min and d[i,j,k] < d_mean:\n",
    "                f[i,j,k] = 25\n",
    "            elif d[i,j,k] > d_mean and d[i,j,k] < d_max:\n",
    "                f[i,j,k] = 75\n",
    "            elif d[i,j,k] == d_mean:\n",
    "                f[i,j,k] = 50\n",
    "            elif d[i,j,k] == d_min:\n",
    "                f[i,j,k] = 0\n",
    "            elif d[i,j,k] == d_max:\n",
    "                f[i,j,k] = 100"
   ]
  },
  {
   "cell_type": "markdown",
   "metadata": {},
   "source": [
    "#### 17. Print *d* and *f*. Do you have your expected *f*?\n",
    "For instance, if your *d* is:\n",
    "```python\n",
    "[[[1.85836099, 1.67064465, 1.62576044, 1.40243961, 1.88454931],\n",
    "[1.75354326, 1.69403643, 1.36729252, 1.61415071, 1.12104981],\n",
    "[1.72201435, 1.1862918 , 1.87078449, 1.7726778 , 1.88180042]],\n",
    "[[1.44747908, 1.31673383, 1.02000951, 1.52218947, 1.97066381],\n",
    "[1.79129243, 1.74983003, 1.96028037, 1.85166831, 1.65450881],\n",
    "[1.18068344, 1.9587381 , 1.00656599, 1.93402165, 1.73514584]]]\n",
    "```\n",
    "Your *f* should be:\n",
    "```python\n",
    "[[[ 75.,  75.,  75.,  25.,  75.],\n",
    "[ 75.,  75.,  25.,  25.,  25.],\n",
    "[ 75.,  25.,  75.,  75.,  75.]],\n",
    "[[ 25.,  25.,  25.,  25., 100.],\n",
    "[ 75.,  75.,  75.,  75.,  75.],\n",
    "[ 25.,  75.,   0.,  75.,  75.]]]\n",
    "```"
   ]
  },
  {
   "cell_type": "code",
   "execution_count": 19,
   "metadata": {},
   "outputs": [
    {
     "name": "stdout",
     "output_type": "stream",
     "text": [
      "[[[1.31579282 1.0488596  1.00295556 1.80557328 1.64193103]\n",
      "  [1.00574039 1.02734057 1.35422852 1.87297821 1.84913062]\n",
      "  [1.48491497 1.19775416 1.22139585 1.9961253  1.56874657]]\n",
      "\n",
      " [[1.23197422 1.93274562 1.41061006 1.11976732 1.09925025]\n",
      "  [1.97621531 1.53281169 1.68795863 1.08355526 1.9151634 ]\n",
      "  [1.158808   1.3639655  1.45106535 1.47158455 1.67557959]]]\n",
      "[[[ 25.  25.   0.  75.  75.]\n",
      "  [ 25.  25.  25.  75.  75.]\n",
      "  [ 75.  25.  25. 100.  75.]]\n",
      "\n",
      " [[ 25.  75.  25.  25.  25.]\n",
      "  [ 75.  75.  75.  25.  75.]\n",
      "  [ 25.  25.  75.  75.  75.]]]\n"
     ]
    }
   ],
   "source": [
    "print(d)\n",
    "print(f)"
   ]
  },
  {
   "cell_type": "markdown",
   "metadata": {},
   "source": [
    "#### 18. Bonus question: instead of using numbers (i.e. 0, 25, 50, 75, and 100), use string values  (\"A\", \"B\", \"C\", \"D\", and \"E\") to label the array elements. For the example above, the expected result is:\n",
    "\n",
    "```python\n",
    "[[[ 'D',  'D',  'D',  'B',  'D'],\n",
    "[ 'D',  'D',  'B',  'B',  'B'],\n",
    "[ 'D',  'B',  'D',  'D',  'D']],\n",
    "[[ 'B',  'B',  'B',  'B',  'E'],\n",
    "[ 'D',  'D',  'D',  'D',  'D'],\n",
    "[ 'B',  'D',   'A',  'D', 'D']]]\n",
    "```\n",
    "**Note**: you don't have to use Numpy in this question."
   ]
  },
  {
   "cell_type": "code",
   "execution_count": 20,
   "metadata": {},
   "outputs": [
    {
     "name": "stdout",
     "output_type": "stream",
     "text": [
      "[[['A' 'A' 'D' 'B' 'B']\n",
      "  ['A' 'A' 'A' 'B' 'B']\n",
      "  ['B' 'A' 'A' 'E' 'B']]\n",
      "\n",
      " [['A' 'B' 'A' 'A' 'A']\n",
      "  ['B' 'B' 'B' 'A' 'B']\n",
      "  ['A' 'A' 'B' 'B' 'B']]]\n"
     ]
    }
   ],
   "source": [
    "lst_f = []\n",
    "\n",
    "for i in range(2):\n",
    "    lst_f.append([])\n",
    "    for j in range(3):\n",
    "        lst_f[i].append([])\n",
    "        for k in range(5):\n",
    "            if d[i,j,k] > d_min and d[i,j,k] < d_mean:\n",
    "                lst_f[i][j].append(\"A\")\n",
    "            elif d[i,j,k] > d_mean and d[i,j,k] < d_max:\n",
    "                lst_f[i][j].append(\"B\")\n",
    "            elif d[i,j,k] == d_mean:\n",
    "                lst_f[i][j].append(\"C\")\n",
    "            elif d[i,j,k] == d_min:\n",
    "                lst_f[i][j].append(\"D\")\n",
    "            elif d[i,j,k] == d_max:\n",
    "                lst_f[i][j].append(\"E\")\n",
    "\n",
    "array_string = np.array(lst_f)\n",
    "print(array_string)"
   ]
  },
  {
   "cell_type": "code",
   "execution_count": null,
   "metadata": {},
   "outputs": [],
   "source": []
  }
 ],
 "metadata": {
  "kernelspec": {
   "display_name": "Python 3",
   "language": "python",
   "name": "python3"
  },
  "language_info": {
   "codemirror_mode": {
    "name": "ipython",
    "version": 3
   },
   "file_extension": ".py",
   "mimetype": "text/x-python",
   "name": "python",
   "nbconvert_exporter": "python",
   "pygments_lexer": "ipython3",
   "version": "3.7.4"
  }
 },
 "nbformat": 4,
 "nbformat_minor": 2
}

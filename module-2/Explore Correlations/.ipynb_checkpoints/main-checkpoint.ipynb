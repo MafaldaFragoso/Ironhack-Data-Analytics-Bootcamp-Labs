{
 "cells": [
  {
   "cell_type": "code",
   "execution_count": 1,
   "metadata": {},
   "outputs": [
    {
     "data": {
      "text/plain": [
       "'\\nExplore correlations\\nUsing the Canadian Disaster Database (CDD.csv, can be found on the share directory), you will explore the correlations \\nbetween the numerical columns in the dataset. \\nMore info on the dataset can be found at https://www.kaggle.com/criticalhits/canadian-disaster-database#CDD.csv\\n\\n'"
      ]
     },
     "execution_count": 1,
     "metadata": {},
     "output_type": "execute_result"
    }
   ],
   "source": [
    "\"\"\"\n",
    "Explore correlations\n",
    "Using the Canadian Disaster Database (CDD.csv, can be found on the share directory), you will explore the correlations \n",
    "between the numerical columns in the dataset. \n",
    "More info on the dataset can be found at https://www.kaggle.com/criticalhits/canadian-disaster-database#CDD.csv\n",
    "\n",
    "\"\"\""
   ]
  },
  {
   "cell_type": "code",
   "execution_count": 2,
   "metadata": {},
   "outputs": [],
   "source": [
    "# import the necessary libraries\n",
    "\n",
    "import pandas as pd\n",
    "import seaborn as sns\n",
    "import numpy as np\n",
    "import matplotlib.pyplot as plt"
   ]
  },
  {
   "cell_type": "code",
   "execution_count": 4,
   "metadata": {},
   "outputs": [
    {
     "data": {
      "text/html": [
       "<div>\n",
       "<style scoped>\n",
       "    .dataframe tbody tr th:only-of-type {\n",
       "        vertical-align: middle;\n",
       "    }\n",
       "\n",
       "    .dataframe tbody tr th {\n",
       "        vertical-align: top;\n",
       "    }\n",
       "\n",
       "    .dataframe thead th {\n",
       "        text-align: right;\n",
       "    }\n",
       "</style>\n",
       "<table border=\"1\" class=\"dataframe\">\n",
       "  <thead>\n",
       "    <tr style=\"text-align: right;\">\n",
       "      <th></th>\n",
       "      <th>EVENT CATEGORY</th>\n",
       "      <th>EVENT GROUP</th>\n",
       "      <th>EVENT SUBGROUP</th>\n",
       "      <th>EVENT TYPE</th>\n",
       "      <th>PLACE</th>\n",
       "      <th>EVENT START DATE</th>\n",
       "      <th>COMMENTS</th>\n",
       "      <th>FATALITIES</th>\n",
       "      <th>INJURED / INFECTED</th>\n",
       "      <th>EVACUATED</th>\n",
       "      <th>...</th>\n",
       "      <th>EVENT END DATE</th>\n",
       "      <th>FEDERAL DFAA PAYMENTS</th>\n",
       "      <th>PROVINCIAL DFAA PAYMENTS</th>\n",
       "      <th>PROVINCIAL DEPARTMENT PAYMENTS</th>\n",
       "      <th>MUNICIPAL COSTS</th>\n",
       "      <th>OGD COSTS</th>\n",
       "      <th>INSURANCE PAYMENTS</th>\n",
       "      <th>NGO PAYMENTS</th>\n",
       "      <th>UTILITY - PEOPLE AFFECTED</th>\n",
       "      <th>MAGNITUDE</th>\n",
       "    </tr>\n",
       "  </thead>\n",
       "  <tbody>\n",
       "    <tr>\n",
       "      <td>0</td>\n",
       "      <td>Disaster</td>\n",
       "      <td>Natural</td>\n",
       "      <td>Meteorological - Hydrological</td>\n",
       "      <td>Storm - Unspecified / Other</td>\n",
       "      <td>Christmas Island NS</td>\n",
       "      <td>25/12/2016 12:00:00 AM</td>\n",
       "      <td>Christmas Island NS, December 25, 2016. Reside...</td>\n",
       "      <td>NaN</td>\n",
       "      <td>NaN</td>\n",
       "      <td>NaN</td>\n",
       "      <td>...</td>\n",
       "      <td>25/12/2016 12:00:00 AM</td>\n",
       "      <td>NaN</td>\n",
       "      <td>NaN</td>\n",
       "      <td>NaN</td>\n",
       "      <td>NaN</td>\n",
       "      <td>NaN</td>\n",
       "      <td>NaN</td>\n",
       "      <td>NaN</td>\n",
       "      <td>10038.0</td>\n",
       "      <td>NaN</td>\n",
       "    </tr>\n",
       "    <tr>\n",
       "      <td>1</td>\n",
       "      <td>Disaster</td>\n",
       "      <td>Natural</td>\n",
       "      <td>Meteorological - Hydrological</td>\n",
       "      <td>Winter Storm</td>\n",
       "      <td>Nova Scotia and Prince Edward Island</td>\n",
       "      <td>27/11/2016 12:00:00 AM</td>\n",
       "      <td>Nova Scotia and Prince Edward Island, November...</td>\n",
       "      <td>NaN</td>\n",
       "      <td>NaN</td>\n",
       "      <td>NaN</td>\n",
       "      <td>...</td>\n",
       "      <td>29/11/2016 12:00:00 AM</td>\n",
       "      <td>NaN</td>\n",
       "      <td>NaN</td>\n",
       "      <td>NaN</td>\n",
       "      <td>NaN</td>\n",
       "      <td>NaN</td>\n",
       "      <td>NaN</td>\n",
       "      <td>NaN</td>\n",
       "      <td>69000.0</td>\n",
       "      <td>NaN</td>\n",
       "    </tr>\n",
       "    <tr>\n",
       "      <td>2</td>\n",
       "      <td>Disaster</td>\n",
       "      <td>Natural</td>\n",
       "      <td>Meteorological - Hydrological</td>\n",
       "      <td>Flood</td>\n",
       "      <td>Red Earth First Nation SK</td>\n",
       "      <td>14/11/2016 12:00:00 AM</td>\n",
       "      <td>Red Earth First Nation SK, July 14-18, 2016. H...</td>\n",
       "      <td>NaN</td>\n",
       "      <td>NaN</td>\n",
       "      <td>576.0</td>\n",
       "      <td>...</td>\n",
       "      <td>18/11/2016 12:00:00 AM</td>\n",
       "      <td>NaN</td>\n",
       "      <td>NaN</td>\n",
       "      <td>NaN</td>\n",
       "      <td>NaN</td>\n",
       "      <td>NaN</td>\n",
       "      <td>NaN</td>\n",
       "      <td>NaN</td>\n",
       "      <td>NaN</td>\n",
       "      <td>NaN</td>\n",
       "    </tr>\n",
       "    <tr>\n",
       "      <td>3</td>\n",
       "      <td>Disaster</td>\n",
       "      <td>Natural</td>\n",
       "      <td>Biological</td>\n",
       "      <td>Epidemic</td>\n",
       "      <td>Alberta and Saskatchewan</td>\n",
       "      <td>26/10/2016 12:00:00 AM</td>\n",
       "      <td>Alberta and Saskatchewan, October 26 to Decemb...</td>\n",
       "      <td>NaN</td>\n",
       "      <td>NaN</td>\n",
       "      <td>NaN</td>\n",
       "      <td>...</td>\n",
       "      <td>21/12/2016 12:00:00 AM</td>\n",
       "      <td>16700000.0</td>\n",
       "      <td>NaN</td>\n",
       "      <td>NaN</td>\n",
       "      <td>NaN</td>\n",
       "      <td>NaN</td>\n",
       "      <td>NaN</td>\n",
       "      <td>NaN</td>\n",
       "      <td>NaN</td>\n",
       "      <td>NaN</td>\n",
       "    </tr>\n",
       "    <tr>\n",
       "      <td>4</td>\n",
       "      <td>Incident</td>\n",
       "      <td>Technology</td>\n",
       "      <td>Hazardous Chemicals</td>\n",
       "      <td>Leak / Spill Release</td>\n",
       "      <td>Seaforth Channel BC</td>\n",
       "      <td>13/10/2016 12:00:00 AM</td>\n",
       "      <td>Seaforth Channel BC, October 13, 2016. The art...</td>\n",
       "      <td>NaN</td>\n",
       "      <td>NaN</td>\n",
       "      <td>NaN</td>\n",
       "      <td>...</td>\n",
       "      <td>13/10/2016 12:00:00 AM</td>\n",
       "      <td>NaN</td>\n",
       "      <td>NaN</td>\n",
       "      <td>NaN</td>\n",
       "      <td>NaN</td>\n",
       "      <td>NaN</td>\n",
       "      <td>NaN</td>\n",
       "      <td>NaN</td>\n",
       "      <td>NaN</td>\n",
       "      <td>NaN</td>\n",
       "    </tr>\n",
       "  </tbody>\n",
       "</table>\n",
       "<p>5 rows × 22 columns</p>\n",
       "</div>"
      ],
      "text/plain": [
       "  EVENT CATEGORY EVENT GROUP                 EVENT SUBGROUP  \\\n",
       "0       Disaster     Natural  Meteorological - Hydrological   \n",
       "1       Disaster     Natural  Meteorological - Hydrological   \n",
       "2       Disaster     Natural  Meteorological - Hydrological   \n",
       "3       Disaster     Natural                     Biological   \n",
       "4       Incident  Technology            Hazardous Chemicals   \n",
       "\n",
       "                    EVENT TYPE                                 PLACE  \\\n",
       "0  Storm - Unspecified / Other                   Christmas Island NS   \n",
       "1                 Winter Storm  Nova Scotia and Prince Edward Island   \n",
       "2                        Flood             Red Earth First Nation SK   \n",
       "3                     Epidemic              Alberta and Saskatchewan   \n",
       "4         Leak / Spill Release                   Seaforth Channel BC   \n",
       "\n",
       "         EVENT START DATE                                           COMMENTS  \\\n",
       "0  25/12/2016 12:00:00 AM  Christmas Island NS, December 25, 2016. Reside...   \n",
       "1  27/11/2016 12:00:00 AM  Nova Scotia and Prince Edward Island, November...   \n",
       "2  14/11/2016 12:00:00 AM  Red Earth First Nation SK, July 14-18, 2016. H...   \n",
       "3  26/10/2016 12:00:00 AM  Alberta and Saskatchewan, October 26 to Decemb...   \n",
       "4  13/10/2016 12:00:00 AM  Seaforth Channel BC, October 13, 2016. The art...   \n",
       "\n",
       "   FATALITIES  INJURED / INFECTED  EVACUATED  ...          EVENT END DATE  \\\n",
       "0         NaN                 NaN        NaN  ...  25/12/2016 12:00:00 AM   \n",
       "1         NaN                 NaN        NaN  ...  29/11/2016 12:00:00 AM   \n",
       "2         NaN                 NaN      576.0  ...  18/11/2016 12:00:00 AM   \n",
       "3         NaN                 NaN        NaN  ...  21/12/2016 12:00:00 AM   \n",
       "4         NaN                 NaN        NaN  ...  13/10/2016 12:00:00 AM   \n",
       "\n",
       "   FEDERAL DFAA PAYMENTS PROVINCIAL DFAA PAYMENTS  \\\n",
       "0                    NaN                      NaN   \n",
       "1                    NaN                      NaN   \n",
       "2                    NaN                      NaN   \n",
       "3             16700000.0                      NaN   \n",
       "4                    NaN                      NaN   \n",
       "\n",
       "   PROVINCIAL DEPARTMENT PAYMENTS  MUNICIPAL COSTS  OGD COSTS  \\\n",
       "0                             NaN              NaN        NaN   \n",
       "1                             NaN              NaN        NaN   \n",
       "2                             NaN              NaN        NaN   \n",
       "3                             NaN              NaN        NaN   \n",
       "4                             NaN              NaN        NaN   \n",
       "\n",
       "   INSURANCE PAYMENTS  NGO PAYMENTS  UTILITY - PEOPLE AFFECTED  MAGNITUDE  \n",
       "0                 NaN           NaN                    10038.0        NaN  \n",
       "1                 NaN           NaN                    69000.0        NaN  \n",
       "2                 NaN           NaN                        NaN        NaN  \n",
       "3                 NaN           NaN                        NaN        NaN  \n",
       "4                 NaN           NaN                        NaN        NaN  \n",
       "\n",
       "[5 rows x 22 columns]"
      ]
     },
     "execution_count": 4,
     "metadata": {},
     "output_type": "execute_result"
    }
   ],
   "source": [
    "# read the dataset\n",
    "\n",
    "data = pd.read_csv('CDD.csv', sep='\\t')\n",
    "data.head()"
   ]
  },
  {
   "cell_type": "code",
   "execution_count": 5,
   "metadata": {},
   "outputs": [
    {
     "data": {
      "text/plain": [
       "(1089, 22)"
      ]
     },
     "execution_count": 5,
     "metadata": {},
     "output_type": "execute_result"
    }
   ],
   "source": [
    "data.shape"
   ]
  },
  {
   "cell_type": "code",
   "execution_count": 6,
   "metadata": {},
   "outputs": [
    {
     "data": {
      "text/plain": [
       "FATALITIES                          89\n",
       "INJURED / INFECTED                 115\n",
       "EVACUATED                           70\n",
       "ESTIMATED TOTAL COST               531\n",
       "NORMALIZED TOTAL COST              531\n",
       "FEDERAL DFAA PAYMENTS              604\n",
       "PROVINCIAL DFAA PAYMENTS           678\n",
       "PROVINCIAL DEPARTMENT PAYMENTS     997\n",
       "MUNICIPAL COSTS                   1060\n",
       "OGD COSTS                         1075\n",
       "INSURANCE PAYMENTS                1017\n",
       "NGO PAYMENTS                      1081\n",
       "UTILITY - PEOPLE AFFECTED           83\n",
       "MAGNITUDE                          114\n",
       "dtype: int64"
      ]
     },
     "execution_count": 6,
     "metadata": {},
     "output_type": "execute_result"
    }
   ],
   "source": [
    "# checking for missing values\n",
    "\n",
    "null_cols = data.isnull().sum()\n",
    "null_cols[null_cols > 0]"
   ]
  },
  {
   "cell_type": "code",
   "execution_count": 7,
   "metadata": {},
   "outputs": [],
   "source": [
    "# I will drop the columns with more than 900 missing values\n",
    "\n",
    "drop_cols = list(null_cols[null_cols > 900].index)\n",
    "data = data.drop(drop_cols, axis=1)"
   ]
  },
  {
   "cell_type": "code",
   "execution_count": 8,
   "metadata": {},
   "outputs": [],
   "source": [
    "# I will drop all the rows with missing values\n",
    "\n",
    "data = data.dropna()"
   ]
  },
  {
   "cell_type": "code",
   "execution_count": 9,
   "metadata": {},
   "outputs": [
    {
     "data": {
      "text/html": [
       "<div>\n",
       "<style scoped>\n",
       "    .dataframe tbody tr th:only-of-type {\n",
       "        vertical-align: middle;\n",
       "    }\n",
       "\n",
       "    .dataframe tbody tr th {\n",
       "        vertical-align: top;\n",
       "    }\n",
       "\n",
       "    .dataframe thead th {\n",
       "        text-align: right;\n",
       "    }\n",
       "</style>\n",
       "<table border=\"1\" class=\"dataframe\">\n",
       "  <thead>\n",
       "    <tr style=\"text-align: right;\">\n",
       "      <th></th>\n",
       "      <th>EVENT CATEGORY</th>\n",
       "      <th>EVENT GROUP</th>\n",
       "      <th>EVENT SUBGROUP</th>\n",
       "      <th>EVENT TYPE</th>\n",
       "      <th>PLACE</th>\n",
       "      <th>EVENT START DATE</th>\n",
       "      <th>COMMENTS</th>\n",
       "      <th>FATALITIES</th>\n",
       "      <th>INJURED / INFECTED</th>\n",
       "      <th>EVACUATED</th>\n",
       "      <th>ESTIMATED TOTAL COST</th>\n",
       "      <th>NORMALIZED TOTAL COST</th>\n",
       "      <th>EVENT END DATE</th>\n",
       "      <th>FEDERAL DFAA PAYMENTS</th>\n",
       "      <th>PROVINCIAL DFAA PAYMENTS</th>\n",
       "      <th>UTILITY - PEOPLE AFFECTED</th>\n",
       "      <th>MAGNITUDE</th>\n",
       "    </tr>\n",
       "  </thead>\n",
       "  <tbody>\n",
       "    <tr>\n",
       "      <td>145</td>\n",
       "      <td>Disaster</td>\n",
       "      <td>Natural</td>\n",
       "      <td>Meteorological - Hydrological</td>\n",
       "      <td>Storms and Severe Thunderstorms</td>\n",
       "      <td>Edmonton AB</td>\n",
       "      <td>18/07/2009 12:00:00 AM</td>\n",
       "      <td>Edmonton AB, July 18, 2009.  A cold front mixe...</td>\n",
       "      <td>0.0</td>\n",
       "      <td>0.0</td>\n",
       "      <td>0.0</td>\n",
       "      <td>4500000.0</td>\n",
       "      <td>236014.0</td>\n",
       "      <td>18/07/2009 12:00:00 AM</td>\n",
       "      <td>400000.0</td>\n",
       "      <td>4100000.0</td>\n",
       "      <td>0.0</td>\n",
       "      <td>0.0</td>\n",
       "    </tr>\n",
       "    <tr>\n",
       "      <td>148</td>\n",
       "      <td>Disaster</td>\n",
       "      <td>Natural</td>\n",
       "      <td>Meteorological - Hydrological</td>\n",
       "      <td>Flood</td>\n",
       "      <td>Rock Creek and Henderson Corner YT</td>\n",
       "      <td>01/05/2009 12:00:00 AM</td>\n",
       "      <td>Rock Creek and Henderson Corner YT, May 1, 200...</td>\n",
       "      <td>0.0</td>\n",
       "      <td>0.0</td>\n",
       "      <td>28.0</td>\n",
       "      <td>459130.0</td>\n",
       "      <td>24080.2</td>\n",
       "      <td>01/05/2009 12:00:00 AM</td>\n",
       "      <td>59130.0</td>\n",
       "      <td>400000.0</td>\n",
       "      <td>0.0</td>\n",
       "      <td>0.0</td>\n",
       "    </tr>\n",
       "    <tr>\n",
       "      <td>149</td>\n",
       "      <td>Disaster</td>\n",
       "      <td>Natural</td>\n",
       "      <td>Meteorological - Hydrological</td>\n",
       "      <td>Wildfire</td>\n",
       "      <td>Kelowna, Kamloops and Cariboo BC</td>\n",
       "      <td>01/05/2009 12:00:00 AM</td>\n",
       "      <td>Kelowna, Kamloops and Cariboo BC, May 1 to Aug...</td>\n",
       "      <td>1.0</td>\n",
       "      <td>0.0</td>\n",
       "      <td>20000.0</td>\n",
       "      <td>98743529.0</td>\n",
       "      <td>5178856.4</td>\n",
       "      <td>31/08/2009 12:00:00 AM</td>\n",
       "      <td>81743529.0</td>\n",
       "      <td>17000000.0</td>\n",
       "      <td>0.0</td>\n",
       "      <td>0.0</td>\n",
       "    </tr>\n",
       "    <tr>\n",
       "      <td>151</td>\n",
       "      <td>Disaster</td>\n",
       "      <td>Natural</td>\n",
       "      <td>Meteorological - Hydrological</td>\n",
       "      <td>Flood</td>\n",
       "      <td>Saint John, Miramichi and Restigouche River NB</td>\n",
       "      <td>05/04/2009 12:00:00 AM</td>\n",
       "      <td>Saint John, Miramichi and Restigouche River NB...</td>\n",
       "      <td>0.0</td>\n",
       "      <td>0.0</td>\n",
       "      <td>0.0</td>\n",
       "      <td>2000000.0</td>\n",
       "      <td>104895.1</td>\n",
       "      <td>04/05/2009 12:00:00 AM</td>\n",
       "      <td>626000.0</td>\n",
       "      <td>1374000.0</td>\n",
       "      <td>0.0</td>\n",
       "      <td>0.0</td>\n",
       "    </tr>\n",
       "    <tr>\n",
       "      <td>153</td>\n",
       "      <td>Disaster</td>\n",
       "      <td>Natural</td>\n",
       "      <td>Meteorological - Hydrological</td>\n",
       "      <td>Flood</td>\n",
       "      <td>Roseau River First Nation, Sioux Falls, Peguis...</td>\n",
       "      <td>24/03/2009 12:00:00 AM</td>\n",
       "      <td>Roseau River First Nation, Sioux Falls, Peguis...</td>\n",
       "      <td>0.0</td>\n",
       "      <td>0.0</td>\n",
       "      <td>3000.0</td>\n",
       "      <td>76506000.0</td>\n",
       "      <td>4012552.4</td>\n",
       "      <td>21/05/2009 12:00:00 AM</td>\n",
       "      <td>70006000.0</td>\n",
       "      <td>6500000.0</td>\n",
       "      <td>0.0</td>\n",
       "      <td>0.0</td>\n",
       "    </tr>\n",
       "  </tbody>\n",
       "</table>\n",
       "</div>"
      ],
      "text/plain": [
       "    EVENT CATEGORY EVENT GROUP                 EVENT SUBGROUP  \\\n",
       "145       Disaster     Natural  Meteorological - Hydrological   \n",
       "148       Disaster     Natural  Meteorological - Hydrological   \n",
       "149       Disaster     Natural  Meteorological - Hydrological   \n",
       "151       Disaster     Natural  Meteorological - Hydrological   \n",
       "153       Disaster     Natural  Meteorological - Hydrological   \n",
       "\n",
       "                          EVENT TYPE  \\\n",
       "145  Storms and Severe Thunderstorms   \n",
       "148                            Flood   \n",
       "149                         Wildfire   \n",
       "151                            Flood   \n",
       "153                            Flood   \n",
       "\n",
       "                                                 PLACE  \\\n",
       "145                                        Edmonton AB   \n",
       "148                 Rock Creek and Henderson Corner YT   \n",
       "149                   Kelowna, Kamloops and Cariboo BC   \n",
       "151     Saint John, Miramichi and Restigouche River NB   \n",
       "153  Roseau River First Nation, Sioux Falls, Peguis...   \n",
       "\n",
       "           EVENT START DATE  \\\n",
       "145  18/07/2009 12:00:00 AM   \n",
       "148  01/05/2009 12:00:00 AM   \n",
       "149  01/05/2009 12:00:00 AM   \n",
       "151  05/04/2009 12:00:00 AM   \n",
       "153  24/03/2009 12:00:00 AM   \n",
       "\n",
       "                                              COMMENTS  FATALITIES  \\\n",
       "145  Edmonton AB, July 18, 2009.  A cold front mixe...         0.0   \n",
       "148  Rock Creek and Henderson Corner YT, May 1, 200...         0.0   \n",
       "149  Kelowna, Kamloops and Cariboo BC, May 1 to Aug...         1.0   \n",
       "151  Saint John, Miramichi and Restigouche River NB...         0.0   \n",
       "153  Roseau River First Nation, Sioux Falls, Peguis...         0.0   \n",
       "\n",
       "     INJURED / INFECTED  EVACUATED  ESTIMATED TOTAL COST  \\\n",
       "145                 0.0        0.0             4500000.0   \n",
       "148                 0.0       28.0              459130.0   \n",
       "149                 0.0    20000.0            98743529.0   \n",
       "151                 0.0        0.0             2000000.0   \n",
       "153                 0.0     3000.0            76506000.0   \n",
       "\n",
       "     NORMALIZED TOTAL COST          EVENT END DATE  FEDERAL DFAA PAYMENTS  \\\n",
       "145               236014.0  18/07/2009 12:00:00 AM               400000.0   \n",
       "148                24080.2  01/05/2009 12:00:00 AM                59130.0   \n",
       "149              5178856.4  31/08/2009 12:00:00 AM             81743529.0   \n",
       "151               104895.1  04/05/2009 12:00:00 AM               626000.0   \n",
       "153              4012552.4  21/05/2009 12:00:00 AM             70006000.0   \n",
       "\n",
       "     PROVINCIAL DFAA PAYMENTS  UTILITY - PEOPLE AFFECTED  MAGNITUDE  \n",
       "145                 4100000.0                        0.0        0.0  \n",
       "148                  400000.0                        0.0        0.0  \n",
       "149                17000000.0                        0.0        0.0  \n",
       "151                 1374000.0                        0.0        0.0  \n",
       "153                 6500000.0                        0.0        0.0  "
      ]
     },
     "execution_count": 9,
     "metadata": {},
     "output_type": "execute_result"
    }
   ],
   "source": [
    "data.head()"
   ]
  },
  {
   "cell_type": "code",
   "execution_count": 10,
   "metadata": {},
   "outputs": [
    {
     "data": {
      "text/plain": [
       "(158, 17)"
      ]
     },
     "execution_count": 10,
     "metadata": {},
     "output_type": "execute_result"
    }
   ],
   "source": [
    "data.shape"
   ]
  },
  {
   "cell_type": "markdown",
   "metadata": {},
   "source": [
    "1. Print the correlation matrix"
   ]
  },
  {
   "cell_type": "code",
   "execution_count": 11,
   "metadata": {},
   "outputs": [
    {
     "data": {
      "text/html": [
       "<div>\n",
       "<style scoped>\n",
       "    .dataframe tbody tr th:only-of-type {\n",
       "        vertical-align: middle;\n",
       "    }\n",
       "\n",
       "    .dataframe tbody tr th {\n",
       "        vertical-align: top;\n",
       "    }\n",
       "\n",
       "    .dataframe thead th {\n",
       "        text-align: right;\n",
       "    }\n",
       "</style>\n",
       "<table border=\"1\" class=\"dataframe\">\n",
       "  <thead>\n",
       "    <tr style=\"text-align: right;\">\n",
       "      <th></th>\n",
       "      <th>FATALITIES</th>\n",
       "      <th>INJURED / INFECTED</th>\n",
       "      <th>EVACUATED</th>\n",
       "      <th>ESTIMATED TOTAL COST</th>\n",
       "      <th>NORMALIZED TOTAL COST</th>\n",
       "      <th>FEDERAL DFAA PAYMENTS</th>\n",
       "      <th>PROVINCIAL DFAA PAYMENTS</th>\n",
       "      <th>UTILITY - PEOPLE AFFECTED</th>\n",
       "      <th>MAGNITUDE</th>\n",
       "    </tr>\n",
       "  </thead>\n",
       "  <tbody>\n",
       "    <tr>\n",
       "      <td>FATALITIES</td>\n",
       "      <td>1.000000</td>\n",
       "      <td>0.154559</td>\n",
       "      <td>0.025900</td>\n",
       "      <td>0.116611</td>\n",
       "      <td>0.116749</td>\n",
       "      <td>0.105258</td>\n",
       "      <td>0.014237</td>\n",
       "      <td>0.063358</td>\n",
       "      <td>-0.011128</td>\n",
       "    </tr>\n",
       "    <tr>\n",
       "      <td>INJURED / INFECTED</td>\n",
       "      <td>0.154559</td>\n",
       "      <td>1.000000</td>\n",
       "      <td>0.288381</td>\n",
       "      <td>0.778928</td>\n",
       "      <td>0.786722</td>\n",
       "      <td>0.729570</td>\n",
       "      <td>0.445680</td>\n",
       "      <td>0.523244</td>\n",
       "      <td>-0.011388</td>\n",
       "    </tr>\n",
       "    <tr>\n",
       "      <td>EVACUATED</td>\n",
       "      <td>0.025900</td>\n",
       "      <td>0.288381</td>\n",
       "      <td>1.000000</td>\n",
       "      <td>0.426506</td>\n",
       "      <td>0.427232</td>\n",
       "      <td>0.560583</td>\n",
       "      <td>0.501299</td>\n",
       "      <td>0.164767</td>\n",
       "      <td>-0.020269</td>\n",
       "    </tr>\n",
       "    <tr>\n",
       "      <td>ESTIMATED TOTAL COST</td>\n",
       "      <td>0.116611</td>\n",
       "      <td>0.778928</td>\n",
       "      <td>0.426506</td>\n",
       "      <td>1.000000</td>\n",
       "      <td>0.999627</td>\n",
       "      <td>0.971729</td>\n",
       "      <td>0.578877</td>\n",
       "      <td>0.487640</td>\n",
       "      <td>-0.002848</td>\n",
       "    </tr>\n",
       "    <tr>\n",
       "      <td>NORMALIZED TOTAL COST</td>\n",
       "      <td>0.116749</td>\n",
       "      <td>0.786722</td>\n",
       "      <td>0.427232</td>\n",
       "      <td>0.999627</td>\n",
       "      <td>1.000000</td>\n",
       "      <td>0.970622</td>\n",
       "      <td>0.585093</td>\n",
       "      <td>0.489288</td>\n",
       "      <td>-0.001560</td>\n",
       "    </tr>\n",
       "    <tr>\n",
       "      <td>FEDERAL DFAA PAYMENTS</td>\n",
       "      <td>0.105258</td>\n",
       "      <td>0.729570</td>\n",
       "      <td>0.560583</td>\n",
       "      <td>0.971729</td>\n",
       "      <td>0.970622</td>\n",
       "      <td>1.000000</td>\n",
       "      <td>0.645478</td>\n",
       "      <td>0.457061</td>\n",
       "      <td>0.016354</td>\n",
       "    </tr>\n",
       "    <tr>\n",
       "      <td>PROVINCIAL DFAA PAYMENTS</td>\n",
       "      <td>0.014237</td>\n",
       "      <td>0.445680</td>\n",
       "      <td>0.501299</td>\n",
       "      <td>0.578877</td>\n",
       "      <td>0.585093</td>\n",
       "      <td>0.645478</td>\n",
       "      <td>1.000000</td>\n",
       "      <td>0.221906</td>\n",
       "      <td>0.181374</td>\n",
       "    </tr>\n",
       "    <tr>\n",
       "      <td>UTILITY - PEOPLE AFFECTED</td>\n",
       "      <td>0.063358</td>\n",
       "      <td>0.523244</td>\n",
       "      <td>0.164767</td>\n",
       "      <td>0.487640</td>\n",
       "      <td>0.489288</td>\n",
       "      <td>0.457061</td>\n",
       "      <td>0.221906</td>\n",
       "      <td>1.000000</td>\n",
       "      <td>-0.010951</td>\n",
       "    </tr>\n",
       "    <tr>\n",
       "      <td>MAGNITUDE</td>\n",
       "      <td>-0.011128</td>\n",
       "      <td>-0.011388</td>\n",
       "      <td>-0.020269</td>\n",
       "      <td>-0.002848</td>\n",
       "      <td>-0.001560</td>\n",
       "      <td>0.016354</td>\n",
       "      <td>0.181374</td>\n",
       "      <td>-0.010951</td>\n",
       "      <td>1.000000</td>\n",
       "    </tr>\n",
       "  </tbody>\n",
       "</table>\n",
       "</div>"
      ],
      "text/plain": [
       "                           FATALITIES  INJURED / INFECTED  EVACUATED  \\\n",
       "FATALITIES                   1.000000            0.154559   0.025900   \n",
       "INJURED / INFECTED           0.154559            1.000000   0.288381   \n",
       "EVACUATED                    0.025900            0.288381   1.000000   \n",
       "ESTIMATED TOTAL COST         0.116611            0.778928   0.426506   \n",
       "NORMALIZED TOTAL COST        0.116749            0.786722   0.427232   \n",
       "FEDERAL DFAA PAYMENTS        0.105258            0.729570   0.560583   \n",
       "PROVINCIAL DFAA PAYMENTS     0.014237            0.445680   0.501299   \n",
       "UTILITY - PEOPLE AFFECTED    0.063358            0.523244   0.164767   \n",
       "MAGNITUDE                   -0.011128           -0.011388  -0.020269   \n",
       "\n",
       "                           ESTIMATED TOTAL COST  NORMALIZED TOTAL COST  \\\n",
       "FATALITIES                             0.116611               0.116749   \n",
       "INJURED / INFECTED                     0.778928               0.786722   \n",
       "EVACUATED                              0.426506               0.427232   \n",
       "ESTIMATED TOTAL COST                   1.000000               0.999627   \n",
       "NORMALIZED TOTAL COST                  0.999627               1.000000   \n",
       "FEDERAL DFAA PAYMENTS                  0.971729               0.970622   \n",
       "PROVINCIAL DFAA PAYMENTS               0.578877               0.585093   \n",
       "UTILITY - PEOPLE AFFECTED              0.487640               0.489288   \n",
       "MAGNITUDE                             -0.002848              -0.001560   \n",
       "\n",
       "                           FEDERAL DFAA PAYMENTS  PROVINCIAL DFAA PAYMENTS  \\\n",
       "FATALITIES                              0.105258                  0.014237   \n",
       "INJURED / INFECTED                      0.729570                  0.445680   \n",
       "EVACUATED                               0.560583                  0.501299   \n",
       "ESTIMATED TOTAL COST                    0.971729                  0.578877   \n",
       "NORMALIZED TOTAL COST                   0.970622                  0.585093   \n",
       "FEDERAL DFAA PAYMENTS                   1.000000                  0.645478   \n",
       "PROVINCIAL DFAA PAYMENTS                0.645478                  1.000000   \n",
       "UTILITY - PEOPLE AFFECTED               0.457061                  0.221906   \n",
       "MAGNITUDE                               0.016354                  0.181374   \n",
       "\n",
       "                           UTILITY - PEOPLE AFFECTED  MAGNITUDE  \n",
       "FATALITIES                                  0.063358  -0.011128  \n",
       "INJURED / INFECTED                          0.523244  -0.011388  \n",
       "EVACUATED                                   0.164767  -0.020269  \n",
       "ESTIMATED TOTAL COST                        0.487640  -0.002848  \n",
       "NORMALIZED TOTAL COST                       0.489288  -0.001560  \n",
       "FEDERAL DFAA PAYMENTS                       0.457061   0.016354  \n",
       "PROVINCIAL DFAA PAYMENTS                    0.221906   0.181374  \n",
       "UTILITY - PEOPLE AFFECTED                   1.000000  -0.010951  \n",
       "MAGNITUDE                                  -0.010951   1.000000  "
      ]
     },
     "execution_count": 11,
     "metadata": {},
     "output_type": "execute_result"
    }
   ],
   "source": [
    "data.corr()"
   ]
  },
  {
   "cell_type": "markdown",
   "metadata": {},
   "source": [
    "2. Print a heat map of this correlation matrix (hint: use seaborn.heatmap())"
   ]
  },
  {
   "cell_type": "code",
   "execution_count": 12,
   "metadata": {},
   "outputs": [
    {
     "data": {
      "text/plain": [
       "<matplotlib.axes._subplots.AxesSubplot at 0x27eee2692c8>"
      ]
     },
     "execution_count": 12,
     "metadata": {},
     "output_type": "execute_result"
    },
    {
     "data": {
      "image/png": "[encoded data removed]",
      "text/plain": [
       "<Figure size 720x360 with 2 Axes>"
      ]
     },
     "metadata": {
      "needs_background": "light"
     },
     "output_type": "display_data"
    }
   ],
   "source": [
    "plt.figure(figsize=(10,5))\n",
    "\n",
    "sns.heatmap(data.corr(), annot=True)"
   ]
  },
  {
   "cell_type": "markdown",
   "metadata": {},
   "source": [
    "3. Find 3 pairs of columns, one pair that is highly positively correlated, one for which the correlation is almost zero and one pair that is negatively correlated. In each case write down an explanation why we see this correlation"
   ]
  },
  {
   "cell_type": "code",
   "execution_count": 14,
   "metadata": {},
   "outputs": [
    {
     "data": {
      "text/plain": [
       "0.9717290336234283"
      ]
     },
     "execution_count": 14,
     "metadata": {},
     "output_type": "execute_result"
    }
   ],
   "source": [
    "\"\"\"\n",
    "Highly positively correlated: ESTIMATED TOTAL COST and FEDERAL DFAA PAYMENTS\n",
    "\n",
    "Estimated Total Cost: all the costs listed within the financial data fields for a specific event.\n",
    "FEDERAL DFAA Payments: The amount, paid out by Disaster Financial Assistance Arrangements (Public Safety Canada) due to a specific event\n",
    "\n",
    "Explanation: the higher the amount paid out by Disaster Financial Assistance, the higher will be the total costs listed\n",
    "within the financial data fields\n",
    "\"\"\"\n",
    "\n",
    "data['ESTIMATED TOTAL COST'].corr(data['FEDERAL DFAA PAYMENTS'])"
   ]
  },
  {
   "cell_type": "code",
   "execution_count": 16,
   "metadata": {},
   "outputs": [
    {
     "data": {
      "text/plain": [
       "0.014237266410465488"
      ]
     },
     "execution_count": 16,
     "metadata": {},
     "output_type": "execute_result"
    }
   ],
   "source": [
    "\"\"\"\n",
    "Correlation almost zero: PROVINCIAL DFAA PAYMENTS and FATALITIES\n",
    "\n",
    "PROVINCIAL DFAA PAYMENTS: The amount, in dollars, paid out by a Province or Territory due to a specific event.\n",
    "Fatalities: The number of people killed due to a specific event\n",
    "\n",
    "Explanation: no correlation was found between the number of fatalities and the amount paid by the Province\n",
    "\"\"\"\n",
    "\n",
    "data['PROVINCIAL DFAA PAYMENTS'].corr(data['FATALITIES'])"
   ]
  },
  {
   "cell_type": "code",
   "execution_count": 18,
   "metadata": {},
   "outputs": [
    {
     "data": {
      "text/plain": [
       "-0.020268674984314217"
      ]
     },
     "execution_count": 18,
     "metadata": {},
     "output_type": "execute_result"
    }
   ],
   "source": [
    "\"\"\"\n",
    "Negative correlation: EVACUATED and MAGNITUDE\n",
    "\n",
    "Evacuated: The number of individuals evacuated by the government of Canada due to a specific event.\n",
    "Magnitude: A measure of the size of an earthquake, related to the amount of energy released.\n",
    "\n",
    "Explanation: as the size of the earthquake increases, the number of individuals evacuated decreases\n",
    "\"\"\"\n",
    "\n",
    "data['EVACUATED'].corr(data['MAGNITUDE'])"
   ]
  },
  {
   "cell_type": "markdown",
   "metadata": {},
   "source": [
    "4. Look up the pairplot function in Seaborn. Use it to plot the pairwise relations between the six columns you selected. Does what you see confirm your ideas? Describe in a comment."
   ]
  },
  {
   "cell_type": "code",
   "execution_count": 19,
   "metadata": {},
   "outputs": [],
   "source": [
    "data_high_correlation = data[['ESTIMATED TOTAL COST', 'FEDERAL DFAA PAYMENTS',]]"
   ]
  },
  {
   "cell_type": "code",
   "execution_count": 20,
   "metadata": {},
   "outputs": [
    {
     "data": {
      "text/plain": [
       "<seaborn.axisgrid.PairGrid at 0x27eef796ac8>"
      ]
     },
     "execution_count": 20,
     "metadata": {},
     "output_type": "execute_result"
    },
    {
     "data": {
      "image/png": "[encoded data removed]",
      "text/plain": [
       "<Figure size 360x360 with 6 Axes>"
      ]
     },
     "metadata": {
      "needs_background": "light"
     },
     "output_type": "display_data"
    }
   ],
   "source": [
    "sns.pairplot(data_high_correlation, kind=\"reg\")"
   ]
  },
  {
   "cell_type": "code",
   "execution_count": 21,
   "metadata": {},
   "outputs": [],
   "source": [
    "data_zero_correlation = data[['PROVINCIAL DFAA PAYMENTS', 'FATALITIES',]]"
   ]
  },
  {
   "cell_type": "code",
   "execution_count": 22,
   "metadata": {},
   "outputs": [
    {
     "data": {
      "text/plain": [
       "<seaborn.axisgrid.PairGrid at 0x27eef75cb48>"
      ]
     },
     "execution_count": 22,
     "metadata": {},
     "output_type": "execute_result"
    },
    {
     "data": {
      "image/png": "[encoded data removed]",
      "text/plain": [
       "<Figure size 360x360 with 6 Axes>"
      ]
     },
     "metadata": {
      "needs_background": "light"
     },
     "output_type": "display_data"
    }
   ],
   "source": [
    "sns.pairplot(data_zero_correlation, kind=\"reg\")"
   ]
  },
  {
   "cell_type": "code",
   "execution_count": 23,
   "metadata": {},
   "outputs": [],
   "source": [
    "data_negative_correlation = data[['EVACUATED', 'MAGNITUDE',]]"
   ]
  },
  {
   "cell_type": "code",
   "execution_count": 24,
   "metadata": {},
   "outputs": [
    {
     "data": {
      "text/plain": [
       "<seaborn.axisgrid.PairGrid at 0x27ef0182cc8>"
      ]
     },
     "execution_count": 24,
     "metadata": {},
     "output_type": "execute_result"
    },
    {
     "data": {
      "image/png": "[encoded data removed]",
      "text/plain": [
       "<Figure size 360x360 with 6 Axes>"
      ]
     },
     "metadata": {
      "needs_background": "light"
     },
     "output_type": "display_data"
    }
   ],
   "source": [
    "sns.pairplot(data_negative_correlation, kind=\"reg\")"
   ]
  }
 ],
 "metadata": {
  "kernelspec": {
   "display_name": "Python 3",
   "language": "python",
   "name": "python3"
  },
  "language_info": {
   "codemirror_mode": {
    "name": "ipython",
    "version": 3
   },
   "file_extension": ".py",
   "mimetype": "text/x-python",
   "name": "python",
   "nbconvert_exporter": "python",
   "pygments_lexer": "ipython3",
   "version": "3.7.4"
  }
 },
 "nbformat": 4,
 "nbformat_minor": 2
}

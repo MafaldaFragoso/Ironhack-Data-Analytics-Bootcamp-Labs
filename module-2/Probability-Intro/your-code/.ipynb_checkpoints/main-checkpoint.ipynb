{
 "cells": [
  {
   "cell_type": "markdown",
   "metadata": {},
   "source": [
    "# Introduction To Probability\n",
    "## Challenge 1\n",
    "\n",
    "A and B are events of a probability space with $(\\omega, \\sigma, P)$ such that $P(A) = 0.3$, $P(B) = 0.6$ and $P(A \\cap B) = 0.1$\n",
    "\n",
    "Which of the following statements are false?\n",
    "* $P(A \\cup B) = 0.6$\n",
    "* $P(A \\cap B^{C}) = 0.2$\n",
    "* $P(A \\cap (B \\cup B^{C})) = 0.4$\n",
    "* $P(A^{C} \\cap B^{C}) = 0.3$\n",
    "* $P((A \\cap B)^{C}) = 0.9$"
   ]
  },
  {
   "cell_type": "code",
   "execution_count": 1,
   "metadata": {},
   "outputs": [
    {
     "data": {
      "text/plain": [
       "'\\n1st statement is false\\nP(A U B) = P(A) + P(B) - P(A ∩ B) = 0.3 + 0.6 - 0.1 = 0.8\\n\\n2nd statement is true\\n𝑃(𝐴 ∩ 𝐵^c) = 0.3 - 0.1 = 0.2\\n\\n3rd statement is false \\n𝑃(𝐴∩(𝐵∪𝐵^c)) = P(𝐴∩(sample space)) = P(A) = 0.3\\n\\n4th statement is false\\n𝑃(𝐴^c ∩ 𝐵^c) = (A U B)^c = 0\\n\\n5th statement is false\\n𝑃((𝐴∩𝐵)^𝐶) = 0.7\\n\\n'"
      ]
     },
     "execution_count": 1,
     "metadata": {},
     "output_type": "execute_result"
    }
   ],
   "source": [
    "\"\"\"\n",
    "1st statement is false\n",
    "P(A U B) = P(A) + P(B) - P(A ∩ B) = 0.3 + 0.6 - 0.1 = 0.8\n",
    "\n",
    "2nd statement is true\n",
    "𝑃(𝐴 ∩ 𝐵^c) = 0.3 - 0.1 = 0.2\n",
    "\n",
    "3rd statement is false \n",
    "𝑃(𝐴∩(𝐵∪𝐵^c)) = P(𝐴∩(sample space)) = P(A) = 0.3\n",
    "\n",
    "4th statement is false\n",
    "𝑃(𝐴^c ∩ 𝐵^c) = (A U B)^c = 0\n",
    "\n",
    "5th statement is false\n",
    "𝑃((𝐴∩𝐵)^𝐶) = 0.7\n",
    "\n",
    "\"\"\""
   ]
  },
  {
   "cell_type": "markdown",
   "metadata": {},
   "source": [
    "## Challenge 2\n",
    "There is a box with 10 white balls, 12 red balls and 8 black balls. Calculate the probability of:\n",
    "* Taking a white ball out.\n",
    "* Taking a white ball out after taking a black ball out.\n",
    "* Taking a red ball out after taking a black and a red ball out.\n",
    "* Taking a red ball out after taking a black and a red ball out with reposition.\n",
    "\n",
    "**Hint**: Reposition means putting back the ball into the box after taking it out."
   ]
  },
  {
   "cell_type": "code",
   "execution_count": 2,
   "metadata": {},
   "outputs": [
    {
     "data": {
      "text/plain": [
       "'\\n\\nP(taking a white ball out) = 10/20 = 0.5\\nP(taking a white ball | taking a black ball) = P(A ∩ B) / P(B) = (10/19 * 8/20) / (8/20) = 0.526\\nP(taking a red ball | (taking a black ball and red ball)) = P(A ∩ B) / P(B) = (12/18 * (12/20*8/19)) / (12/20*8/19) = 0.666\\nP(taking a red ball | (taking a black ball and red ball)) = = P(A ∩ B) / P(B) = (12/20 * (12/20*8/20)) / (12/20*8/20) = 0.6\\n\\n'"
      ]
     },
     "execution_count": 2,
     "metadata": {},
     "output_type": "execute_result"
    }
   ],
   "source": [
    "\"\"\"\n",
    "\n",
    "P(taking a white ball out) = 10/20 = 0.5\n",
    "P(taking a white ball | taking a black ball) = P(A ∩ B) / P(B) = (10/19 * 8/20) / (8/20) = 0.526\n",
    "P(taking a red ball | (taking a black ball and red ball)) = P(A ∩ B) / P(B) = (12/18 * (12/20*8/19)) / (12/20*8/19) = 0.666\n",
    "P(taking a red ball | (taking a black ball and red ball)) = = P(A ∩ B) / P(B) = (12/20 * (12/20*8/20)) / (12/20*8/20) = 0.6\n",
    "\n",
    "\"\"\""
   ]
  },
  {
   "cell_type": "markdown",
   "metadata": {},
   "source": [
    "## Challenge 3\n",
    "\n",
    "You are planning to go on a picnic today but the morning is cloudy. You hate rain so you don't know whether to go out or stay home! To help you make a decision, you gather the following data about rainy days:\n",
    "\n",
    "* 50% of all rainy days start off cloudy!\n",
    "* Cloudy mornings are common. About 40% of days start cloudy. \n",
    "* This month is usually dry so only 3 of 30 days (10%) tend to be rainy. \n",
    "\n",
    "What is the chance of rain during the day?"
   ]
  },
  {
   "cell_type": "code",
   "execution_count": null,
   "metadata": {},
   "outputs": [],
   "source": [
    "\"\"\"\n",
    "\n",
    "\"\"\""
   ]
  },
  {
   "cell_type": "markdown",
   "metadata": {},
   "source": [
    "## Challenge 4\n",
    "\n",
    "One thousand people were asked through a telephone survey whether they thought more street lighting is needed at night or not.\n",
    "\n",
    "Out of the 480 men that answered the survey, 324 said yes and 156 said no. On the other hand, out of the 520 women that answered, 351 said yes and 169 said no. \n",
    "\n",
    "We wonder if men and women have a different opinions about the street lighting matter. Is gender relevant or irrelevant to the question?\n",
    "\n",
    "Consider the following events:\n",
    "- The answer is yes, so the person that answered thinks that more street lighting is needed.\n",
    "- The person who answered is a man.\n",
    "\n",
    "We want to know if these events are independent, that is, if the fact of wanting more light depends on whether one is male or female. Are these events independent or not?\n",
    "\n",
    "**Hint**: To clearly compare the answers by gender, it is best to place the data in a table."
   ]
  },
  {
   "cell_type": "code",
   "execution_count": 24,
   "metadata": {},
   "outputs": [],
   "source": [
    "import pandas as pd\n",
    "\n",
    "d = {'Answer': ['Yes', 'No'], 'Man': [324, 156], 'Women': [351, 169]}\n",
    "df = pd.DataFrame(data=d)\n",
    "df.set_index('Answer', inplace=True)"
   ]
  },
  {
   "cell_type": "code",
   "execution_count": 25,
   "metadata": {},
   "outputs": [
    {
     "data": {
      "text/html": [
       "<div>\n",
       "<style scoped>\n",
       "    .dataframe tbody tr th:only-of-type {\n",
       "        vertical-align: middle;\n",
       "    }\n",
       "\n",
       "    .dataframe tbody tr th {\n",
       "        vertical-align: top;\n",
       "    }\n",
       "\n",
       "    .dataframe thead th {\n",
       "        text-align: right;\n",
       "    }\n",
       "</style>\n",
       "<table border=\"1\" class=\"dataframe\">\n",
       "  <thead>\n",
       "    <tr style=\"text-align: right;\">\n",
       "      <th></th>\n",
       "      <th>Man</th>\n",
       "      <th>Women</th>\n",
       "      <th>sum</th>\n",
       "    </tr>\n",
       "    <tr>\n",
       "      <th>Answer</th>\n",
       "      <th></th>\n",
       "      <th></th>\n",
       "      <th></th>\n",
       "    </tr>\n",
       "  </thead>\n",
       "  <tbody>\n",
       "    <tr>\n",
       "      <td>Yes</td>\n",
       "      <td>324</td>\n",
       "      <td>351</td>\n",
       "      <td>675</td>\n",
       "    </tr>\n",
       "    <tr>\n",
       "      <td>No</td>\n",
       "      <td>156</td>\n",
       "      <td>169</td>\n",
       "      <td>325</td>\n",
       "    </tr>\n",
       "  </tbody>\n",
       "</table>\n",
       "</div>"
      ],
      "text/plain": [
       "        Man  Women  sum\n",
       "Answer                 \n",
       "Yes     324    351  675\n",
       "No      156    169  325"
      ]
     },
     "execution_count": 25,
     "metadata": {},
     "output_type": "execute_result"
    }
   ],
   "source": [
    "df[\"sum\"] = df.sum(axis=1)\n",
    "df"
   ]
  },
  {
   "cell_type": "code",
   "execution_count": 28,
   "metadata": {},
   "outputs": [
    {
     "data": {
      "text/plain": [
       "0.831"
      ]
     },
     "execution_count": 28,
     "metadata": {},
     "output_type": "execute_result"
    }
   ],
   "source": [
    "# probability of saying yes given that is a man\n",
    "\n",
    "Prob_yes_man = (df['sum'][0] / df['sum'].sum()) + (df['Man'].sum() / df['sum'].sum()) - (df['Man'][0] / df['sum'].sum())\n",
    "Prob_yes_man"
   ]
  },
  {
   "cell_type": "code",
   "execution_count": 35,
   "metadata": {},
   "outputs": [
    {
     "data": {
      "text/plain": [
       "0.8440000000000001"
      ]
     },
     "execution_count": 35,
     "metadata": {},
     "output_type": "execute_result"
    }
   ],
   "source": [
    "# probability of saying yes given that is a woman\n",
    "\n",
    "Prob_yes_woman = (df['sum'][0] / df['sum'].sum()) + (df['Women'].sum() / df['sum'].sum()) - (df['Women'][0] / df['sum'].sum())\n",
    "Prob_yes_woman"
   ]
  },
  {
   "cell_type": "code",
   "execution_count": 31,
   "metadata": {},
   "outputs": [
    {
     "data": {
      "text/plain": [
       "0.675"
      ]
     },
     "execution_count": 31,
     "metadata": {},
     "output_type": "execute_result"
    }
   ],
   "source": [
    "# probability of saying yes\n",
    "\n",
    "prob_yes = (df['sum'][0] / df['sum'].sum())\n",
    "prob_yes"
   ]
  },
  {
   "cell_type": "code",
   "execution_count": 33,
   "metadata": {},
   "outputs": [
    {
     "name": "stdout",
     "output_type": "stream",
     "text": [
      "The events are not independent\n"
     ]
    }
   ],
   "source": [
    "#testing for independence\n",
    "\n",
    "#P(yes|man) = P(man)\n",
    "\n",
    "if Prob_yes_man == (df['Man'].sum() / df['sum'].sum()):\n",
    "    print(\"The events are independent\")\n",
    "else:\n",
    "    print(\"The events are not independent\")\n"
   ]
  }
 ],
 "metadata": {
  "kernelspec": {
   "display_name": "Python 3",
   "language": "python",
   "name": "python3"
  },
  "language_info": {
   "codemirror_mode": {
    "name": "ipython",
    "version": 3
   },
   "file_extension": ".py",
   "mimetype": "text/x-python",
   "name": "python",
   "nbconvert_exporter": "python",
   "pygments_lexer": "ipython3",
   "version": "3.7.4"
  }
 },
 "nbformat": 4,
 "nbformat_minor": 2
}

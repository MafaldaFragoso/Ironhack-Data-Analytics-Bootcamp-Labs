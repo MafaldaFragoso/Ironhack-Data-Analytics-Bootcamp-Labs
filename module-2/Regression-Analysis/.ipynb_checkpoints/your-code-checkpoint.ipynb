{
 "cells": [
  {
   "cell_type": "markdown",
   "metadata": {},
   "source": [
    "# Lab: Regression Analysis"
   ]
  },
  {
   "cell_type": "markdown",
   "metadata": {},
   "source": [
    "### Before you start:\n",
    "\n",
    "* Read the README.md file\n",
    "* Comment as much as you can and use the resources (README.md file) \n",
    "\n",
    "Happy learning!"
   ]
  },
  {
   "cell_type": "markdown",
   "metadata": {},
   "source": [
    "## Challenge 1\n",
    "I work at a coding bootcamp, and I have developed a theory that the younger my students are, the more often they are late to class. In order to test my hypothesis, I have collected some data in the following table:\n",
    "\n",
    "| StudentID | Age | Tardies |\n",
    "|--------|-----|------------|\n",
    "| 1      | 17  | 10         |\n",
    "| 2      | 51  | 1          |\n",
    "| 3      | 27  | 5          |\n",
    "| 4      | 21  | 9         |\n",
    "| 5      | 36  |  4         |\n",
    "| 6      | 48  |  2         |\n",
    "| 7      | 19  |  9         |\n",
    "| 8      | 26  | 6          |\n",
    "| 9      | 54  |  0         |\n",
    "| 10     | 30  |  3         |"
   ]
  },
  {
   "cell_type": "markdown",
   "metadata": {},
   "source": [
    "Use this command to create a dataframe with the data provided in the table. \n",
    "~~~~\n",
    "student_data = pd.DataFrame({'X': [x_values], 'Y': [y_values]})\n",
    "~~~~"
   ]
  },
  {
   "cell_type": "code",
   "execution_count": 68,
   "metadata": {},
   "outputs": [],
   "source": [
    "import numpy as np\n",
    "import pandas as pd\n",
    "import seaborn as sns\n",
    "from scipy import stats\n",
    "from sklearn.linear_model import LinearRegression\n",
    "import statsmodels.api as sm"
   ]
  },
  {
   "cell_type": "code",
   "execution_count": 69,
   "metadata": {},
   "outputs": [
    {
     "data": {
      "text/html": [
       "<div>\n",
       "<style scoped>\n",
       "    .dataframe tbody tr th:only-of-type {\n",
       "        vertical-align: middle;\n",
       "    }\n",
       "\n",
       "    .dataframe tbody tr th {\n",
       "        vertical-align: top;\n",
       "    }\n",
       "\n",
       "    .dataframe thead th {\n",
       "        text-align: right;\n",
       "    }\n",
       "</style>\n",
       "<table border=\"1\" class=\"dataframe\">\n",
       "  <thead>\n",
       "    <tr style=\"text-align: right;\">\n",
       "      <th></th>\n",
       "      <th>Age</th>\n",
       "      <th>Tardies</th>\n",
       "    </tr>\n",
       "  </thead>\n",
       "  <tbody>\n",
       "    <tr>\n",
       "      <td>0</td>\n",
       "      <td>17</td>\n",
       "      <td>10</td>\n",
       "    </tr>\n",
       "    <tr>\n",
       "      <td>1</td>\n",
       "      <td>51</td>\n",
       "      <td>1</td>\n",
       "    </tr>\n",
       "    <tr>\n",
       "      <td>2</td>\n",
       "      <td>27</td>\n",
       "      <td>5</td>\n",
       "    </tr>\n",
       "    <tr>\n",
       "      <td>3</td>\n",
       "      <td>21</td>\n",
       "      <td>9</td>\n",
       "    </tr>\n",
       "    <tr>\n",
       "      <td>4</td>\n",
       "      <td>36</td>\n",
       "      <td>4</td>\n",
       "    </tr>\n",
       "    <tr>\n",
       "      <td>5</td>\n",
       "      <td>48</td>\n",
       "      <td>2</td>\n",
       "    </tr>\n",
       "    <tr>\n",
       "      <td>6</td>\n",
       "      <td>19</td>\n",
       "      <td>9</td>\n",
       "    </tr>\n",
       "    <tr>\n",
       "      <td>7</td>\n",
       "      <td>26</td>\n",
       "      <td>6</td>\n",
       "    </tr>\n",
       "    <tr>\n",
       "      <td>8</td>\n",
       "      <td>54</td>\n",
       "      <td>0</td>\n",
       "    </tr>\n",
       "    <tr>\n",
       "      <td>9</td>\n",
       "      <td>30</td>\n",
       "      <td>3</td>\n",
       "    </tr>\n",
       "  </tbody>\n",
       "</table>\n",
       "</div>"
      ],
      "text/plain": [
       "   Age  Tardies\n",
       "0   17       10\n",
       "1   51        1\n",
       "2   27        5\n",
       "3   21        9\n",
       "4   36        4\n",
       "5   48        2\n",
       "6   19        9\n",
       "7   26        6\n",
       "8   54        0\n",
       "9   30        3"
      ]
     },
     "execution_count": 69,
     "metadata": {},
     "output_type": "execute_result"
    }
   ],
   "source": [
    "data = {'Age':[17, 51, 27, 21, 36, 48, 19, 26, 54, 30], 'Tardies':[10, 1, 5, 9, 4, 2, 9, 6, 0, 3]}\n",
    "df = pd.DataFrame(data)\n",
    "df"
   ]
  },
  {
   "cell_type": "markdown",
   "metadata": {},
   "source": [
    "Draw a dispersion diagram (scatter plot) for the data."
   ]
  },
  {
   "cell_type": "code",
   "execution_count": 70,
   "metadata": {},
   "outputs": [
    {
     "data": {
      "text/plain": [
       "<seaborn.axisgrid.PairGrid at 0x26073e68308>"
      ]
     },
     "execution_count": 70,
     "metadata": {},
     "output_type": "execute_result"
    },
    {
     "data": {
      "image/png": "[encoded data removed]",
      "text/plain": [
       "<Figure size 180x180 with 1 Axes>"
      ]
     },
     "metadata": {
      "needs_background": "light"
     },
     "output_type": "display_data"
    }
   ],
   "source": [
    "# Y'dependent variable: tardies\n",
    "# X'independent variable': age\n",
    "\n",
    "sns.pairplot(df, x_vars=[\"Age\"], y_vars=[\"Tardies\"])"
   ]
  },
  {
   "cell_type": "markdown",
   "metadata": {},
   "source": [
    "Do you see a trend? Can you make any hypotheses about the relationship between age and number of tardies?"
   ]
  },
  {
   "cell_type": "code",
   "execution_count": 71,
   "metadata": {},
   "outputs": [],
   "source": [
    "# Yes, there is a trend. The younger the students are, the more often they are late to class. "
   ]
  },
  {
   "cell_type": "markdown",
   "metadata": {},
   "source": [
    "Calculate the covariance and correlation of the variables in your plot. What is the difference between these two measures? Compare their values. What do they tell you in this case? Add your responses as comments after your code."
   ]
  },
  {
   "cell_type": "code",
   "execution_count": 72,
   "metadata": {},
   "outputs": [
    {
     "name": "stdout",
     "output_type": "stream",
     "text": [
      "Covariance:  -45.56666666666666\n",
      "Correlation:  -0.9391626886887122\n"
     ]
    }
   ],
   "source": [
    "covariance = df['Age'].cov(df['Tardies'])\n",
    "correlation = df['Age'].corr(df['Tardies'])\n",
    "\n",
    "print(\"Covariance: \", covariance)\n",
    "print(\"Correlation: \", correlation)\n",
    "\n",
    "\n",
    "#Covariance indicates the direction of the linear relationship between variables. \n",
    "#Correlation measures both the strength and direction of the linear relationship between two variables"
   ]
  },
  {
   "cell_type": "markdown",
   "metadata": {},
   "source": [
    "Build a regression model for this data. What will be your outcome variable? What type of regression are you using? Add your responses as comments after your code."
   ]
  },
  {
   "cell_type": "code",
   "execution_count": 76,
   "metadata": {},
   "outputs": [
    {
     "name": "stdout",
     "output_type": "stream",
     "text": [
      "The slope is: -0.2428207709159808\n",
      "The intercept is: 12.888803363135768\n",
      "Equation line: Y = -0.2428207709159808X + 12.888803363135768\n"
     ]
    }
   ],
   "source": [
    "# LINEAR REGRESSION\n",
    "\n",
    "X = data['Age']\n",
    "Y = data['Tardies']\n",
    "slope, intercept, r_value, p_value, std_err = stats.linregress(X, Y)\n",
    "print ('The slope is: ' + str(slope))\n",
    "print ('The intercept is: ' + str(intercept))\n",
    "print ('Equation line: Y = %sX + %s' %(str(slope), str(intercept)))"
   ]
  },
  {
   "cell_type": "markdown",
   "metadata": {},
   "source": [
    "Plot your regression model on your scatter plot."
   ]
  },
  {
   "cell_type": "code",
   "execution_count": 77,
   "metadata": {},
   "outputs": [
    {
     "data": {
      "text/plain": [
       "<matplotlib.axes._subplots.AxesSubplot at 0x260740317c8>"
      ]
     },
     "execution_count": 77,
     "metadata": {},
     "output_type": "execute_result"
    },
    {
     "data": {
      "image/png": "[encoded data removed]",
      "text/plain": [
       "<Figure size 432x288 with 1 Axes>"
      ]
     },
     "metadata": {
      "needs_background": "light"
     },
     "output_type": "display_data"
    }
   ],
   "source": [
    "sns.regplot(x=\"Age\", y=\"Tardies\", data=df)"
   ]
  },
  {
   "cell_type": "markdown",
   "metadata": {},
   "source": [
    "Interpret the results of your model. What can conclusions can you draw from your model and how confident in these conclusions are you? Can we say that age is a good predictor of tardiness? Add your responses as comments after your code."
   ]
  },
  {
   "cell_type": "code",
   "execution_count": 3,
   "metadata": {},
   "outputs": [],
   "source": []
  },
  {
   "cell_type": "markdown",
   "metadata": {},
   "source": [
    "## Challenge 2\n",
    "For the second part of this lab, we will use the vehicles.csv data set. You can find a copy of the dataset in the git hub folder. This dataset includes variables related to vehicle characteristics, including the model, make, and energy efficiency standards, as well as each car's CO2 emissions. As discussed in class the goal of this exercise is to predict vehicles' CO2 emissions based on several independent variables. "
   ]
  },
  {
   "cell_type": "code",
   "execution_count": 78,
   "metadata": {},
   "outputs": [
    {
     "data": {
      "text/html": [
       "<div>\n",
       "<style scoped>\n",
       "    .dataframe tbody tr th:only-of-type {\n",
       "        vertical-align: middle;\n",
       "    }\n",
       "\n",
       "    .dataframe tbody tr th {\n",
       "        vertical-align: top;\n",
       "    }\n",
       "\n",
       "    .dataframe thead th {\n",
       "        text-align: right;\n",
       "    }\n",
       "</style>\n",
       "<table border=\"1\" class=\"dataframe\">\n",
       "  <thead>\n",
       "    <tr style=\"text-align: right;\">\n",
       "      <th></th>\n",
       "      <th>Make</th>\n",
       "      <th>Model</th>\n",
       "      <th>Year</th>\n",
       "      <th>Engine Displacement</th>\n",
       "      <th>Cylinders</th>\n",
       "      <th>Transmission</th>\n",
       "      <th>Drivetrain</th>\n",
       "      <th>Vehicle Class</th>\n",
       "      <th>Fuel Type</th>\n",
       "      <th>Fuel Barrels/Year</th>\n",
       "      <th>City MPG</th>\n",
       "      <th>Highway MPG</th>\n",
       "      <th>Combined MPG</th>\n",
       "      <th>CO2 Emission Grams/Mile</th>\n",
       "      <th>Fuel Cost/Year</th>\n",
       "    </tr>\n",
       "  </thead>\n",
       "  <tbody>\n",
       "    <tr>\n",
       "      <td>0</td>\n",
       "      <td>AM General</td>\n",
       "      <td>DJ Po Vehicle 2WD</td>\n",
       "      <td>1984</td>\n",
       "      <td>2.5</td>\n",
       "      <td>4.0</td>\n",
       "      <td>Automatic 3-spd</td>\n",
       "      <td>2-Wheel Drive</td>\n",
       "      <td>Special Purpose Vehicle 2WD</td>\n",
       "      <td>Regular</td>\n",
       "      <td>19.388824</td>\n",
       "      <td>18</td>\n",
       "      <td>17</td>\n",
       "      <td>17</td>\n",
       "      <td>522.764706</td>\n",
       "      <td>1950</td>\n",
       "    </tr>\n",
       "    <tr>\n",
       "      <td>1</td>\n",
       "      <td>AM General</td>\n",
       "      <td>FJ8c Post Office</td>\n",
       "      <td>1984</td>\n",
       "      <td>4.2</td>\n",
       "      <td>6.0</td>\n",
       "      <td>Automatic 3-spd</td>\n",
       "      <td>2-Wheel Drive</td>\n",
       "      <td>Special Purpose Vehicle 2WD</td>\n",
       "      <td>Regular</td>\n",
       "      <td>25.354615</td>\n",
       "      <td>13</td>\n",
       "      <td>13</td>\n",
       "      <td>13</td>\n",
       "      <td>683.615385</td>\n",
       "      <td>2550</td>\n",
       "    </tr>\n",
       "    <tr>\n",
       "      <td>2</td>\n",
       "      <td>AM General</td>\n",
       "      <td>Post Office DJ5 2WD</td>\n",
       "      <td>1985</td>\n",
       "      <td>2.5</td>\n",
       "      <td>4.0</td>\n",
       "      <td>Automatic 3-spd</td>\n",
       "      <td>Rear-Wheel Drive</td>\n",
       "      <td>Special Purpose Vehicle 2WD</td>\n",
       "      <td>Regular</td>\n",
       "      <td>20.600625</td>\n",
       "      <td>16</td>\n",
       "      <td>17</td>\n",
       "      <td>16</td>\n",
       "      <td>555.437500</td>\n",
       "      <td>2100</td>\n",
       "    </tr>\n",
       "    <tr>\n",
       "      <td>3</td>\n",
       "      <td>AM General</td>\n",
       "      <td>Post Office DJ8 2WD</td>\n",
       "      <td>1985</td>\n",
       "      <td>4.2</td>\n",
       "      <td>6.0</td>\n",
       "      <td>Automatic 3-spd</td>\n",
       "      <td>Rear-Wheel Drive</td>\n",
       "      <td>Special Purpose Vehicle 2WD</td>\n",
       "      <td>Regular</td>\n",
       "      <td>25.354615</td>\n",
       "      <td>13</td>\n",
       "      <td>13</td>\n",
       "      <td>13</td>\n",
       "      <td>683.615385</td>\n",
       "      <td>2550</td>\n",
       "    </tr>\n",
       "    <tr>\n",
       "      <td>4</td>\n",
       "      <td>ASC Incorporated</td>\n",
       "      <td>GNX</td>\n",
       "      <td>1987</td>\n",
       "      <td>3.8</td>\n",
       "      <td>6.0</td>\n",
       "      <td>Automatic 4-spd</td>\n",
       "      <td>Rear-Wheel Drive</td>\n",
       "      <td>Midsize Cars</td>\n",
       "      <td>Premium</td>\n",
       "      <td>20.600625</td>\n",
       "      <td>14</td>\n",
       "      <td>21</td>\n",
       "      <td>16</td>\n",
       "      <td>555.437500</td>\n",
       "      <td>2550</td>\n",
       "    </tr>\n",
       "  </tbody>\n",
       "</table>\n",
       "</div>"
      ],
      "text/plain": [
       "               Make                Model  Year  Engine Displacement  \\\n",
       "0        AM General    DJ Po Vehicle 2WD  1984                  2.5   \n",
       "1        AM General     FJ8c Post Office  1984                  4.2   \n",
       "2        AM General  Post Office DJ5 2WD  1985                  2.5   \n",
       "3        AM General  Post Office DJ8 2WD  1985                  4.2   \n",
       "4  ASC Incorporated                  GNX  1987                  3.8   \n",
       "\n",
       "   Cylinders     Transmission        Drivetrain                Vehicle Class  \\\n",
       "0        4.0  Automatic 3-spd     2-Wheel Drive  Special Purpose Vehicle 2WD   \n",
       "1        6.0  Automatic 3-spd     2-Wheel Drive  Special Purpose Vehicle 2WD   \n",
       "2        4.0  Automatic 3-spd  Rear-Wheel Drive  Special Purpose Vehicle 2WD   \n",
       "3        6.0  Automatic 3-spd  Rear-Wheel Drive  Special Purpose Vehicle 2WD   \n",
       "4        6.0  Automatic 4-spd  Rear-Wheel Drive                 Midsize Cars   \n",
       "\n",
       "  Fuel Type  Fuel Barrels/Year  City MPG  Highway MPG  Combined MPG  \\\n",
       "0   Regular          19.388824        18           17            17   \n",
       "1   Regular          25.354615        13           13            13   \n",
       "2   Regular          20.600625        16           17            16   \n",
       "3   Regular          25.354615        13           13            13   \n",
       "4   Premium          20.600625        14           21            16   \n",
       "\n",
       "   CO2 Emission Grams/Mile  Fuel Cost/Year  \n",
       "0               522.764706            1950  \n",
       "1               683.615385            2550  \n",
       "2               555.437500            2100  \n",
       "3               683.615385            2550  \n",
       "4               555.437500            2550  "
      ]
     },
     "execution_count": 78,
     "metadata": {},
     "output_type": "execute_result"
    }
   ],
   "source": [
    "data = pd.read_csv('vehicles.csv')\n",
    "data.head()"
   ]
  },
  {
   "cell_type": "markdown",
   "metadata": {},
   "source": [
    "Let's use the following variables for our analysis: Year, Cylinders, Fuel Barrels/Year, Combined MPG, and Fuel Cost/Year. We will use 'CO2 Emission Grams/Mile' as our outcome variable. \n",
    "\n",
    "Calculate the correlations between each of these variables and the outcome. Which variable do you think will be the most important in determining CO2 emissions? Which provides the least amount of helpful information for determining CO2 emissions? Add your responses as comments after your code."
   ]
  },
  {
   "cell_type": "code",
   "execution_count": 79,
   "metadata": {},
   "outputs": [
    {
     "data": {
      "text/html": [
       "<div>\n",
       "<style scoped>\n",
       "    .dataframe tbody tr th:only-of-type {\n",
       "        vertical-align: middle;\n",
       "    }\n",
       "\n",
       "    .dataframe tbody tr th {\n",
       "        vertical-align: top;\n",
       "    }\n",
       "\n",
       "    .dataframe thead th {\n",
       "        text-align: right;\n",
       "    }\n",
       "</style>\n",
       "<table border=\"1\" class=\"dataframe\">\n",
       "  <thead>\n",
       "    <tr style=\"text-align: right;\">\n",
       "      <th></th>\n",
       "      <th>Year</th>\n",
       "      <th>Cylinders</th>\n",
       "      <th>Fuel Barrels/Year</th>\n",
       "      <th>Combined MPG</th>\n",
       "      <th>Fuel Cost/Year</th>\n",
       "      <th>CO2 Emission Grams/Mile</th>\n",
       "    </tr>\n",
       "  </thead>\n",
       "  <tbody>\n",
       "    <tr>\n",
       "      <td>0</td>\n",
       "      <td>1984</td>\n",
       "      <td>4.0</td>\n",
       "      <td>19.388824</td>\n",
       "      <td>17</td>\n",
       "      <td>1950</td>\n",
       "      <td>522.764706</td>\n",
       "    </tr>\n",
       "    <tr>\n",
       "      <td>1</td>\n",
       "      <td>1984</td>\n",
       "      <td>6.0</td>\n",
       "      <td>25.354615</td>\n",
       "      <td>13</td>\n",
       "      <td>2550</td>\n",
       "      <td>683.615385</td>\n",
       "    </tr>\n",
       "    <tr>\n",
       "      <td>2</td>\n",
       "      <td>1985</td>\n",
       "      <td>4.0</td>\n",
       "      <td>20.600625</td>\n",
       "      <td>16</td>\n",
       "      <td>2100</td>\n",
       "      <td>555.437500</td>\n",
       "    </tr>\n",
       "    <tr>\n",
       "      <td>3</td>\n",
       "      <td>1985</td>\n",
       "      <td>6.0</td>\n",
       "      <td>25.354615</td>\n",
       "      <td>13</td>\n",
       "      <td>2550</td>\n",
       "      <td>683.615385</td>\n",
       "    </tr>\n",
       "    <tr>\n",
       "      <td>4</td>\n",
       "      <td>1987</td>\n",
       "      <td>6.0</td>\n",
       "      <td>20.600625</td>\n",
       "      <td>16</td>\n",
       "      <td>2550</td>\n",
       "      <td>555.437500</td>\n",
       "    </tr>\n",
       "    <tr>\n",
       "      <td>...</td>\n",
       "      <td>...</td>\n",
       "      <td>...</td>\n",
       "      <td>...</td>\n",
       "      <td>...</td>\n",
       "      <td>...</td>\n",
       "      <td>...</td>\n",
       "    </tr>\n",
       "    <tr>\n",
       "      <td>35947</td>\n",
       "      <td>2013</td>\n",
       "      <td>3.0</td>\n",
       "      <td>9.155833</td>\n",
       "      <td>36</td>\n",
       "      <td>1100</td>\n",
       "      <td>244.000000</td>\n",
       "    </tr>\n",
       "    <tr>\n",
       "      <td>35948</td>\n",
       "      <td>2014</td>\n",
       "      <td>3.0</td>\n",
       "      <td>9.155833</td>\n",
       "      <td>36</td>\n",
       "      <td>1100</td>\n",
       "      <td>243.000000</td>\n",
       "    </tr>\n",
       "    <tr>\n",
       "      <td>35949</td>\n",
       "      <td>2015</td>\n",
       "      <td>3.0</td>\n",
       "      <td>9.155833</td>\n",
       "      <td>36</td>\n",
       "      <td>1100</td>\n",
       "      <td>244.000000</td>\n",
       "    </tr>\n",
       "    <tr>\n",
       "      <td>35950</td>\n",
       "      <td>2016</td>\n",
       "      <td>3.0</td>\n",
       "      <td>9.155833</td>\n",
       "      <td>36</td>\n",
       "      <td>1100</td>\n",
       "      <td>246.000000</td>\n",
       "    </tr>\n",
       "    <tr>\n",
       "      <td>35951</td>\n",
       "      <td>2016</td>\n",
       "      <td>3.0</td>\n",
       "      <td>9.417429</td>\n",
       "      <td>35</td>\n",
       "      <td>1150</td>\n",
       "      <td>255.000000</td>\n",
       "    </tr>\n",
       "  </tbody>\n",
       "</table>\n",
       "<p>35952 rows × 6 columns</p>\n",
       "</div>"
      ],
      "text/plain": [
       "       Year  Cylinders  Fuel Barrels/Year  Combined MPG  Fuel Cost/Year  \\\n",
       "0      1984        4.0          19.388824            17            1950   \n",
       "1      1984        6.0          25.354615            13            2550   \n",
       "2      1985        4.0          20.600625            16            2100   \n",
       "3      1985        6.0          25.354615            13            2550   \n",
       "4      1987        6.0          20.600625            16            2550   \n",
       "...     ...        ...                ...           ...             ...   \n",
       "35947  2013        3.0           9.155833            36            1100   \n",
       "35948  2014        3.0           9.155833            36            1100   \n",
       "35949  2015        3.0           9.155833            36            1100   \n",
       "35950  2016        3.0           9.155833            36            1100   \n",
       "35951  2016        3.0           9.417429            35            1150   \n",
       "\n",
       "       CO2 Emission Grams/Mile  \n",
       "0                   522.764706  \n",
       "1                   683.615385  \n",
       "2                   555.437500  \n",
       "3                   683.615385  \n",
       "4                   555.437500  \n",
       "...                        ...  \n",
       "35947               244.000000  \n",
       "35948               243.000000  \n",
       "35949               244.000000  \n",
       "35950               246.000000  \n",
       "35951               255.000000  \n",
       "\n",
       "[35952 rows x 6 columns]"
      ]
     },
     "execution_count": 79,
     "metadata": {},
     "output_type": "execute_result"
    }
   ],
   "source": [
    "data2 = data[['Year', 'Cylinders', 'Fuel Barrels/Year', 'Combined MPG', 'Fuel Cost/Year', 'CO2 Emission Grams/Mile']]\n",
    "data2"
   ]
  },
  {
   "cell_type": "code",
   "execution_count": 80,
   "metadata": {},
   "outputs": [
    {
     "data": {
      "text/html": [
       "<div>\n",
       "<style scoped>\n",
       "    .dataframe tbody tr th:only-of-type {\n",
       "        vertical-align: middle;\n",
       "    }\n",
       "\n",
       "    .dataframe tbody tr th {\n",
       "        vertical-align: top;\n",
       "    }\n",
       "\n",
       "    .dataframe thead th {\n",
       "        text-align: right;\n",
       "    }\n",
       "</style>\n",
       "<table border=\"1\" class=\"dataframe\">\n",
       "  <thead>\n",
       "    <tr style=\"text-align: right;\">\n",
       "      <th></th>\n",
       "      <th>Year</th>\n",
       "      <th>Cylinders</th>\n",
       "      <th>Fuel Barrels/Year</th>\n",
       "      <th>Combined MPG</th>\n",
       "      <th>Fuel Cost/Year</th>\n",
       "      <th>CO2 Emission Grams/Mile</th>\n",
       "    </tr>\n",
       "  </thead>\n",
       "  <tbody>\n",
       "    <tr>\n",
       "      <td>Year</td>\n",
       "      <td>1.000000</td>\n",
       "      <td>0.082469</td>\n",
       "      <td>-0.221084</td>\n",
       "      <td>0.204751</td>\n",
       "      <td>-0.091913</td>\n",
       "      <td>-0.222300</td>\n",
       "    </tr>\n",
       "    <tr>\n",
       "      <td>Cylinders</td>\n",
       "      <td>0.082469</td>\n",
       "      <td>1.000000</td>\n",
       "      <td>0.739517</td>\n",
       "      <td>-0.698648</td>\n",
       "      <td>0.778153</td>\n",
       "      <td>0.752393</td>\n",
       "    </tr>\n",
       "    <tr>\n",
       "      <td>Fuel Barrels/Year</td>\n",
       "      <td>-0.221084</td>\n",
       "      <td>0.739517</td>\n",
       "      <td>1.000000</td>\n",
       "      <td>-0.909743</td>\n",
       "      <td>0.916208</td>\n",
       "      <td>0.986189</td>\n",
       "    </tr>\n",
       "    <tr>\n",
       "      <td>Combined MPG</td>\n",
       "      <td>0.204751</td>\n",
       "      <td>-0.698648</td>\n",
       "      <td>-0.909743</td>\n",
       "      <td>1.000000</td>\n",
       "      <td>-0.875185</td>\n",
       "      <td>-0.926229</td>\n",
       "    </tr>\n",
       "    <tr>\n",
       "      <td>Fuel Cost/Year</td>\n",
       "      <td>-0.091913</td>\n",
       "      <td>0.778153</td>\n",
       "      <td>0.916208</td>\n",
       "      <td>-0.875185</td>\n",
       "      <td>1.000000</td>\n",
       "      <td>0.930865</td>\n",
       "    </tr>\n",
       "    <tr>\n",
       "      <td>CO2 Emission Grams/Mile</td>\n",
       "      <td>-0.222300</td>\n",
       "      <td>0.752393</td>\n",
       "      <td>0.986189</td>\n",
       "      <td>-0.926229</td>\n",
       "      <td>0.930865</td>\n",
       "      <td>1.000000</td>\n",
       "    </tr>\n",
       "  </tbody>\n",
       "</table>\n",
       "</div>"
      ],
      "text/plain": [
       "                             Year  Cylinders  Fuel Barrels/Year  Combined MPG  \\\n",
       "Year                     1.000000   0.082469          -0.221084      0.204751   \n",
       "Cylinders                0.082469   1.000000           0.739517     -0.698648   \n",
       "Fuel Barrels/Year       -0.221084   0.739517           1.000000     -0.909743   \n",
       "Combined MPG             0.204751  -0.698648          -0.909743      1.000000   \n",
       "Fuel Cost/Year          -0.091913   0.778153           0.916208     -0.875185   \n",
       "CO2 Emission Grams/Mile -0.222300   0.752393           0.986189     -0.926229   \n",
       "\n",
       "                         Fuel Cost/Year  CO2 Emission Grams/Mile  \n",
       "Year                          -0.091913                -0.222300  \n",
       "Cylinders                      0.778153                 0.752393  \n",
       "Fuel Barrels/Year              0.916208                 0.986189  \n",
       "Combined MPG                  -0.875185                -0.926229  \n",
       "Fuel Cost/Year                 1.000000                 0.930865  \n",
       "CO2 Emission Grams/Mile        0.930865                 1.000000  "
      ]
     },
     "execution_count": 80,
     "metadata": {},
     "output_type": "execute_result"
    }
   ],
   "source": [
    "data2.corr()"
   ]
  },
  {
   "cell_type": "code",
   "execution_count": 51,
   "metadata": {},
   "outputs": [],
   "source": [
    "# The variable most important in determining CO2 emissions is Fuel Barrels/Year\t followed by Combined MPG and Fuel Cost/Year\n",
    "# The variable Which provides the least amount of helpful information is the year"
   ]
  },
  {
   "cell_type": "markdown",
   "metadata": {},
   "source": [
    "Build a regression model for this data. What type of regression are you using? Add your responses as comments after your code."
   ]
  },
  {
   "cell_type": "code",
   "execution_count": 81,
   "metadata": {},
   "outputs": [
    {
     "data": {
      "text/plain": [
       "0        518.638632\n",
       "1        668.608594\n",
       "2        550.196992\n",
       "3        668.671588\n",
       "4        565.236341\n",
       "            ...    \n",
       "35947    233.579134\n",
       "35948    233.642128\n",
       "35949    233.705122\n",
       "35950    233.768116\n",
       "35951    243.473803\n",
       "Length: 35952, dtype: float64"
      ]
     },
     "execution_count": 81,
     "metadata": {},
     "output_type": "execute_result"
    }
   ],
   "source": [
    "# MULTIPLE LINEAR REGRESSION \n",
    "\n",
    "Y = data2['CO2 Emission Grams/Mile']\n",
    "X = data2[['Year', 'Cylinders', 'Fuel Barrels/Year', 'Combined MPG', 'Fuel Cost/Year']]\n",
    "\n",
    "model = sm.OLS(Y,X)\n",
    "results = model.fit()\n",
    "predictions = results.predict(X)\n",
    "predictions"
   ]
  },
  {
   "cell_type": "markdown",
   "metadata": {},
   "source": [
    "Print your regression summary, and interpret the results. What are the most important varibles in your model and why? What can conclusions can you draw from your model and how confident in these conclusions are you? Add your responses as comments after your code."
   ]
  },
  {
   "cell_type": "code",
   "execution_count": 82,
   "metadata": {},
   "outputs": [
    {
     "data": {
      "text/html": [
       "<table class=\"simpletable\">\n",
       "<caption>OLS Regression Results</caption>\n",
       "<tr>\n",
       "  <th>Dep. Variable:</th>    <td>CO2 Emission Grams/Mile</td> <th>  R-squared (uncentered):</th>       <td>   0.999</td>  \n",
       "</tr>\n",
       "<tr>\n",
       "  <th>Model:</th>                      <td>OLS</td>           <th>  Adj. R-squared (uncentered):</th>  <td>   0.999</td>  \n",
       "</tr>\n",
       "<tr>\n",
       "  <th>Method:</th>                <td>Least Squares</td>      <th>  F-statistic:       </th>           <td>6.092e+06</td> \n",
       "</tr>\n",
       "<tr>\n",
       "  <th>Date:</th>                <td>Wed, 11 Mar 2020</td>     <th>  Prob (F-statistic):</th>            <td>  0.00</td>   \n",
       "</tr>\n",
       "<tr>\n",
       "  <th>Time:</th>                    <td>12:34:52</td>         <th>  Log-Likelihood:    </th>          <td>-1.5250e+05</td>\n",
       "</tr>\n",
       "<tr>\n",
       "  <th>No. Observations:</th>         <td> 35952</td>          <th>  AIC:               </th>           <td>3.050e+05</td> \n",
       "</tr>\n",
       "<tr>\n",
       "  <th>Df Residuals:</th>             <td> 35947</td>          <th>  BIC:               </th>           <td>3.050e+05</td> \n",
       "</tr>\n",
       "<tr>\n",
       "  <th>Df Model:</th>                 <td>     5</td>          <th>                     </th>               <td> </td>     \n",
       "</tr>\n",
       "<tr>\n",
       "  <th>Covariance Type:</th>         <td>nonrobust</td>        <th>                     </th>               <td> </td>     \n",
       "</tr>\n",
       "</table>\n",
       "<table class=\"simpletable\">\n",
       "<tr>\n",
       "          <td></td>             <th>coef</th>     <th>std err</th>      <th>t</th>      <th>P>|t|</th>  <th>[0.025</th>    <th>0.975]</th>  \n",
       "</tr>\n",
       "<tr>\n",
       "  <th>Year</th>              <td>    0.0630</td> <td>    0.001</td> <td>   74.153</td> <td> 0.000</td> <td>    0.061</td> <td>    0.065</td>\n",
       "</tr>\n",
       "<tr>\n",
       "  <th>Cylinders</th>         <td>    0.8873</td> <td>    0.081</td> <td>   10.952</td> <td> 0.000</td> <td>    0.729</td> <td>    1.046</td>\n",
       "</tr>\n",
       "<tr>\n",
       "  <th>Fuel Barrels/Year</th> <td>   19.8588</td> <td>    0.059</td> <td>  337.001</td> <td> 0.000</td> <td>   19.743</td> <td>   19.974</td>\n",
       "</tr>\n",
       "<tr>\n",
       "  <th>Combined MPG</th>      <td>   -3.0509</td> <td>    0.043</td> <td>  -70.368</td> <td> 0.000</td> <td>   -3.136</td> <td>   -2.966</td>\n",
       "</tr>\n",
       "<tr>\n",
       "  <th>Fuel Cost/Year</th>    <td>    0.0292</td> <td>    0.000</td> <td>   60.084</td> <td> 0.000</td> <td>    0.028</td> <td>    0.030</td>\n",
       "</tr>\n",
       "</table>\n",
       "<table class=\"simpletable\">\n",
       "<tr>\n",
       "  <th>Omnibus:</th>       <td>72934.517</td> <th>  Durbin-Watson:     </th>   <td>   0.757</td>   \n",
       "</tr>\n",
       "<tr>\n",
       "  <th>Prob(Omnibus):</th>  <td> 0.000</td>   <th>  Jarque-Bera (JB):  </th> <td>287219470.909</td>\n",
       "</tr>\n",
       "<tr>\n",
       "  <th>Skew:</th>           <td>16.861</td>   <th>  Prob(JB):          </th>   <td>    0.00</td>   \n",
       "</tr>\n",
       "<tr>\n",
       "  <th>Kurtosis:</th>       <td>439.575</td>  <th>  Cond. No.          </th>   <td>2.54e+03</td>   \n",
       "</tr>\n",
       "</table><br/><br/>Warnings:<br/>[1] Standard Errors assume that the covariance matrix of the errors is correctly specified.<br/>[2] The condition number is large, 2.54e+03. This might indicate that there are<br/>strong multicollinearity or other numerical problems."
      ],
      "text/plain": [
       "<class 'statsmodels.iolib.summary.Summary'>\n",
       "\"\"\"\n",
       "                                   OLS Regression Results                                   \n",
       "============================================================================================\n",
       "Dep. Variable:     CO2 Emission Grams/Mile   R-squared (uncentered):                   0.999\n",
       "Model:                                 OLS   Adj. R-squared (uncentered):              0.999\n",
       "Method:                      Least Squares   F-statistic:                          6.092e+06\n",
       "Date:                     Wed, 11 Mar 2020   Prob (F-statistic):                        0.00\n",
       "Time:                             12:34:52   Log-Likelihood:                     -1.5250e+05\n",
       "No. Observations:                    35952   AIC:                                  3.050e+05\n",
       "Df Residuals:                        35947   BIC:                                  3.050e+05\n",
       "Df Model:                                5                                                  \n",
       "Covariance Type:                 nonrobust                                                  \n",
       "=====================================================================================\n",
       "                        coef    std err          t      P>|t|      [0.025      0.975]\n",
       "-------------------------------------------------------------------------------------\n",
       "Year                  0.0630      0.001     74.153      0.000       0.061       0.065\n",
       "Cylinders             0.8873      0.081     10.952      0.000       0.729       1.046\n",
       "Fuel Barrels/Year    19.8588      0.059    337.001      0.000      19.743      19.974\n",
       "Combined MPG         -3.0509      0.043    -70.368      0.000      -3.136      -2.966\n",
       "Fuel Cost/Year        0.0292      0.000     60.084      0.000       0.028       0.030\n",
       "==============================================================================\n",
       "Omnibus:                    72934.517   Durbin-Watson:                   0.757\n",
       "Prob(Omnibus):                  0.000   Jarque-Bera (JB):        287219470.909\n",
       "Skew:                          16.861   Prob(JB):                         0.00\n",
       "Kurtosis:                     439.575   Cond. No.                     2.54e+03\n",
       "==============================================================================\n",
       "\n",
       "Warnings:\n",
       "[1] Standard Errors assume that the covariance matrix of the errors is correctly specified.\n",
       "[2] The condition number is large, 2.54e+03. This might indicate that there are\n",
       "strong multicollinearity or other numerical problems.\n",
       "\"\"\""
      ]
     },
     "execution_count": 82,
     "metadata": {},
     "output_type": "execute_result"
    }
   ],
   "source": [
    "results.summary()"
   ]
  },
  {
   "cell_type": "code",
   "execution_count": null,
   "metadata": {},
   "outputs": [],
   "source": [
    "\"\"\"\n",
    "All the variables are statistically significant because the p-value is less than 0.05\n",
    "R-squared value: 99% of the variation in the model is explained by the variables\n",
    "\n",
    "Omnibus/Prob: the residuals are not normally distributed\n",
    "Skew: the residual distribution is not normal\n",
    "Kurtosis: model with a lot of outliers\n",
    "Durbin-Watson: indicates positive autocorrelation\n",
    "\n",
    "\"\"\""
   ]
  },
  {
   "cell_type": "markdown",
   "metadata": {},
   "source": [
    "## Bonus Challenge: Error Analysis"
   ]
  },
  {
   "cell_type": "markdown",
   "metadata": {},
   "source": [
    "I am suspicious about the last few parties I have thrown: it seems that the more people I invite the more people are unable to attend. To know if my hunch is supported by data, I have decided to do an analysis. I have collected my data in the table below, where X is the number of people I invited, and Y is the number of people who attended. \n",
    "\n",
    "|  X |  Y |\n",
    "|----|----|\n",
    "| 1  |  1 |\n",
    "| 3  |  2 |\n",
    "| 4  |  4 |\n",
    "| 6  |  4 |\n",
    "| 8  |  5 |\n",
    "| 9  |  7 |\n",
    "| 11 |  8 |\n",
    "| 14 |  13 |"
   ]
  },
  {
   "cell_type": "markdown",
   "metadata": {},
   "source": [
    "We want to know if the relationship modeled by the two random variables is linear or not, and therefore if it is appropriate to model it with a linear regression. \n",
    "First, build a dataframe with the data. "
   ]
  },
  {
   "cell_type": "code",
   "execution_count": 7,
   "metadata": {},
   "outputs": [],
   "source": [
    "# Your code here. "
   ]
  },
  {
   "cell_type": "markdown",
   "metadata": {},
   "source": [
    "Draw a dispersion diagram (scatter plot) for the data, and fit a regression line."
   ]
  },
  {
   "cell_type": "code",
   "execution_count": 1,
   "metadata": {},
   "outputs": [],
   "source": [
    "# Your code here."
   ]
  },
  {
   "cell_type": "markdown",
   "metadata": {},
   "source": [
    "What do you see? What does this plot tell you about the likely relationship between the variables? Print the results from your regression."
   ]
  },
  {
   "cell_type": "code",
   "execution_count": 2,
   "metadata": {},
   "outputs": [],
   "source": [
    "# Your response here. "
   ]
  },
  {
   "cell_type": "markdown",
   "metadata": {},
   "source": [
    "Do you see any problematic points, or outliers, in your data? Remove these points and recalculate your regression. Print the new dispersion diagram with your new model and the results of your model. "
   ]
  },
  {
   "cell_type": "code",
   "execution_count": 5,
   "metadata": {},
   "outputs": [],
   "source": [
    "# Your response here. "
   ]
  },
  {
   "cell_type": "markdown",
   "metadata": {},
   "source": [
    "What changed? Based on the results of the two models and your graphs, what can you say about the form of the data with the problematic point and without it?"
   ]
  },
  {
   "cell_type": "code",
   "execution_count": null,
   "metadata": {},
   "outputs": [],
   "source": [
    "# Your response here. "
   ]
  }
 ],
 "metadata": {
  "kernelspec": {
   "display_name": "Python 3",
   "language": "python",
   "name": "python3"
  },
  "language_info": {
   "codemirror_mode": {
    "name": "ipython",
    "version": 3
   },
   "file_extension": ".py",
   "mimetype": "text/x-python",
   "name": "python",
   "nbconvert_exporter": "python",
   "pygments_lexer": "ipython3",
   "version": "3.7.4"
  }
 },
 "nbformat": 4,
 "nbformat_minor": 2
}
